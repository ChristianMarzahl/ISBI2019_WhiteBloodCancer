{
 "cells": [
  {
   "cell_type": "code",
   "execution_count": 1,
   "metadata": {},
   "outputs": [],
   "source": [
    "%reload_ext autoreload\n",
    "%autoreload 2\n",
    "%matplotlib inline"
   ]
  },
  {
   "cell_type": "code",
   "execution_count": 2,
   "metadata": {},
   "outputs": [],
   "source": [
    "import os\n",
    "from pathlib import Path\n",
    "from tqdm import tqdm\n",
    "import matplotlib.pyplot as plt\n",
    "import random"
   ]
  },
  {
   "cell_type": "code",
   "execution_count": 3,
   "metadata": {},
   "outputs": [],
   "source": [
    "import cv2\n",
    "from fastai import *\n",
    "from fastai.vision import *\n",
    "from fastai.callbacks import *"
   ]
  },
  {
   "cell_type": "code",
   "execution_count": 4,
   "metadata": {},
   "outputs": [],
   "source": [
    "from dataset_spliter import SplitByPatient\n",
    "from metrics import *#F1Weighted, MCC\n",
    "from losses import *"
   ]
  },
  {
   "cell_type": "code",
   "execution_count": 5,
   "metadata": {},
   "outputs": [],
   "source": [
    "path = Path('/data/Datasets/WhiteBloodCancer/train/')"
   ]
  },
  {
   "cell_type": "code",
   "execution_count": 6,
   "metadata": {},
   "outputs": [],
   "source": [
    "np.random.seed(42)"
   ]
  },
  {
   "cell_type": "code",
   "execution_count": 7,
   "metadata": {},
   "outputs": [
    {
     "data": {
      "text/plain": [
       "[PosixPath('/data/Datasets/WhiteBloodCancer/train/fold_1/hem/UID_H10_43_1_hem.bmp'),\n",
       " PosixPath('/data/Datasets/WhiteBloodCancer/train/fold_1/hem/UID_H22_31_15_hem.bmp'),\n",
       " PosixPath('/data/Datasets/WhiteBloodCancer/train/fold_1/hem/UID_H14_9_11_hem.bmp'),\n",
       " PosixPath('/data/Datasets/WhiteBloodCancer/train/fold_1/hem/UID_H14_28_6_hem.bmp'),\n",
       " PosixPath('/data/Datasets/WhiteBloodCancer/train/fold_1/hem/UID_H10_189_1_hem.bmp')]"
      ]
     },
     "execution_count": 7,
     "metadata": {},
     "output_type": "execute_result"
    }
   ],
   "source": [
    "fnames = get_image_files(path, recurse=True)\n",
    "fnames[:5]"
   ]
  },
  {
   "cell_type": "code",
   "execution_count": 8,
   "metadata": {},
   "outputs": [],
   "source": [
    "hem_regex = re.compile(r'UID_(H[0-9]+)_', re.IGNORECASE)\n",
    "all_regex = re.compile(r'UID_([0-9]+)_', re.IGNORECASE)"
   ]
  },
  {
   "cell_type": "code",
   "execution_count": 9,
   "metadata": {},
   "outputs": [
    {
     "name": "stdout",
     "output_type": "stream",
     "text": [
      "\n"
     ]
    }
   ],
   "source": [
    "hem_patient_ids = list(set([hem_regex.search(str(fn)).group(1)\n",
    "                            for fn in fnames if hem_regex.search(str(fn)) is not None]))\n",
    "all_patint_ids = list(set([all_regex.search(str(fn)).group(1)\n",
    "                           for fn in fnames if all_regex.search(str(fn)) is not None]))\n",
    "\n",
    "hem_patients = dict((k,[]) for k in hem_patient_ids)\n",
    "all_patints = dict((k,[]) for k in all_patint_ids)\n",
    "\n",
    "[all_patints[key].append(fn) for key in all_patints.keys() for fn in fnames if 'UID_{0}_'.format(key) in str(fn)]\n",
    "[hem_patients[key].append(fn) for key in hem_patients.keys() for fn in fnames if 'UID_{0}_'.format(key) in str(fn)]\n",
    "print()"
   ]
  },
  {
   "cell_type": "markdown",
   "metadata": {},
   "source": [
    "## Split data into train val "
   ]
  },
  {
   "cell_type": "code",
   "execution_count": 10,
   "metadata": {},
   "outputs": [],
   "source": [
    "split_handler = SplitByPatient(hem_patients, all_patints)"
   ]
  },
  {
   "cell_type": "markdown",
   "metadata": {},
   "source": [
    "### Split by regex"
   ]
  },
  {
   "cell_type": "code",
   "execution_count": 11,
   "metadata": {},
   "outputs": [],
   "source": [
    "train_regex = re.compile(r'(fold_0|fold_1|fold_2)')\n",
    "val_regex = re.compile(r'(fold_3)')\n",
    "\n",
    "hem_train, all_train, hem_val, all_val = split_handler.split_by_regex(train_regex, val_regex)"
   ]
  },
  {
   "cell_type": "code",
   "execution_count": 12,
   "metadata": {},
   "outputs": [
    {
     "name": "stdout",
     "output_type": "stream",
     "text": [
      "Train Total: 10661\n",
      "Val Total: 1867\n",
      "\n",
      "Hem train: 3389\n",
      "All train: 7272\n",
      "Hem val: 648\n",
      "All val: 1219\n"
     ]
    }
   ],
   "source": [
    "print('Train Total: {0}'.format(len(hem_train)+len(all_train)))\n",
    "print('Val Total: {0}'.format(len(hem_val)+len(all_val)))\n",
    "print(\"\")\n",
    "print('Hem train: {}'.format(len(hem_train)))\n",
    "print('All train: {}'.format(len(all_train)))\n",
    "print('Hem val: {}'.format(len(hem_val)))\n",
    "print('All val: {}'.format(len(all_val)))"
   ]
  },
  {
   "cell_type": "code",
   "execution_count": 13,
   "metadata": {},
   "outputs": [],
   "source": [
    "pat = re.compile(r'^.*(hem|all).bmp$')\n",
    "\n",
    "def get_label(fn):\n",
    "    return pat.search(str(fn)).group(1)"
   ]
  },
  {
   "cell_type": "markdown",
   "metadata": {},
   "source": [
    "### Use complete image"
   ]
  },
  {
   "cell_type": "code",
   "execution_count": 14,
   "metadata": {},
   "outputs": [],
   "source": [
    "train = ImageList(hem_train + all_train) #optinal scale up classes \n",
    "valid = ImageList(hem_val + all_val)"
   ]
  },
  {
   "cell_type": "code",
   "execution_count": 15,
   "metadata": {},
   "outputs": [],
   "source": [
    "item_list = ItemLists(path, train, valid)\n",
    "lls = item_list.label_from_func(get_label).add_test_folder('../test')"
   ]
  },
  {
   "cell_type": "code",
   "execution_count": 16,
   "metadata": {},
   "outputs": [
    {
     "name": "stdout",
     "output_type": "stream",
     "text": [
      "Help on function get_transforms in module fastai.vision.transform:\n",
      "\n",
      "get_transforms(do_flip:bool=True, flip_vert:bool=False, max_rotate:float=10.0, max_zoom:float=1.1, max_lighting:float=0.2, max_warp:float=0.2, p_affine:float=0.75, p_lighting:float=0.75, xtra_tfms:Union[Collection[fastai.vision.image.Transform], NoneType]=None) -> Collection[fastai.vision.image.Transform]\n",
      "    Utility func to easily create a list of flip, rotate, `zoom`, warp, lighting transforms.\n",
      "\n"
     ]
    }
   ],
   "source": [
    "help(get_transforms)"
   ]
  },
  {
   "cell_type": "markdown",
   "metadata": {},
   "source": [
    "#### Data augmentation"
   ]
  },
  {
   "cell_type": "code",
   "execution_count": 17,
   "metadata": {},
   "outputs": [],
   "source": [
    "xtra_tfms=[cutout(n_holes=5, length=0.2)]#squish(scale=0.66), \n",
    "tfms = get_transforms(do_flip=True, \n",
    "                      flip_vert=True, \n",
    "                      #max_rotate=90,  \n",
    "                      max_lighting=0.0, \n",
    "                      max_zoom=1.0, \n",
    "                      max_warp=0.0,\n",
    "                      #p_affine=0.75,\n",
    "                      #p_lighting=0.75,  \n",
    "                      #xtra_tfms=xtra_tfms,\n",
    "                     )"
   ]
  },
  {
   "cell_type": "markdown",
   "metadata": {},
   "source": [
    "#### Create dataset "
   ]
  },
  {
   "cell_type": "code",
   "execution_count": 18,
   "metadata": {},
   "outputs": [],
   "source": [
    "def get_data(bs, size):\n",
    "    data  = ImageDataBunch.create_from_ll(lls, size=size, bs=bs, \n",
    "                                      ds_tfms=tfms, padding_mode='zeros',\n",
    "                                      resize_method=ResizeMethod.PAD)\n",
    "    data = data.normalize()\n",
    "    #data = data.normalize((channel_mean, channel_std))\n",
    "    return data\n",
    "    "
   ]
  },
  {
   "cell_type": "code",
   "execution_count": 79,
   "metadata": {},
   "outputs": [
    {
     "name": "stderr",
     "output_type": "stream",
     "text": [
      "/home/c.marzahl@de.eu.local/ProgProjekte/fastai_v1/fastai/fastai/vision/learner.py:93: UserWarning: `create_cnn` is deprecated and is now named `cnn_learner`.\n",
      "  warn(\"`create_cnn` is deprecated and is now named `cnn_learner`.\")\n"
     ]
    }
   ],
   "source": [
    "size = 256\n",
    "bs = 96\n",
    "data = get_data(bs, size)\n",
    "\n",
    "experiment_name = \"baseline_rn18\"\n",
    "learn = create_cnn(data, models.resnet18, \n",
    "                       metrics=[error_rate, F1Weighted(), MCC()], #  \n",
    "                       #loss_func=FocalLoss(num_classes=1),\n",
    "                       #ps=0.75,\n",
    "                       #wd=0.1,\n",
    "                       loss_func = LabelSmoothingCrossEntropy(),\n",
    "                       callback_fns=[partial(SaveModelCallback, name='stage1-{}-{}'.format(experiment_name, size))],\n",
    "\n",
    "                  )#"
   ]
  },
  {
   "cell_type": "code",
   "execution_count": 34,
   "metadata": {
    "scrolled": false
   },
   "outputs": [
    {
     "data": {
      "text/html": [
       "Total time: 02:56 <p><table style='width:525px; margin-bottom:10px'>\n",
       "  <tr>\n",
       "    <th>epoch</th>\n",
       "    <th>train_loss</th>\n",
       "    <th>valid_loss</th>\n",
       "    <th>error_rate</th>\n",
       "    <th>f1_weighted</th>\n",
       "    <th>mcc</th>\n",
       "    <th>time</th>\n",
       "  </tr>\n",
       "  <tr>\n",
       "    <th>0</th>\n",
       "    <th>0.552150</th>\n",
       "    <th>0.644865</th>\n",
       "    <th>0.292983</th>\n",
       "    <th>0.701225</th>\n",
       "    <th>0.333653</th>\n",
       "    <th>00:35</th>\n",
       "  </tr>\n",
       "  <tr>\n",
       "    <th>1</th>\n",
       "    <th>0.475226</th>\n",
       "    <th>0.589420</th>\n",
       "    <th>0.273165</th>\n",
       "    <th>0.731339</th>\n",
       "    <th>0.426304</th>\n",
       "    <th>00:35</th>\n",
       "  </tr>\n",
       "  <tr>\n",
       "    <th>2</th>\n",
       "    <th>0.436674</th>\n",
       "    <th>0.572046</th>\n",
       "    <th>0.216390</th>\n",
       "    <th>0.769936</th>\n",
       "    <th>0.501785</th>\n",
       "    <th>00:35</th>\n",
       "  </tr>\n",
       "  <tr>\n",
       "    <th>3</th>\n",
       "    <th>0.419283</th>\n",
       "    <th>0.557719</th>\n",
       "    <th>0.208356</th>\n",
       "    <th>0.775629</th>\n",
       "    <th>0.523566</th>\n",
       "    <th>00:35</th>\n",
       "  </tr>\n",
       "  <tr>\n",
       "    <th>4</th>\n",
       "    <th>0.402398</th>\n",
       "    <th>0.565304</th>\n",
       "    <th>0.217461</th>\n",
       "    <th>0.762960</th>\n",
       "    <th>0.502094</th>\n",
       "    <th>00:35</th>\n",
       "  </tr>\n",
       "</table>\n"
      ],
      "text/plain": [
       "<IPython.core.display.HTML object>"
      ]
     },
     "metadata": {},
     "output_type": "display_data"
    },
    {
     "name": "stdout",
     "output_type": "stream",
     "text": [
      "Better model found at epoch 0 with val_loss value: 0.6448649764060974.\n",
      "Better model found at epoch 1 with val_loss value: 0.5894197821617126.\n",
      "Better model found at epoch 2 with val_loss value: 0.5720462203025818.\n",
      "Better model found at epoch 3 with val_loss value: 0.5577189326286316.\n"
     ]
    },
    {
     "data": {
      "text/html": [
       "Total time: 06:52 <p><table style='width:525px; margin-bottom:10px'>\n",
       "  <tr>\n",
       "    <th>epoch</th>\n",
       "    <th>train_loss</th>\n",
       "    <th>valid_loss</th>\n",
       "    <th>error_rate</th>\n",
       "    <th>f1_weighted</th>\n",
       "    <th>mcc</th>\n",
       "    <th>time</th>\n",
       "  </tr>\n",
       "  <tr>\n",
       "    <th>0</th>\n",
       "    <th>0.400078</th>\n",
       "    <th>0.603543</th>\n",
       "    <th>0.244778</th>\n",
       "    <th>0.719572</th>\n",
       "    <th>0.439781</th>\n",
       "    <th>00:40</th>\n",
       "  </tr>\n",
       "  <tr>\n",
       "    <th>1</th>\n",
       "    <th>0.402475</th>\n",
       "    <th>0.610016</th>\n",
       "    <th>0.253348</th>\n",
       "    <th>0.734669</th>\n",
       "    <th>0.412646</th>\n",
       "    <th>00:40</th>\n",
       "  </tr>\n",
       "  <tr>\n",
       "    <th>2</th>\n",
       "    <th>0.394235</th>\n",
       "    <th>0.598622</th>\n",
       "    <th>0.222282</th>\n",
       "    <th>0.767510</th>\n",
       "    <th>0.488291</th>\n",
       "    <th>00:40</th>\n",
       "  </tr>\n",
       "  <tr>\n",
       "    <th>3</th>\n",
       "    <th>0.393461</th>\n",
       "    <th>0.570398</th>\n",
       "    <th>0.209963</th>\n",
       "    <th>0.780323</th>\n",
       "    <th>0.518096</th>\n",
       "    <th>00:40</th>\n",
       "  </tr>\n",
       "  <tr>\n",
       "    <th>4</th>\n",
       "    <th>0.383932</th>\n",
       "    <th>0.569813</th>\n",
       "    <th>0.217461</th>\n",
       "    <th>0.767392</th>\n",
       "    <th>0.499367</th>\n",
       "    <th>00:41</th>\n",
       "  </tr>\n",
       "  <tr>\n",
       "    <th>5</th>\n",
       "    <th>0.379306</th>\n",
       "    <th>0.504984</th>\n",
       "    <th>0.160150</th>\n",
       "    <th>0.834453</th>\n",
       "    <th>0.637579</th>\n",
       "    <th>00:41</th>\n",
       "  </tr>\n",
       "  <tr>\n",
       "    <th>6</th>\n",
       "    <th>0.371309</th>\n",
       "    <th>0.536154</th>\n",
       "    <th>0.172469</th>\n",
       "    <th>0.822777</th>\n",
       "    <th>0.608943</th>\n",
       "    <th>00:40</th>\n",
       "  </tr>\n",
       "  <tr>\n",
       "    <th>7</th>\n",
       "    <th>0.366575</th>\n",
       "    <th>0.550523</th>\n",
       "    <th>0.196572</th>\n",
       "    <th>0.794400</th>\n",
       "    <th>0.550553</th>\n",
       "    <th>00:40</th>\n",
       "  </tr>\n",
       "  <tr>\n",
       "    <th>8</th>\n",
       "    <th>0.361114</th>\n",
       "    <th>0.540503</th>\n",
       "    <th>0.173540</th>\n",
       "    <th>0.816692</th>\n",
       "    <th>0.607843</th>\n",
       "    <th>00:41</th>\n",
       "  </tr>\n",
       "  <tr>\n",
       "    <th>9</th>\n",
       "    <th>0.357518</th>\n",
       "    <th>0.531352</th>\n",
       "    <th>0.170862</th>\n",
       "    <th>0.821978</th>\n",
       "    <th>0.612458</th>\n",
       "    <th>00:41</th>\n",
       "  </tr>\n",
       "</table>\n"
      ],
      "text/plain": [
       "<IPython.core.display.HTML object>"
      ]
     },
     "metadata": {},
     "output_type": "display_data"
    },
    {
     "name": "stdout",
     "output_type": "stream",
     "text": [
      "Better model found at epoch 0 with val_loss value: 0.6035430431365967.\n",
      "Better model found at epoch 2 with val_loss value: 0.5986219048500061.\n",
      "Better model found at epoch 3 with val_loss value: 0.5703980326652527.\n",
      "Better model found at epoch 4 with val_loss value: 0.5698125958442688.\n",
      "Better model found at epoch 5 with val_loss value: 0.5049842000007629.\n"
     ]
    }
   ],
   "source": [
    "learn.freeze()\n",
    "lr = 1e-2\n",
    "learn.fit_one_cycle(5, lr)\n",
    "\n",
    "learn.unfreeze()\n",
    "learn.fit_one_cycle(10, slice(1e-5,lr/5))"
   ]
  },
  {
   "cell_type": "code",
   "execution_count": 35,
   "metadata": {},
   "outputs": [
    {
     "data": {
      "text/html": [
       "Total time: 00:44 <p>"
      ],
      "text/plain": [
       "<IPython.core.display.HTML object>"
      ]
     },
     "metadata": {},
     "output_type": "display_data"
    },
    {
     "data": {
      "text/plain": [
       "0.8510626411586184"
      ]
     },
     "execution_count": 35,
     "metadata": {},
     "output_type": "execute_result"
    }
   ],
   "source": [
    "y_pred, y_test_tta = learn.TTA(ds_type=DatasetType.Valid, scale=1.1)#, beta=0.4, scale=1.3\n",
    "y_pred = to_np(y_pred)\n",
    "f1_score(y_test_tta, np.argmax(y_pred, axis=1),  average='weighted')"
   ]
  },
  {
   "cell_type": "code",
   "execution_count": 80,
   "metadata": {},
   "outputs": [
    {
     "data": {
      "text/html": [
       "Total time: 05:44 <p><table style='width:525px; margin-bottom:10px'>\n",
       "  <tr>\n",
       "    <th>epoch</th>\n",
       "    <th>train_loss</th>\n",
       "    <th>valid_loss</th>\n",
       "    <th>error_rate</th>\n",
       "    <th>f1_weighted</th>\n",
       "    <th>mcc</th>\n",
       "    <th>time</th>\n",
       "  </tr>\n",
       "  <tr>\n",
       "    <th>0</th>\n",
       "    <th>0.504805</th>\n",
       "    <th>0.655996</th>\n",
       "    <th>0.347616</th>\n",
       "    <th>0.627155</th>\n",
       "    <th>0.166099</th>\n",
       "    <th>01:08</th>\n",
       "  </tr>\n",
       "  <tr>\n",
       "    <th>1</th>\n",
       "    <th>0.447777</th>\n",
       "    <th>0.575684</th>\n",
       "    <th>0.222817</th>\n",
       "    <th>0.765940</th>\n",
       "    <th>0.486400</th>\n",
       "    <th>01:08</th>\n",
       "  </tr>\n",
       "  <tr>\n",
       "    <th>2</th>\n",
       "    <th>0.436602</th>\n",
       "    <th>0.674188</th>\n",
       "    <th>0.291912</th>\n",
       "    <th>0.714797</th>\n",
       "    <th>0.455537</th>\n",
       "    <th>01:08</th>\n",
       "  </tr>\n",
       "  <tr>\n",
       "    <th>3</th>\n",
       "    <th>0.410782</th>\n",
       "    <th>0.582243</th>\n",
       "    <th>0.195501</th>\n",
       "    <th>0.791600</th>\n",
       "    <th>0.554651</th>\n",
       "    <th>01:09</th>\n",
       "  </tr>\n",
       "  <tr>\n",
       "    <th>4</th>\n",
       "    <th>0.401369</th>\n",
       "    <th>0.572411</th>\n",
       "    <th>0.215319</th>\n",
       "    <th>0.767469</th>\n",
       "    <th>0.505980</th>\n",
       "    <th>01:09</th>\n",
       "  </tr>\n",
       "</table>\n"
      ],
      "text/plain": [
       "<IPython.core.display.HTML object>"
      ]
     },
     "metadata": {},
     "output_type": "display_data"
    },
    {
     "name": "stdout",
     "output_type": "stream",
     "text": [
      "Better model found at epoch 0 with val_loss value: 0.6559962630271912.\n",
      "Better model found at epoch 1 with val_loss value: 0.5756844878196716.\n",
      "Better model found at epoch 4 with val_loss value: 0.5724114179611206.\n"
     ]
    },
    {
     "data": {
      "text/html": [
       "Total time: 14:35 <p><table style='width:525px; margin-bottom:10px'>\n",
       "  <tr>\n",
       "    <th>epoch</th>\n",
       "    <th>train_loss</th>\n",
       "    <th>valid_loss</th>\n",
       "    <th>error_rate</th>\n",
       "    <th>f1_weighted</th>\n",
       "    <th>mcc</th>\n",
       "    <th>time</th>\n",
       "  </tr>\n",
       "  <tr>\n",
       "    <th>0</th>\n",
       "    <th>0.400704</th>\n",
       "    <th>0.625886</th>\n",
       "    <th>0.247991</th>\n",
       "    <th>0.717443</th>\n",
       "    <th>0.428165</th>\n",
       "    <th>01:27</th>\n",
       "  </tr>\n",
       "  <tr>\n",
       "    <th>1</th>\n",
       "    <th>0.398873</th>\n",
       "    <th>0.537139</th>\n",
       "    <th>0.164435</th>\n",
       "    <th>0.826371</th>\n",
       "    <th>0.630287</th>\n",
       "    <th>01:27</th>\n",
       "  </tr>\n",
       "  <tr>\n",
       "    <th>2</th>\n",
       "    <th>0.401298</th>\n",
       "    <th>0.679890</th>\n",
       "    <th>0.279593</th>\n",
       "    <th>0.662550</th>\n",
       "    <th>0.346815</th>\n",
       "    <th>01:27</th>\n",
       "  </tr>\n",
       "  <tr>\n",
       "    <th>3</th>\n",
       "    <th>0.391429</th>\n",
       "    <th>0.647324</th>\n",
       "    <th>0.258704</th>\n",
       "    <th>0.706500</th>\n",
       "    <th>0.395216</th>\n",
       "    <th>01:27</th>\n",
       "  </tr>\n",
       "  <tr>\n",
       "    <th>4</th>\n",
       "    <th>0.385348</th>\n",
       "    <th>0.562008</th>\n",
       "    <th>0.200857</th>\n",
       "    <th>0.785565</th>\n",
       "    <th>0.541339</th>\n",
       "    <th>01:27</th>\n",
       "  </tr>\n",
       "  <tr>\n",
       "    <th>5</th>\n",
       "    <th>0.388988</th>\n",
       "    <th>0.588072</th>\n",
       "    <th>0.216390</th>\n",
       "    <th>0.756917</th>\n",
       "    <th>0.515257</th>\n",
       "    <th>01:27</th>\n",
       "  </tr>\n",
       "  <tr>\n",
       "    <th>6</th>\n",
       "    <th>0.382556</th>\n",
       "    <th>0.540338</th>\n",
       "    <th>0.185324</th>\n",
       "    <th>0.801304</th>\n",
       "    <th>0.581821</th>\n",
       "    <th>01:27</th>\n",
       "  </tr>\n",
       "  <tr>\n",
       "    <th>7</th>\n",
       "    <th>0.376487</th>\n",
       "    <th>0.591339</th>\n",
       "    <th>0.222817</th>\n",
       "    <th>0.760917</th>\n",
       "    <th>0.485888</th>\n",
       "    <th>01:27</th>\n",
       "  </tr>\n",
       "  <tr>\n",
       "    <th>8</th>\n",
       "    <th>0.377130</th>\n",
       "    <th>0.545738</th>\n",
       "    <th>0.191216</th>\n",
       "    <th>0.797662</th>\n",
       "    <th>0.564307</th>\n",
       "    <th>01:27</th>\n",
       "  </tr>\n",
       "  <tr>\n",
       "    <th>9</th>\n",
       "    <th>0.366375</th>\n",
       "    <th>0.549655</th>\n",
       "    <th>0.189609</th>\n",
       "    <th>0.797027</th>\n",
       "    <th>0.570466</th>\n",
       "    <th>01:27</th>\n",
       "  </tr>\n",
       "</table>\n"
      ],
      "text/plain": [
       "<IPython.core.display.HTML object>"
      ]
     },
     "metadata": {},
     "output_type": "display_data"
    },
    {
     "name": "stdout",
     "output_type": "stream",
     "text": [
      "Better model found at epoch 0 with val_loss value: 0.6258857250213623.\n",
      "Better model found at epoch 1 with val_loss value: 0.5371392369270325.\n"
     ]
    }
   ],
   "source": [
    "size = 384\n",
    "bs = 32\n",
    "learn.data = get_data(bs, size)\n",
    "\n",
    "learn.freeze()\n",
    "lr = 1e-2\n",
    "learn.fit_one_cycle(5, lr)\n",
    "\n",
    "learn.unfreeze()\n",
    "learn.fit_one_cycle(10, slice(1e-5,lr/5))"
   ]
  },
  {
   "cell_type": "code",
   "execution_count": 81,
   "metadata": {
    "scrolled": true
   },
   "outputs": [
    {
     "data": {
      "text/html": [
       "Total time: 01:07 <p>"
      ],
      "text/plain": [
       "<IPython.core.display.HTML object>"
      ]
     },
     "metadata": {},
     "output_type": "display_data"
    },
    {
     "data": {
      "text/plain": [
       "0.8449543268449125"
      ]
     },
     "execution_count": 81,
     "metadata": {},
     "output_type": "execute_result"
    }
   ],
   "source": [
    "y_pred, y_test_tta = learn.TTA(ds_type=DatasetType.Valid, scale=1.1)#, beta=0.4, scale=1.3\n",
    "y_pred = to_np(y_pred)\n",
    "f1_score(y_test_tta, np.argmax(y_pred, axis=1),  average='weighted')"
   ]
  },
  {
   "cell_type": "code",
   "execution_count": 82,
   "metadata": {},
   "outputs": [
    {
     "data": {
      "text/html": [
       "Total time: 09:11 <p><table style='width:525px; margin-bottom:10px'>\n",
       "  <tr>\n",
       "    <th>epoch</th>\n",
       "    <th>train_loss</th>\n",
       "    <th>valid_loss</th>\n",
       "    <th>error_rate</th>\n",
       "    <th>f1_weighted</th>\n",
       "    <th>mcc</th>\n",
       "    <th>time</th>\n",
       "  </tr>\n",
       "  <tr>\n",
       "    <th>0</th>\n",
       "    <th>0.457580</th>\n",
       "    <th>0.652675</th>\n",
       "    <th>0.337975</th>\n",
       "    <th>0.669931</th>\n",
       "    <th>0.353548</th>\n",
       "    <th>01:48</th>\n",
       "  </tr>\n",
       "  <tr>\n",
       "    <th>1</th>\n",
       "    <th>0.465873</th>\n",
       "    <th>0.551959</th>\n",
       "    <th>0.192823</th>\n",
       "    <th>0.794687</th>\n",
       "    <th>0.561215</th>\n",
       "    <th>01:49</th>\n",
       "  </tr>\n",
       "  <tr>\n",
       "    <th>2</th>\n",
       "    <th>0.448698</th>\n",
       "    <th>0.531597</th>\n",
       "    <th>0.177825</th>\n",
       "    <th>0.824930</th>\n",
       "    <th>0.627577</th>\n",
       "    <th>01:52</th>\n",
       "  </tr>\n",
       "  <tr>\n",
       "    <th>3</th>\n",
       "    <th>0.424695</th>\n",
       "    <th>0.562158</th>\n",
       "    <th>0.212641</th>\n",
       "    <th>0.764279</th>\n",
       "    <th>0.520238</th>\n",
       "    <th>01:52</th>\n",
       "  </tr>\n",
       "  <tr>\n",
       "    <th>4</th>\n",
       "    <th>0.412568</th>\n",
       "    <th>0.605090</th>\n",
       "    <th>0.213712</th>\n",
       "    <th>0.763092</th>\n",
       "    <th>0.517264</th>\n",
       "    <th>01:48</th>\n",
       "  </tr>\n",
       "</table>\n"
      ],
      "text/plain": [
       "<IPython.core.display.HTML object>"
      ]
     },
     "metadata": {},
     "output_type": "display_data"
    },
    {
     "name": "stdout",
     "output_type": "stream",
     "text": [
      "Better model found at epoch 0 with val_loss value: 0.652675449848175.\n",
      "Better model found at epoch 1 with val_loss value: 0.5519586205482483.\n",
      "Better model found at epoch 2 with val_loss value: 0.5315967798233032.\n"
     ]
    },
    {
     "data": {
      "text/html": [
       "Total time: 23:03 <p><table style='width:525px; margin-bottom:10px'>\n",
       "  <tr>\n",
       "    <th>epoch</th>\n",
       "    <th>train_loss</th>\n",
       "    <th>valid_loss</th>\n",
       "    <th>error_rate</th>\n",
       "    <th>f1_weighted</th>\n",
       "    <th>mcc</th>\n",
       "    <th>time</th>\n",
       "  </tr>\n",
       "  <tr>\n",
       "    <th>0</th>\n",
       "    <th>0.419806</th>\n",
       "    <th>0.604426</th>\n",
       "    <th>0.230852</th>\n",
       "    <th>0.759776</th>\n",
       "    <th>0.468692</th>\n",
       "    <th>02:18</th>\n",
       "  </tr>\n",
       "  <tr>\n",
       "    <th>1</th>\n",
       "    <th>0.411353</th>\n",
       "    <th>0.573124</th>\n",
       "    <th>0.191751</th>\n",
       "    <th>0.795828</th>\n",
       "    <th>0.563914</th>\n",
       "    <th>02:18</th>\n",
       "  </tr>\n",
       "  <tr>\n",
       "    <th>2</th>\n",
       "    <th>0.418104</th>\n",
       "    <th>0.581377</th>\n",
       "    <th>0.229780</th>\n",
       "    <th>0.754120</th>\n",
       "    <th>0.468000</th>\n",
       "    <th>02:17</th>\n",
       "  </tr>\n",
       "  <tr>\n",
       "    <th>3</th>\n",
       "    <th>0.422758</th>\n",
       "    <th>0.626671</th>\n",
       "    <th>0.268345</th>\n",
       "    <th>0.699313</th>\n",
       "    <th>0.365719</th>\n",
       "    <th>02:17</th>\n",
       "  </tr>\n",
       "  <tr>\n",
       "    <th>4</th>\n",
       "    <th>0.400484</th>\n",
       "    <th>0.546839</th>\n",
       "    <th>0.177825</th>\n",
       "    <th>0.820075</th>\n",
       "    <th>0.600723</th>\n",
       "    <th>02:18</th>\n",
       "  </tr>\n",
       "  <tr>\n",
       "    <th>5</th>\n",
       "    <th>0.410840</th>\n",
       "    <th>0.570020</th>\n",
       "    <th>0.215854</th>\n",
       "    <th>0.760027</th>\n",
       "    <th>0.512381</th>\n",
       "    <th>02:18</th>\n",
       "  </tr>\n",
       "  <tr>\n",
       "    <th>6</th>\n",
       "    <th>0.390066</th>\n",
       "    <th>0.569081</th>\n",
       "    <th>0.211034</th>\n",
       "    <th>0.771719</th>\n",
       "    <th>0.517454</th>\n",
       "    <th>02:18</th>\n",
       "  </tr>\n",
       "  <tr>\n",
       "    <th>7</th>\n",
       "    <th>0.396136</th>\n",
       "    <th>0.564687</th>\n",
       "    <th>0.206749</th>\n",
       "    <th>0.780831</th>\n",
       "    <th>0.525798</th>\n",
       "    <th>02:18</th>\n",
       "  </tr>\n",
       "  <tr>\n",
       "    <th>8</th>\n",
       "    <th>0.384900</th>\n",
       "    <th>0.605694</th>\n",
       "    <th>0.222817</th>\n",
       "    <th>0.758366</th>\n",
       "    <th>0.486993</th>\n",
       "    <th>02:18</th>\n",
       "  </tr>\n",
       "  <tr>\n",
       "    <th>9</th>\n",
       "    <th>0.381079</th>\n",
       "    <th>0.591652</th>\n",
       "    <th>0.222282</th>\n",
       "    <th>0.756961</th>\n",
       "    <th>0.489868</th>\n",
       "    <th>02:18</th>\n",
       "  </tr>\n",
       "</table>\n"
      ],
      "text/plain": [
       "<IPython.core.display.HTML object>"
      ]
     },
     "metadata": {},
     "output_type": "display_data"
    },
    {
     "name": "stdout",
     "output_type": "stream",
     "text": [
      "Better model found at epoch 0 with val_loss value: 0.6044260263442993.\n",
      "Better model found at epoch 1 with val_loss value: 0.5731244087219238.\n",
      "Better model found at epoch 4 with val_loss value: 0.5468387007713318.\n"
     ]
    }
   ],
   "source": [
    "size = 450\n",
    "bs = 16\n",
    "learn.data = get_data(bs, size)\n",
    "\n",
    "learn.freeze()\n",
    "lr = 1e-2\n",
    "learn.fit_one_cycle(5, lr)\n",
    "\n",
    "learn.unfreeze()\n",
    "learn.fit_one_cycle(10, slice(1e-5,lr/5))"
   ]
  },
  {
   "cell_type": "code",
   "execution_count": 84,
   "metadata": {},
   "outputs": [
    {
     "data": {
      "text/html": [
       "Total time: 01:27 <p>"
      ],
      "text/plain": [
       "<IPython.core.display.HTML object>"
      ]
     },
     "metadata": {},
     "output_type": "display_data"
    },
    {
     "data": {
      "text/plain": [
       "0.7780326512525405"
      ]
     },
     "execution_count": 84,
     "metadata": {},
     "output_type": "execute_result"
    }
   ],
   "source": [
    "y_pred, y_test_tta = learn.TTA(ds_type=DatasetType.Valid, scale=1.15)#, beta=0.4, scale=1.3\n",
    "y_pred = to_np(y_pred)\n",
    "f1_score(y_test_tta, np.argmax(y_pred, axis=1),  average='weighted')"
   ]
  },
  {
   "cell_type": "code",
   "execution_count": 39,
   "metadata": {},
   "outputs": [],
   "source": [
    "#learn.export('baseline_rn50-450-2.pkl') "
   ]
  },
  {
   "cell_type": "code",
   "execution_count": 76,
   "metadata": {},
   "outputs": [
    {
     "data": {
      "text/html": [
       "Total time: 01:25 <p>"
      ],
      "text/plain": [
       "<IPython.core.display.HTML object>"
      ]
     },
     "metadata": {},
     "output_type": "display_data"
    }
   ],
   "source": [
    "y_pred_list = []\n",
    "scores = []\n",
    "for i in range(10):\n",
    "    y_pred, y_test_tta = learn.TTA(ds_type=DatasetType.Valid, scale=1.15)#, beta=0.4, scale=1.3\n",
    "    y_pred = to_np(y_pred)\n",
    "    scores.append(f1_score(y_test_tta, np.argmax(y_pred, axis=1),  average='weighted'))\n",
    "    y_pred_list.append(y_pred)"
   ]
  },
  {
   "cell_type": "code",
   "execution_count": 78,
   "metadata": {},
   "outputs": [
    {
     "data": {
      "text/plain": [
       "0.8657238559840487"
      ]
     },
     "execution_count": 78,
     "metadata": {},
     "output_type": "execute_result"
    }
   ],
   "source": [
    "result = y_pred.copy()\n",
    "result[:, 0] = np.mean([y_temp[:, 0] for y_temp in y_pred_list], axis=0)\n",
    "result[:, 1] = np.mean([y_temp[:, 1] for y_temp in y_pred_list], axis=0)\n",
    "\n",
    "f1_score(y_test_tta, np.argmax(result, axis=1),  average='weighted')"
   ]
  },
  {
   "cell_type": "code",
   "execution_count": 77,
   "metadata": {},
   "outputs": [
    {
     "data": {
      "text/plain": [
       "[0.8668572530257317,\n",
       " 0.8664000560949924,\n",
       " 0.8654982610522881,\n",
       " 0.8668572530257317,\n",
       " 0.8635668094938325,\n",
       " 0.8642452182900731,\n",
       " 0.8668023792291565,\n",
       " 0.866345601085412,\n",
       " 0.8651004724922897,\n",
       " 0.8669657242412542]"
      ]
     },
     "execution_count": 77,
     "metadata": {},
     "output_type": "execute_result"
    }
   ],
   "source": [
    "# scale=1.2\n",
    "scores"
   ]
  },
  {
   "cell_type": "code",
   "execution_count": 75,
   "metadata": {},
   "outputs": [
    {
     "data": {
      "text/plain": [
       "[0.867276947154552,\n",
       " 0.8683648410303343,\n",
       " 0.8674693440225665,\n",
       " 0.8671501800090472,\n",
       " 0.866889558959182,\n",
       " 0.8676628019063917,\n",
       " 0.8694527349061166,\n",
       " 0.8681755728836665,\n",
       " 0.8699037213621822,\n",
       " 0.867852174341416]"
      ]
     },
     "execution_count": 75,
     "metadata": {},
     "output_type": "execute_result"
    }
   ],
   "source": [
    "# scale=1.15\n",
    "scores"
   ]
  },
  {
   "cell_type": "code",
   "execution_count": 69,
   "metadata": {},
   "outputs": [
    {
     "data": {
      "text/plain": [
       "[0.8617516385749614,\n",
       " 0.862409019853733,\n",
       " 0.8634335448515753,\n",
       " 0.8612397062146528,\n",
       " 0.8612397062146528,\n",
       " 0.8628488477926204,\n",
       " 0.8617516385749614,\n",
       " 0.8605059055715976,\n",
       " 0.8605804189491731,\n",
       " 0.8597048935005746]"
      ]
     },
     "execution_count": 69,
     "metadata": {},
     "output_type": "execute_result"
    }
   ],
   "source": [
    "# scale=1.1\n",
    "scores"
   ]
  },
  {
   "cell_type": "code",
   "execution_count": 73,
   "metadata": {},
   "outputs": [
    {
     "data": {
      "text/plain": [
       "[0.8482498256359229,\n",
       " 0.850639560768928,\n",
       " 0.8498672045749301,\n",
       " 0.8527666774416518,\n",
       " 0.8539586816407294,\n",
       " 0.8511495199583856,\n",
       " 0.8510626411586184,\n",
       " 0.8522562149772824,\n",
       " 0.852341887678882,\n",
       " 0.8509816037351615]"
      ]
     },
     "execution_count": 73,
     "metadata": {},
     "output_type": "execute_result"
    }
   ],
   "source": [
    "# scale=1.05\n",
    "scores"
   ]
  },
  {
   "cell_type": "code",
   "execution_count": 71,
   "metadata": {},
   "outputs": [
    {
     "data": {
      "text/plain": [
       "[0.8418560196071883,\n",
       " 0.8397275214640779,\n",
       " 0.8413481784481376,\n",
       " 0.8424615245642911,\n",
       " 0.8426546201768866,\n",
       " 0.8390219446199435,\n",
       " 0.8453873797746116,\n",
       " 0.8409380957393486,\n",
       " 0.84316273775698,\n",
       " 0.8438615516945739]"
      ]
     },
     "execution_count": 71,
     "metadata": {},
     "output_type": "execute_result"
    }
   ],
   "source": [
    "# scale=1.\n",
    "scores"
   ]
  },
  {
   "cell_type": "code",
   "execution_count": 62,
   "metadata": {},
   "outputs": [
    {
     "data": {
      "text/plain": [
       "0.8616782109259512"
      ]
     },
     "execution_count": 62,
     "metadata": {},
     "output_type": "execute_result"
    }
   ],
   "source": [
    "f1_score(y_test_tta, np.argmax(result, axis=1),  average='weighted') # scale=1."
   ]
  },
  {
   "cell_type": "code",
   "execution_count": 28,
   "metadata": {},
   "outputs": [
    {
     "data": {
      "text/plain": [
       "0.8470065158507172"
      ]
     },
     "execution_count": 28,
     "metadata": {},
     "output_type": "execute_result"
    }
   ],
   "source": [
    "f1_score(y_test_tta, np.argmax(y_pred, axis=1),  average='weighted') # scale=1.05"
   ]
  },
  {
   "cell_type": "code",
   "execution_count": 29,
   "metadata": {},
   "outputs": [
    {
     "data": {
      "text/plain": [
       "0.8470065158507172"
      ]
     },
     "execution_count": 29,
     "metadata": {},
     "output_type": "execute_result"
    }
   ],
   "source": [
    "f1_score(y_test_tta, np.argmax(y_pred, axis=1),  average='weighted') # scale=1.1"
   ]
  },
  {
   "cell_type": "code",
   "execution_count": 30,
   "metadata": {},
   "outputs": [
    {
     "data": {
      "text/plain": [
       "0.8470065158507172"
      ]
     },
     "execution_count": 30,
     "metadata": {},
     "output_type": "execute_result"
    }
   ],
   "source": [
    "f1_score(y_test_tta, np.argmax(y_pred, axis=1),  average='weighted') # scale=1.1"
   ]
  },
  {
   "cell_type": "code",
   "execution_count": 31,
   "metadata": {},
   "outputs": [
    {
     "data": {
      "text/plain": [
       "array([[-0.803526,  0.718772],\n",
       "       [ 0.755342, -0.701467],\n",
       "       [-1.451886,  1.574913],\n",
       "       [-0.749864,  0.639907],\n",
       "       ...,\n",
       "       [ 1.200242, -1.036347],\n",
       "       [ 1.18679 , -1.059086],\n",
       "       [ 1.072764, -0.950764],\n",
       "       [ 0.734014, -0.62426 ]], dtype=float32)"
      ]
     },
     "execution_count": 31,
     "metadata": {},
     "output_type": "execute_result"
    }
   ],
   "source": [
    "y_pred"
   ]
  },
  {
   "cell_type": "code",
   "execution_count": 32,
   "metadata": {},
   "outputs": [
    {
     "data": {
      "text/plain": [
       "0.8013814951791834"
      ]
     },
     "execution_count": 32,
     "metadata": {},
     "output_type": "execute_result"
    }
   ],
   "source": [
    "f1_score(y_test_tta, y_pred[:, 1] > 0.5,  average='weighted') # scale=1.1"
   ]
  }
 ],
 "metadata": {
  "kernelspec": {
   "display_name": "Python 3",
   "language": "python",
   "name": "python3"
  },
  "language_info": {
   "codemirror_mode": {
    "name": "ipython",
    "version": 3
   },
   "file_extension": ".py",
   "mimetype": "text/x-python",
   "name": "python",
   "nbconvert_exporter": "python",
   "pygments_lexer": "ipython3",
   "version": "3.6.7"
  }
 },
 "nbformat": 4,
 "nbformat_minor": 1
}
