{
 "cells": [
  {
   "cell_type": "code",
   "execution_count": 1,
   "metadata": {},
   "outputs": [],
   "source": [
    "%reload_ext autoreload\n",
    "%autoreload 2\n",
    "%matplotlib inline"
   ]
  },
  {
   "cell_type": "code",
   "execution_count": 2,
   "metadata": {},
   "outputs": [],
   "source": [
    "import os\n",
    "from pathlib import Path\n",
    "from tqdm import tqdm\n",
    "import matplotlib.pyplot as plt\n",
    "import random"
   ]
  },
  {
   "cell_type": "code",
   "execution_count": 3,
   "metadata": {},
   "outputs": [],
   "source": [
    "import cv2\n",
    "from fastai import *\n",
    "from fastai.vision import *\n",
    "from fastai.callbacks import *"
   ]
  },
  {
   "cell_type": "code",
   "execution_count": 4,
   "metadata": {},
   "outputs": [],
   "source": [
    "from dataset_spliter import SplitByPatient\n",
    "from metrics import *#F1Weighted, MCC\n",
    "from losses import *"
   ]
  },
  {
   "cell_type": "code",
   "execution_count": 5,
   "metadata": {},
   "outputs": [],
   "source": [
    "import pretrainedmodels"
   ]
  },
  {
   "cell_type": "code",
   "execution_count": 6,
   "metadata": {},
   "outputs": [],
   "source": [
    "path = Path('/data/Datasets/WhiteBloodCancer/train/')"
   ]
  },
  {
   "cell_type": "code",
   "execution_count": 7,
   "metadata": {},
   "outputs": [],
   "source": [
    "np.random.seed(42)"
   ]
  },
  {
   "cell_type": "code",
   "execution_count": 8,
   "metadata": {},
   "outputs": [
    {
     "data": {
      "text/plain": [
       "[PosixPath('/data/Datasets/WhiteBloodCancer/train/fold_1/hem/UID_H10_43_1_hem.bmp'),\n",
       " PosixPath('/data/Datasets/WhiteBloodCancer/train/fold_1/hem/UID_H22_31_15_hem.bmp'),\n",
       " PosixPath('/data/Datasets/WhiteBloodCancer/train/fold_1/hem/UID_H14_9_11_hem.bmp'),\n",
       " PosixPath('/data/Datasets/WhiteBloodCancer/train/fold_1/hem/UID_H14_28_6_hem.bmp'),\n",
       " PosixPath('/data/Datasets/WhiteBloodCancer/train/fold_1/hem/UID_H10_189_1_hem.bmp')]"
      ]
     },
     "execution_count": 8,
     "metadata": {},
     "output_type": "execute_result"
    }
   ],
   "source": [
    "fnames = get_image_files(path, recurse=True)\n",
    "fnames[:5]"
   ]
  },
  {
   "cell_type": "code",
   "execution_count": 9,
   "metadata": {},
   "outputs": [],
   "source": [
    "hem_regex = re.compile(r'UID_(H[0-9]+)_', re.IGNORECASE)\n",
    "all_regex = re.compile(r'UID_([0-9]+)_', re.IGNORECASE)"
   ]
  },
  {
   "cell_type": "code",
   "execution_count": 10,
   "metadata": {},
   "outputs": [
    {
     "name": "stdout",
     "output_type": "stream",
     "text": [
      "\n"
     ]
    }
   ],
   "source": [
    "hem_patient_ids = list(set([hem_regex.search(str(fn)).group(1)\n",
    "                            for fn in fnames if hem_regex.search(str(fn)) is not None]))\n",
    "all_patint_ids = list(set([all_regex.search(str(fn)).group(1)\n",
    "                           for fn in fnames if all_regex.search(str(fn)) is not None]))\n",
    "\n",
    "hem_patients = dict((k,[]) for k in hem_patient_ids)\n",
    "all_patints = dict((k,[]) for k in all_patint_ids)\n",
    "\n",
    "[all_patints[key].append(fn) for key in all_patints.keys() for fn in fnames if 'UID_{0}_'.format(key) in str(fn)]\n",
    "[hem_patients[key].append(fn) for key in hem_patients.keys() for fn in fnames if 'UID_{0}_'.format(key) in str(fn)]\n",
    "print()"
   ]
  },
  {
   "cell_type": "markdown",
   "metadata": {},
   "source": [
    "## Split data into train val "
   ]
  },
  {
   "cell_type": "code",
   "execution_count": 11,
   "metadata": {},
   "outputs": [],
   "source": [
    "split_handler = SplitByPatient(hem_patients, all_patints)"
   ]
  },
  {
   "cell_type": "markdown",
   "metadata": {},
   "source": [
    "### Split by regex"
   ]
  },
  {
   "cell_type": "code",
   "execution_count": 12,
   "metadata": {},
   "outputs": [],
   "source": [
    "train_regex = re.compile(r'(fold_0|fold_1|fold_2)')\n",
    "val_regex = re.compile(r'(fold_3)')\n",
    "\n",
    "hem_train, all_train, hem_val, all_val = split_handler.split_by_regex(train_regex, val_regex)"
   ]
  },
  {
   "cell_type": "code",
   "execution_count": 13,
   "metadata": {},
   "outputs": [
    {
     "name": "stdout",
     "output_type": "stream",
     "text": [
      "Train Total: 10661\n",
      "Val Total: 1867\n",
      "\n",
      "Hem train: 3389\n",
      "All train: 7272\n",
      "Hem val: 648\n",
      "All val: 1219\n"
     ]
    }
   ],
   "source": [
    "print('Train Total: {0}'.format(len(hem_train)+len(all_train)))\n",
    "print('Val Total: {0}'.format(len(hem_val)+len(all_val)))\n",
    "print(\"\")\n",
    "print('Hem train: {}'.format(len(hem_train)))\n",
    "print('All train: {}'.format(len(all_train)))\n",
    "print('Hem val: {}'.format(len(hem_val)))\n",
    "print('All val: {}'.format(len(all_val)))"
   ]
  },
  {
   "cell_type": "code",
   "execution_count": 14,
   "metadata": {},
   "outputs": [],
   "source": [
    "pat = re.compile(r'^.*(hem|all).bmp$')\n",
    "\n",
    "def get_label(fn):\n",
    "    return pat.search(str(fn)).group(1)"
   ]
  },
  {
   "cell_type": "markdown",
   "metadata": {},
   "source": [
    "### Use complete image"
   ]
  },
  {
   "cell_type": "code",
   "execution_count": 15,
   "metadata": {},
   "outputs": [],
   "source": [
    "train = ImageList(hem_train + all_train) #optinal scale up classes \n",
    "valid = ImageList(hem_val + all_val)"
   ]
  },
  {
   "cell_type": "code",
   "execution_count": 16,
   "metadata": {},
   "outputs": [],
   "source": [
    "item_list = ItemLists(path, train, valid)\n",
    "lls = item_list.label_from_func(get_label)"
   ]
  },
  {
   "cell_type": "markdown",
   "metadata": {},
   "source": [
    "#### Data augmentation"
   ]
  },
  {
   "cell_type": "code",
   "execution_count": 17,
   "metadata": {},
   "outputs": [],
   "source": [
    "xtra_tfms=[cutout(n_holes=5, length=0.2)]#squish(scale=0.66), \n",
    "tfms = get_transforms(do_flip=True, \n",
    "                      flip_vert=True, \n",
    "                      #max_rotate=90,  \n",
    "                      #max_lighting=0.15, \n",
    "                      #max_zoom=1.5, \n",
    "                      #max_warp=0.2,\n",
    "                      #p_affine=0.75,\n",
    "                      #p_lighting=0.75,  \n",
    "                      #xtra_tfms=xtra_tfms,\n",
    "                     )"
   ]
  },
  {
   "cell_type": "markdown",
   "metadata": {},
   "source": [
    "#### Create dataset "
   ]
  },
  {
   "cell_type": "code",
   "execution_count": 18,
   "metadata": {},
   "outputs": [],
   "source": [
    "def get_data(bs, size):\n",
    "    data  = ImageDataBunch.create_from_ll(lls, size=size, bs=bs, \n",
    "                                      ds_tfms=tfms, padding_mode='zeros',\n",
    "                                      resize_method=ResizeMethod.PAD)\n",
    "    data = data.normalize()\n",
    "    #data = data.normalize((channel_mean, channel_std))\n",
    "    return data\n",
    "    "
   ]
  },
  {
   "cell_type": "code",
   "execution_count": 19,
   "metadata": {},
   "outputs": [
    {
     "name": "stdout",
     "output_type": "stream",
     "text": [
      "['fbresnet152', 'bninception', 'resnext101_32x4d', 'resnext101_64x4d', 'inceptionv4', 'inceptionresnetv2', 'alexnet', 'densenet121', 'densenet169', 'densenet201', 'densenet161', 'resnet18', 'resnet34', 'resnet50', 'resnet101', 'resnet152', 'inceptionv3', 'squeezenet1_0', 'squeezenet1_1', 'vgg11', 'vgg11_bn', 'vgg13', 'vgg13_bn', 'vgg16', 'vgg16_bn', 'vgg19_bn', 'vgg19', 'nasnetamobile', 'nasnetalarge', 'dpn68', 'dpn68b', 'dpn92', 'dpn98', 'dpn131', 'dpn107', 'xception', 'senet154', 'se_resnet50', 'se_resnet101', 'se_resnet152', 'se_resnext50_32x4d', 'se_resnext101_32x4d', 'cafferesnet101', 'pnasnet5large', 'polynet']\n"
     ]
    }
   ],
   "source": [
    "print(pretrainedmodels.model_names)"
   ]
  },
  {
   "cell_type": "code",
   "execution_count": 20,
   "metadata": {},
   "outputs": [],
   "source": [
    "def get_cadene_model(pretrained=True, model_name='xception'):\n",
    "    if pretrained:\n",
    "        arch = pretrainedmodels.__dict__[model_name](num_classes=1000, pretrained='imagenet')\n",
    "    else:\n",
    "        arch = pretrainedmodels.__dict__[model_name](num_classes=1000)\n",
    "    return arch"
   ]
  },
  {
   "cell_type": "code",
   "execution_count": 21,
   "metadata": {},
   "outputs": [
    {
     "name": "stderr",
     "output_type": "stream",
     "text": [
      "/home/c.marzahl@de.eu.local/ProgProjekte/fastai_v1/fastai/fastai/vision/learner.py:93: UserWarning: `create_cnn` is deprecated and is now named `cnn_learner`.\n",
      "  warn(\"`create_cnn` is deprecated and is now named `cnn_learner`.\")\n",
      "Downloading: \"http://data.lip6.fr/cadene/pretrainedmodels/xception-43020ad28.pth\" to /home/c.marzahl@de.eu.local/.torch/models/xception-43020ad28.pth\n",
      "100%|██████████| 91675053/91675053 [00:01<00:00, 45946853.24it/s]\n"
     ]
    }
   ],
   "source": [
    "size = 256\n",
    "bs = 64\n",
    "data = get_data(bs, size)\n",
    "\n",
    "experiment_name = \"baseline_se_resnext50_32x4d\"\n",
    "learn = create_cnn(data, get_cadene_model, \n",
    "                    cut=-2,\n",
    "                       metrics=[error_rate, F1Weighted(), MCC()], #  \n",
    "                       #loss_func=FocalLoss(num_classes=1),\n",
    "                       #ps=0.75,\n",
    "                       #wd=0.1,\n",
    "                       loss_func = LabelSmoothingCrossEntropy(),\n",
    "                       callback_fns=[partial(SaveModelCallback, name='stage1-{}-{}'.format(experiment_name, size))],\n",
    "\n",
    "                  )#"
   ]
  },
  {
   "cell_type": "code",
   "execution_count": 22,
   "metadata": {},
   "outputs": [
    {
     "data": {
      "text/html": [
       "Total time: 10:32 <p><table style='width:525px; margin-bottom:10px'>\n",
       "  <tr>\n",
       "    <th>epoch</th>\n",
       "    <th>train_loss</th>\n",
       "    <th>valid_loss</th>\n",
       "    <th>error_rate</th>\n",
       "    <th>f1_weighted</th>\n",
       "    <th>mcc</th>\n",
       "    <th>time</th>\n",
       "  </tr>\n",
       "  <tr>\n",
       "    <th>0</th>\n",
       "    <th>0.620999</th>\n",
       "    <th>0.820352</th>\n",
       "    <th>0.320300</th>\n",
       "    <th>0.588439</th>\n",
       "    <th>0.203612</th>\n",
       "    <th>02:06</th>\n",
       "  </tr>\n",
       "  <tr>\n",
       "    <th>1</th>\n",
       "    <th>0.581140</th>\n",
       "    <th>1.036119</th>\n",
       "    <th>0.306909</th>\n",
       "    <th>0.646814</th>\n",
       "    <th>0.250288</th>\n",
       "    <th>02:05</th>\n",
       "  </tr>\n",
       "  <tr>\n",
       "    <th>2</th>\n",
       "    <th>0.546890</th>\n",
       "    <th>0.728534</th>\n",
       "    <th>0.310123</th>\n",
       "    <th>0.656216</th>\n",
       "    <th>0.249549</th>\n",
       "    <th>02:06</th>\n",
       "  </tr>\n",
       "  <tr>\n",
       "    <th>3</th>\n",
       "    <th>0.515418</th>\n",
       "    <th>0.672325</th>\n",
       "    <th>0.298340</th>\n",
       "    <th>0.681735</th>\n",
       "    <th>0.294544</th>\n",
       "    <th>02:06</th>\n",
       "  </tr>\n",
       "  <tr>\n",
       "    <th>4</th>\n",
       "    <th>0.498024</th>\n",
       "    <th>0.657104</th>\n",
       "    <th>0.291377</th>\n",
       "    <th>0.673994</th>\n",
       "    <th>0.300137</th>\n",
       "    <th>02:06</th>\n",
       "  </tr>\n",
       "</table>\n"
      ],
      "text/plain": [
       "<IPython.core.display.HTML object>"
      ]
     },
     "metadata": {},
     "output_type": "display_data"
    },
    {
     "name": "stdout",
     "output_type": "stream",
     "text": [
      "Better model found at epoch 0 with val_loss value: 0.8203524947166443.\n",
      "Better model found at epoch 2 with val_loss value: 0.7285336256027222.\n",
      "Better model found at epoch 3 with val_loss value: 0.6723250150680542.\n",
      "Better model found at epoch 4 with val_loss value: 0.6571040153503418.\n"
     ]
    },
    {
     "data": {
      "text/html": [
       "Total time: 30:35 <p><table style='width:525px; margin-bottom:10px'>\n",
       "  <tr>\n",
       "    <th>epoch</th>\n",
       "    <th>train_loss</th>\n",
       "    <th>valid_loss</th>\n",
       "    <th>error_rate</th>\n",
       "    <th>f1_weighted</th>\n",
       "    <th>mcc</th>\n",
       "    <th>time</th>\n",
       "  </tr>\n",
       "  <tr>\n",
       "    <th>0</th>\n",
       "    <th>0.496079</th>\n",
       "    <th>0.648587</th>\n",
       "    <th>0.291377</th>\n",
       "    <th>0.679547</th>\n",
       "    <th>0.303178</th>\n",
       "    <th>03:04</th>\n",
       "  </tr>\n",
       "  <tr>\n",
       "    <th>1</th>\n",
       "    <th>0.492143</th>\n",
       "    <th>0.651308</th>\n",
       "    <th>0.286020</th>\n",
       "    <th>0.685438</th>\n",
       "    <th>0.317755</th>\n",
       "    <th>03:03</th>\n",
       "  </tr>\n",
       "  <tr>\n",
       "    <th>2</th>\n",
       "    <th>0.482783</th>\n",
       "    <th>0.678395</th>\n",
       "    <th>0.289234</th>\n",
       "    <th>0.673071</th>\n",
       "    <th>0.305242</th>\n",
       "    <th>03:03</th>\n",
       "  </tr>\n",
       "  <tr>\n",
       "    <th>3</th>\n",
       "    <th>0.483907</th>\n",
       "    <th>0.656576</th>\n",
       "    <th>0.275308</th>\n",
       "    <th>0.680436</th>\n",
       "    <th>0.349047</th>\n",
       "    <th>03:03</th>\n",
       "  </tr>\n",
       "  <tr>\n",
       "    <th>4</th>\n",
       "    <th>0.471519</th>\n",
       "    <th>0.645113</th>\n",
       "    <th>0.279593</th>\n",
       "    <th>0.697557</th>\n",
       "    <th>0.338252</th>\n",
       "    <th>03:03</th>\n",
       "  </tr>\n",
       "  <tr>\n",
       "    <th>5</th>\n",
       "    <th>0.463317</th>\n",
       "    <th>0.635114</th>\n",
       "    <th>0.278522</th>\n",
       "    <th>0.690507</th>\n",
       "    <th>0.337103</th>\n",
       "    <th>03:02</th>\n",
       "  </tr>\n",
       "  <tr>\n",
       "    <th>6</th>\n",
       "    <th>0.455003</th>\n",
       "    <th>0.639009</th>\n",
       "    <th>0.268345</th>\n",
       "    <th>0.698705</th>\n",
       "    <th>0.365823</th>\n",
       "    <th>03:03</th>\n",
       "  </tr>\n",
       "  <tr>\n",
       "    <th>7</th>\n",
       "    <th>0.456566</th>\n",
       "    <th>0.646097</th>\n",
       "    <th>0.276915</th>\n",
       "    <th>0.694184</th>\n",
       "    <th>0.342088</th>\n",
       "    <th>03:02</th>\n",
       "  </tr>\n",
       "  <tr>\n",
       "    <th>8</th>\n",
       "    <th>0.452922</th>\n",
       "    <th>0.638488</th>\n",
       "    <th>0.268345</th>\n",
       "    <th>0.702529</th>\n",
       "    <th>0.365558</th>\n",
       "    <th>03:03</th>\n",
       "  </tr>\n",
       "  <tr>\n",
       "    <th>9</th>\n",
       "    <th>0.455683</th>\n",
       "    <th>0.636411</th>\n",
       "    <th>0.269416</th>\n",
       "    <th>0.697808</th>\n",
       "    <th>0.362700</th>\n",
       "    <th>03:03</th>\n",
       "  </tr>\n",
       "</table>\n"
      ],
      "text/plain": [
       "<IPython.core.display.HTML object>"
      ]
     },
     "metadata": {},
     "output_type": "display_data"
    },
    {
     "name": "stdout",
     "output_type": "stream",
     "text": [
      "Better model found at epoch 0 with val_loss value: 0.6485869884490967.\n",
      "Better model found at epoch 4 with val_loss value: 0.6451134085655212.\n",
      "Better model found at epoch 5 with val_loss value: 0.6351143717765808.\n"
     ]
    }
   ],
   "source": [
    "learn.freeze()\n",
    "lr = 1e-2\n",
    "learn.fit_one_cycle(5, lr)\n",
    "\n",
    "learn.unfreeze()\n",
    "learn.fit_one_cycle(10, slice(1e-5,lr/5))"
   ]
  },
  {
   "cell_type": "code",
   "execution_count": 25,
   "metadata": {},
   "outputs": [],
   "source": [
    "learn.export('NeuVersion.pkl')  "
   ]
  },
  {
   "cell_type": "code",
   "execution_count": 23,
   "metadata": {},
   "outputs": [
    {
     "data": {
      "text/html": [
       "Total time: 24:15 <p><table style='width:525px; margin-bottom:10px'>\n",
       "  <tr>\n",
       "    <th>epoch</th>\n",
       "    <th>train_loss</th>\n",
       "    <th>valid_loss</th>\n",
       "    <th>error_rate</th>\n",
       "    <th>f1_weighted</th>\n",
       "    <th>mcc</th>\n",
       "    <th>time</th>\n",
       "  </tr>\n",
       "  <tr>\n",
       "    <th>0</th>\n",
       "    <th>0.500966</th>\n",
       "    <th>0.674683</th>\n",
       "    <th>0.299411</th>\n",
       "    <th>0.626869</th>\n",
       "    <th>0.284938</th>\n",
       "    <th>04:55</th>\n",
       "  </tr>\n",
       "  <tr>\n",
       "    <th>1</th>\n",
       "    <th>0.473199</th>\n",
       "    <th>0.598263</th>\n",
       "    <th>0.238886</th>\n",
       "    <th>0.723036</th>\n",
       "    <th>0.463528</th>\n",
       "    <th>04:49</th>\n",
       "  </tr>\n",
       "  <tr>\n",
       "    <th>2</th>\n",
       "    <th>0.444079</th>\n",
       "    <th>0.578668</th>\n",
       "    <th>0.215319</th>\n",
       "    <th>0.774866</th>\n",
       "    <th>0.505193</th>\n",
       "    <th>04:49</th>\n",
       "  </tr>\n",
       "  <tr>\n",
       "    <th>3</th>\n",
       "    <th>0.421835</th>\n",
       "    <th>0.572579</th>\n",
       "    <th>0.216926</th>\n",
       "    <th>0.764256</th>\n",
       "    <th>0.502888</th>\n",
       "    <th>04:49</th>\n",
       "  </tr>\n",
       "  <tr>\n",
       "    <th>4</th>\n",
       "    <th>0.411102</th>\n",
       "    <th>0.543771</th>\n",
       "    <th>0.189609</th>\n",
       "    <th>0.799719</th>\n",
       "    <th>0.568077</th>\n",
       "    <th>04:49</th>\n",
       "  </tr>\n",
       "</table>\n"
      ],
      "text/plain": [
       "<IPython.core.display.HTML object>"
      ]
     },
     "metadata": {},
     "output_type": "display_data"
    },
    {
     "name": "stdout",
     "output_type": "stream",
     "text": [
      "Better model found at epoch 0 with val_loss value: 0.6746834516525269.\n",
      "Better model found at epoch 1 with val_loss value: 0.5982630848884583.\n",
      "Better model found at epoch 2 with val_loss value: 0.5786679983139038.\n",
      "Better model found at epoch 3 with val_loss value: 0.5725790858268738.\n",
      "Better model found at epoch 4 with val_loss value: 0.5437712073326111.\n"
     ]
    },
    {
     "data": {
      "text/html": [
       "Total time: 1:11:31 <p><table style='width:525px; margin-bottom:10px'>\n",
       "  <tr>\n",
       "    <th>epoch</th>\n",
       "    <th>train_loss</th>\n",
       "    <th>valid_loss</th>\n",
       "    <th>error_rate</th>\n",
       "    <th>f1_weighted</th>\n",
       "    <th>mcc</th>\n",
       "    <th>time</th>\n",
       "  </tr>\n",
       "  <tr>\n",
       "    <th>0</th>\n",
       "    <th>0.403261</th>\n",
       "    <th>0.551592</th>\n",
       "    <th>0.187467</th>\n",
       "    <th>0.800390</th>\n",
       "    <th>0.574711</th>\n",
       "    <th>07:09</th>\n",
       "  </tr>\n",
       "  <tr>\n",
       "    <th>1</th>\n",
       "    <th>0.407858</th>\n",
       "    <th>0.543757</th>\n",
       "    <th>0.185324</th>\n",
       "    <th>0.803400</th>\n",
       "    <th>0.579374</th>\n",
       "    <th>07:06</th>\n",
       "  </tr>\n",
       "  <tr>\n",
       "    <th>2</th>\n",
       "    <th>0.407417</th>\n",
       "    <th>0.579817</th>\n",
       "    <th>0.221210</th>\n",
       "    <th>0.756380</th>\n",
       "    <th>0.494502</th>\n",
       "    <th>07:06</th>\n",
       "  </tr>\n",
       "  <tr>\n",
       "    <th>3</th>\n",
       "    <th>0.405826</th>\n",
       "    <th>0.562218</th>\n",
       "    <th>0.198715</th>\n",
       "    <th>0.787690</th>\n",
       "    <th>0.546897</th>\n",
       "    <th>07:08</th>\n",
       "  </tr>\n",
       "  <tr>\n",
       "    <th>4</th>\n",
       "    <th>0.406101</th>\n",
       "    <th>0.559534</th>\n",
       "    <th>0.199250</th>\n",
       "    <th>0.784466</th>\n",
       "    <th>0.548254</th>\n",
       "    <th>07:09</th>\n",
       "  </tr>\n",
       "  <tr>\n",
       "    <th>5</th>\n",
       "    <th>0.399481</th>\n",
       "    <th>0.549608</th>\n",
       "    <th>0.190680</th>\n",
       "    <th>0.794580</th>\n",
       "    <th>0.569394</th>\n",
       "    <th>07:09</th>\n",
       "  </tr>\n",
       "  <tr>\n",
       "    <th>6</th>\n",
       "    <th>0.401980</th>\n",
       "    <th>0.548249</th>\n",
       "    <th>0.188538</th>\n",
       "    <th>0.800281</th>\n",
       "    <th>0.571117</th>\n",
       "    <th>07:09</th>\n",
       "  </tr>\n",
       "  <tr>\n",
       "    <th>7</th>\n",
       "    <th>0.397005</th>\n",
       "    <th>0.543221</th>\n",
       "    <th>0.178361</th>\n",
       "    <th>0.810993</th>\n",
       "    <th>0.596538</th>\n",
       "    <th>07:08</th>\n",
       "  </tr>\n",
       "  <tr>\n",
       "    <th>8</th>\n",
       "    <th>0.391432</th>\n",
       "    <th>0.548441</th>\n",
       "    <th>0.184788</th>\n",
       "    <th>0.803608</th>\n",
       "    <th>0.581067</th>\n",
       "    <th>07:09</th>\n",
       "  </tr>\n",
       "  <tr>\n",
       "    <th>9</th>\n",
       "    <th>0.395786</th>\n",
       "    <th>0.534917</th>\n",
       "    <th>0.175683</th>\n",
       "    <th>0.815824</th>\n",
       "    <th>0.601377</th>\n",
       "    <th>07:08</th>\n",
       "  </tr>\n",
       "</table>\n"
      ],
      "text/plain": [
       "<IPython.core.display.HTML object>"
      ]
     },
     "metadata": {},
     "output_type": "display_data"
    },
    {
     "name": "stdout",
     "output_type": "stream",
     "text": [
      "Better model found at epoch 0 with val_loss value: 0.5515920519828796.\n",
      "Better model found at epoch 1 with val_loss value: 0.543756902217865.\n",
      "Better model found at epoch 7 with val_loss value: 0.5432209372520447.\n",
      "Better model found at epoch 9 with val_loss value: 0.5349165201187134.\n"
     ]
    }
   ],
   "source": [
    "size = 384\n",
    "bs = 32\n",
    "learn.data = get_data(bs, size)\n",
    "\n",
    "learn.freeze()\n",
    "lr = 1e-2\n",
    "learn.fit_one_cycle(5, lr)\n",
    "\n",
    "learn.unfreeze()\n",
    "learn.fit_one_cycle(10, slice(1e-5,lr/5))"
   ]
  },
  {
   "cell_type": "code",
   "execution_count": 24,
   "metadata": {},
   "outputs": [
    {
     "data": {
      "text/html": [
       "Total time: 31:45 <p><table style='width:525px; margin-bottom:10px'>\n",
       "  <tr>\n",
       "    <th>epoch</th>\n",
       "    <th>train_loss</th>\n",
       "    <th>valid_loss</th>\n",
       "    <th>error_rate</th>\n",
       "    <th>f1_weighted</th>\n",
       "    <th>mcc</th>\n",
       "    <th>time</th>\n",
       "  </tr>\n",
       "  <tr>\n",
       "    <th>0</th>\n",
       "    <th>0.426746</th>\n",
       "    <th>0.621214</th>\n",
       "    <th>0.246385</th>\n",
       "    <th>0.753615</th>\n",
       "    <th>0.456382</th>\n",
       "    <th>06:38</th>\n",
       "  </tr>\n",
       "  <tr>\n",
       "    <th>1</th>\n",
       "    <th>0.450715</th>\n",
       "    <th>0.578662</th>\n",
       "    <th>0.219604</th>\n",
       "    <th>0.759138</th>\n",
       "    <th>0.497798</th>\n",
       "    <th>06:17</th>\n",
       "  </tr>\n",
       "  <tr>\n",
       "    <th>2</th>\n",
       "    <th>0.437265</th>\n",
       "    <th>0.545300</th>\n",
       "    <th>0.194965</th>\n",
       "    <th>0.799101</th>\n",
       "    <th>0.555895</th>\n",
       "    <th>06:16</th>\n",
       "  </tr>\n",
       "  <tr>\n",
       "    <th>3</th>\n",
       "    <th>0.421880</th>\n",
       "    <th>0.569562</th>\n",
       "    <th>0.213712</th>\n",
       "    <th>0.761715</th>\n",
       "    <th>0.519570</th>\n",
       "    <th>06:16</th>\n",
       "  </tr>\n",
       "  <tr>\n",
       "    <th>4</th>\n",
       "    <th>0.413381</th>\n",
       "    <th>0.519376</th>\n",
       "    <th>0.171934</th>\n",
       "    <th>0.819574</th>\n",
       "    <th>0.610643</th>\n",
       "    <th>06:16</th>\n",
       "  </tr>\n",
       "</table>\n"
      ],
      "text/plain": [
       "<IPython.core.display.HTML object>"
      ]
     },
     "metadata": {},
     "output_type": "display_data"
    },
    {
     "name": "stdout",
     "output_type": "stream",
     "text": [
      "Better model found at epoch 0 with val_loss value: 0.6212136149406433.\n",
      "Better model found at epoch 1 with val_loss value: 0.5786618590354919.\n",
      "Better model found at epoch 2 with val_loss value: 0.5453004240989685.\n",
      "Better model found at epoch 4 with val_loss value: 0.5193756222724915.\n"
     ]
    },
    {
     "data": {
      "text/html": [
       "Total time: 1:33:33 <p><table style='width:525px; margin-bottom:10px'>\n",
       "  <tr>\n",
       "    <th>epoch</th>\n",
       "    <th>train_loss</th>\n",
       "    <th>valid_loss</th>\n",
       "    <th>error_rate</th>\n",
       "    <th>f1_weighted</th>\n",
       "    <th>mcc</th>\n",
       "    <th>time</th>\n",
       "  </tr>\n",
       "  <tr>\n",
       "    <th>0</th>\n",
       "    <th>0.398535</th>\n",
       "    <th>0.562051</th>\n",
       "    <th>0.196572</th>\n",
       "    <th>0.784496</th>\n",
       "    <th>0.559874</th>\n",
       "    <th>09:23</th>\n",
       "  </tr>\n",
       "  <tr>\n",
       "    <th>1</th>\n",
       "    <th>0.403705</th>\n",
       "    <th>0.535078</th>\n",
       "    <th>0.190145</th>\n",
       "    <th>0.796215</th>\n",
       "    <th>0.569383</th>\n",
       "    <th>09:20</th>\n",
       "  </tr>\n",
       "  <tr>\n",
       "    <th>2</th>\n",
       "    <th>0.400987</th>\n",
       "    <th>0.537676</th>\n",
       "    <th>0.176219</th>\n",
       "    <th>0.811580</th>\n",
       "    <th>0.604257</th>\n",
       "    <th>09:21</th>\n",
       "  </tr>\n",
       "  <tr>\n",
       "    <th>3</th>\n",
       "    <th>0.385849</th>\n",
       "    <th>0.547556</th>\n",
       "    <th>0.184253</th>\n",
       "    <th>0.805514</th>\n",
       "    <th>0.581232</th>\n",
       "    <th>09:20</th>\n",
       "  </tr>\n",
       "  <tr>\n",
       "    <th>4</th>\n",
       "    <th>0.403077</th>\n",
       "    <th>0.610102</th>\n",
       "    <th>0.229780</th>\n",
       "    <th>0.739590</th>\n",
       "    <th>0.480221</th>\n",
       "    <th>09:20</th>\n",
       "  </tr>\n",
       "  <tr>\n",
       "    <th>5</th>\n",
       "    <th>0.391471</th>\n",
       "    <th>0.547728</th>\n",
       "    <th>0.193894</th>\n",
       "    <th>0.788649</th>\n",
       "    <th>0.564838</th>\n",
       "    <th>09:20</th>\n",
       "  </tr>\n",
       "  <tr>\n",
       "    <th>6</th>\n",
       "    <th>0.388433</th>\n",
       "    <th>0.539917</th>\n",
       "    <th>0.185324</th>\n",
       "    <th>0.808374</th>\n",
       "    <th>0.578100</th>\n",
       "    <th>09:20</th>\n",
       "  </tr>\n",
       "  <tr>\n",
       "    <th>7</th>\n",
       "    <th>0.392572</th>\n",
       "    <th>0.542688</th>\n",
       "    <th>0.196572</th>\n",
       "    <th>0.793580</th>\n",
       "    <th>0.550554</th>\n",
       "    <th>09:20</th>\n",
       "  </tr>\n",
       "  <tr>\n",
       "    <th>8</th>\n",
       "    <th>0.388792</th>\n",
       "    <th>0.545777</th>\n",
       "    <th>0.196572</th>\n",
       "    <th>0.795447</th>\n",
       "    <th>0.550799</th>\n",
       "    <th>09:20</th>\n",
       "  </tr>\n",
       "  <tr>\n",
       "    <th>9</th>\n",
       "    <th>0.384841</th>\n",
       "    <th>0.561090</th>\n",
       "    <th>0.212641</th>\n",
       "    <th>0.770830</th>\n",
       "    <th>0.512611</th>\n",
       "    <th>09:20</th>\n",
       "  </tr>\n",
       "</table>\n"
      ],
      "text/plain": [
       "<IPython.core.display.HTML object>"
      ]
     },
     "metadata": {},
     "output_type": "display_data"
    },
    {
     "name": "stdout",
     "output_type": "stream",
     "text": [
      "Better model found at epoch 0 with val_loss value: 0.5620509386062622.\n",
      "Better model found at epoch 1 with val_loss value: 0.5350775122642517.\n"
     ]
    }
   ],
   "source": [
    "size = 450\n",
    "bs = 16\n",
    "learn.data = get_data(bs, size)\n",
    "\n",
    "learn.freeze()\n",
    "lr = 1e-2\n",
    "learn.fit_one_cycle(5, lr)\n",
    "\n",
    "learn.unfreeze()\n",
    "learn.fit_one_cycle(10, slice(1e-5,lr/5))"
   ]
  },
  {
   "cell_type": "code",
   "execution_count": null,
   "metadata": {},
   "outputs": [],
   "source": []
  }
 ],
 "metadata": {
  "kernelspec": {
   "display_name": "Python 3",
   "language": "python",
   "name": "python3"
  },
  "language_info": {
   "codemirror_mode": {
    "name": "ipython",
    "version": 3
   },
   "file_extension": ".py",
   "mimetype": "text/x-python",
   "name": "python",
   "nbconvert_exporter": "python",
   "pygments_lexer": "ipython3",
   "version": "3.6.7"
  }
 },
 "nbformat": 4,
 "nbformat_minor": 1
}
