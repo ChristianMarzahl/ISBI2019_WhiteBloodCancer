{
 "cells": [
  {
   "cell_type": "code",
   "execution_count": 1,
   "metadata": {},
   "outputs": [],
   "source": [
    "%reload_ext autoreload\n",
    "%autoreload 2\n",
    "%matplotlib inline"
   ]
  },
  {
   "cell_type": "code",
   "execution_count": 2,
   "metadata": {},
   "outputs": [],
   "source": [
    "import os\n",
    "from pathlib import Path\n",
    "from tqdm import tqdm\n",
    "import matplotlib.pyplot as plt\n",
    "import random"
   ]
  },
  {
   "cell_type": "code",
   "execution_count": 3,
   "metadata": {},
   "outputs": [],
   "source": [
    "import cv2\n",
    "from fastai import *\n",
    "from fastai.vision import *\n",
    "from fastai.callbacks import *"
   ]
  },
  {
   "cell_type": "code",
   "execution_count": 4,
   "metadata": {},
   "outputs": [],
   "source": [
    "from dataset_spliter import SplitByPatient\n",
    "from metrics import *#F1Weighted, MCC\n",
    "from losses import *"
   ]
  },
  {
   "cell_type": "code",
   "execution_count": 5,
   "metadata": {},
   "outputs": [],
   "source": [
    "import pretrainedmodels"
   ]
  },
  {
   "cell_type": "code",
   "execution_count": 27,
   "metadata": {},
   "outputs": [],
   "source": [
    "path = Path('/data/Datasets/WhiteBloodCancer/train/')\n",
    "test_path = Path('/data/Datasets/WhiteBloodCancer/test/')"
   ]
  },
  {
   "cell_type": "code",
   "execution_count": 7,
   "metadata": {},
   "outputs": [],
   "source": [
    "np.random.seed(42)"
   ]
  },
  {
   "cell_type": "code",
   "execution_count": 8,
   "metadata": {},
   "outputs": [
    {
     "data": {
      "text/plain": [
       "[PosixPath('/data/Datasets/WhiteBloodCancer/train/fold_1/hem/UID_H10_43_1_hem.bmp'),\n",
       " PosixPath('/data/Datasets/WhiteBloodCancer/train/fold_1/hem/UID_H22_31_15_hem.bmp'),\n",
       " PosixPath('/data/Datasets/WhiteBloodCancer/train/fold_1/hem/UID_H14_9_11_hem.bmp'),\n",
       " PosixPath('/data/Datasets/WhiteBloodCancer/train/fold_1/hem/UID_H14_28_6_hem.bmp'),\n",
       " PosixPath('/data/Datasets/WhiteBloodCancer/train/fold_1/hem/UID_H10_189_1_hem.bmp')]"
      ]
     },
     "execution_count": 8,
     "metadata": {},
     "output_type": "execute_result"
    }
   ],
   "source": [
    "fnames = get_image_files(path, recurse=True)\n",
    "fnames[:5]"
   ]
  },
  {
   "cell_type": "code",
   "execution_count": 9,
   "metadata": {},
   "outputs": [
    {
     "data": {
      "text/plain": [
       "12528"
      ]
     },
     "execution_count": 9,
     "metadata": {},
     "output_type": "execute_result"
    }
   ],
   "source": [
    "len(fnames)"
   ]
  },
  {
   "cell_type": "code",
   "execution_count": 10,
   "metadata": {},
   "outputs": [
    {
     "data": {
      "text/plain": [
       "10661"
      ]
     },
     "execution_count": 10,
     "metadata": {},
     "output_type": "execute_result"
    }
   ],
   "source": [
    "train_files_regex = re.compile(r'(fold_0|fold_1|fold_2)')\n",
    "\n",
    "fnames = [fn for fn in fnames if train_files_regex.search(str(fn)) is not None]\n",
    "len(fnames)"
   ]
  },
  {
   "cell_type": "code",
   "execution_count": 11,
   "metadata": {},
   "outputs": [],
   "source": [
    "hem_regex = re.compile(r'UID_(H[0-9]+)_', re.IGNORECASE)\n",
    "all_regex = re.compile(r'UID_([0-9]+)_', re.IGNORECASE)"
   ]
  },
  {
   "cell_type": "code",
   "execution_count": 12,
   "metadata": {},
   "outputs": [
    {
     "name": "stdout",
     "output_type": "stream",
     "text": [
      "\n"
     ]
    }
   ],
   "source": [
    "hem_patient_ids = list(set([hem_regex.search(str(fn)).group(1)\n",
    "                            for fn in fnames if hem_regex.search(str(fn)) is not None]))\n",
    "all_patint_ids = list(set([all_regex.search(str(fn)).group(1)\n",
    "                           for fn in fnames if all_regex.search(str(fn)) is not None]))\n",
    "\n",
    "hem_patients = dict((k,[]) for k in hem_patient_ids)\n",
    "all_patints = dict((k,[]) for k in all_patint_ids)\n",
    "\n",
    "[all_patints[key].append(fn) for key in all_patints.keys() for fn in fnames if 'UID_{0}_'.format(key) in str(fn)]\n",
    "[hem_patients[key].append(fn) for key in hem_patients.keys() for fn in fnames if 'UID_{0}_'.format(key) in str(fn)]\n",
    "print()"
   ]
  },
  {
   "cell_type": "markdown",
   "metadata": {},
   "source": [
    "## Split data into train val "
   ]
  },
  {
   "cell_type": "code",
   "execution_count": 13,
   "metadata": {},
   "outputs": [],
   "source": [
    "split_handler = SplitByPatient(hem_patients, all_patints)"
   ]
  },
  {
   "cell_type": "markdown",
   "metadata": {},
   "source": [
    "### Split by RND"
   ]
  },
  {
   "cell_type": "code",
   "execution_count": 14,
   "metadata": {},
   "outputs": [],
   "source": [
    "hem_train, all_train, hem_val, all_val = split_handler.random_split(0.1)"
   ]
  },
  {
   "cell_type": "code",
   "execution_count": 15,
   "metadata": {},
   "outputs": [
    {
     "name": "stdout",
     "output_type": "stream",
     "text": [
      "Train Total: 9596\n",
      "Val Total: 1065\n",
      "\n",
      "Hem train: 3051\n",
      "All train: 6545\n",
      "Hem val: 338\n",
      "All val: 727\n"
     ]
    }
   ],
   "source": [
    "print('Train Total: {0}'.format(len(hem_train)+len(all_train)))\n",
    "print('Val Total: {0}'.format(len(hem_val)+len(all_val)))\n",
    "print(\"\")\n",
    "print('Hem train: {}'.format(len(hem_train)))\n",
    "print('All train: {}'.format(len(all_train)))\n",
    "print('Hem val: {}'.format(len(hem_val)))\n",
    "print('All val: {}'.format(len(all_val)))"
   ]
  },
  {
   "cell_type": "code",
   "execution_count": 16,
   "metadata": {},
   "outputs": [],
   "source": [
    "pat = re.compile(r'^.*(hem|all).bmp$')\n",
    "\n",
    "def get_label(fn):\n",
    "    return pat.search(str(fn)).group(1)"
   ]
  },
  {
   "cell_type": "markdown",
   "metadata": {},
   "source": [
    "### Use complete image"
   ]
  },
  {
   "cell_type": "code",
   "execution_count": 17,
   "metadata": {},
   "outputs": [],
   "source": [
    "train = ImageList(hem_train + all_train) #optinal scale up classes \n",
    "valid = ImageList(hem_val + all_val)"
   ]
  },
  {
   "cell_type": "code",
   "execution_count": 30,
   "metadata": {},
   "outputs": [],
   "source": [
    "item_list = ItemLists(path, train, valid)\n",
    "lls = item_list.label_from_func(get_label).add_test_folder('../test')"
   ]
  },
  {
   "cell_type": "code",
   "execution_count": 31,
   "metadata": {},
   "outputs": [
    {
     "data": {
      "text/plain": [
       "LabelLists;\n",
       "\n",
       "Train: LabelList (9596 items)\n",
       "x: ImageList\n",
       "Image (3, 450, 450),Image (3, 450, 450),Image (3, 450, 450),Image (3, 450, 450),Image (3, 450, 450)\n",
       "y: CategoryList\n",
       "hem,hem,hem,hem,hem\n",
       "Path: .;\n",
       "\n",
       "Valid: LabelList (1065 items)\n",
       "x: ImageList\n",
       "Image (3, 450, 450),Image (3, 450, 450),Image (3, 450, 450),Image (3, 450, 450),Image (3, 450, 450)\n",
       "y: CategoryList\n",
       "hem,hem,hem,hem,hem\n",
       "Path: .;\n",
       "\n",
       "Test: LabelList (1867 items)\n",
       "x: ImageList\n",
       "Image (3, 450, 450),Image (3, 450, 450),Image (3, 450, 450),Image (3, 450, 450),Image (3, 450, 450)\n",
       "y: EmptyLabelList\n",
       ",,,,\n",
       "Path: ."
      ]
     },
     "execution_count": 31,
     "metadata": {},
     "output_type": "execute_result"
    }
   ],
   "source": [
    "lls"
   ]
  },
  {
   "cell_type": "markdown",
   "metadata": {},
   "source": [
    "#### Data augmentation"
   ]
  },
  {
   "cell_type": "code",
   "execution_count": 32,
   "metadata": {},
   "outputs": [],
   "source": [
    "xtra_tfms=[cutout(n_holes=5, length=0.2)]#squish(scale=0.66), \n",
    "tfms = get_transforms(do_flip=True, \n",
    "                      flip_vert=True, \n",
    "                      #max_rotate=90,  \n",
    "                      max_lighting=0.05, \n",
    "                      max_zoom=1.05, \n",
    "                      max_warp=0.05,\n",
    "                      #p_affine=0.75,\n",
    "                      #p_lighting=0.75,  \n",
    "                      #xtra_tfms=xtra_tfms,\n",
    "                     )"
   ]
  },
  {
   "cell_type": "markdown",
   "metadata": {},
   "source": [
    "#### Create dataset "
   ]
  },
  {
   "cell_type": "code",
   "execution_count": 38,
   "metadata": {},
   "outputs": [],
   "source": [
    "import pandas as pd\n",
    "\n",
    "file = \"/server/born_pix/EPA_DATASETS/WhiteBloodCancer/VAL_ISBI_labelfile_Source_reference_prediction.csv\"\n",
    "dataset = pd.read_csv(file, delimiter=';')\n",
    "gt_labels = np.array(dataset.loc[:, 'labels'])"
   ]
  },
  {
   "cell_type": "code",
   "execution_count": 33,
   "metadata": {},
   "outputs": [],
   "source": [
    "def get_data(bs, size):\n",
    "    data  = ImageDataBunch.create_from_ll(lls, size=size, bs=bs, \n",
    "                                      ds_tfms=tfms, padding_mode='zeros',\n",
    "                                      resize_method=ResizeMethod.PAD)\n",
    "    data = data.normalize()\n",
    "    #data = data.normalize((channel_mean, channel_std))\n",
    "    return data\n",
    "    "
   ]
  },
  {
   "cell_type": "code",
   "execution_count": 34,
   "metadata": {},
   "outputs": [
    {
     "name": "stderr",
     "output_type": "stream",
     "text": [
      "/home/c.marzahl@de.eu.local/ProgProjekte/fastai_v1/fastai/fastai/vision/learner.py:93: UserWarning: `create_cnn` is deprecated and is now named `cnn_learner`.\n",
      "  warn(\"`create_cnn` is deprecated and is now named `cnn_learner`.\")\n"
     ]
    }
   ],
   "source": [
    "size = 256\n",
    "bs = 64\n",
    "data = get_data(bs, size)\n",
    "\n",
    "experiment_name = \"baseline_resnet18_rnd\"\n",
    "learn = create_cnn(data, models.resnet18, \n",
    "                    #cut=-2,\n",
    "                       metrics=[error_rate, F1Weighted(), MCC()], #  \n",
    "                       #loss_func=FocalLoss(num_classes=1),\n",
    "                       #ps=0.75,\n",
    "                       #wd=0.1,\n",
    "                       loss_func = LabelSmoothingCrossEntropy(),\n",
    "                       callback_fns=[partial(SaveModelCallback, name='stage1-{}-{}'.format(experiment_name, size))],\n",
    "\n",
    "                  )#"
   ]
  },
  {
   "cell_type": "code",
   "execution_count": 36,
   "metadata": {},
   "outputs": [
    {
     "data": {
      "text/html": [
       "Total time: 03:32 <p><table style='width:525px; margin-bottom:10px'>\n",
       "  <tr>\n",
       "    <th>epoch</th>\n",
       "    <th>train_loss</th>\n",
       "    <th>valid_loss</th>\n",
       "    <th>error_rate</th>\n",
       "    <th>f1_weighted</th>\n",
       "    <th>mcc</th>\n",
       "    <th>time</th>\n",
       "  </tr>\n",
       "  <tr>\n",
       "    <th>0</th>\n",
       "    <th>0.188646</th>\n",
       "    <th>0.210076</th>\n",
       "    <th>0.074178</th>\n",
       "    <th>0.924520</th>\n",
       "    <th>0.826499</th>\n",
       "    <th>00:43</th>\n",
       "  </tr>\n",
       "  <tr>\n",
       "    <th>1</th>\n",
       "    <th>0.232753</th>\n",
       "    <th>0.254399</th>\n",
       "    <th>0.095775</th>\n",
       "    <th>0.901783</th>\n",
       "    <th>0.774903</th>\n",
       "    <th>00:38</th>\n",
       "  </tr>\n",
       "  <tr>\n",
       "    <th>2</th>\n",
       "    <th>0.212372</th>\n",
       "    <th>0.220207</th>\n",
       "    <th>0.088263</th>\n",
       "    <th>0.908339</th>\n",
       "    <th>0.795570</th>\n",
       "    <th>00:43</th>\n",
       "  </tr>\n",
       "  <tr>\n",
       "    <th>3</th>\n",
       "    <th>0.175112</th>\n",
       "    <th>0.186329</th>\n",
       "    <th>0.069484</th>\n",
       "    <th>0.931124</th>\n",
       "    <th>0.843728</th>\n",
       "    <th>00:43</th>\n",
       "  </tr>\n",
       "  <tr>\n",
       "    <th>4</th>\n",
       "    <th>0.147075</th>\n",
       "    <th>0.139581</th>\n",
       "    <th>0.053521</th>\n",
       "    <th>0.946237</th>\n",
       "    <th>0.875647</th>\n",
       "    <th>00:43</th>\n",
       "  </tr>\n",
       "</table>\n"
      ],
      "text/plain": [
       "<IPython.core.display.HTML object>"
      ]
     },
     "metadata": {},
     "output_type": "display_data"
    },
    {
     "name": "stdout",
     "output_type": "stream",
     "text": [
      "Better model found at epoch 0 with val_loss value: 0.21007630228996277.\n",
      "Better model found at epoch 3 with val_loss value: 0.1863294392824173.\n",
      "Better model found at epoch 4 with val_loss value: 0.1395806074142456.\n"
     ]
    },
    {
     "data": {
      "text/html": [
       "Total time: 07:16 <p><table style='width:525px; margin-bottom:10px'>\n",
       "  <tr>\n",
       "    <th>epoch</th>\n",
       "    <th>train_loss</th>\n",
       "    <th>valid_loss</th>\n",
       "    <th>error_rate</th>\n",
       "    <th>f1_weighted</th>\n",
       "    <th>mcc</th>\n",
       "    <th>time</th>\n",
       "  </tr>\n",
       "  <tr>\n",
       "    <th>0</th>\n",
       "    <th>0.144757</th>\n",
       "    <th>0.143202</th>\n",
       "    <th>0.055399</th>\n",
       "    <th>0.944444</th>\n",
       "    <th>0.871533</th>\n",
       "    <th>00:41</th>\n",
       "  </tr>\n",
       "  <tr>\n",
       "    <th>1</th>\n",
       "    <th>0.161585</th>\n",
       "    <th>0.148324</th>\n",
       "    <th>0.057277</th>\n",
       "    <th>0.942700</th>\n",
       "    <th>0.867707</th>\n",
       "    <th>00:45</th>\n",
       "  </tr>\n",
       "  <tr>\n",
       "    <th>2</th>\n",
       "    <th>0.160265</th>\n",
       "    <th>0.155618</th>\n",
       "    <th>0.057277</th>\n",
       "    <th>0.943127</th>\n",
       "    <th>0.870485</th>\n",
       "    <th>00:45</th>\n",
       "  </tr>\n",
       "  <tr>\n",
       "    <th>3</th>\n",
       "    <th>0.155733</th>\n",
       "    <th>0.153532</th>\n",
       "    <th>0.049765</th>\n",
       "    <th>0.950407</th>\n",
       "    <th>0.886125</th>\n",
       "    <th>00:40</th>\n",
       "  </tr>\n",
       "  <tr>\n",
       "    <th>4</th>\n",
       "    <th>0.138970</th>\n",
       "    <th>0.164983</th>\n",
       "    <th>0.056338</th>\n",
       "    <th>0.942349</th>\n",
       "    <th>0.870175</th>\n",
       "    <th>00:46</th>\n",
       "  </tr>\n",
       "  <tr>\n",
       "    <th>5</th>\n",
       "    <th>0.125898</th>\n",
       "    <th>0.165138</th>\n",
       "    <th>0.062911</th>\n",
       "    <th>0.937489</th>\n",
       "    <th>0.857302</th>\n",
       "    <th>00:49</th>\n",
       "  </tr>\n",
       "  <tr>\n",
       "    <th>6</th>\n",
       "    <th>0.112679</th>\n",
       "    <th>0.138441</th>\n",
       "    <th>0.053521</th>\n",
       "    <th>0.946742</th>\n",
       "    <th>0.878078</th>\n",
       "    <th>00:50</th>\n",
       "  </tr>\n",
       "  <tr>\n",
       "    <th>7</th>\n",
       "    <th>0.106739</th>\n",
       "    <th>0.127999</th>\n",
       "    <th>0.047887</th>\n",
       "    <th>0.952348</th>\n",
       "    <th>0.890953</th>\n",
       "    <th>00:39</th>\n",
       "  </tr>\n",
       "  <tr>\n",
       "    <th>8</th>\n",
       "    <th>0.084717</th>\n",
       "    <th>0.113543</th>\n",
       "    <th>0.040376</th>\n",
       "    <th>0.959608</th>\n",
       "    <th>0.906745</th>\n",
       "    <th>00:31</th>\n",
       "  </tr>\n",
       "  <tr>\n",
       "    <th>9</th>\n",
       "    <th>0.090900</th>\n",
       "    <th>0.118803</th>\n",
       "    <th>0.039437</th>\n",
       "    <th>0.960594</th>\n",
       "    <th>0.909136</th>\n",
       "    <th>00:44</th>\n",
       "  </tr>\n",
       "</table>\n"
      ],
      "text/plain": [
       "<IPython.core.display.HTML object>"
      ]
     },
     "metadata": {},
     "output_type": "display_data"
    },
    {
     "name": "stdout",
     "output_type": "stream",
     "text": [
      "Better model found at epoch 0 with val_loss value: 0.14320197701454163.\n",
      "Better model found at epoch 6 with val_loss value: 0.1384405791759491.\n",
      "Better model found at epoch 7 with val_loss value: 0.12799926102161407.\n",
      "Better model found at epoch 8 with val_loss value: 0.11354298889636993.\n"
     ]
    }
   ],
   "source": [
    "learn.freeze()\n",
    "lr = 1e-2\n",
    "learn.fit_one_cycle(5, lr)\n",
    "\n",
    "learn.unfreeze()\n",
    "learn.fit_one_cycle(10, slice(1e-5,lr/5))"
   ]
  },
  {
   "cell_type": "code",
   "execution_count": 42,
   "metadata": {},
   "outputs": [
    {
     "data": {
      "text/html": [
       "Total time: 00:41 <p>"
      ],
      "text/plain": [
       "<IPython.core.display.HTML object>"
      ]
     },
     "metadata": {},
     "output_type": "display_data"
    },
    {
     "data": {
      "text/plain": [
       "0.8319007775235077"
      ]
     },
     "execution_count": 42,
     "metadata": {},
     "output_type": "execute_result"
    }
   ],
   "source": [
    "y_pred, y_test_tta = learn.TTA(ds_type=DatasetType.Test, scale=1.)#, beta=0.4, scale=1.3\n",
    "y_pred = to_np(y_pred)\n",
    "\n",
    "submission = [0 for i in range(y_pred.shape[0])]\n",
    "\n",
    "for fn, y in zip(learn.data.test_dl.items, np.argmax(y_pred[:, [1,0]], axis=1)):\n",
    "    index = int(fn.name.replace(\".bmp\", '')) - 1\n",
    "    submission[index] = y\n",
    "    \n",
    "f1_score(gt_labels, submission, average='weighted')"
   ]
  },
  {
   "cell_type": "code",
   "execution_count": 43,
   "metadata": {},
   "outputs": [
    {
     "data": {
      "text/html": [
       "Total time: 06:45 <p><table style='width:525px; margin-bottom:10px'>\n",
       "  <tr>\n",
       "    <th>epoch</th>\n",
       "    <th>train_loss</th>\n",
       "    <th>valid_loss</th>\n",
       "    <th>error_rate</th>\n",
       "    <th>f1_weighted</th>\n",
       "    <th>mcc</th>\n",
       "    <th>time</th>\n",
       "  </tr>\n",
       "  <tr>\n",
       "    <th>0</th>\n",
       "    <th>0.193258</th>\n",
       "    <th>0.467333</th>\n",
       "    <th>0.184038</th>\n",
       "    <th>0.789758</th>\n",
       "    <th>0.574010</th>\n",
       "    <th>01:19</th>\n",
       "  </tr>\n",
       "  <tr>\n",
       "    <th>1</th>\n",
       "    <th>0.211390</th>\n",
       "    <th>0.425641</th>\n",
       "    <th>0.205634</th>\n",
       "    <th>0.799919</th>\n",
       "    <th>0.570227</th>\n",
       "    <th>01:21</th>\n",
       "  </tr>\n",
       "  <tr>\n",
       "    <th>2</th>\n",
       "    <th>0.175473</th>\n",
       "    <th>0.202042</th>\n",
       "    <th>0.072300</th>\n",
       "    <th>0.926053</th>\n",
       "    <th>0.831494</th>\n",
       "    <th>01:20</th>\n",
       "  </tr>\n",
       "  <tr>\n",
       "    <th>3</th>\n",
       "    <th>0.140331</th>\n",
       "    <th>0.131320</th>\n",
       "    <th>0.055399</th>\n",
       "    <th>0.944005</th>\n",
       "    <th>0.870894</th>\n",
       "    <th>01:22</th>\n",
       "  </tr>\n",
       "  <tr>\n",
       "    <th>4</th>\n",
       "    <th>0.114972</th>\n",
       "    <th>0.094662</th>\n",
       "    <th>0.033803</th>\n",
       "    <th>0.966143</th>\n",
       "    <th>0.921773</th>\n",
       "    <th>01:20</th>\n",
       "  </tr>\n",
       "</table>\n"
      ],
      "text/plain": [
       "<IPython.core.display.HTML object>"
      ]
     },
     "metadata": {},
     "output_type": "display_data"
    },
    {
     "name": "stdout",
     "output_type": "stream",
     "text": [
      "Better model found at epoch 0 with val_loss value: 0.467333048582077.\n",
      "Better model found at epoch 1 with val_loss value: 0.42564108967781067.\n",
      "Better model found at epoch 2 with val_loss value: 0.20204240083694458.\n",
      "Better model found at epoch 3 with val_loss value: 0.13132040202617645.\n",
      "Better model found at epoch 4 with val_loss value: 0.09466152638196945.\n"
     ]
    },
    {
     "data": {
      "text/html": [
       "Total time: 14:08 <p><table style='width:525px; margin-bottom:10px'>\n",
       "  <tr>\n",
       "    <th>epoch</th>\n",
       "    <th>train_loss</th>\n",
       "    <th>valid_loss</th>\n",
       "    <th>error_rate</th>\n",
       "    <th>f1_weighted</th>\n",
       "    <th>mcc</th>\n",
       "    <th>time</th>\n",
       "  </tr>\n",
       "  <tr>\n",
       "    <th>0</th>\n",
       "    <th>0.128158</th>\n",
       "    <th>0.097994</th>\n",
       "    <th>0.031925</th>\n",
       "    <th>0.968050</th>\n",
       "    <th>0.926212</th>\n",
       "    <th>01:24</th>\n",
       "  </tr>\n",
       "  <tr>\n",
       "    <th>1</th>\n",
       "    <th>0.123745</th>\n",
       "    <th>0.134486</th>\n",
       "    <th>0.048826</th>\n",
       "    <th>0.951501</th>\n",
       "    <th>0.889555</th>\n",
       "    <th>01:25</th>\n",
       "  </tr>\n",
       "  <tr>\n",
       "    <th>2</th>\n",
       "    <th>0.141623</th>\n",
       "    <th>0.132505</th>\n",
       "    <th>0.050704</th>\n",
       "    <th>0.949131</th>\n",
       "    <th>0.882368</th>\n",
       "    <th>01:23</th>\n",
       "  </tr>\n",
       "  <tr>\n",
       "    <th>3</th>\n",
       "    <th>0.140137</th>\n",
       "    <th>0.166885</th>\n",
       "    <th>0.061972</th>\n",
       "    <th>0.938883</th>\n",
       "    <th>0.864421</th>\n",
       "    <th>01:25</th>\n",
       "  </tr>\n",
       "  <tr>\n",
       "    <th>4</th>\n",
       "    <th>0.125439</th>\n",
       "    <th>0.124252</th>\n",
       "    <th>0.043192</th>\n",
       "    <th>0.956973</th>\n",
       "    <th>0.901307</th>\n",
       "    <th>01:22</th>\n",
       "  </tr>\n",
       "  <tr>\n",
       "    <th>5</th>\n",
       "    <th>0.115962</th>\n",
       "    <th>0.088244</th>\n",
       "    <th>0.031925</th>\n",
       "    <th>0.968075</th>\n",
       "    <th>0.926320</th>\n",
       "    <th>01:23</th>\n",
       "  </tr>\n",
       "  <tr>\n",
       "    <th>6</th>\n",
       "    <th>0.084442</th>\n",
       "    <th>0.081775</th>\n",
       "    <th>0.033803</th>\n",
       "    <th>0.966250</th>\n",
       "    <th>0.922267</th>\n",
       "    <th>01:21</th>\n",
       "  </tr>\n",
       "  <tr>\n",
       "    <th>7</th>\n",
       "    <th>0.084105</th>\n",
       "    <th>0.083198</th>\n",
       "    <th>0.027230</th>\n",
       "    <th>0.972802</th>\n",
       "    <th>0.937324</th>\n",
       "    <th>01:26</th>\n",
       "  </tr>\n",
       "  <tr>\n",
       "    <th>8</th>\n",
       "    <th>0.085765</th>\n",
       "    <th>0.070628</th>\n",
       "    <th>0.025352</th>\n",
       "    <th>0.974658</th>\n",
       "    <th>0.941538</th>\n",
       "    <th>01:26</th>\n",
       "  </tr>\n",
       "  <tr>\n",
       "    <th>9</th>\n",
       "    <th>0.068428</th>\n",
       "    <th>0.071783</th>\n",
       "    <th>0.025352</th>\n",
       "    <th>0.974678</th>\n",
       "    <th>0.941648</th>\n",
       "    <th>01:26</th>\n",
       "  </tr>\n",
       "</table>\n"
      ],
      "text/plain": [
       "<IPython.core.display.HTML object>"
      ]
     },
     "metadata": {},
     "output_type": "display_data"
    },
    {
     "name": "stdout",
     "output_type": "stream",
     "text": [
      "Better model found at epoch 0 with val_loss value: 0.09799405932426453.\n",
      "Better model found at epoch 5 with val_loss value: 0.0882440134882927.\n",
      "Better model found at epoch 6 with val_loss value: 0.0817754790186882.\n",
      "Better model found at epoch 8 with val_loss value: 0.07062783092260361.\n"
     ]
    }
   ],
   "source": [
    "size = 384\n",
    "bs = 32\n",
    "learn.data = get_data(bs, size)\n",
    "\n",
    "learn.freeze()\n",
    "lr = 1e-2\n",
    "learn.fit_one_cycle(5, lr)\n",
    "\n",
    "learn.unfreeze()\n",
    "learn.fit_one_cycle(10, slice(1e-5,lr/5))"
   ]
  },
  {
   "cell_type": "code",
   "execution_count": 44,
   "metadata": {},
   "outputs": [
    {
     "data": {
      "text/html": [
       "Total time: 02:04 <p>"
      ],
      "text/plain": [
       "<IPython.core.display.HTML object>"
      ]
     },
     "metadata": {},
     "output_type": "display_data"
    },
    {
     "data": {
      "text/plain": [
       "0.8276056258495332"
      ]
     },
     "execution_count": 44,
     "metadata": {},
     "output_type": "execute_result"
    }
   ],
   "source": [
    "y_pred, y_test_tta = learn.TTA(ds_type=DatasetType.Test, scale=1.)#, beta=0.4, scale=1.3\n",
    "y_pred = to_np(y_pred)\n",
    "\n",
    "submission = [0 for i in range(y_pred.shape[0])]\n",
    "\n",
    "for fn, y in zip(learn.data.test_dl.items, np.argmax(y_pred[:, [1,0]], axis=1)):\n",
    "    index = int(fn.name.replace(\".bmp\", '')) - 1\n",
    "    submission[index] = y\n",
    "    \n",
    "f1_score(gt_labels, submission, average='weighted')"
   ]
  },
  {
   "cell_type": "code",
   "execution_count": 45,
   "metadata": {},
   "outputs": [
    {
     "data": {
      "text/html": [
       "Total time: 08:43 <p><table style='width:525px; margin-bottom:10px'>\n",
       "  <tr>\n",
       "    <th>epoch</th>\n",
       "    <th>train_loss</th>\n",
       "    <th>valid_loss</th>\n",
       "    <th>error_rate</th>\n",
       "    <th>f1_weighted</th>\n",
       "    <th>mcc</th>\n",
       "    <th>time</th>\n",
       "  </tr>\n",
       "  <tr>\n",
       "    <th>0</th>\n",
       "    <th>0.274634</th>\n",
       "    <th>56.262306</th>\n",
       "    <th>0.203756</th>\n",
       "    <th>0.799464</th>\n",
       "    <th>0.549272</th>\n",
       "    <th>01:46</th>\n",
       "  </tr>\n",
       "  <tr>\n",
       "    <th>1</th>\n",
       "    <th>0.268295</th>\n",
       "    <th>0.361244</th>\n",
       "    <th>0.133333</th>\n",
       "    <th>0.866560</th>\n",
       "    <th>0.691798</th>\n",
       "    <th>01:44</th>\n",
       "  </tr>\n",
       "  <tr>\n",
       "    <th>2</th>\n",
       "    <th>0.245222</th>\n",
       "    <th>0.409132</th>\n",
       "    <th>0.088263</th>\n",
       "    <th>0.910664</th>\n",
       "    <th>0.793209</th>\n",
       "    <th>01:44</th>\n",
       "  </tr>\n",
       "  <tr>\n",
       "    <th>3</th>\n",
       "    <th>0.170512</th>\n",
       "    <th>0.185284</th>\n",
       "    <th>0.069484</th>\n",
       "    <th>0.928589</th>\n",
       "    <th>0.839236</th>\n",
       "    <th>01:44</th>\n",
       "  </tr>\n",
       "  <tr>\n",
       "    <th>4</th>\n",
       "    <th>0.148739</th>\n",
       "    <th>0.148212</th>\n",
       "    <th>0.046948</th>\n",
       "    <th>0.952345</th>\n",
       "    <th>0.891209</th>\n",
       "    <th>01:44</th>\n",
       "  </tr>\n",
       "</table>\n"
      ],
      "text/plain": [
       "<IPython.core.display.HTML object>"
      ]
     },
     "metadata": {},
     "output_type": "display_data"
    },
    {
     "name": "stdout",
     "output_type": "stream",
     "text": [
      "Better model found at epoch 0 with val_loss value: 56.262306213378906.\n",
      "Better model found at epoch 1 with val_loss value: 0.3612443804740906.\n",
      "Better model found at epoch 3 with val_loss value: 0.1852840632200241.\n",
      "Better model found at epoch 4 with val_loss value: 0.14821158349514008.\n"
     ]
    },
    {
     "data": {
      "text/html": [
       "Total time: 20:10 <p><table style='width:525px; margin-bottom:10px'>\n",
       "  <tr>\n",
       "    <th>epoch</th>\n",
       "    <th>train_loss</th>\n",
       "    <th>valid_loss</th>\n",
       "    <th>error_rate</th>\n",
       "    <th>f1_weighted</th>\n",
       "    <th>mcc</th>\n",
       "    <th>time</th>\n",
       "  </tr>\n",
       "  <tr>\n",
       "    <th>0</th>\n",
       "    <th>0.150865</th>\n",
       "    <th>0.123339</th>\n",
       "    <th>0.050704</th>\n",
       "    <th>0.948380</th>\n",
       "    <th>0.882697</th>\n",
       "    <th>02:02</th>\n",
       "  </tr>\n",
       "  <tr>\n",
       "    <th>1</th>\n",
       "    <th>0.147849</th>\n",
       "    <th>0.252645</th>\n",
       "    <th>0.060094</th>\n",
       "    <th>0.938307</th>\n",
       "    <th>0.861853</th>\n",
       "    <th>02:01</th>\n",
       "  </tr>\n",
       "  <tr>\n",
       "    <th>2</th>\n",
       "    <th>0.151301</th>\n",
       "    <th>0.160575</th>\n",
       "    <th>0.055399</th>\n",
       "    <th>0.943457</th>\n",
       "    <th>0.871891</th>\n",
       "    <th>02:00</th>\n",
       "  </tr>\n",
       "  <tr>\n",
       "    <th>3</th>\n",
       "    <th>0.239783</th>\n",
       "    <th>0.228781</th>\n",
       "    <th>0.071362</th>\n",
       "    <th>0.928346</th>\n",
       "    <th>0.834189</th>\n",
       "    <th>01:59</th>\n",
       "  </tr>\n",
       "  <tr>\n",
       "    <th>4</th>\n",
       "    <th>0.156537</th>\n",
       "    <th>0.120652</th>\n",
       "    <th>0.041315</th>\n",
       "    <th>0.958336</th>\n",
       "    <th>0.903993</th>\n",
       "    <th>02:02</th>\n",
       "  </tr>\n",
       "  <tr>\n",
       "    <th>5</th>\n",
       "    <th>0.150757</th>\n",
       "    <th>0.141288</th>\n",
       "    <th>0.044131</th>\n",
       "    <th>0.955353</th>\n",
       "    <th>0.897530</th>\n",
       "    <th>02:02</th>\n",
       "  </tr>\n",
       "  <tr>\n",
       "    <th>6</th>\n",
       "    <th>0.152627</th>\n",
       "    <th>0.132429</th>\n",
       "    <th>0.050704</th>\n",
       "    <th>0.948328</th>\n",
       "    <th>0.882877</th>\n",
       "    <th>02:00</th>\n",
       "  </tr>\n",
       "  <tr>\n",
       "    <th>7</th>\n",
       "    <th>0.100508</th>\n",
       "    <th>0.117719</th>\n",
       "    <th>0.037559</th>\n",
       "    <th>0.962020</th>\n",
       "    <th>0.913009</th>\n",
       "    <th>01:59</th>\n",
       "  </tr>\n",
       "  <tr>\n",
       "    <th>8</th>\n",
       "    <th>0.106819</th>\n",
       "    <th>0.106255</th>\n",
       "    <th>0.033803</th>\n",
       "    <th>0.965911</th>\n",
       "    <th>0.921626</th>\n",
       "    <th>01:59</th>\n",
       "  </tr>\n",
       "  <tr>\n",
       "    <th>9</th>\n",
       "    <th>0.100673</th>\n",
       "    <th>0.102616</th>\n",
       "    <th>0.032864</th>\n",
       "    <th>0.966902</th>\n",
       "    <th>0.923763</th>\n",
       "    <th>02:00</th>\n",
       "  </tr>\n",
       "</table>\n"
      ],
      "text/plain": [
       "<IPython.core.display.HTML object>"
      ]
     },
     "metadata": {},
     "output_type": "display_data"
    },
    {
     "name": "stdout",
     "output_type": "stream",
     "text": [
      "Better model found at epoch 0 with val_loss value: 0.12333854287862778.\n",
      "Better model found at epoch 4 with val_loss value: 0.12065206468105316.\n",
      "Better model found at epoch 7 with val_loss value: 0.117718905210495.\n",
      "Better model found at epoch 8 with val_loss value: 0.10625522583723068.\n",
      "Better model found at epoch 9 with val_loss value: 0.10261551290750504.\n"
     ]
    }
   ],
   "source": [
    "size = 450\n",
    "bs = 16\n",
    "learn.data = get_data(bs, size)\n",
    "\n",
    "learn.freeze()\n",
    "lr = 1e-2\n",
    "learn.fit_one_cycle(5, lr)\n",
    "\n",
    "learn.unfreeze()\n",
    "learn.fit_one_cycle(10, slice(1e-5,lr/5))"
   ]
  },
  {
   "cell_type": "code",
   "execution_count": 46,
   "metadata": {},
   "outputs": [
    {
     "data": {
      "text/html": [
       "Total time: 02:25 <p>"
      ],
      "text/plain": [
       "<IPython.core.display.HTML object>"
      ]
     },
     "metadata": {},
     "output_type": "display_data"
    }
   ],
   "source": [
    "y_pred, y_test_tta = learn.TTA(ds_type=DatasetType.Test, scale=1.)#, beta=0.4, scale=1.3\n",
    "y_pred = to_np(y_pred)"
   ]
  },
  {
   "cell_type": "code",
   "execution_count": 47,
   "metadata": {},
   "outputs": [
    {
     "data": {
      "text/plain": [
       "0.7919132298033592"
      ]
     },
     "execution_count": 47,
     "metadata": {},
     "output_type": "execute_result"
    }
   ],
   "source": [
    "submission = [0 for i in range(y_pred.shape[0])]\n",
    "\n",
    "for fn, y in zip(learn.data.test_dl.items, np.argmax(y_pred[:, [1,0]], axis=1)):\n",
    "    index = int(fn.name.replace(\".bmp\", '')) - 1\n",
    "    submission[index] = y\n",
    "    \n",
    "f1_score(gt_labels, submission, average='weighted')"
   ]
  }
 ],
 "metadata": {
  "kernelspec": {
   "display_name": "Python 3",
   "language": "python",
   "name": "python3"
  },
  "language_info": {
   "codemirror_mode": {
    "name": "ipython",
    "version": 3
   },
   "file_extension": ".py",
   "mimetype": "text/x-python",
   "name": "python",
   "nbconvert_exporter": "python",
   "pygments_lexer": "ipython3",
   "version": "3.6.7"
  }
 },
 "nbformat": 4,
 "nbformat_minor": 1
}
