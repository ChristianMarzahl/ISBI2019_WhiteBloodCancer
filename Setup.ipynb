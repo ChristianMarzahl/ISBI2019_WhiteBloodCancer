{
 "cells": [
  {
   "cell_type": "code",
   "execution_count": 1,
   "metadata": {},
   "outputs": [],
   "source": [
    "%reload_ext autoreload\n",
    "%autoreload 2\n",
    "%matplotlib inline"
   ]
  },
  {
   "cell_type": "code",
   "execution_count": 2,
   "metadata": {},
   "outputs": [],
   "source": [
    "from fastai import *\n",
    "from fastai.vision import *"
   ]
  },
  {
   "cell_type": "code",
   "execution_count": 4,
   "metadata": {},
   "outputs": [
    {
     "name": "stdout",
     "output_type": "stream",
     "text": [
      "\n",
      "\n",
      "```text\n",
      "=== Software === \n",
      "python        : 3.6.7\n",
      "fastai        : 1.0.40.dev0\n",
      "fastprogress  : 0.1.18\n",
      "torch         : 1.0.0.dev20181109\n",
      "nvidia driver : 384.130\n",
      "torch cuda    : 9.0.176 / is available\n",
      "torch cudnn   : 7102 / is enabled\n",
      "\n",
      "=== Hardware === \n",
      "nvidia gpus   : 2\n",
      "torch devices : 1\n",
      "  - gpu0      : 16269MB | Quadro P5000\n",
      "\n",
      "=== Environment === \n",
      "platform      : Linux-4.15.0-36-generic-x86_64-with-debian-stretch-sid\n",
      "distro        : #39~16.04.1-Ubuntu SMP Tue Sep 25 08:59:23 UTC 2018\n",
      "conda env     : Unknown\n",
      "python        : /home/c.marzahl@de.eu.local/anaconda3/envs/fastai/bin/python\n",
      "sys.path      : \n",
      "/home/c.marzahl@de.eu.local/ProgProjekte/Promotion/ISBI2019_WhiteBloodCancer\n",
      "/home/c.marzahl@de.eu.local/anaconda3/envs/fastai/lib/python36.zip\n",
      "/home/c.marzahl@de.eu.local/anaconda3/envs/fastai/lib/python3.6\n",
      "/home/c.marzahl@de.eu.local/anaconda3/envs/fastai/lib/python3.6/lib-dynload\n",
      "/home/c.marzahl@de.eu.local/anaconda3/envs/fastai/lib/python3.6/site-packages\n",
      "/home/c.marzahl@de.eu.local/anaconda3/envs/fastai/lib/python3.6/site-packages/defusedxml-0.5.0-py3.6.egg\n",
      "/home/c.marzahl@de.eu.local/ProgProjekte/fastai_v1/fastai\n",
      "/home/c.marzahl@de.eu.local/.local/share/umake/ide/pycharm-professional/helpers/pycharm_matplotlib_backend\n",
      "/home/c.marzahl@de.eu.local/anaconda3/envs/fastai/lib/python3.6/site-packages/IPython/extensions\n",
      "/home/c.marzahl@de.eu.local/.ipython\n",
      "```\n",
      "\n",
      "Please make sure to include opening/closing ``` when you paste into forums/github to make the reports appear formatted as code sections.\n",
      "\n",
      "Optional package(s) to enhance the diagnostics can be installed with:\n",
      "pip install distro\n",
      "Once installed, re-run this utility to get the additional information\n"
     ]
    }
   ],
   "source": [
    "from fastai.utils.collect_env import *\n",
    "show_install()"
   ]
  },
  {
   "cell_type": "code",
   "execution_count": null,
   "metadata": {},
   "outputs": [],
   "source": []
  }
 ],
 "metadata": {
  "kernelspec": {
   "display_name": "Python 3",
   "language": "python",
   "name": "python3"
  },
  "language_info": {
   "codemirror_mode": {
    "name": "ipython",
    "version": 3
   },
   "file_extension": ".py",
   "mimetype": "text/x-python",
   "name": "python",
   "nbconvert_exporter": "python",
   "pygments_lexer": "ipython3",
   "version": "3.6.7"
  }
 },
 "nbformat": 4,
 "nbformat_minor": 2
}
