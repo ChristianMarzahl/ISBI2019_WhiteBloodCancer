{
 "cells": [
  {
   "cell_type": "code",
   "execution_count": 1,
   "metadata": {},
   "outputs": [],
   "source": [
    "%reload_ext autoreload\n",
    "%autoreload 2\n",
    "%matplotlib inline"
   ]
  },
  {
   "cell_type": "code",
   "execution_count": 2,
   "metadata": {},
   "outputs": [],
   "source": [
    "import os\n",
    "from pathlib import Path\n",
    "from tqdm import tqdm\n",
    "import matplotlib.pyplot as plt\n",
    "import random"
   ]
  },
  {
   "cell_type": "code",
   "execution_count": 3,
   "metadata": {},
   "outputs": [],
   "source": [
    "import cv2\n",
    "from fastai import *\n",
    "from fastai.vision import *\n",
    "from fastai.callbacks import *"
   ]
  },
  {
   "cell_type": "code",
   "execution_count": 4,
   "metadata": {},
   "outputs": [],
   "source": [
    "from dataset_spliter import SplitByPatient\n",
    "from metrics import *#F1Weighted, MCC\n",
    "from losses import *"
   ]
  },
  {
   "cell_type": "code",
   "execution_count": 5,
   "metadata": {},
   "outputs": [],
   "source": [
    "path = Path('/data/Datasets/WhiteBloodCancer/train/')"
   ]
  },
  {
   "cell_type": "code",
   "execution_count": 6,
   "metadata": {},
   "outputs": [],
   "source": [
    "np.random.seed(42)"
   ]
  },
  {
   "cell_type": "code",
   "execution_count": 7,
   "metadata": {},
   "outputs": [
    {
     "data": {
      "text/plain": [
       "[PosixPath('/data/Datasets/WhiteBloodCancer/train/fold_1/hem/UID_H10_43_1_hem.bmp'),\n",
       " PosixPath('/data/Datasets/WhiteBloodCancer/train/fold_1/hem/UID_H22_31_15_hem.bmp'),\n",
       " PosixPath('/data/Datasets/WhiteBloodCancer/train/fold_1/hem/UID_H14_9_11_hem.bmp'),\n",
       " PosixPath('/data/Datasets/WhiteBloodCancer/train/fold_1/hem/UID_H14_28_6_hem.bmp'),\n",
       " PosixPath('/data/Datasets/WhiteBloodCancer/train/fold_1/hem/UID_H10_189_1_hem.bmp')]"
      ]
     },
     "execution_count": 7,
     "metadata": {},
     "output_type": "execute_result"
    }
   ],
   "source": [
    "fnames = get_image_files(path, recurse=True)\n",
    "fnames[:5]"
   ]
  },
  {
   "cell_type": "code",
   "execution_count": 8,
   "metadata": {},
   "outputs": [],
   "source": [
    "hem_regex = re.compile(r'UID_(H[0-9]+)_', re.IGNORECASE)\n",
    "all_regex = re.compile(r'UID_([0-9]+)_', re.IGNORECASE)"
   ]
  },
  {
   "cell_type": "code",
   "execution_count": 9,
   "metadata": {},
   "outputs": [
    {
     "name": "stdout",
     "output_type": "stream",
     "text": [
      "\n"
     ]
    }
   ],
   "source": [
    "hem_patient_ids = list(set([hem_regex.search(str(fn)).group(1)\n",
    "                            for fn in fnames if hem_regex.search(str(fn)) is not None]))\n",
    "all_patint_ids = list(set([all_regex.search(str(fn)).group(1)\n",
    "                           for fn in fnames if all_regex.search(str(fn)) is not None]))\n",
    "\n",
    "hem_patients = dict((k,[]) for k in hem_patient_ids)\n",
    "all_patints = dict((k,[]) for k in all_patint_ids)\n",
    "\n",
    "[all_patints[key].append(fn) for key in all_patints.keys() for fn in fnames if 'UID_{0}_'.format(key) in str(fn)]\n",
    "[hem_patients[key].append(fn) for key in hem_patients.keys() for fn in fnames if 'UID_{0}_'.format(key) in str(fn)]\n",
    "print()"
   ]
  },
  {
   "cell_type": "markdown",
   "metadata": {},
   "source": [
    "## Split data into train val "
   ]
  },
  {
   "cell_type": "code",
   "execution_count": 10,
   "metadata": {},
   "outputs": [],
   "source": [
    "split_handler = SplitByPatient(hem_patients, all_patints)"
   ]
  },
  {
   "cell_type": "markdown",
   "metadata": {},
   "source": [
    "### Split by regex"
   ]
  },
  {
   "cell_type": "code",
   "execution_count": 11,
   "metadata": {},
   "outputs": [],
   "source": [
    "train_regex = re.compile(r'(fold_0|fold_1|fold_2)')\n",
    "val_regex = re.compile(r'(fold_3)')\n",
    "\n",
    "hem_train, all_train, hem_val, all_val = split_handler.split_by_regex(train_regex, val_regex)"
   ]
  },
  {
   "cell_type": "code",
   "execution_count": 12,
   "metadata": {},
   "outputs": [
    {
     "name": "stdout",
     "output_type": "stream",
     "text": [
      "Train Total: 10661\n",
      "Val Total: 1867\n",
      "\n",
      "Hem train: 3389\n",
      "All train: 7272\n",
      "Hem val: 648\n",
      "All val: 1219\n"
     ]
    }
   ],
   "source": [
    "print('Train Total: {0}'.format(len(hem_train)+len(all_train)))\n",
    "print('Val Total: {0}'.format(len(hem_val)+len(all_val)))\n",
    "print(\"\")\n",
    "print('Hem train: {}'.format(len(hem_train)))\n",
    "print('All train: {}'.format(len(all_train)))\n",
    "print('Hem val: {}'.format(len(hem_val)))\n",
    "print('All val: {}'.format(len(all_val)))"
   ]
  },
  {
   "cell_type": "code",
   "execution_count": 13,
   "metadata": {},
   "outputs": [],
   "source": [
    "pat = re.compile(r'^.*(hem|all).bmp$')\n",
    "\n",
    "def get_label(fn):\n",
    "    return pat.search(str(fn)).group(1)"
   ]
  },
  {
   "cell_type": "markdown",
   "metadata": {},
   "source": [
    "### Use complete image"
   ]
  },
  {
   "cell_type": "code",
   "execution_count": 14,
   "metadata": {},
   "outputs": [],
   "source": [
    "train = ImageList(hem_train + all_train) #optinal scale up classes \n",
    "valid = ImageList(hem_val + all_val)"
   ]
  },
  {
   "cell_type": "code",
   "execution_count": 15,
   "metadata": {},
   "outputs": [],
   "source": [
    "item_list = ItemLists(path, train, valid)\n",
    "lls = item_list.label_from_func(get_label).add_test_folder('../test')"
   ]
  },
  {
   "cell_type": "markdown",
   "metadata": {},
   "source": [
    "#### Data augmentation"
   ]
  },
  {
   "cell_type": "code",
   "execution_count": 16,
   "metadata": {},
   "outputs": [],
   "source": [
    "xtra_tfms=[cutout(n_holes=5, length=0.2)]#squish(scale=0.66), \n",
    "tfms = get_transforms(do_flip=True, \n",
    "                      flip_vert=True, \n",
    "                      #max_rotate=90,  \n",
    "                      max_lighting=0.05, \n",
    "                      max_zoom=1.0, \n",
    "                      max_warp=0.0,\n",
    "                      #p_affine=0.75,\n",
    "                      #p_lighting=0.75,  \n",
    "                      #xtra_tfms=xtra_tfms,\n",
    "                     )"
   ]
  },
  {
   "cell_type": "markdown",
   "metadata": {},
   "source": [
    "#### Create dataset "
   ]
  },
  {
   "cell_type": "code",
   "execution_count": 17,
   "metadata": {},
   "outputs": [],
   "source": [
    "def get_data(bs, size):\n",
    "    data  = ImageDataBunch.create_from_ll(lls, size=size, bs=bs, \n",
    "                                      ds_tfms=tfms, padding_mode='zeros',\n",
    "                                      resize_method=ResizeMethod.PAD)\n",
    "    data = data.normalize()\n",
    "    #data = data.normalize((channel_mean, channel_std))\n",
    "    return data\n",
    "    "
   ]
  },
  {
   "cell_type": "code",
   "execution_count": 18,
   "metadata": {},
   "outputs": [
    {
     "name": "stderr",
     "output_type": "stream",
     "text": [
      "/home/c.marzahl@de.eu.local/ProgProjekte/fastai_v1/fastai/fastai/vision/learner.py:93: UserWarning: `create_cnn` is deprecated and is now named `cnn_learner`.\n",
      "  warn(\"`create_cnn` is deprecated and is now named `cnn_learner`.\")\n"
     ]
    }
   ],
   "source": [
    "size = 256\n",
    "bs = 96\n",
    "data = get_data(bs, size)\n",
    "\n",
    "experiment_name = \"baseline_rn50\"\n",
    "learn = create_cnn(data, models.resnet50, \n",
    "                       metrics=[error_rate, F1Weighted(), MCC()], #  \n",
    "                       #loss_func=FocalLoss(num_classes=1),\n",
    "                       #ps=0.75,\n",
    "                       #wd=0.1,\n",
    "                       loss_func = LabelSmoothingCrossEntropy(),\n",
    "                       callback_fns=[partial(SaveModelCallback, name='stage1-{}-{}'.format(experiment_name, size))],\n",
    "\n",
    "                  )#"
   ]
  },
  {
   "cell_type": "code",
   "execution_count": 19,
   "metadata": {},
   "outputs": [
    {
     "data": {
      "text/html": [
       "Total time: 07:01 <p><table style='width:525px; margin-bottom:10px'>\n",
       "  <tr>\n",
       "    <th>epoch</th>\n",
       "    <th>train_loss</th>\n",
       "    <th>valid_loss</th>\n",
       "    <th>error_rate</th>\n",
       "    <th>f1_weighted</th>\n",
       "    <th>mcc</th>\n",
       "    <th>time</th>\n",
       "  </tr>\n",
       "  <tr>\n",
       "    <th>0</th>\n",
       "    <th>0.543462</th>\n",
       "    <th>0.834194</th>\n",
       "    <th>0.321907</th>\n",
       "    <th>0.574571</th>\n",
       "    <th>0.210695</th>\n",
       "    <th>01:25</th>\n",
       "  </tr>\n",
       "  <tr>\n",
       "    <th>1</th>\n",
       "    <th>0.480572</th>\n",
       "    <th>0.776375</th>\n",
       "    <th>0.311194</th>\n",
       "    <th>0.594410</th>\n",
       "    <th>0.259257</th>\n",
       "    <th>01:22</th>\n",
       "  </tr>\n",
       "  <tr>\n",
       "    <th>2</th>\n",
       "    <th>0.451669</th>\n",
       "    <th>0.645867</th>\n",
       "    <th>0.243706</th>\n",
       "    <th>0.730098</th>\n",
       "    <th>0.433825</th>\n",
       "    <th>01:23</th>\n",
       "  </tr>\n",
       "  <tr>\n",
       "    <th>3</th>\n",
       "    <th>0.424776</th>\n",
       "    <th>0.739006</th>\n",
       "    <th>0.302625</th>\n",
       "    <th>0.629405</th>\n",
       "    <th>0.266211</th>\n",
       "    <th>01:23</th>\n",
       "  </tr>\n",
       "  <tr>\n",
       "    <th>4</th>\n",
       "    <th>0.408837</th>\n",
       "    <th>0.621898</th>\n",
       "    <th>0.248527</th>\n",
       "    <th>0.724103</th>\n",
       "    <th>0.420776</th>\n",
       "    <th>01:23</th>\n",
       "  </tr>\n",
       "</table>\n"
      ],
      "text/plain": [
       "<IPython.core.display.HTML object>"
      ]
     },
     "metadata": {},
     "output_type": "display_data"
    },
    {
     "name": "stdout",
     "output_type": "stream",
     "text": [
      "Better model found at epoch 0 with val_loss value: 0.834194004535675.\n",
      "Better model found at epoch 1 with val_loss value: 0.7763753533363342.\n",
      "Better model found at epoch 2 with val_loss value: 0.6458670496940613.\n",
      "Better model found at epoch 4 with val_loss value: 0.6218984723091125.\n"
     ]
    },
    {
     "data": {
      "text/html": [
       "Total time: 18:07 <p><table style='width:525px; margin-bottom:10px'>\n",
       "  <tr>\n",
       "    <th>epoch</th>\n",
       "    <th>train_loss</th>\n",
       "    <th>valid_loss</th>\n",
       "    <th>error_rate</th>\n",
       "    <th>f1_weighted</th>\n",
       "    <th>mcc</th>\n",
       "    <th>time</th>\n",
       "  </tr>\n",
       "  <tr>\n",
       "    <th>0</th>\n",
       "    <th>0.406568</th>\n",
       "    <th>0.647185</th>\n",
       "    <th>0.260846</th>\n",
       "    <th>0.694506</th>\n",
       "    <th>0.398081</th>\n",
       "    <th>01:48</th>\n",
       "  </tr>\n",
       "  <tr>\n",
       "    <th>1</th>\n",
       "    <th>0.415829</th>\n",
       "    <th>0.623851</th>\n",
       "    <th>0.247456</th>\n",
       "    <th>0.737868</th>\n",
       "    <th>0.424376</th>\n",
       "    <th>01:47</th>\n",
       "  </tr>\n",
       "  <tr>\n",
       "    <th>2</th>\n",
       "    <th>0.411498</th>\n",
       "    <th>0.616195</th>\n",
       "    <th>0.259239</th>\n",
       "    <th>0.721171</th>\n",
       "    <th>0.392133</th>\n",
       "    <th>01:46</th>\n",
       "  </tr>\n",
       "  <tr>\n",
       "    <th>3</th>\n",
       "    <th>0.405271</th>\n",
       "    <th>0.688333</th>\n",
       "    <th>0.299946</th>\n",
       "    <th>0.680384</th>\n",
       "    <th>0.290968</th>\n",
       "    <th>01:47</th>\n",
       "  </tr>\n",
       "  <tr>\n",
       "    <th>4</th>\n",
       "    <th>0.401826</th>\n",
       "    <th>0.607267</th>\n",
       "    <th>0.238350</th>\n",
       "    <th>0.738459</th>\n",
       "    <th>0.447181</th>\n",
       "    <th>01:48</th>\n",
       "  </tr>\n",
       "  <tr>\n",
       "    <th>5</th>\n",
       "    <th>0.400486</th>\n",
       "    <th>0.605336</th>\n",
       "    <th>0.230316</th>\n",
       "    <th>0.751881</th>\n",
       "    <th>0.466792</th>\n",
       "    <th>01:47</th>\n",
       "  </tr>\n",
       "  <tr>\n",
       "    <th>6</th>\n",
       "    <th>0.387401</th>\n",
       "    <th>0.532862</th>\n",
       "    <th>0.174612</th>\n",
       "    <th>0.815948</th>\n",
       "    <th>0.604796</th>\n",
       "    <th>01:48</th>\n",
       "  </tr>\n",
       "  <tr>\n",
       "    <th>7</th>\n",
       "    <th>0.379939</th>\n",
       "    <th>0.507958</th>\n",
       "    <th>0.155865</th>\n",
       "    <th>0.839254</th>\n",
       "    <th>0.647626</th>\n",
       "    <th>01:47</th>\n",
       "  </tr>\n",
       "  <tr>\n",
       "    <th>8</th>\n",
       "    <th>0.374523</th>\n",
       "    <th>0.532064</th>\n",
       "    <th>0.175683</th>\n",
       "    <th>0.817242</th>\n",
       "    <th>0.600824</th>\n",
       "    <th>01:46</th>\n",
       "  </tr>\n",
       "  <tr>\n",
       "    <th>9</th>\n",
       "    <th>0.370002</th>\n",
       "    <th>0.528605</th>\n",
       "    <th>0.177290</th>\n",
       "    <th>0.815512</th>\n",
       "    <th>0.596984</th>\n",
       "    <th>01:46</th>\n",
       "  </tr>\n",
       "</table>\n"
      ],
      "text/plain": [
       "<IPython.core.display.HTML object>"
      ]
     },
     "metadata": {},
     "output_type": "display_data"
    },
    {
     "name": "stdout",
     "output_type": "stream",
     "text": [
      "Better model found at epoch 0 with val_loss value: 0.6471847295761108.\n",
      "Better model found at epoch 1 with val_loss value: 0.6238506436347961.\n",
      "Better model found at epoch 2 with val_loss value: 0.6161949038505554.\n",
      "Better model found at epoch 4 with val_loss value: 0.607267439365387.\n",
      "Better model found at epoch 5 with val_loss value: 0.6053359508514404.\n",
      "Better model found at epoch 6 with val_loss value: 0.53286212682724.\n",
      "Better model found at epoch 7 with val_loss value: 0.5079582929611206.\n"
     ]
    }
   ],
   "source": [
    "learn.freeze()\n",
    "lr = 1e-2\n",
    "learn.fit_one_cycle(5, lr)\n",
    "\n",
    "learn.unfreeze()\n",
    "learn.fit_one_cycle(10, slice(1e-5,lr/5))"
   ]
  },
  {
   "cell_type": "code",
   "execution_count": 20,
   "metadata": {},
   "outputs": [],
   "source": [
    "#learn.export('baseline_rn50-1.pkl') "
   ]
  },
  {
   "cell_type": "code",
   "execution_count": 21,
   "metadata": {},
   "outputs": [
    {
     "data": {
      "text/html": [
       "Total time: 15:53 <p><table style='width:525px; margin-bottom:10px'>\n",
       "  <tr>\n",
       "    <th>epoch</th>\n",
       "    <th>train_loss</th>\n",
       "    <th>valid_loss</th>\n",
       "    <th>error_rate</th>\n",
       "    <th>f1_weighted</th>\n",
       "    <th>mcc</th>\n",
       "    <th>time</th>\n",
       "  </tr>\n",
       "  <tr>\n",
       "    <th>0</th>\n",
       "    <th>0.441024</th>\n",
       "    <th>0.731384</th>\n",
       "    <th>0.271023</th>\n",
       "    <th>0.671104</th>\n",
       "    <th>0.381027</th>\n",
       "    <th>03:14</th>\n",
       "  </tr>\n",
       "  <tr>\n",
       "    <th>1</th>\n",
       "    <th>0.450072</th>\n",
       "    <th>0.652584</th>\n",
       "    <th>0.292448</th>\n",
       "    <th>0.653001</th>\n",
       "    <th>0.296808</th>\n",
       "    <th>03:10</th>\n",
       "  </tr>\n",
       "  <tr>\n",
       "    <th>2</th>\n",
       "    <th>0.436639</th>\n",
       "    <th>0.577180</th>\n",
       "    <th>0.245849</th>\n",
       "    <th>0.726945</th>\n",
       "    <th>0.428315</th>\n",
       "    <th>03:10</th>\n",
       "  </tr>\n",
       "  <tr>\n",
       "    <th>3</th>\n",
       "    <th>0.404000</th>\n",
       "    <th>0.580802</th>\n",
       "    <th>0.209963</th>\n",
       "    <th>0.778532</th>\n",
       "    <th>0.517710</th>\n",
       "    <th>03:08</th>\n",
       "  </tr>\n",
       "  <tr>\n",
       "    <th>4</th>\n",
       "    <th>0.388377</th>\n",
       "    <th>0.513969</th>\n",
       "    <th>0.158543</th>\n",
       "    <th>0.833570</th>\n",
       "    <th>0.643379</th>\n",
       "    <th>03:08</th>\n",
       "  </tr>\n",
       "</table>\n"
      ],
      "text/plain": [
       "<IPython.core.display.HTML object>"
      ]
     },
     "metadata": {},
     "output_type": "display_data"
    },
    {
     "name": "stdout",
     "output_type": "stream",
     "text": [
      "Better model found at epoch 0 with val_loss value: 0.7313843369483948.\n",
      "Better model found at epoch 1 with val_loss value: 0.6525838971138.\n",
      "Better model found at epoch 2 with val_loss value: 0.5771800875663757.\n",
      "Better model found at epoch 4 with val_loss value: 0.5139691829681396.\n"
     ]
    },
    {
     "data": {
      "text/html": [
       "Total time: 43:13 <p><table style='width:525px; margin-bottom:10px'>\n",
       "  <tr>\n",
       "    <th>epoch</th>\n",
       "    <th>train_loss</th>\n",
       "    <th>valid_loss</th>\n",
       "    <th>error_rate</th>\n",
       "    <th>f1_weighted</th>\n",
       "    <th>mcc</th>\n",
       "    <th>time</th>\n",
       "  </tr>\n",
       "  <tr>\n",
       "    <th>0</th>\n",
       "    <th>0.389419</th>\n",
       "    <th>0.537585</th>\n",
       "    <th>0.181039</th>\n",
       "    <th>0.803838</th>\n",
       "    <th>0.596510</th>\n",
       "    <th>04:20</th>\n",
       "  </tr>\n",
       "  <tr>\n",
       "    <th>1</th>\n",
       "    <th>0.406067</th>\n",
       "    <th>0.569792</th>\n",
       "    <th>0.223353</th>\n",
       "    <th>0.776847</th>\n",
       "    <th>0.508097</th>\n",
       "    <th>04:19</th>\n",
       "  </tr>\n",
       "  <tr>\n",
       "    <th>2</th>\n",
       "    <th>0.407945</th>\n",
       "    <th>0.674568</th>\n",
       "    <th>0.286020</th>\n",
       "    <th>0.703727</th>\n",
       "    <th>0.339106</th>\n",
       "    <th>04:18</th>\n",
       "  </tr>\n",
       "  <tr>\n",
       "    <th>3</th>\n",
       "    <th>0.411318</th>\n",
       "    <th>0.558612</th>\n",
       "    <th>0.196572</th>\n",
       "    <th>0.782912</th>\n",
       "    <th>0.563045</th>\n",
       "    <th>04:18</th>\n",
       "  </tr>\n",
       "  <tr>\n",
       "    <th>4</th>\n",
       "    <th>0.399804</th>\n",
       "    <th>0.617918</th>\n",
       "    <th>0.259775</th>\n",
       "    <th>0.725507</th>\n",
       "    <th>0.394339</th>\n",
       "    <th>04:18</th>\n",
       "  </tr>\n",
       "  <tr>\n",
       "    <th>5</th>\n",
       "    <th>0.406525</th>\n",
       "    <th>0.577262</th>\n",
       "    <th>0.220675</th>\n",
       "    <th>0.755951</th>\n",
       "    <th>0.497181</th>\n",
       "    <th>04:19</th>\n",
       "  </tr>\n",
       "  <tr>\n",
       "    <th>6</th>\n",
       "    <th>0.390883</th>\n",
       "    <th>0.523354</th>\n",
       "    <th>0.170327</th>\n",
       "    <th>0.821909</th>\n",
       "    <th>0.614075</th>\n",
       "    <th>04:18</th>\n",
       "  </tr>\n",
       "  <tr>\n",
       "    <th>7</th>\n",
       "    <th>0.378693</th>\n",
       "    <th>0.562817</th>\n",
       "    <th>0.200321</th>\n",
       "    <th>0.789995</th>\n",
       "    <th>0.541408</th>\n",
       "    <th>04:19</th>\n",
       "  </tr>\n",
       "  <tr>\n",
       "    <th>8</th>\n",
       "    <th>0.378478</th>\n",
       "    <th>0.560085</th>\n",
       "    <th>0.170862</th>\n",
       "    <th>0.823379</th>\n",
       "    <th>0.612281</th>\n",
       "    <th>04:20</th>\n",
       "  </tr>\n",
       "  <tr>\n",
       "    <th>9</th>\n",
       "    <th>0.364009</th>\n",
       "    <th>0.535001</th>\n",
       "    <th>0.178897</th>\n",
       "    <th>0.815020</th>\n",
       "    <th>0.593288</th>\n",
       "    <th>04:18</th>\n",
       "  </tr>\n",
       "</table>\n"
      ],
      "text/plain": [
       "<IPython.core.display.HTML object>"
      ]
     },
     "metadata": {},
     "output_type": "display_data"
    },
    {
     "name": "stdout",
     "output_type": "stream",
     "text": [
      "Better model found at epoch 0 with val_loss value: 0.537585437297821.\n",
      "Better model found at epoch 6 with val_loss value: 0.5233539938926697.\n"
     ]
    }
   ],
   "source": [
    "size = 384\n",
    "bs = 32\n",
    "learn.data = get_data(bs, size)\n",
    "\n",
    "learn.freeze()\n",
    "lr = 1e-2\n",
    "learn.fit_one_cycle(5, lr)\n",
    "\n",
    "learn.unfreeze()\n",
    "learn.fit_one_cycle(10, slice(1e-5,lr/5))"
   ]
  },
  {
   "cell_type": "code",
   "execution_count": 22,
   "metadata": {},
   "outputs": [],
   "source": [
    "#learn.export('baseline_rn50-384-2.pkl') "
   ]
  },
  {
   "cell_type": "code",
   "execution_count": 23,
   "metadata": {},
   "outputs": [
    {
     "data": {
      "text/html": [
       "Total time: 24:10 <p><table style='width:525px; margin-bottom:10px'>\n",
       "  <tr>\n",
       "    <th>epoch</th>\n",
       "    <th>train_loss</th>\n",
       "    <th>valid_loss</th>\n",
       "    <th>error_rate</th>\n",
       "    <th>f1_weighted</th>\n",
       "    <th>mcc</th>\n",
       "    <th>time</th>\n",
       "  </tr>\n",
       "  <tr>\n",
       "    <th>0</th>\n",
       "    <th>0.440644</th>\n",
       "    <th>2.231610</th>\n",
       "    <th>0.426888</th>\n",
       "    <th>0.569796</th>\n",
       "    <th>0.285335</th>\n",
       "    <th>04:54</th>\n",
       "  </tr>\n",
       "  <tr>\n",
       "    <th>1</th>\n",
       "    <th>0.477800</th>\n",
       "    <th>0.679559</th>\n",
       "    <th>0.344403</th>\n",
       "    <th>0.617485</th>\n",
       "    <th>0.153297</th>\n",
       "    <th>04:47</th>\n",
       "  </tr>\n",
       "  <tr>\n",
       "    <th>2</th>\n",
       "    <th>0.450043</th>\n",
       "    <th>0.829899</th>\n",
       "    <th>0.289234</th>\n",
       "    <th>0.649965</th>\n",
       "    <th>0.312867</th>\n",
       "    <th>04:47</th>\n",
       "  </tr>\n",
       "  <tr>\n",
       "    <th>3</th>\n",
       "    <th>0.411599</th>\n",
       "    <th>0.630321</th>\n",
       "    <th>0.254419</th>\n",
       "    <th>0.712574</th>\n",
       "    <th>0.406955</th>\n",
       "    <th>04:47</th>\n",
       "  </tr>\n",
       "  <tr>\n",
       "    <th>4</th>\n",
       "    <th>0.405160</th>\n",
       "    <th>0.633543</th>\n",
       "    <th>0.204071</th>\n",
       "    <th>0.773346</th>\n",
       "    <th>0.544899</th>\n",
       "    <th>04:52</th>\n",
       "  </tr>\n",
       "</table>\n"
      ],
      "text/plain": [
       "<IPython.core.display.HTML object>"
      ]
     },
     "metadata": {},
     "output_type": "display_data"
    },
    {
     "name": "stdout",
     "output_type": "stream",
     "text": [
      "Better model found at epoch 0 with val_loss value: 2.2316102981567383.\n",
      "Better model found at epoch 1 with val_loss value: 0.6795588135719299.\n",
      "Better model found at epoch 3 with val_loss value: 0.6303207278251648.\n"
     ]
    },
    {
     "data": {
      "text/html": [
       "Total time: 1:06:53 <p><table style='width:525px; margin-bottom:10px'>\n",
       "  <tr>\n",
       "    <th>epoch</th>\n",
       "    <th>train_loss</th>\n",
       "    <th>valid_loss</th>\n",
       "    <th>error_rate</th>\n",
       "    <th>f1_weighted</th>\n",
       "    <th>mcc</th>\n",
       "    <th>time</th>\n",
       "  </tr>\n",
       "  <tr>\n",
       "    <th>0</th>\n",
       "    <th>0.420464</th>\n",
       "    <th>0.553765</th>\n",
       "    <th>0.200857</th>\n",
       "    <th>0.787913</th>\n",
       "    <th>0.540222</th>\n",
       "    <th>06:43</th>\n",
       "  </tr>\n",
       "  <tr>\n",
       "    <th>1</th>\n",
       "    <th>0.410273</th>\n",
       "    <th>0.537599</th>\n",
       "    <th>0.159079</th>\n",
       "    <th>0.834668</th>\n",
       "    <th>0.640468</th>\n",
       "    <th>06:41</th>\n",
       "  </tr>\n",
       "  <tr>\n",
       "    <th>2</th>\n",
       "    <th>0.409543</th>\n",
       "    <th>0.737893</th>\n",
       "    <th>0.273701</th>\n",
       "    <th>0.679838</th>\n",
       "    <th>0.355962</th>\n",
       "    <th>06:40</th>\n",
       "  </tr>\n",
       "  <tr>\n",
       "    <th>3</th>\n",
       "    <th>0.427937</th>\n",
       "    <th>0.616124</th>\n",
       "    <th>0.245313</th>\n",
       "    <th>0.732133</th>\n",
       "    <th>0.428018</th>\n",
       "    <th>06:40</th>\n",
       "  </tr>\n",
       "  <tr>\n",
       "    <th>4</th>\n",
       "    <th>0.425063</th>\n",
       "    <th>0.705020</th>\n",
       "    <th>0.181575</th>\n",
       "    <th>0.808675</th>\n",
       "    <th>0.587596</th>\n",
       "    <th>06:41</th>\n",
       "  </tr>\n",
       "  <tr>\n",
       "    <th>5</th>\n",
       "    <th>0.410730</th>\n",
       "    <th>2.028776</th>\n",
       "    <th>0.171934</th>\n",
       "    <th>0.819084</th>\n",
       "    <th>0.611076</th>\n",
       "    <th>06:42</th>\n",
       "  </tr>\n",
       "  <tr>\n",
       "    <th>6</th>\n",
       "    <th>0.404938</th>\n",
       "    <th>0.542223</th>\n",
       "    <th>0.174076</th>\n",
       "    <th>0.818629</th>\n",
       "    <th>0.604740</th>\n",
       "    <th>06:40</th>\n",
       "  </tr>\n",
       "  <tr>\n",
       "    <th>7</th>\n",
       "    <th>0.392850</th>\n",
       "    <th>0.626848</th>\n",
       "    <th>0.224424</th>\n",
       "    <th>0.759477</th>\n",
       "    <th>0.481710</th>\n",
       "    <th>06:39</th>\n",
       "  </tr>\n",
       "  <tr>\n",
       "    <th>8</th>\n",
       "    <th>0.382816</th>\n",
       "    <th>0.698245</th>\n",
       "    <th>0.202464</th>\n",
       "    <th>0.786441</th>\n",
       "    <th>0.536210</th>\n",
       "    <th>06:39</th>\n",
       "  </tr>\n",
       "  <tr>\n",
       "    <th>9</th>\n",
       "    <th>0.377080</th>\n",
       "    <th>0.617847</th>\n",
       "    <th>0.210498</th>\n",
       "    <th>0.774578</th>\n",
       "    <th>0.517230</th>\n",
       "    <th>06:39</th>\n",
       "  </tr>\n",
       "</table>\n"
      ],
      "text/plain": [
       "<IPython.core.display.HTML object>"
      ]
     },
     "metadata": {},
     "output_type": "display_data"
    },
    {
     "name": "stdout",
     "output_type": "stream",
     "text": [
      "Better model found at epoch 0 with val_loss value: 0.5537654757499695.\n",
      "Better model found at epoch 1 with val_loss value: 0.5375993847846985.\n"
     ]
    }
   ],
   "source": [
    "size = 450\n",
    "bs = 16\n",
    "learn.data = get_data(bs, size)\n",
    "\n",
    "learn.freeze()\n",
    "lr = 1e-2\n",
    "learn.fit_one_cycle(5, lr)\n",
    "\n",
    "learn.unfreeze()\n",
    "learn.fit_one_cycle(10, slice(1e-5,lr/5))"
   ]
  },
  {
   "cell_type": "code",
   "execution_count": 24,
   "metadata": {},
   "outputs": [],
   "source": [
    "#learn.export('baseline_rn50-450-2.pkl') "
   ]
  },
  {
   "cell_type": "code",
   "execution_count": 60,
   "metadata": {},
   "outputs": [
    {
     "data": {
      "text/html": [
       "Total time: 02:57 <p>"
      ],
      "text/plain": [
       "<IPython.core.display.HTML object>"
      ]
     },
     "metadata": {},
     "output_type": "display_data"
    }
   ],
   "source": [
    "y_pred, y_test_tta = learn.TTA(ds_type=DatasetType.Valid, scale=1.)#, beta=0.4, scale=1.3\n",
    "y_pred = to_np(y_pred)"
   ]
  },
  {
   "cell_type": "code",
   "execution_count": 46,
   "metadata": {},
   "outputs": [
    {
     "data": {
      "text/plain": [
       "array([[-5.162198, -1.490607],\n",
       "       [-0.472721,  0.483008],\n",
       "       [-1.09513 ,  1.097183],\n",
       "       [ 0.170305, -0.110243],\n",
       "       ...,\n",
       "       [-0.207251,  0.269644],\n",
       "       [ 1.019599, -1.076509],\n",
       "       [ 0.99041 , -1.020569],\n",
       "       [ 0.88745 , -0.929821]], dtype=float32)"
      ]
     },
     "execution_count": 46,
     "metadata": {},
     "output_type": "execute_result"
    }
   ],
   "source": [
    "y_pred"
   ]
  },
  {
   "cell_type": "code",
   "execution_count": 31,
   "metadata": {},
   "outputs": [
    {
     "data": {
      "text/plain": [
       "0.8371988263137253"
      ]
     },
     "execution_count": 31,
     "metadata": {},
     "output_type": "execute_result"
    }
   ],
   "source": [
    "preds_test, y_test=learn.get_preds(ds_type=DatasetType.Valid)\n",
    "preds_test = np.argmax(torch.sigmoid(preds_test), axis=1)\n",
    "f1_score(y_test, preds_test, average='weighted')"
   ]
  },
  {
   "cell_type": "code",
   "execution_count": 39,
   "metadata": {},
   "outputs": [
    {
     "data": {
      "text/plain": [
       "tensor([[0.0036, 0.1557],\n",
       "        [0.4221, 0.5946],\n",
       "        [0.2340, 0.7610],\n",
       "        ...,\n",
       "        [0.7318, 0.2595],\n",
       "        [0.7258, 0.2686],\n",
       "        [0.7051, 0.2866]])"
      ]
     },
     "execution_count": 39,
     "metadata": {},
     "output_type": "execute_result"
    }
   ],
   "source": [
    "temp, y_test=learn.get_preds(ds_type=DatasetType.Valid)\n",
    "torch.sigmoid(temp)"
   ]
  },
  {
   "cell_type": "code",
   "execution_count": 28,
   "metadata": {},
   "outputs": [
    {
     "data": {
      "text/plain": [
       "tensor([1, 1, 1,  ..., 0, 0, 0])"
      ]
     },
     "execution_count": 28,
     "metadata": {},
     "output_type": "execute_result"
    }
   ],
   "source": [
    "y_test_tta"
   ]
  },
  {
   "cell_type": "code",
   "execution_count": 27,
   "metadata": {},
   "outputs": [
    {
     "data": {
      "text/plain": [
       "array([1, 1, 1, 1, ..., 1, 0, 0, 0])"
      ]
     },
     "execution_count": 27,
     "metadata": {},
     "output_type": "execute_result"
    }
   ],
   "source": [
    "np.argmax(y_pred, axis=1)"
   ]
  },
  {
   "cell_type": "code",
   "execution_count": 61,
   "metadata": {},
   "outputs": [
    {
     "data": {
      "text/plain": [
       "0.8489361299205921"
      ]
     },
     "execution_count": 61,
     "metadata": {},
     "output_type": "execute_result"
    }
   ],
   "source": [
    "f1_score(y_test_tta, np.argmax(y_pred, axis=1),  average='weighted') # scale=1."
   ]
  },
  {
   "cell_type": "code",
   "execution_count": 53,
   "metadata": {},
   "outputs": [
    {
     "data": {
      "text/plain": [
       "0.853021900669273"
      ]
     },
     "execution_count": 53,
     "metadata": {},
     "output_type": "execute_result"
    }
   ],
   "source": [
    "f1_score(y_test_tta, np.argmax(y_pred, axis=1),  average='weighted') # scale=1.05"
   ]
  },
  {
   "cell_type": "code",
   "execution_count": 55,
   "metadata": {},
   "outputs": [
    {
     "data": {
      "text/plain": [
       "0.8571500797662559"
      ]
     },
     "execution_count": 55,
     "metadata": {},
     "output_type": "execute_result"
    }
   ],
   "source": [
    "f1_score(y_test_tta, np.argmax(y_pred, axis=1),  average='weighted') # scale=1.1"
   ]
  },
  {
   "cell_type": "code",
   "execution_count": 57,
   "metadata": {},
   "outputs": [
    {
     "data": {
      "text/plain": [
       "0.8542246159029407"
      ]
     },
     "execution_count": 57,
     "metadata": {},
     "output_type": "execute_result"
    }
   ],
   "source": [
    "f1_score(y_test_tta, np.argmax(y_pred, axis=1),  average='weighted') # scale=1.1"
   ]
  },
  {
   "cell_type": "code",
   "execution_count": 58,
   "metadata": {},
   "outputs": [
    {
     "data": {
      "text/plain": [
       "array([[-2.231739,  2.114458],\n",
       "       [-0.623906,  0.434116],\n",
       "       [-1.139656,  1.125034],\n",
       "       [ 0.107901, -0.033532],\n",
       "       ...,\n",
       "       [-0.37961 ,  0.44796 ],\n",
       "       [ 1.010885, -1.083084],\n",
       "       [ 0.954223, -0.974958],\n",
       "       [ 0.880328, -0.924473]], dtype=float32)"
      ]
     },
     "execution_count": 58,
     "metadata": {},
     "output_type": "execute_result"
    }
   ],
   "source": [
    "y_pred"
   ]
  },
  {
   "cell_type": "code",
   "execution_count": 59,
   "metadata": {},
   "outputs": [
    {
     "data": {
      "text/plain": [
       "0.6631191427043902"
      ]
     },
     "execution_count": 59,
     "metadata": {},
     "output_type": "execute_result"
    }
   ],
   "source": [
    "f1_score(y_test_tta, y_pred[:, 1] > 0.5,  average='weighted') # scale=1.1"
   ]
  }
 ],
 "metadata": {
  "kernelspec": {
   "display_name": "Python 3",
   "language": "python",
   "name": "python3"
  },
  "language_info": {
   "codemirror_mode": {
    "name": "ipython",
    "version": 3
   },
   "file_extension": ".py",
   "mimetype": "text/x-python",
   "name": "python",
   "nbconvert_exporter": "python",
   "pygments_lexer": "ipython3",
   "version": "3.6.7"
  }
 },
 "nbformat": 4,
 "nbformat_minor": 1
}
