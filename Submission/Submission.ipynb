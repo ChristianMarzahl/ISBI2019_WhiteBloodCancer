{
 "cells": [
  {
   "cell_type": "code",
   "execution_count": 63,
   "metadata": {},
   "outputs": [],
   "source": [
    "%reload_ext autoreload\n",
    "%autoreload 2\n",
    "%matplotlib inline"
   ]
  },
  {
   "cell_type": "code",
   "execution_count": 64,
   "metadata": {},
   "outputs": [],
   "source": [
    "import os\n",
    "from pathlib import Path\n",
    "from tqdm import tqdm\n",
    "import matplotlib.pyplot as plt\n",
    "import random\n",
    "from sklearn.metrics import matthews_corrcoef\n",
    "import csv"
   ]
  },
  {
   "cell_type": "code",
   "execution_count": 65,
   "metadata": {},
   "outputs": [],
   "source": [
    "from fastai import *\n",
    "from fastai.vision import *"
   ]
  },
  {
   "cell_type": "code",
   "execution_count": 66,
   "metadata": {},
   "outputs": [],
   "source": [
    "from data_loader import ImageItemListCell"
   ]
  },
  {
   "cell_type": "code",
   "execution_count": 67,
   "metadata": {},
   "outputs": [],
   "source": [
    "path = Path('/data/Datasets/WhiteBloodCancer/train/')\n",
    "test_path = Path('/data/Datasets/WhiteBloodCancer/test/')\n",
    "test_files = get_files(test_path)\n",
    "test = ImageItemListCell(test_files)"
   ]
  },
  {
   "cell_type": "code",
   "execution_count": 69,
   "metadata": {},
   "outputs": [
    {
     "data": {
      "text/html": [
       "Total time: 04:20 <p>"
      ],
      "text/plain": [
       "<IPython.core.display.HTML object>"
      ]
     },
     "metadata": {},
     "output_type": "execute_result"
    }
   ],
   "source": [
    "for model in path.glob('*.pkl'):\n",
    "\n",
    "    learn = load_learner(path, model, test)\n",
    "    learn.model.float()\n",
    "    \n",
    "    # Use TTA\n",
    "    preds_test_tta, y_test_tta = learn.TTA(ds_type=DatasetType.Test, beta=0.6, scale=1.3)\n",
    "    y_pred = np.argmax(tta_result, axis=1)\n",
    "    \n",
    "    # use normal prediction\n",
    "    #preds_test,y_test=learn.get_preds(ds_type=DatasetType.Test)\n",
    "    #y_pred = np.argmax(torch.sigmoid(preds_test), axis=1)\n",
    "    \n",
    "    with open(path.joinpath('{}.csv'.format(model.stem)), mode='w') as submission:\n",
    "        submission_writer = csv.writer(submission, delimiter=',', quotechar='\"', quoting=csv.QUOTE_MINIMAL)\n",
    "\n",
    "        for fn, y in zip(learn.data.test_dl.items, y_pred):\n",
    "            submission_writer.writerow([fn.name, y]) #learn.data.classes[y]"
   ]
  },
  {
   "cell_type": "code",
   "execution_count": 99,
   "metadata": {},
   "outputs": [],
   "source": [
    "ensemble = np.zeros(shape=(len(learn.data.test_dl.items)))\n",
    "model_count = len(list(path.glob('*.csv')))\n",
    "for submission in path.glob('*.csv'):\n",
    "    \n",
    "    with open(submission, 'r') as csvfile:\n",
    "        reader = csv.reader(csvfile, delimiter=',', quotechar='\"')\n",
    "        for i, row in enumerate(reader):\n",
    "            ensemble[i] += int(row[1])\n",
    "\n",
    "result = np.rint(ensemble / model_count).astype(int)\n",
    "with open(path.joinpath('final.csv'), mode='w') as submission:\n",
    "    submission_writer = csv.writer(submission, delimiter=',', quotechar='\"', quoting=csv.QUOTE_MINIMAL)\n",
    "\n",
    "    for fn, y in zip(learn.data.test_dl.items, result):\n",
    "        submission_writer.writerow([fn.name, learn.data.classes[y]])"
   ]
  }
 ],
 "metadata": {
  "kernelspec": {
   "display_name": "Python 3",
   "language": "python",
   "name": "python3"
  },
  "language_info": {
   "codemirror_mode": {
    "name": "ipython",
    "version": 3
   },
   "file_extension": ".py",
   "mimetype": "text/x-python",
   "name": "python",
   "nbconvert_exporter": "python",
   "pygments_lexer": "ipython3",
   "version": "3.6.7"
  }
 },
 "nbformat": 4,
 "nbformat_minor": 2
}
