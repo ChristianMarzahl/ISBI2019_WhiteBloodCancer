{
 "cells": [
  {
   "cell_type": "code",
   "execution_count": 14,
   "metadata": {},
   "outputs": [],
   "source": [
    "%reload_ext autoreload\n",
    "%autoreload 2\n",
    "%matplotlib inline"
   ]
  },
  {
   "cell_type": "code",
   "execution_count": 15,
   "metadata": {},
   "outputs": [],
   "source": [
    "import os\n",
    "from pathlib import Path\n",
    "from tqdm import tqdm\n",
    "import matplotlib.pyplot as plt\n",
    "import random\n",
    "from sklearn.metrics import matthews_corrcoef\n",
    "import csv"
   ]
  },
  {
   "cell_type": "code",
   "execution_count": 16,
   "metadata": {},
   "outputs": [],
   "source": [
    "from fastai import *\n",
    "from fastai.vision import *"
   ]
  },
  {
   "cell_type": "code",
   "execution_count": 17,
   "metadata": {},
   "outputs": [],
   "source": [
    "from data_loader import ImageItemListCell"
   ]
  },
  {
   "cell_type": "code",
   "execution_count": 18,
   "metadata": {},
   "outputs": [
    {
     "data": {
      "text/plain": [
       "[PosixPath('/data/Datasets/WhiteBloodCancer/test/1066.bmp'),\n",
       " PosixPath('/data/Datasets/WhiteBloodCancer/test/710.bmp'),\n",
       " PosixPath('/data/Datasets/WhiteBloodCancer/test/1384.bmp'),\n",
       " PosixPath('/data/Datasets/WhiteBloodCancer/test/996.bmp'),\n",
       " PosixPath('/data/Datasets/WhiteBloodCancer/test/1604.bmp'),\n",
       " PosixPath('/data/Datasets/WhiteBloodCancer/test/232.bmp'),\n",
       " PosixPath('/data/Datasets/WhiteBloodCancer/test/1302.bmp'),\n",
       " PosixPath('/data/Datasets/WhiteBloodCancer/test/628.bmp'),\n",
       " PosixPath('/data/Datasets/WhiteBloodCancer/test/1467.bmp'),\n",
       " PosixPath('/data/Datasets/WhiteBloodCancer/test/905.bmp')]"
      ]
     },
     "execution_count": 18,
     "metadata": {},
     "output_type": "execute_result"
    }
   ],
   "source": [
    "path = Path('/data/Datasets/WhiteBloodCancer/train/')\n",
    "path_submission = Path('/data/Datasets/WhiteBloodCancer/train/submission/')\n",
    "path_models = Path('/data/Datasets/WhiteBloodCancer/train/ensemble/')\n",
    "test_path = Path('/data/Datasets/WhiteBloodCancer/test/')\n",
    "\n",
    "test_files = get_files(test_path)\n",
    "test = ImageItemListCell(test_files)\n",
    "\n",
    "test_files[:10]"
   ]
  },
  {
   "cell_type": "code",
   "execution_count": 12,
   "metadata": {},
   "outputs": [
    {
     "data": {
      "text/html": [
       "Total time: 01:39 <p>"
      ],
      "text/plain": [
       "<IPython.core.display.HTML object>"
      ]
     },
     "metadata": {},
     "output_type": "display_data"
    }
   ],
   "source": [
    "for model in path_models.glob('*.pkl'):\n",
    "\n",
    "    learn = load_learner(path, model, test)\n",
    "    learn.model.float()\n",
    "    \n",
    "    # Use TTA\n",
    "    tta_result, y_test_tta = learn.TTA(ds_type=DatasetType.Test, beta=0.6, scale=1.3)\n",
    "    y_pred = np.argmax(tta_result, axis=1)\n",
    "    \n",
    "    # use normal prediction\n",
    "    #preds_test,y_test=learn.get_preds(ds_type=DatasetType.Test)\n",
    "    #y_pred = np.argmax(torch.sigmoid(preds_test), axis=1)\n",
    "    \n",
    "    with open(path_submission.joinpath('{}.csv'.format(model.stem)), mode='w') as submission:\n",
    "        submission_writer = csv.writer(submission, delimiter=',', quotechar='\"', quoting=csv.QUOTE_MINIMAL)\n",
    "\n",
    "        for fn, y in zip(learn.data.test_dl.items, to_np(y_pred)):\n",
    "            submission_writer.writerow([fn.name, y]) #learn.data.classes[y]"
   ]
  },
  {
   "cell_type": "code",
   "execution_count": 21,
   "metadata": {},
   "outputs": [],
   "source": [
    "ensemble = np.zeros(shape=(len(learn.data.test_dl.items)))\n",
    "model_count = len(list(path_submission.glob('*.csv')))\n",
    "for submission in path_submission.glob('*.csv'):\n",
    "    \n",
    "    with open(submission, 'r') as csvfile:\n",
    "        reader = csv.reader(csvfile, delimiter=',', quotechar='\"')\n",
    "        for i, row in enumerate(reader):\n",
    "            ensemble[i] += int(row[1])\n",
    "\n",
    "result = np.rint(ensemble / model_count).astype(int)\n",
    "submission = [\"\" for i in range(ensemble.shape[0])]\n",
    "\n",
    "for fn, y in zip(learn.data.test_dl.items, result):\n",
    "    index = int(fn.name.replace(\".bmp\",'')) - 1\n",
    "    #submission[index] = \"{},{}\".format(fn.name, learn.data.classes[y])\n",
    "    y = 1 if y == 0 else 0\n",
    "    submission[index] = \"{}\".format(y)\n",
    "\n",
    "with open(path_submission.joinpath('isbi_valid.predict'), 'w') as f:\n",
    "    for item in submission:\n",
    "        f.write(\"{}\\n\".format(item))"
   ]
  }
 ],
 "metadata": {
  "kernelspec": {
   "display_name": "Python 3",
   "language": "python",
   "name": "python3"
  },
  "language_info": {
   "codemirror_mode": {
    "name": "ipython",
    "version": 3
   },
   "file_extension": ".py",
   "mimetype": "text/x-python",
   "name": "python",
   "nbconvert_exporter": "python",
   "pygments_lexer": "ipython3",
   "version": "3.6.7"
  }
 },
 "nbformat": 4,
 "nbformat_minor": 2
}
