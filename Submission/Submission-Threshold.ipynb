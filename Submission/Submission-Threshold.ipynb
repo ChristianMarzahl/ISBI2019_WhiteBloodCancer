{
 "cells": [
  {
   "cell_type": "code",
   "execution_count": 1,
   "metadata": {},
   "outputs": [],
   "source": [
    "%reload_ext autoreload\n",
    "%autoreload 2\n",
    "%matplotlib inline"
   ]
  },
  {
   "cell_type": "code",
   "execution_count": 2,
   "metadata": {},
   "outputs": [],
   "source": [
    "import os\n",
    "from pathlib import Path\n",
    "from tqdm import tqdm\n",
    "import matplotlib.pyplot as plt\n",
    "import random\n",
    "from sklearn.metrics import matthews_corrcoef\n",
    "import csv"
   ]
  },
  {
   "cell_type": "code",
   "execution_count": 3,
   "metadata": {},
   "outputs": [],
   "source": [
    "from fastai import *\n",
    "from fastai.vision import *"
   ]
  },
  {
   "cell_type": "code",
   "execution_count": 4,
   "metadata": {},
   "outputs": [],
   "source": [
    "from data_loader import ImageItemListCell"
   ]
  },
  {
   "cell_type": "code",
   "execution_count": 5,
   "metadata": {},
   "outputs": [
    {
     "data": {
      "text/plain": [
       "[PosixPath('/data/Datasets/WhiteBloodCancer/test/1066.bmp'),\n",
       " PosixPath('/data/Datasets/WhiteBloodCancer/test/710.bmp'),\n",
       " PosixPath('/data/Datasets/WhiteBloodCancer/test/1384.bmp'),\n",
       " PosixPath('/data/Datasets/WhiteBloodCancer/test/996.bmp'),\n",
       " PosixPath('/data/Datasets/WhiteBloodCancer/test/1604.bmp'),\n",
       " PosixPath('/data/Datasets/WhiteBloodCancer/test/232.bmp'),\n",
       " PosixPath('/data/Datasets/WhiteBloodCancer/test/1302.bmp'),\n",
       " PosixPath('/data/Datasets/WhiteBloodCancer/test/628.bmp'),\n",
       " PosixPath('/data/Datasets/WhiteBloodCancer/test/1467.bmp'),\n",
       " PosixPath('/data/Datasets/WhiteBloodCancer/test/905.bmp')]"
      ]
     },
     "execution_count": 5,
     "metadata": {},
     "output_type": "execute_result"
    }
   ],
   "source": [
    "path = Path('/data/Datasets/WhiteBloodCancer/train/')\n",
    "path_submission = Path('/data/Datasets/WhiteBloodCancer/train/submission/')\n",
    "path_models = Path('/data/Datasets/WhiteBloodCancer/train/rn-18-RND/')\n",
    "test_path = Path('/data/Datasets/WhiteBloodCancer/test/')\n",
    "\n",
    "test_files = get_files(test_path)\n",
    "test = ImageItemList(test_files)\n",
    "\n",
    "test_files[:10]"
   ]
  },
  {
   "cell_type": "code",
   "execution_count": 6,
   "metadata": {},
   "outputs": [
    {
     "ename": "IndexError",
     "evalue": "invalid index to scalar variable.",
     "traceback": [
      "\u001b[0;31m---------------------------------------------------------------------------\u001b[0m",
      "\u001b[0;31mIndexError\u001b[0m                                Traceback (most recent call last)",
      "\u001b[0;32m<ipython-input-6-9d4cb4619550>\u001b[0m in \u001b[0;36m<module>\u001b[0;34m()\u001b[0m\n\u001b[1;32m     16\u001b[0m \u001b[0;34m\u001b[0m\u001b[0m\n\u001b[1;32m     17\u001b[0m         \u001b[0;32mfor\u001b[0m \u001b[0mfn\u001b[0m\u001b[0;34m,\u001b[0m \u001b[0my\u001b[0m \u001b[0;32min\u001b[0m \u001b[0mzip\u001b[0m\u001b[0;34m(\u001b[0m\u001b[0mlearn\u001b[0m\u001b[0;34m.\u001b[0m\u001b[0mdata\u001b[0m\u001b[0;34m.\u001b[0m\u001b[0mtest_dl\u001b[0m\u001b[0;34m.\u001b[0m\u001b[0mitems\u001b[0m\u001b[0;34m,\u001b[0m \u001b[0mto_np\u001b[0m\u001b[0;34m(\u001b[0m\u001b[0my_pred\u001b[0m\u001b[0;34m)\u001b[0m\u001b[0;34m)\u001b[0m\u001b[0;34m:\u001b[0m\u001b[0;34m\u001b[0m\u001b[0;34m\u001b[0m\u001b[0m\n\u001b[0;32m---> 18\u001b[0;31m             \u001b[0msubmission_writer\u001b[0m\u001b[0;34m.\u001b[0m\u001b[0mwriterow\u001b[0m\u001b[0;34m(\u001b[0m\u001b[0;34m[\u001b[0m\u001b[0mfn\u001b[0m\u001b[0;34m.\u001b[0m\u001b[0mname\u001b[0m\u001b[0;34m,\u001b[0m \u001b[0my\u001b[0m\u001b[0;34m[\u001b[0m\u001b[0;36m0\u001b[0m\u001b[0;34m]\u001b[0m\u001b[0;34m,\u001b[0m \u001b[0my\u001b[0m\u001b[0;34m[\u001b[0m\u001b[0;36m1\u001b[0m\u001b[0;34m]\u001b[0m\u001b[0;34m]\u001b[0m\u001b[0;34m)\u001b[0m\u001b[0;34m\u001b[0m\u001b[0;34m\u001b[0m\u001b[0m\n\u001b[0m",
      "\u001b[0;31mIndexError\u001b[0m: invalid index to scalar variable."
     ],
     "output_type": "error"
    }
   ],
   "source": [
    "for model in path_models.glob('*.pkl'):\n",
    "\n",
    "    learn = load_learner(path, model, test)\n",
    "    learn.model.float()\n",
    "    \n",
    "    # Use TTA\n",
    "    #tta_result, y_test_tta = learn.TTA(ds_type=DatasetType.Test)\n",
    "    #y_pred = np.argmax(tta_result, axis=1)\n",
    "    \n",
    "    # use normal prediction\n",
    "    preds_test,y_test=learn.get_preds(ds_type=DatasetType.Test)\n",
    "    y_pred = torch.sigmoid(preds_test)\n",
    "    \n",
    "    with open(path_submission.joinpath('{}.csv'.format(model.stem)), mode='w') as submission:\n",
    "        submission_writer = csv.writer(submission, delimiter=',', quotechar='\"', quoting=csv.QUOTE_MINIMAL)\n",
    "\n",
    "        for fn, y in zip(learn.data.test_dl.items, to_np(y_pred)):\n",
    "            submission_writer.writerow([fn.name, y[0], y[1]])"
   ]
  },
  {
   "cell_type": "code",
   "execution_count": null,
   "metadata": {},
   "outputs": [],
   "source": [
    "ensemble_ALL = np.zeros(shape=(len(learn.data.test_dl.items)))\n",
    "ensemble_Hem = np.zeros(shape=(len(learn.data.test_dl.items)))\n",
    "model_count = len(list(path_submission.glob('*.csv')))\n",
    "for submission in path_submission.glob('*.csv'):\n",
    "\n",
    "    with open(submission, 'r') as csvfile:\n",
    "        reader = csv.reader(csvfile, delimiter=',', quotechar='\"')\n",
    "        for i, row in enumerate(reader):\n",
    "            ensemble_ALL[i] += float(row[1])\n",
    "            ensemble_Hem[i] += float(row[2])\n",
    "\n",
    "\n",
    "ensemble_ALL = ensemble_ALL / model_count\n",
    "ensemble_Hem = ensemble_Hem / model_count\n",
    "\n",
    "\n",
    "submission = [0 for i in range(ensemble_ALL.shape[0])]\n",
    "\n",
    "threshold = 0.5 #0.65\n",
    "for fn, y in zip(learn.data.test_dl.items, ensemble_ALL):\n",
    "    index = int(fn.name.replace(\".bmp\",'')) - 1\n",
    "    y = 1 if y > threshold else 0\n",
    "    submission[index] = y\n",
    "\n",
    "with open(path_submission.joinpath('isbi_valid.predict'), 'w') as f:\n",
    "    for item in submission:\n",
    "        f.write(\"{}\\n\".format(item))"
   ]
  },
  {
   "cell_type": "code",
   "execution_count": null,
   "metadata": {},
   "outputs": [],
   "source": []
  }
 ],
 "metadata": {
  "kernelspec": {
   "display_name": "Python 3",
   "language": "python",
   "name": "python3"
  },
  "language_info": {
   "codemirror_mode": {
    "name": "ipython",
    "version": 3
   },
   "file_extension": ".py",
   "mimetype": "text/x-python",
   "name": "python",
   "nbconvert_exporter": "python",
   "pygments_lexer": "ipython3",
   "version": "3.6.7"
  }
 },
 "nbformat": 4,
 "nbformat_minor": 2
}
