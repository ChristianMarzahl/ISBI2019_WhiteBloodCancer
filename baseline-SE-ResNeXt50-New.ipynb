{
 "cells": [
  {
   "cell_type": "code",
   "execution_count": 1,
   "metadata": {},
   "outputs": [],
   "source": [
    "%reload_ext autoreload\n",
    "%autoreload 2\n",
    "%matplotlib inline"
   ]
  },
  {
   "cell_type": "code",
   "execution_count": 2,
   "metadata": {},
   "outputs": [],
   "source": [
    "import os\n",
    "from pathlib import Path\n",
    "from tqdm import tqdm\n",
    "import matplotlib.pyplot as plt\n",
    "import random"
   ]
  },
  {
   "cell_type": "code",
   "execution_count": 3,
   "metadata": {},
   "outputs": [],
   "source": [
    "import cv2\n",
    "from fastai import *\n",
    "from fastai.vision import *\n",
    "from fastai.callbacks import *"
   ]
  },
  {
   "cell_type": "code",
   "execution_count": 4,
   "metadata": {},
   "outputs": [],
   "source": [
    "from dataset_spliter import SplitByPatient\n",
    "from metrics import *#F1Weighted, MCC\n",
    "from losses import *"
   ]
  },
  {
   "cell_type": "code",
   "execution_count": 5,
   "metadata": {},
   "outputs": [],
   "source": [
    "import pretrainedmodels"
   ]
  },
  {
   "cell_type": "code",
   "execution_count": 6,
   "metadata": {},
   "outputs": [],
   "source": [
    "path = Path('/data/Datasets/WhiteBloodCancer/train/')"
   ]
  },
  {
   "cell_type": "code",
   "execution_count": 7,
   "metadata": {},
   "outputs": [],
   "source": [
    "np.random.seed(42)"
   ]
  },
  {
   "cell_type": "code",
   "execution_count": 8,
   "metadata": {},
   "outputs": [
    {
     "data": {
      "text/plain": [
       "[PosixPath('/data/Datasets/WhiteBloodCancer/train/fold_1/hem/UID_H10_43_1_hem.bmp'),\n",
       " PosixPath('/data/Datasets/WhiteBloodCancer/train/fold_1/hem/UID_H22_31_15_hem.bmp'),\n",
       " PosixPath('/data/Datasets/WhiteBloodCancer/train/fold_1/hem/UID_H14_9_11_hem.bmp'),\n",
       " PosixPath('/data/Datasets/WhiteBloodCancer/train/fold_1/hem/UID_H14_28_6_hem.bmp'),\n",
       " PosixPath('/data/Datasets/WhiteBloodCancer/train/fold_1/hem/UID_H10_189_1_hem.bmp')]"
      ]
     },
     "execution_count": 8,
     "metadata": {},
     "output_type": "execute_result"
    }
   ],
   "source": [
    "fnames = get_image_files(path, recurse=True)\n",
    "fnames[:5]"
   ]
  },
  {
   "cell_type": "code",
   "execution_count": 9,
   "metadata": {},
   "outputs": [],
   "source": [
    "hem_regex = re.compile(r'UID_(H[0-9]+)_', re.IGNORECASE)\n",
    "all_regex = re.compile(r'UID_([0-9]+)_', re.IGNORECASE)"
   ]
  },
  {
   "cell_type": "code",
   "execution_count": 10,
   "metadata": {},
   "outputs": [
    {
     "name": "stdout",
     "output_type": "stream",
     "text": [
      "\n"
     ]
    }
   ],
   "source": [
    "hem_patient_ids = list(set([hem_regex.search(str(fn)).group(1)\n",
    "                            for fn in fnames if hem_regex.search(str(fn)) is not None]))\n",
    "all_patint_ids = list(set([all_regex.search(str(fn)).group(1)\n",
    "                           for fn in fnames if all_regex.search(str(fn)) is not None]))\n",
    "\n",
    "hem_patients = dict((k,[]) for k in hem_patient_ids)\n",
    "all_patints = dict((k,[]) for k in all_patint_ids)\n",
    "\n",
    "[all_patints[key].append(fn) for key in all_patints.keys() for fn in fnames if 'UID_{0}_'.format(key) in str(fn)]\n",
    "[hem_patients[key].append(fn) for key in hem_patients.keys() for fn in fnames if 'UID_{0}_'.format(key) in str(fn)]\n",
    "print()"
   ]
  },
  {
   "cell_type": "markdown",
   "metadata": {},
   "source": [
    "## Split data into train val "
   ]
  },
  {
   "cell_type": "code",
   "execution_count": 11,
   "metadata": {},
   "outputs": [],
   "source": [
    "split_handler = SplitByPatient(hem_patients, all_patints)"
   ]
  },
  {
   "cell_type": "markdown",
   "metadata": {},
   "source": [
    "### Split by regex"
   ]
  },
  {
   "cell_type": "code",
   "execution_count": 12,
   "metadata": {},
   "outputs": [],
   "source": [
    "train_regex = re.compile(r'(fold_0|fold_1|fold_2)')\n",
    "val_regex = re.compile(r'(fold_3)')\n",
    "\n",
    "hem_train, all_train, hem_val, all_val = split_handler.split_by_regex(train_regex, val_regex)"
   ]
  },
  {
   "cell_type": "code",
   "execution_count": 13,
   "metadata": {},
   "outputs": [
    {
     "name": "stdout",
     "output_type": "stream",
     "text": [
      "Train Total: 10661\n",
      "Val Total: 1867\n",
      "\n",
      "Hem train: 3389\n",
      "All train: 7272\n",
      "Hem val: 648\n",
      "All val: 1219\n"
     ]
    }
   ],
   "source": [
    "print('Train Total: {0}'.format(len(hem_train)+len(all_train)))\n",
    "print('Val Total: {0}'.format(len(hem_val)+len(all_val)))\n",
    "print(\"\")\n",
    "print('Hem train: {}'.format(len(hem_train)))\n",
    "print('All train: {}'.format(len(all_train)))\n",
    "print('Hem val: {}'.format(len(hem_val)))\n",
    "print('All val: {}'.format(len(all_val)))"
   ]
  },
  {
   "cell_type": "code",
   "execution_count": 14,
   "metadata": {},
   "outputs": [],
   "source": [
    "pat = re.compile(r'^.*(hem|all).bmp$')\n",
    "\n",
    "def get_label(fn):\n",
    "    return pat.search(str(fn)).group(1)"
   ]
  },
  {
   "cell_type": "markdown",
   "metadata": {},
   "source": [
    "### Use complete image"
   ]
  },
  {
   "cell_type": "code",
   "execution_count": 15,
   "metadata": {},
   "outputs": [],
   "source": [
    "train = ImageList(hem_train + all_train) #optinal scale up classes \n",
    "valid = ImageList(hem_val + all_val)"
   ]
  },
  {
   "cell_type": "code",
   "execution_count": 16,
   "metadata": {},
   "outputs": [],
   "source": [
    "item_list = ItemLists(path, train, valid)\n",
    "lls = item_list.label_from_func(get_label)"
   ]
  },
  {
   "cell_type": "markdown",
   "metadata": {},
   "source": [
    "#### Data augmentation"
   ]
  },
  {
   "cell_type": "code",
   "execution_count": 17,
   "metadata": {},
   "outputs": [],
   "source": [
    "xtra_tfms=[cutout(n_holes=5, length=0.2)]#squish(scale=0.66), \n",
    "tfms = get_transforms(do_flip=True, \n",
    "                      flip_vert=True, \n",
    "                      #max_rotate=90,  \n",
    "                      max_lighting=0.05, \n",
    "                      max_zoom=1.05, \n",
    "                      max_warp=0.05,\n",
    "                      #p_affine=0.75,\n",
    "                      #p_lighting=0.75,  \n",
    "                      #xtra_tfms=xtra_tfms,\n",
    "                     )"
   ]
  },
  {
   "cell_type": "markdown",
   "metadata": {},
   "source": [
    "#### Create dataset "
   ]
  },
  {
   "cell_type": "code",
   "execution_count": 18,
   "metadata": {},
   "outputs": [],
   "source": [
    "def get_data(bs, size):\n",
    "    data  = ImageDataBunch.create_from_ll(lls, size=size, bs=bs, \n",
    "                                      ds_tfms=tfms, padding_mode='zeros',\n",
    "                                      resize_method=ResizeMethod.PAD)\n",
    "    data = data.normalize()\n",
    "    #data = data.normalize((channel_mean, channel_std))\n",
    "    return data\n",
    "    "
   ]
  },
  {
   "cell_type": "code",
   "execution_count": 19,
   "metadata": {},
   "outputs": [
    {
     "name": "stdout",
     "output_type": "stream",
     "text": [
      "['fbresnet152', 'bninception', 'resnext101_32x4d', 'resnext101_64x4d', 'inceptionv4', 'inceptionresnetv2', 'alexnet', 'densenet121', 'densenet169', 'densenet201', 'densenet161', 'resnet18', 'resnet34', 'resnet50', 'resnet101', 'resnet152', 'inceptionv3', 'squeezenet1_0', 'squeezenet1_1', 'vgg11', 'vgg11_bn', 'vgg13', 'vgg13_bn', 'vgg16', 'vgg16_bn', 'vgg19_bn', 'vgg19', 'nasnetamobile', 'nasnetalarge', 'dpn68', 'dpn68b', 'dpn92', 'dpn98', 'dpn131', 'dpn107', 'xception', 'senet154', 'se_resnet50', 'se_resnet101', 'se_resnet152', 'se_resnext50_32x4d', 'se_resnext101_32x4d', 'cafferesnet101', 'pnasnet5large', 'polynet']\n"
     ]
    }
   ],
   "source": [
    "print(pretrainedmodels.model_names)"
   ]
  },
  {
   "cell_type": "code",
   "execution_count": 20,
   "metadata": {},
   "outputs": [],
   "source": [
    "def get_cadene_model(pretrained=True, model_name='se_resnext50_32x4d'):\n",
    "    if pretrained:\n",
    "        arch = pretrainedmodels.__dict__[model_name](num_classes=1000, pretrained='imagenet')\n",
    "    else:\n",
    "        arch = pretrainedmodels.__dict__[model_name](num_classes=1000)\n",
    "    return arch"
   ]
  },
  {
   "cell_type": "code",
   "execution_count": 21,
   "metadata": {},
   "outputs": [
    {
     "name": "stderr",
     "output_type": "stream",
     "text": [
      "/home/c.marzahl@de.eu.local/ProgProjekte/fastai_v1/fastai/fastai/vision/learner.py:93: UserWarning: `create_cnn` is deprecated and is now named `cnn_learner`.\n",
      "  warn(\"`create_cnn` is deprecated and is now named `cnn_learner`.\")\n"
     ]
    }
   ],
   "source": [
    "size = 256\n",
    "bs = 64\n",
    "data = get_data(bs, size)\n",
    "\n",
    "experiment_name = \"baseline_se_resnext50_32x4d\"\n",
    "learn = create_cnn(data, get_cadene_model, \n",
    "                    cut=-2,\n",
    "                       metrics=[error_rate, F1Weighted(), MCC()], #  \n",
    "                       #loss_func=FocalLoss(num_classes=1),\n",
    "                       #ps=0.75,\n",
    "                       #wd=0.1,\n",
    "                       loss_func = LabelSmoothingCrossEntropy(),\n",
    "                       callback_fns=[partial(SaveModelCallback, name='stage1-{}-{}'.format(experiment_name, size))],\n",
    "\n",
    "                  )#"
   ]
  },
  {
   "cell_type": "code",
   "execution_count": 22,
   "metadata": {},
   "outputs": [
    {
     "data": {
      "text/html": [
       "Total time: 12:13 <p><table style='width:525px; margin-bottom:10px'>\n",
       "  <tr>\n",
       "    <th>epoch</th>\n",
       "    <th>train_loss</th>\n",
       "    <th>valid_loss</th>\n",
       "    <th>error_rate</th>\n",
       "    <th>f1_weighted</th>\n",
       "    <th>mcc</th>\n",
       "    <th>time</th>\n",
       "  </tr>\n",
       "  <tr>\n",
       "    <th>0</th>\n",
       "    <th>0.536388</th>\n",
       "    <th>0.613834</th>\n",
       "    <th>0.262989</th>\n",
       "    <th>0.718146</th>\n",
       "    <th>0.383078</th>\n",
       "    <th>02:22</th>\n",
       "  </tr>\n",
       "  <tr>\n",
       "    <th>1</th>\n",
       "    <th>0.466669</th>\n",
       "    <th>0.595460</th>\n",
       "    <th>0.235672</th>\n",
       "    <th>0.743774</th>\n",
       "    <th>0.453376</th>\n",
       "    <th>02:24</th>\n",
       "  </tr>\n",
       "  <tr>\n",
       "    <th>2</th>\n",
       "    <th>0.423838</th>\n",
       "    <th>0.617161</th>\n",
       "    <th>0.237815</th>\n",
       "    <th>0.738929</th>\n",
       "    <th>0.448691</th>\n",
       "    <th>02:27</th>\n",
       "  </tr>\n",
       "  <tr>\n",
       "    <th>3</th>\n",
       "    <th>0.409386</th>\n",
       "    <th>0.541858</th>\n",
       "    <th>0.192287</th>\n",
       "    <th>0.796818</th>\n",
       "    <th>0.561486</th>\n",
       "    <th>02:28</th>\n",
       "  </tr>\n",
       "  <tr>\n",
       "    <th>4</th>\n",
       "    <th>0.398699</th>\n",
       "    <th>0.553398</th>\n",
       "    <th>0.194430</th>\n",
       "    <th>0.788157</th>\n",
       "    <th>0.563253</th>\n",
       "    <th>02:28</th>\n",
       "  </tr>\n",
       "</table>\n"
      ],
      "text/plain": [
       "<IPython.core.display.HTML object>"
      ]
     },
     "metadata": {},
     "output_type": "display_data"
    },
    {
     "name": "stdout",
     "output_type": "stream",
     "text": [
      "Better model found at epoch 0 with val_loss value: 0.613834023475647.\n",
      "Better model found at epoch 1 with val_loss value: 0.5954598784446716.\n",
      "Better model found at epoch 3 with val_loss value: 0.541857898235321.\n"
     ]
    },
    {
     "data": {
      "text/html": [
       "Total time: 30:42 <p><table style='width:525px; margin-bottom:10px'>\n",
       "  <tr>\n",
       "    <th>epoch</th>\n",
       "    <th>train_loss</th>\n",
       "    <th>valid_loss</th>\n",
       "    <th>error_rate</th>\n",
       "    <th>f1_weighted</th>\n",
       "    <th>mcc</th>\n",
       "    <th>time</th>\n",
       "  </tr>\n",
       "  <tr>\n",
       "    <th>0</th>\n",
       "    <th>0.399317</th>\n",
       "    <th>0.540237</th>\n",
       "    <th>0.189073</th>\n",
       "    <th>0.795559</th>\n",
       "    <th>0.574716</th>\n",
       "    <th>03:08</th>\n",
       "  </tr>\n",
       "  <tr>\n",
       "    <th>1</th>\n",
       "    <th>0.394206</th>\n",
       "    <th>0.544941</th>\n",
       "    <th>0.202464</th>\n",
       "    <th>0.777333</th>\n",
       "    <th>0.545155</th>\n",
       "    <th>03:04</th>\n",
       "  </tr>\n",
       "  <tr>\n",
       "    <th>2</th>\n",
       "    <th>0.393540</th>\n",
       "    <th>0.512159</th>\n",
       "    <th>0.164435</th>\n",
       "    <th>0.829101</th>\n",
       "    <th>0.627673</th>\n",
       "    <th>03:05</th>\n",
       "  </tr>\n",
       "  <tr>\n",
       "    <th>3</th>\n",
       "    <th>0.386360</th>\n",
       "    <th>0.526169</th>\n",
       "    <th>0.171398</th>\n",
       "    <th>0.821919</th>\n",
       "    <th>0.611028</th>\n",
       "    <th>03:03</th>\n",
       "  </tr>\n",
       "  <tr>\n",
       "    <th>4</th>\n",
       "    <th>0.378318</th>\n",
       "    <th>0.541720</th>\n",
       "    <th>0.190680</th>\n",
       "    <th>0.799289</th>\n",
       "    <th>0.565100</th>\n",
       "    <th>03:02</th>\n",
       "  </tr>\n",
       "  <tr>\n",
       "    <th>5</th>\n",
       "    <th>0.375187</th>\n",
       "    <th>0.527252</th>\n",
       "    <th>0.171934</th>\n",
       "    <th>0.819330</th>\n",
       "    <th>0.610849</th>\n",
       "    <th>03:02</th>\n",
       "  </tr>\n",
       "  <tr>\n",
       "    <th>6</th>\n",
       "    <th>0.370875</th>\n",
       "    <th>0.531123</th>\n",
       "    <th>0.172469</th>\n",
       "    <th>0.817170</th>\n",
       "    <th>0.611313</th>\n",
       "    <th>03:02</th>\n",
       "  </tr>\n",
       "  <tr>\n",
       "    <th>7</th>\n",
       "    <th>0.365996</th>\n",
       "    <th>0.526108</th>\n",
       "    <th>0.174076</th>\n",
       "    <th>0.817569</th>\n",
       "    <th>0.605248</th>\n",
       "    <th>03:03</th>\n",
       "  </tr>\n",
       "  <tr>\n",
       "    <th>8</th>\n",
       "    <th>0.367102</th>\n",
       "    <th>0.536797</th>\n",
       "    <th>0.178897</th>\n",
       "    <th>0.809515</th>\n",
       "    <th>0.596304</th>\n",
       "    <th>03:03</th>\n",
       "  </tr>\n",
       "  <tr>\n",
       "    <th>9</th>\n",
       "    <th>0.363997</th>\n",
       "    <th>0.524645</th>\n",
       "    <th>0.171934</th>\n",
       "    <th>0.819207</th>\n",
       "    <th>0.610960</th>\n",
       "    <th>03:02</th>\n",
       "  </tr>\n",
       "</table>\n"
      ],
      "text/plain": [
       "<IPython.core.display.HTML object>"
      ]
     },
     "metadata": {},
     "output_type": "display_data"
    },
    {
     "name": "stdout",
     "output_type": "stream",
     "text": [
      "Better model found at epoch 0 with val_loss value: 0.54023677110672.\n",
      "Better model found at epoch 2 with val_loss value: 0.5121586918830872.\n"
     ]
    }
   ],
   "source": [
    "learn.freeze()\n",
    "lr = 1e-2\n",
    "learn.fit_one_cycle(5, lr)\n",
    "\n",
    "learn.unfreeze()\n",
    "learn.fit_one_cycle(10, slice(1e-5,lr/5))"
   ]
  },
  {
   "cell_type": "code",
   "execution_count": 23,
   "metadata": {},
   "outputs": [
    {
     "data": {
      "text/html": [
       "Total time: 01:43 <p>"
      ],
      "text/plain": [
       "<IPython.core.display.HTML object>"
      ]
     },
     "metadata": {},
     "output_type": "display_data"
    },
    {
     "data": {
      "text/plain": [
       "0.8414091063854414"
      ]
     },
     "execution_count": 23,
     "metadata": {},
     "output_type": "execute_result"
    }
   ],
   "source": [
    "y_pred, y_test_tta = learn.TTA(ds_type=DatasetType.Valid, scale=1.1)#, beta=0.4, scale=1.3\n",
    "y_pred = to_np(y_pred)\n",
    "f1_score(y_test_tta, np.argmax(y_pred, axis=1),  average='weighted')"
   ]
  },
  {
   "cell_type": "code",
   "execution_count": 24,
   "metadata": {},
   "outputs": [
    {
     "data": {
      "text/html": [
       "Total time: 27:06 <p><table style='width:525px; margin-bottom:10px'>\n",
       "  <tr>\n",
       "    <th>epoch</th>\n",
       "    <th>train_loss</th>\n",
       "    <th>valid_loss</th>\n",
       "    <th>error_rate</th>\n",
       "    <th>f1_weighted</th>\n",
       "    <th>mcc</th>\n",
       "    <th>time</th>\n",
       "  </tr>\n",
       "  <tr>\n",
       "    <th>0</th>\n",
       "    <th>0.416124</th>\n",
       "    <th>0.515282</th>\n",
       "    <th>0.173540</th>\n",
       "    <th>0.821578</th>\n",
       "    <th>0.606379</th>\n",
       "    <th>05:31</th>\n",
       "  </tr>\n",
       "  <tr>\n",
       "    <th>1</th>\n",
       "    <th>0.414445</th>\n",
       "    <th>0.592366</th>\n",
       "    <th>0.221210</th>\n",
       "    <th>0.754310</th>\n",
       "    <th>0.497070</th>\n",
       "    <th>05:22</th>\n",
       "  </tr>\n",
       "  <tr>\n",
       "    <th>2</th>\n",
       "    <th>0.396015</th>\n",
       "    <th>0.527887</th>\n",
       "    <th>0.176219</th>\n",
       "    <th>0.819746</th>\n",
       "    <th>0.600984</th>\n",
       "    <th>05:23</th>\n",
       "  </tr>\n",
       "  <tr>\n",
       "    <th>3</th>\n",
       "    <th>0.375123</th>\n",
       "    <th>0.501548</th>\n",
       "    <th>0.152116</th>\n",
       "    <th>0.844838</th>\n",
       "    <th>0.656999</th>\n",
       "    <th>05:23</th>\n",
       "  </tr>\n",
       "  <tr>\n",
       "    <th>4</th>\n",
       "    <th>0.371527</th>\n",
       "    <th>0.496737</th>\n",
       "    <th>0.133369</th>\n",
       "    <th>0.862296</th>\n",
       "    <th>0.700647</th>\n",
       "    <th>05:24</th>\n",
       "  </tr>\n",
       "</table>\n"
      ],
      "text/plain": [
       "<IPython.core.display.HTML object>"
      ]
     },
     "metadata": {},
     "output_type": "display_data"
    },
    {
     "name": "stdout",
     "output_type": "stream",
     "text": [
      "Better model found at epoch 0 with val_loss value: 0.5152815580368042.\n",
      "Better model found at epoch 3 with val_loss value: 0.5015484690666199.\n",
      "Better model found at epoch 4 with val_loss value: 0.4967368543148041.\n"
     ]
    },
    {
     "data": {
      "text/html": [
       "Total time: 1:11:15 <p><table style='width:525px; margin-bottom:10px'>\n",
       "  <tr>\n",
       "    <th>epoch</th>\n",
       "    <th>train_loss</th>\n",
       "    <th>valid_loss</th>\n",
       "    <th>error_rate</th>\n",
       "    <th>f1_weighted</th>\n",
       "    <th>mcc</th>\n",
       "    <th>time</th>\n",
       "  </tr>\n",
       "  <tr>\n",
       "    <th>0</th>\n",
       "    <th>0.369992</th>\n",
       "    <th>0.490792</th>\n",
       "    <th>0.131227</th>\n",
       "    <th>0.864894</th>\n",
       "    <th>0.705316</th>\n",
       "    <th>07:11</th>\n",
       "  </tr>\n",
       "  <tr>\n",
       "    <th>1</th>\n",
       "    <th>0.369689</th>\n",
       "    <th>0.508152</th>\n",
       "    <th>0.151044</th>\n",
       "    <th>0.843541</th>\n",
       "    <th>0.659258</th>\n",
       "    <th>07:09</th>\n",
       "  </tr>\n",
       "  <tr>\n",
       "    <th>2</th>\n",
       "    <th>0.377834</th>\n",
       "    <th>0.497178</th>\n",
       "    <th>0.142475</th>\n",
       "    <th>0.853106</th>\n",
       "    <th>0.679071</th>\n",
       "    <th>07:07</th>\n",
       "  </tr>\n",
       "  <tr>\n",
       "    <th>3</th>\n",
       "    <th>0.364683</th>\n",
       "    <th>0.512571</th>\n",
       "    <th>0.146224</th>\n",
       "    <th>0.852659</th>\n",
       "    <th>0.673498</th>\n",
       "    <th>07:06</th>\n",
       "  </tr>\n",
       "  <tr>\n",
       "    <th>4</th>\n",
       "    <th>0.367209</th>\n",
       "    <th>0.553707</th>\n",
       "    <th>0.164435</th>\n",
       "    <th>0.830023</th>\n",
       "    <th>0.627460</th>\n",
       "    <th>07:07</th>\n",
       "  </tr>\n",
       "  <tr>\n",
       "    <th>5</th>\n",
       "    <th>0.357248</th>\n",
       "    <th>0.589048</th>\n",
       "    <th>0.175683</th>\n",
       "    <th>0.817911</th>\n",
       "    <th>0.600805</th>\n",
       "    <th>07:07</th>\n",
       "  </tr>\n",
       "  <tr>\n",
       "    <th>6</th>\n",
       "    <th>0.354264</th>\n",
       "    <th>0.559314</th>\n",
       "    <th>0.169255</th>\n",
       "    <th>0.827613</th>\n",
       "    <th>0.617987</th>\n",
       "    <th>07:05</th>\n",
       "  </tr>\n",
       "  <tr>\n",
       "    <th>7</th>\n",
       "    <th>0.348691</th>\n",
       "    <th>0.541622</th>\n",
       "    <th>0.161757</th>\n",
       "    <th>0.835883</th>\n",
       "    <th>0.636135</th>\n",
       "    <th>07:04</th>\n",
       "  </tr>\n",
       "  <tr>\n",
       "    <th>8</th>\n",
       "    <th>0.346238</th>\n",
       "    <th>0.565393</th>\n",
       "    <th>0.180503</th>\n",
       "    <th>0.818041</th>\n",
       "    <th>0.596472</th>\n",
       "    <th>07:05</th>\n",
       "  </tr>\n",
       "  <tr>\n",
       "    <th>9</th>\n",
       "    <th>0.350817</th>\n",
       "    <th>0.613792</th>\n",
       "    <th>0.178897</th>\n",
       "    <th>0.818910</th>\n",
       "    <th>0.598110</th>\n",
       "    <th>07:06</th>\n",
       "  </tr>\n",
       "</table>\n"
      ],
      "text/plain": [
       "<IPython.core.display.HTML object>"
      ]
     },
     "metadata": {},
     "output_type": "display_data"
    },
    {
     "name": "stdout",
     "output_type": "stream",
     "text": [
      "Better model found at epoch 0 with val_loss value: 0.49079224467277527.\n"
     ]
    }
   ],
   "source": [
    "size = 384\n",
    "bs = 32\n",
    "learn.data = get_data(bs, size)\n",
    "\n",
    "learn.freeze()\n",
    "lr = 1e-2\n",
    "learn.fit_one_cycle(5, lr)\n",
    "\n",
    "learn.unfreeze()\n",
    "learn.fit_one_cycle(10, slice(1e-5,lr/5))"
   ]
  },
  {
   "cell_type": "code",
   "execution_count": 25,
   "metadata": {},
   "outputs": [
    {
     "data": {
      "text/html": [
       "Total time: 03:08 <p>"
      ],
      "text/plain": [
       "<IPython.core.display.HTML object>"
      ]
     },
     "metadata": {},
     "output_type": "display_data"
    },
    {
     "data": {
      "text/plain": [
       "0.8723919706598805"
      ]
     },
     "execution_count": 25,
     "metadata": {},
     "output_type": "execute_result"
    }
   ],
   "source": [
    "y_pred, y_test_tta = learn.TTA(ds_type=DatasetType.Valid, scale=1.1)#, beta=0.4, scale=1.3\n",
    "y_pred = to_np(y_pred)\n",
    "f1_score(y_test_tta, np.argmax(y_pred, axis=1),  average='weighted')"
   ]
  },
  {
   "cell_type": "code",
   "execution_count": 26,
   "metadata": {},
   "outputs": [
    {
     "data": {
      "text/html": [
       "Total time: 37:18 <p><table style='width:525px; margin-bottom:10px'>\n",
       "  <tr>\n",
       "    <th>epoch</th>\n",
       "    <th>train_loss</th>\n",
       "    <th>valid_loss</th>\n",
       "    <th>error_rate</th>\n",
       "    <th>f1_weighted</th>\n",
       "    <th>mcc</th>\n",
       "    <th>time</th>\n",
       "  </tr>\n",
       "  <tr>\n",
       "    <th>0</th>\n",
       "    <th>0.411980</th>\n",
       "    <th>0.513928</th>\n",
       "    <th>0.155865</th>\n",
       "    <th>0.841368</th>\n",
       "    <th>0.648793</th>\n",
       "    <th>07:32</th>\n",
       "  </tr>\n",
       "  <tr>\n",
       "    <th>1</th>\n",
       "    <th>0.426865</th>\n",
       "    <th>0.567514</th>\n",
       "    <th>0.200857</th>\n",
       "    <th>0.781905</th>\n",
       "    <th>0.545104</th>\n",
       "    <th>07:22</th>\n",
       "  </tr>\n",
       "  <tr>\n",
       "    <th>2</th>\n",
       "    <th>0.409926</th>\n",
       "    <th>0.608666</th>\n",
       "    <th>0.128548</th>\n",
       "    <th>0.867980</th>\n",
       "    <th>0.711325</th>\n",
       "    <th>07:22</th>\n",
       "  </tr>\n",
       "  <tr>\n",
       "    <th>3</th>\n",
       "    <th>0.386564</th>\n",
       "    <th>0.593779</th>\n",
       "    <th>0.157472</th>\n",
       "    <th>0.839850</th>\n",
       "    <th>0.645278</th>\n",
       "    <th>07:29</th>\n",
       "  </tr>\n",
       "  <tr>\n",
       "    <th>4</th>\n",
       "    <th>0.378266</th>\n",
       "    <th>0.564243</th>\n",
       "    <th>0.151044</th>\n",
       "    <th>0.846460</th>\n",
       "    <th>0.660047</th>\n",
       "    <th>07:30</th>\n",
       "  </tr>\n",
       "</table>\n"
      ],
      "text/plain": [
       "<IPython.core.display.HTML object>"
      ]
     },
     "metadata": {},
     "output_type": "display_data"
    },
    {
     "name": "stdout",
     "output_type": "stream",
     "text": [
      "Better model found at epoch 0 with val_loss value: 0.5139284133911133.\n"
     ]
    },
    {
     "data": {
      "text/html": [
       "Total time: 1:40:01 <p><table style='width:525px; margin-bottom:10px'>\n",
       "  <tr>\n",
       "    <th>epoch</th>\n",
       "    <th>train_loss</th>\n",
       "    <th>valid_loss</th>\n",
       "    <th>error_rate</th>\n",
       "    <th>f1_weighted</th>\n",
       "    <th>mcc</th>\n",
       "    <th>time</th>\n",
       "  </tr>\n",
       "  <tr>\n",
       "    <th>0</th>\n",
       "    <th>0.385768</th>\n",
       "    <th>0.624427</th>\n",
       "    <th>0.167649</th>\n",
       "    <th>0.822600</th>\n",
       "    <th>0.622861</th>\n",
       "    <th>10:05</th>\n",
       "  </tr>\n",
       "  <tr>\n",
       "    <th>1</th>\n",
       "    <th>0.404875</th>\n",
       "    <th>0.670856</th>\n",
       "    <th>0.181575</th>\n",
       "    <th>0.814649</th>\n",
       "    <th>0.589128</th>\n",
       "    <th>10:02</th>\n",
       "  </tr>\n",
       "  <tr>\n",
       "    <th>2</th>\n",
       "    <th>0.387827</th>\n",
       "    <th>0.624726</th>\n",
       "    <th>0.142475</th>\n",
       "    <th>0.857316</th>\n",
       "    <th>0.684766</th>\n",
       "    <th>09:59</th>\n",
       "  </tr>\n",
       "  <tr>\n",
       "    <th>3</th>\n",
       "    <th>0.373853</th>\n",
       "    <th>0.666294</th>\n",
       "    <th>0.166042</th>\n",
       "    <th>0.829001</th>\n",
       "    <th>0.623774</th>\n",
       "    <th>10:00</th>\n",
       "  </tr>\n",
       "  <tr>\n",
       "    <th>4</th>\n",
       "    <th>0.376201</th>\n",
       "    <th>0.572546</th>\n",
       "    <th>0.155329</th>\n",
       "    <th>0.844442</th>\n",
       "    <th>0.656320</th>\n",
       "    <th>10:00</th>\n",
       "  </tr>\n",
       "  <tr>\n",
       "    <th>5</th>\n",
       "    <th>0.372105</th>\n",
       "    <th>0.640008</th>\n",
       "    <th>0.179432</th>\n",
       "    <th>0.819785</th>\n",
       "    <th>0.601012</th>\n",
       "    <th>10:00</th>\n",
       "  </tr>\n",
       "  <tr>\n",
       "    <th>6</th>\n",
       "    <th>0.368230</th>\n",
       "    <th>0.549764</th>\n",
       "    <th>0.167649</th>\n",
       "    <th>0.832501</th>\n",
       "    <th>0.630782</th>\n",
       "    <th>09:57</th>\n",
       "  </tr>\n",
       "  <tr>\n",
       "    <th>7</th>\n",
       "    <th>0.365737</th>\n",
       "    <th>0.696244</th>\n",
       "    <th>0.173005</th>\n",
       "    <th>0.826901</th>\n",
       "    <th>0.617876</th>\n",
       "    <th>09:57</th>\n",
       "  </tr>\n",
       "  <tr>\n",
       "    <th>8</th>\n",
       "    <th>0.359260</th>\n",
       "    <th>0.552292</th>\n",
       "    <th>0.174612</th>\n",
       "    <th>0.825261</th>\n",
       "    <th>0.614190</th>\n",
       "    <th>09:56</th>\n",
       "  </tr>\n",
       "  <tr>\n",
       "    <th>9</th>\n",
       "    <th>0.359445</th>\n",
       "    <th>0.555878</th>\n",
       "    <th>0.174612</th>\n",
       "    <th>0.821249</th>\n",
       "    <th>0.604543</th>\n",
       "    <th>09:56</th>\n",
       "  </tr>\n",
       "</table>\n"
      ],
      "text/plain": [
       "<IPython.core.display.HTML object>"
      ]
     },
     "metadata": {},
     "output_type": "display_data"
    },
    {
     "name": "stdout",
     "output_type": "stream",
     "text": [
      "Better model found at epoch 0 with val_loss value: 0.6244266033172607.\n",
      "Better model found at epoch 4 with val_loss value: 0.5725460052490234.\n",
      "Better model found at epoch 6 with val_loss value: 0.5497637391090393.\n"
     ]
    }
   ],
   "source": [
    "size = 450\n",
    "bs = 16\n",
    "learn.data = get_data(bs, size)\n",
    "\n",
    "learn.freeze()\n",
    "lr = 1e-2\n",
    "learn.fit_one_cycle(5, lr)\n",
    "\n",
    "learn.unfreeze()\n",
    "learn.fit_one_cycle(10, slice(1e-5,lr/5))"
   ]
  },
  {
   "cell_type": "code",
   "execution_count": 27,
   "metadata": {},
   "outputs": [
    {
     "data": {
      "text/html": [
       "Total time: 04:15 <p>"
      ],
      "text/plain": [
       "<IPython.core.display.HTML object>"
      ]
     },
     "metadata": {},
     "output_type": "display_data"
    },
    {
     "data": {
      "text/plain": [
       "0.8347965488282988"
      ]
     },
     "execution_count": 27,
     "metadata": {},
     "output_type": "execute_result"
    }
   ],
   "source": [
    "y_pred, y_test_tta = learn.TTA(ds_type=DatasetType.Valid, scale=1.1)#, beta=0.4, scale=1.3\n",
    "y_pred = to_np(y_pred)\n",
    "f1_score(y_test_tta, np.argmax(y_pred, axis=1),  average='weighted')"
   ]
  },
  {
   "cell_type": "code",
   "execution_count": null,
   "metadata": {},
   "outputs": [],
   "source": []
  }
 ],
 "metadata": {
  "kernelspec": {
   "display_name": "Python 3",
   "language": "python",
   "name": "python3"
  },
  "language_info": {
   "codemirror_mode": {
    "name": "ipython",
    "version": 3
   },
   "file_extension": ".py",
   "mimetype": "text/x-python",
   "name": "python",
   "nbconvert_exporter": "python",
   "pygments_lexer": "ipython3",
   "version": "3.6.7"
  }
 },
 "nbformat": 4,
 "nbformat_minor": 1
}
