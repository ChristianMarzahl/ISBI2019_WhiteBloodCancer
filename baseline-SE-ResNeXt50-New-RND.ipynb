{
 "cells": [
  {
   "cell_type": "code",
   "execution_count": 1,
   "metadata": {},
   "outputs": [],
   "source": [
    "%reload_ext autoreload\n",
    "%autoreload 2\n",
    "%matplotlib inline"
   ]
  },
  {
   "cell_type": "code",
   "execution_count": 2,
   "metadata": {},
   "outputs": [],
   "source": [
    "import os\n",
    "from pathlib import Path\n",
    "from tqdm import tqdm\n",
    "import matplotlib.pyplot as plt\n",
    "import random"
   ]
  },
  {
   "cell_type": "code",
   "execution_count": 3,
   "metadata": {},
   "outputs": [],
   "source": [
    "import cv2\n",
    "from fastai import *\n",
    "from fastai.vision import *\n",
    "from fastai.callbacks import *"
   ]
  },
  {
   "cell_type": "code",
   "execution_count": 4,
   "metadata": {},
   "outputs": [],
   "source": [
    "from dataset_spliter import SplitByPatient\n",
    "from metrics import *#F1Weighted, MCC\n",
    "from losses import *"
   ]
  },
  {
   "cell_type": "code",
   "execution_count": 5,
   "metadata": {},
   "outputs": [],
   "source": [
    "import pretrainedmodels"
   ]
  },
  {
   "cell_type": "code",
   "execution_count": 6,
   "metadata": {},
   "outputs": [],
   "source": [
    "path = Path('/data/Datasets/WhiteBloodCancer/train/')"
   ]
  },
  {
   "cell_type": "code",
   "execution_count": 7,
   "metadata": {},
   "outputs": [],
   "source": [
    "np.random.seed(42)"
   ]
  },
  {
   "cell_type": "code",
   "execution_count": 8,
   "metadata": {},
   "outputs": [
    {
     "data": {
      "text/plain": [
       "[PosixPath('/data/Datasets/WhiteBloodCancer/train/fold_1/hem/UID_H10_43_1_hem.bmp'),\n",
       " PosixPath('/data/Datasets/WhiteBloodCancer/train/fold_1/hem/UID_H22_31_15_hem.bmp'),\n",
       " PosixPath('/data/Datasets/WhiteBloodCancer/train/fold_1/hem/UID_H14_9_11_hem.bmp'),\n",
       " PosixPath('/data/Datasets/WhiteBloodCancer/train/fold_1/hem/UID_H14_28_6_hem.bmp'),\n",
       " PosixPath('/data/Datasets/WhiteBloodCancer/train/fold_1/hem/UID_H10_189_1_hem.bmp')]"
      ]
     },
     "execution_count": 8,
     "metadata": {},
     "output_type": "execute_result"
    }
   ],
   "source": [
    "fnames = get_image_files(path, recurse=True)\n",
    "fnames[:5]"
   ]
  },
  {
   "cell_type": "code",
   "execution_count": 9,
   "metadata": {},
   "outputs": [
    {
     "data": {
      "text/plain": [
       "10661"
      ]
     },
     "execution_count": 9,
     "metadata": {},
     "output_type": "execute_result"
    }
   ],
   "source": [
    "train_files_regex = re.compile(r'(fold_0|fold_1|fold_2)')\n",
    "\n",
    "fnames = [fn for fn in fnames if train_files_regex.search(str(fn)) is not None]\n",
    "len(fnames)"
   ]
  },
  {
   "cell_type": "code",
   "execution_count": 10,
   "metadata": {},
   "outputs": [],
   "source": [
    "hem_regex = re.compile(r'UID_(H[0-9]+)_', re.IGNORECASE)\n",
    "all_regex = re.compile(r'UID_([0-9]+)_', re.IGNORECASE)"
   ]
  },
  {
   "cell_type": "code",
   "execution_count": 11,
   "metadata": {},
   "outputs": [
    {
     "name": "stdout",
     "output_type": "stream",
     "text": [
      "\n"
     ]
    }
   ],
   "source": [
    "hem_patient_ids = list(set([hem_regex.search(str(fn)).group(1)\n",
    "                            for fn in fnames if hem_regex.search(str(fn)) is not None]))\n",
    "all_patint_ids = list(set([all_regex.search(str(fn)).group(1)\n",
    "                           for fn in fnames if all_regex.search(str(fn)) is not None]))\n",
    "\n",
    "hem_patients = dict((k,[]) for k in hem_patient_ids)\n",
    "all_patints = dict((k,[]) for k in all_patint_ids)\n",
    "\n",
    "[all_patints[key].append(fn) for key in all_patints.keys() for fn in fnames if 'UID_{0}_'.format(key) in str(fn)]\n",
    "[hem_patients[key].append(fn) for key in hem_patients.keys() for fn in fnames if 'UID_{0}_'.format(key) in str(fn)]\n",
    "print()"
   ]
  },
  {
   "cell_type": "markdown",
   "metadata": {},
   "source": [
    "## Split data into train val "
   ]
  },
  {
   "cell_type": "code",
   "execution_count": 12,
   "metadata": {},
   "outputs": [],
   "source": [
    "split_handler = SplitByPatient(hem_patients, all_patints)"
   ]
  },
  {
   "cell_type": "markdown",
   "metadata": {},
   "source": [
    "### Split by regex"
   ]
  },
  {
   "cell_type": "code",
   "execution_count": 13,
   "metadata": {},
   "outputs": [],
   "source": [
    "hem_train, all_train, hem_val, all_val = split_handler.random_split(0.1)"
   ]
  },
  {
   "cell_type": "code",
   "execution_count": 14,
   "metadata": {},
   "outputs": [
    {
     "name": "stdout",
     "output_type": "stream",
     "text": [
      "Train Total: 9596\n",
      "Val Total: 1065\n",
      "\n",
      "Hem train: 3051\n",
      "All train: 6545\n",
      "Hem val: 338\n",
      "All val: 727\n"
     ]
    }
   ],
   "source": [
    "print('Train Total: {0}'.format(len(hem_train)+len(all_train)))\n",
    "print('Val Total: {0}'.format(len(hem_val)+len(all_val)))\n",
    "print(\"\")\n",
    "print('Hem train: {}'.format(len(hem_train)))\n",
    "print('All train: {}'.format(len(all_train)))\n",
    "print('Hem val: {}'.format(len(hem_val)))\n",
    "print('All val: {}'.format(len(all_val)))"
   ]
  },
  {
   "cell_type": "code",
   "execution_count": 15,
   "metadata": {},
   "outputs": [],
   "source": [
    "pat = re.compile(r'^.*(hem|all).bmp$')\n",
    "\n",
    "def get_label(fn):\n",
    "    return pat.search(str(fn)).group(1)"
   ]
  },
  {
   "cell_type": "markdown",
   "metadata": {},
   "source": [
    "### Use complete image"
   ]
  },
  {
   "cell_type": "code",
   "execution_count": 16,
   "metadata": {},
   "outputs": [],
   "source": [
    "train = ImageList(hem_train + all_train) #optinal scale up classes \n",
    "valid = ImageList(hem_val + all_val)"
   ]
  },
  {
   "cell_type": "code",
   "execution_count": 17,
   "metadata": {},
   "outputs": [],
   "source": [
    "item_list = ItemLists(path, train, valid)\n",
    "lls = item_list.label_from_func(get_label).add_test_folder('../test')"
   ]
  },
  {
   "cell_type": "markdown",
   "metadata": {},
   "source": [
    "#### Data augmentation"
   ]
  },
  {
   "cell_type": "code",
   "execution_count": 18,
   "metadata": {},
   "outputs": [],
   "source": [
    "xtra_tfms=[cutout(n_holes=5, length=0.2)]#squish(scale=0.66), \n",
    "tfms = get_transforms(do_flip=True, \n",
    "                      flip_vert=True, \n",
    "                      #max_rotate=90,  \n",
    "                      max_lighting=0.05, \n",
    "                      max_zoom=1.05, \n",
    "                      max_warp=0.05,\n",
    "                      #p_affine=0.75,\n",
    "                      #p_lighting=0.75,  \n",
    "                      #xtra_tfms=xtra_tfms,\n",
    "                     )"
   ]
  },
  {
   "cell_type": "markdown",
   "metadata": {},
   "source": [
    "#### Create dataset "
   ]
  },
  {
   "cell_type": "code",
   "execution_count": 25,
   "metadata": {},
   "outputs": [],
   "source": [
    "import pandas as pd\n",
    "\n",
    "file = \"/server/born_pix/EPA_DATASETS/WhiteBloodCancer/VAL_ISBI_labelfile_Source_reference_prediction.csv\"\n",
    "dataset = pd.read_csv(file, delimiter=';')\n",
    "gt_labels = np.array(dataset.loc[:, 'labels'])"
   ]
  },
  {
   "cell_type": "code",
   "execution_count": 19,
   "metadata": {},
   "outputs": [],
   "source": [
    "def get_data(bs, size):\n",
    "    data  = ImageDataBunch.create_from_ll(lls, size=size, bs=bs, \n",
    "                                      ds_tfms=tfms, padding_mode='zeros',\n",
    "                                      resize_method=ResizeMethod.PAD)\n",
    "    data = data.normalize()\n",
    "    #data = data.normalize((channel_mean, channel_std))\n",
    "    return data\n",
    "    "
   ]
  },
  {
   "cell_type": "code",
   "execution_count": 20,
   "metadata": {},
   "outputs": [
    {
     "name": "stdout",
     "output_type": "stream",
     "text": [
      "['fbresnet152', 'bninception', 'resnext101_32x4d', 'resnext101_64x4d', 'inceptionv4', 'inceptionresnetv2', 'alexnet', 'densenet121', 'densenet169', 'densenet201', 'densenet161', 'resnet18', 'resnet34', 'resnet50', 'resnet101', 'resnet152', 'inceptionv3', 'squeezenet1_0', 'squeezenet1_1', 'vgg11', 'vgg11_bn', 'vgg13', 'vgg13_bn', 'vgg16', 'vgg16_bn', 'vgg19_bn', 'vgg19', 'nasnetamobile', 'nasnetalarge', 'dpn68', 'dpn68b', 'dpn92', 'dpn98', 'dpn131', 'dpn107', 'xception', 'senet154', 'se_resnet50', 'se_resnet101', 'se_resnet152', 'se_resnext50_32x4d', 'se_resnext101_32x4d', 'cafferesnet101', 'pnasnet5large', 'polynet']\n"
     ]
    }
   ],
   "source": [
    "print(pretrainedmodels.model_names)"
   ]
  },
  {
   "cell_type": "code",
   "execution_count": 21,
   "metadata": {},
   "outputs": [],
   "source": [
    "def get_cadene_model(pretrained=True, model_name='se_resnext50_32x4d'):\n",
    "    if pretrained:\n",
    "        arch = pretrainedmodels.__dict__[model_name](num_classes=1000, pretrained='imagenet')\n",
    "    else:\n",
    "        arch = pretrainedmodels.__dict__[model_name](num_classes=1000)\n",
    "    return arch"
   ]
  },
  {
   "cell_type": "code",
   "execution_count": 22,
   "metadata": {},
   "outputs": [
    {
     "name": "stderr",
     "output_type": "stream",
     "text": [
      "/home/c.marzahl@de.eu.local/ProgProjekte/fastai_v1/fastai/fastai/vision/learner.py:93: UserWarning: `create_cnn` is deprecated and is now named `cnn_learner`.\n",
      "  warn(\"`create_cnn` is deprecated and is now named `cnn_learner`.\")\n"
     ]
    }
   ],
   "source": [
    "size = 256\n",
    "bs = 64\n",
    "data = get_data(bs, size)\n",
    "\n",
    "experiment_name = \"baseline_se_resnext50_32x4d\"\n",
    "learn = create_cnn(data, get_cadene_model, \n",
    "                    cut=-2,\n",
    "                       metrics=[error_rate, F1Weighted(), MCC()], #  \n",
    "                       #loss_func=FocalLoss(num_classes=1),\n",
    "                       #ps=0.75,\n",
    "                       #wd=0.1,\n",
    "                       loss_func = LabelSmoothingCrossEntropy(),\n",
    "                       callback_fns=[partial(SaveModelCallback, name='stage1-{}-{}'.format(experiment_name, size))],\n",
    "\n",
    "                  )#"
   ]
  },
  {
   "cell_type": "code",
   "execution_count": 23,
   "metadata": {
    "scrolled": false
   },
   "outputs": [
    {
     "data": {
      "text/html": [
       "Total time: 10:43 <p><table style='width:525px; margin-bottom:10px'>\n",
       "  <tr>\n",
       "    <th>epoch</th>\n",
       "    <th>train_loss</th>\n",
       "    <th>valid_loss</th>\n",
       "    <th>error_rate</th>\n",
       "    <th>f1_weighted</th>\n",
       "    <th>mcc</th>\n",
       "    <th>time</th>\n",
       "  </tr>\n",
       "  <tr>\n",
       "    <th>0</th>\n",
       "    <th>0.554767</th>\n",
       "    <th>0.493320</th>\n",
       "    <th>0.132394</th>\n",
       "    <th>0.866894</th>\n",
       "    <th>0.691550</th>\n",
       "    <th>02:09</th>\n",
       "  </tr>\n",
       "  <tr>\n",
       "    <th>1</th>\n",
       "    <th>0.472411</th>\n",
       "    <th>0.447145</th>\n",
       "    <th>0.096714</th>\n",
       "    <th>0.902598</th>\n",
       "    <th>0.774290</th>\n",
       "    <th>02:05</th>\n",
       "  </tr>\n",
       "  <tr>\n",
       "    <th>2</th>\n",
       "    <th>0.440756</th>\n",
       "    <th>0.418130</th>\n",
       "    <th>0.075117</th>\n",
       "    <th>0.923752</th>\n",
       "    <th>0.824208</th>\n",
       "    <th>02:07</th>\n",
       "  </tr>\n",
       "  <tr>\n",
       "    <th>3</th>\n",
       "    <th>0.416214</th>\n",
       "    <th>0.404563</th>\n",
       "    <th>0.067606</th>\n",
       "    <th>0.931636</th>\n",
       "    <th>0.842089</th>\n",
       "    <th>02:09</th>\n",
       "  </tr>\n",
       "  <tr>\n",
       "    <th>4</th>\n",
       "    <th>0.402099</th>\n",
       "    <th>0.399561</th>\n",
       "    <th>0.061972</th>\n",
       "    <th>0.937614</th>\n",
       "    <th>0.855668</th>\n",
       "    <th>02:09</th>\n",
       "  </tr>\n",
       "</table>\n"
      ],
      "text/plain": [
       "<IPython.core.display.HTML object>"
      ]
     },
     "metadata": {},
     "output_type": "display_data"
    },
    {
     "name": "stdout",
     "output_type": "stream",
     "text": [
      "Better model found at epoch 0 with val_loss value: 0.4933198392391205.\n",
      "Better model found at epoch 1 with val_loss value: 0.44714489579200745.\n",
      "Better model found at epoch 2 with val_loss value: 0.41812989115715027.\n",
      "Better model found at epoch 3 with val_loss value: 0.404563307762146.\n",
      "Better model found at epoch 4 with val_loss value: 0.3995606005191803.\n"
     ]
    },
    {
     "data": {
      "text/html": [
       "Total time: 26:53 <p><table style='width:525px; margin-bottom:10px'>\n",
       "  <tr>\n",
       "    <th>epoch</th>\n",
       "    <th>train_loss</th>\n",
       "    <th>valid_loss</th>\n",
       "    <th>error_rate</th>\n",
       "    <th>f1_weighted</th>\n",
       "    <th>mcc</th>\n",
       "    <th>time</th>\n",
       "  </tr>\n",
       "  <tr>\n",
       "    <th>0</th>\n",
       "    <th>0.396744</th>\n",
       "    <th>0.398069</th>\n",
       "    <th>0.057277</th>\n",
       "    <th>0.942415</th>\n",
       "    <th>0.866787</th>\n",
       "    <th>02:44</th>\n",
       "  </tr>\n",
       "  <tr>\n",
       "    <th>1</th>\n",
       "    <th>0.397794</th>\n",
       "    <th>0.396890</th>\n",
       "    <th>0.057277</th>\n",
       "    <th>0.942415</th>\n",
       "    <th>0.866787</th>\n",
       "    <th>02:42</th>\n",
       "  </tr>\n",
       "  <tr>\n",
       "    <th>2</th>\n",
       "    <th>0.394189</th>\n",
       "    <th>0.392994</th>\n",
       "    <th>0.054460</th>\n",
       "    <th>0.944720</th>\n",
       "    <th>0.873342</th>\n",
       "    <th>02:42</th>\n",
       "  </tr>\n",
       "  <tr>\n",
       "    <th>3</th>\n",
       "    <th>0.388349</th>\n",
       "    <th>0.389464</th>\n",
       "    <th>0.053521</th>\n",
       "    <th>0.946371</th>\n",
       "    <th>0.876039</th>\n",
       "    <th>02:41</th>\n",
       "  </tr>\n",
       "  <tr>\n",
       "    <th>4</th>\n",
       "    <th>0.383622</th>\n",
       "    <th>0.384978</th>\n",
       "    <th>0.051643</th>\n",
       "    <th>0.947989</th>\n",
       "    <th>0.879800</th>\n",
       "    <th>02:38</th>\n",
       "  </tr>\n",
       "  <tr>\n",
       "    <th>5</th>\n",
       "    <th>0.375982</th>\n",
       "    <th>0.383964</th>\n",
       "    <th>0.045070</th>\n",
       "    <th>0.954629</th>\n",
       "    <th>0.895200</th>\n",
       "    <th>02:37</th>\n",
       "  </tr>\n",
       "  <tr>\n",
       "    <th>6</th>\n",
       "    <th>0.375897</th>\n",
       "    <th>0.377911</th>\n",
       "    <th>0.041315</th>\n",
       "    <th>0.958336</th>\n",
       "    <th>0.903993</th>\n",
       "    <th>02:37</th>\n",
       "  </tr>\n",
       "  <tr>\n",
       "    <th>7</th>\n",
       "    <th>0.367388</th>\n",
       "    <th>0.376278</th>\n",
       "    <th>0.040376</th>\n",
       "    <th>0.959337</th>\n",
       "    <th>0.906178</th>\n",
       "    <th>02:37</th>\n",
       "  </tr>\n",
       "  <tr>\n",
       "    <th>8</th>\n",
       "    <th>0.366294</th>\n",
       "    <th>0.376219</th>\n",
       "    <th>0.041315</th>\n",
       "    <th>0.958481</th>\n",
       "    <th>0.904047</th>\n",
       "    <th>02:37</th>\n",
       "  </tr>\n",
       "  <tr>\n",
       "    <th>9</th>\n",
       "    <th>0.363150</th>\n",
       "    <th>0.375137</th>\n",
       "    <th>0.038498</th>\n",
       "    <th>0.961159</th>\n",
       "    <th>0.910625</th>\n",
       "    <th>02:37</th>\n",
       "  </tr>\n",
       "</table>\n"
      ],
      "text/plain": [
       "<IPython.core.display.HTML object>"
      ]
     },
     "metadata": {},
     "output_type": "display_data"
    },
    {
     "name": "stdout",
     "output_type": "stream",
     "text": [
      "Better model found at epoch 0 with val_loss value: 0.39806854724884033.\n",
      "Better model found at epoch 1 with val_loss value: 0.39688971638679504.\n",
      "Better model found at epoch 2 with val_loss value: 0.3929944336414337.\n",
      "Better model found at epoch 3 with val_loss value: 0.3894641697406769.\n",
      "Better model found at epoch 4 with val_loss value: 0.3849775195121765.\n",
      "Better model found at epoch 5 with val_loss value: 0.3839643597602844.\n",
      "Better model found at epoch 6 with val_loss value: 0.37791141867637634.\n",
      "Better model found at epoch 7 with val_loss value: 0.37627774477005005.\n",
      "Better model found at epoch 8 with val_loss value: 0.37621915340423584.\n",
      "Better model found at epoch 9 with val_loss value: 0.37513747811317444.\n"
     ]
    }
   ],
   "source": [
    "learn.freeze()\n",
    "lr = 1e-2\n",
    "learn.fit_one_cycle(5, lr)\n",
    "\n",
    "learn.unfreeze()\n",
    "learn.fit_one_cycle(10, slice(1e-5,lr/5))"
   ]
  },
  {
   "cell_type": "code",
   "execution_count": 26,
   "metadata": {},
   "outputs": [
    {
     "data": {
      "text/html": [
       "Total time: 01:43 <p>"
      ],
      "text/plain": [
       "<IPython.core.display.HTML object>"
      ]
     },
     "metadata": {},
     "output_type": "display_data"
    },
    {
     "data": {
      "text/plain": [
       "0.8163285725129181"
      ]
     },
     "execution_count": 26,
     "metadata": {},
     "output_type": "execute_result"
    }
   ],
   "source": [
    "y_pred, y_test_tta = learn.TTA(ds_type=DatasetType.Test, scale=1.)#, beta=0.4, scale=1.3\n",
    "y_pred = to_np(y_pred)\n",
    "\n",
    "submission = [0 for i in range(y_pred.shape[0])]\n",
    "\n",
    "for fn, y in zip(learn.data.test_dl.items, np.argmax(y_pred[:, [1,0]], axis=1)):\n",
    "    index = int(fn.name.replace(\".bmp\", '')) - 1\n",
    "    submission[index] = y\n",
    "    \n",
    "f1_score(gt_labels, submission, average='weighted')"
   ]
  },
  {
   "cell_type": "code",
   "execution_count": 27,
   "metadata": {},
   "outputs": [
    {
     "data": {
      "text/html": [
       "Total time: 23:57 <p><table style='width:525px; margin-bottom:10px'>\n",
       "  <tr>\n",
       "    <th>epoch</th>\n",
       "    <th>train_loss</th>\n",
       "    <th>valid_loss</th>\n",
       "    <th>error_rate</th>\n",
       "    <th>f1_weighted</th>\n",
       "    <th>mcc</th>\n",
       "    <th>time</th>\n",
       "  </tr>\n",
       "  <tr>\n",
       "    <th>0</th>\n",
       "    <th>0.400238</th>\n",
       "    <th>0.395123</th>\n",
       "    <th>0.057277</th>\n",
       "    <th>0.942963</th>\n",
       "    <th>0.869194</th>\n",
       "    <th>04:53</th>\n",
       "  </tr>\n",
       "  <tr>\n",
       "    <th>1</th>\n",
       "    <th>0.419313</th>\n",
       "    <th>0.407370</th>\n",
       "    <th>0.071362</th>\n",
       "    <th>0.929166</th>\n",
       "    <th>0.838635</th>\n",
       "    <th>04:42</th>\n",
       "  </tr>\n",
       "  <tr>\n",
       "    <th>2</th>\n",
       "    <th>0.397846</th>\n",
       "    <th>0.377491</th>\n",
       "    <th>0.042254</th>\n",
       "    <th>0.957556</th>\n",
       "    <th>0.901887</th>\n",
       "    <th>04:46</th>\n",
       "  </tr>\n",
       "  <tr>\n",
       "    <th>3</th>\n",
       "    <th>0.369885</th>\n",
       "    <th>0.366969</th>\n",
       "    <th>0.033803</th>\n",
       "    <th>0.966197</th>\n",
       "    <th>0.921986</th>\n",
       "    <th>04:46</th>\n",
       "  </tr>\n",
       "  <tr>\n",
       "    <th>4</th>\n",
       "    <th>0.365285</th>\n",
       "    <th>0.372941</th>\n",
       "    <th>0.029108</th>\n",
       "    <th>0.970833</th>\n",
       "    <th>0.932610</th>\n",
       "    <th>04:45</th>\n",
       "  </tr>\n",
       "</table>\n"
      ],
      "text/plain": [
       "<IPython.core.display.HTML object>"
      ]
     },
     "metadata": {},
     "output_type": "display_data"
    },
    {
     "name": "stdout",
     "output_type": "stream",
     "text": [
      "Better model found at epoch 0 with val_loss value: 0.3951234519481659.\n",
      "Better model found at epoch 2 with val_loss value: 0.3774907886981964.\n",
      "Better model found at epoch 3 with val_loss value: 0.36696913838386536.\n"
     ]
    },
    {
     "data": {
      "text/html": [
       "Total time: 1:02:58 <p><table style='width:525px; margin-bottom:10px'>\n",
       "  <tr>\n",
       "    <th>epoch</th>\n",
       "    <th>train_loss</th>\n",
       "    <th>valid_loss</th>\n",
       "    <th>error_rate</th>\n",
       "    <th>f1_weighted</th>\n",
       "    <th>mcc</th>\n",
       "    <th>time</th>\n",
       "  </tr>\n",
       "  <tr>\n",
       "    <th>0</th>\n",
       "    <th>0.371726</th>\n",
       "    <th>0.371817</th>\n",
       "    <th>0.023474</th>\n",
       "    <th>0.976459</th>\n",
       "    <th>0.945632</th>\n",
       "    <th>06:21</th>\n",
       "  </tr>\n",
       "  <tr>\n",
       "    <th>1</th>\n",
       "    <th>0.362753</th>\n",
       "    <th>0.357344</th>\n",
       "    <th>0.023474</th>\n",
       "    <th>0.976498</th>\n",
       "    <th>0.945715</th>\n",
       "    <th>06:18</th>\n",
       "  </tr>\n",
       "  <tr>\n",
       "    <th>2</th>\n",
       "    <th>0.364655</th>\n",
       "    <th>0.355917</th>\n",
       "    <th>0.026291</th>\n",
       "    <th>0.973645</th>\n",
       "    <th>0.939113</th>\n",
       "    <th>06:18</th>\n",
       "  </tr>\n",
       "  <tr>\n",
       "    <th>3</th>\n",
       "    <th>0.360355</th>\n",
       "    <th>0.355541</th>\n",
       "    <th>0.018779</th>\n",
       "    <th>0.981221</th>\n",
       "    <th>0.956659</th>\n",
       "    <th>06:13</th>\n",
       "  </tr>\n",
       "  <tr>\n",
       "    <th>4</th>\n",
       "    <th>0.363302</th>\n",
       "    <th>0.355738</th>\n",
       "    <th>0.024413</th>\n",
       "    <th>0.975507</th>\n",
       "    <th>0.943441</th>\n",
       "    <th>06:13</th>\n",
       "  </tr>\n",
       "  <tr>\n",
       "    <th>5</th>\n",
       "    <th>0.360268</th>\n",
       "    <th>0.355879</th>\n",
       "    <th>0.023474</th>\n",
       "    <th>0.976420</th>\n",
       "    <th>0.945621</th>\n",
       "    <th>06:13</th>\n",
       "  </tr>\n",
       "  <tr>\n",
       "    <th>6</th>\n",
       "    <th>0.357832</th>\n",
       "    <th>0.352685</th>\n",
       "    <th>0.022535</th>\n",
       "    <th>0.977373</th>\n",
       "    <th>0.947802</th>\n",
       "    <th>06:17</th>\n",
       "  </tr>\n",
       "  <tr>\n",
       "    <th>7</th>\n",
       "    <th>0.352215</th>\n",
       "    <th>0.349440</th>\n",
       "    <th>0.016901</th>\n",
       "    <th>0.983044</th>\n",
       "    <th>0.960891</th>\n",
       "    <th>06:16</th>\n",
       "  </tr>\n",
       "  <tr>\n",
       "    <th>8</th>\n",
       "    <th>0.351013</th>\n",
       "    <th>0.351054</th>\n",
       "    <th>0.017840</th>\n",
       "    <th>0.982079</th>\n",
       "    <th>0.958742</th>\n",
       "    <th>06:16</th>\n",
       "  </tr>\n",
       "  <tr>\n",
       "    <th>9</th>\n",
       "    <th>0.348380</th>\n",
       "    <th>0.349167</th>\n",
       "    <th>0.016901</th>\n",
       "    <th>0.983044</th>\n",
       "    <th>0.960891</th>\n",
       "    <th>06:17</th>\n",
       "  </tr>\n",
       "</table>\n"
      ],
      "text/plain": [
       "<IPython.core.display.HTML object>"
      ]
     },
     "metadata": {},
     "output_type": "display_data"
    },
    {
     "name": "stdout",
     "output_type": "stream",
     "text": [
      "Better model found at epoch 0 with val_loss value: 0.37181660532951355.\n",
      "Better model found at epoch 1 with val_loss value: 0.3573440909385681.\n",
      "Better model found at epoch 2 with val_loss value: 0.35591748356819153.\n",
      "Better model found at epoch 3 with val_loss value: 0.3555409014225006.\n",
      "Better model found at epoch 6 with val_loss value: 0.35268494486808777.\n",
      "Better model found at epoch 7 with val_loss value: 0.34943994879722595.\n",
      "Better model found at epoch 9 with val_loss value: 0.3491666615009308.\n"
     ]
    }
   ],
   "source": [
    "size = 384\n",
    "bs = 32\n",
    "learn.data = get_data(bs, size)\n",
    "\n",
    "learn.freeze()\n",
    "lr = 1e-2\n",
    "learn.fit_one_cycle(5, lr)\n",
    "\n",
    "learn.unfreeze()\n",
    "learn.fit_one_cycle(10, slice(1e-5,lr/5))"
   ]
  },
  {
   "cell_type": "code",
   "execution_count": 28,
   "metadata": {},
   "outputs": [
    {
     "data": {
      "text/html": [
       "Total time: 03:17 <p>"
      ],
      "text/plain": [
       "<IPython.core.display.HTML object>"
      ]
     },
     "metadata": {},
     "output_type": "display_data"
    },
    {
     "data": {
      "text/plain": [
       "0.8312111121405913"
      ]
     },
     "execution_count": 28,
     "metadata": {},
     "output_type": "execute_result"
    }
   ],
   "source": [
    "y_pred, y_test_tta = learn.TTA(ds_type=DatasetType.Test, scale=1.)#, beta=0.4, scale=1.3\n",
    "y_pred = to_np(y_pred)\n",
    "\n",
    "submission = [0 for i in range(y_pred.shape[0])]\n",
    "\n",
    "for fn, y in zip(learn.data.test_dl.items, np.argmax(y_pred[:, [1,0]], axis=1)):\n",
    "    index = int(fn.name.replace(\".bmp\", '')) - 1\n",
    "    submission[index] = y\n",
    "    \n",
    "f1_score(gt_labels, submission, average='weighted')"
   ]
  },
  {
   "cell_type": "code",
   "execution_count": 29,
   "metadata": {},
   "outputs": [
    {
     "data": {
      "text/html": [
       "Total time: 32:47 <p><table style='width:525px; margin-bottom:10px'>\n",
       "  <tr>\n",
       "    <th>epoch</th>\n",
       "    <th>train_loss</th>\n",
       "    <th>valid_loss</th>\n",
       "    <th>error_rate</th>\n",
       "    <th>f1_weighted</th>\n",
       "    <th>mcc</th>\n",
       "    <th>time</th>\n",
       "  </tr>\n",
       "  <tr>\n",
       "    <th>0</th>\n",
       "    <th>0.396716</th>\n",
       "    <th>0.421959</th>\n",
       "    <th>0.062911</th>\n",
       "    <th>0.935308</th>\n",
       "    <th>0.855424</th>\n",
       "    <th>06:39</th>\n",
       "  </tr>\n",
       "  <tr>\n",
       "    <th>1</th>\n",
       "    <th>0.425696</th>\n",
       "    <th>0.431918</th>\n",
       "    <th>0.070423</th>\n",
       "    <th>0.930569</th>\n",
       "    <th>0.845718</th>\n",
       "    <th>06:30</th>\n",
       "  </tr>\n",
       "  <tr>\n",
       "    <th>2</th>\n",
       "    <th>0.410644</th>\n",
       "    <th>0.369933</th>\n",
       "    <th>0.029108</th>\n",
       "    <th>0.970785</th>\n",
       "    <th>0.932519</th>\n",
       "    <th>06:31</th>\n",
       "  </tr>\n",
       "  <tr>\n",
       "    <th>3</th>\n",
       "    <th>0.386140</th>\n",
       "    <th>0.388634</th>\n",
       "    <th>0.028169</th>\n",
       "    <th>0.971716</th>\n",
       "    <th>0.934693</th>\n",
       "    <th>06:32</th>\n",
       "  </tr>\n",
       "  <tr>\n",
       "    <th>4</th>\n",
       "    <th>0.369727</th>\n",
       "    <th>0.357343</th>\n",
       "    <th>0.023474</th>\n",
       "    <th>0.976400</th>\n",
       "    <th>0.945644</th>\n",
       "    <th>06:32</th>\n",
       "  </tr>\n",
       "</table>\n"
      ],
      "text/plain": [
       "<IPython.core.display.HTML object>"
      ]
     },
     "metadata": {},
     "output_type": "display_data"
    },
    {
     "name": "stdout",
     "output_type": "stream",
     "text": [
      "Better model found at epoch 0 with val_loss value: 0.4219592809677124.\n",
      "Better model found at epoch 2 with val_loss value: 0.3699333369731903.\n",
      "Better model found at epoch 4 with val_loss value: 0.3573426306247711.\n"
     ]
    },
    {
     "data": {
      "text/html": [
       "Total time: 1:28:34 <p><table style='width:525px; margin-bottom:10px'>\n",
       "  <tr>\n",
       "    <th>epoch</th>\n",
       "    <th>train_loss</th>\n",
       "    <th>valid_loss</th>\n",
       "    <th>error_rate</th>\n",
       "    <th>f1_weighted</th>\n",
       "    <th>mcc</th>\n",
       "    <th>time</th>\n",
       "  </tr>\n",
       "  <tr>\n",
       "    <th>0</th>\n",
       "    <th>0.368702</th>\n",
       "    <th>0.371736</th>\n",
       "    <th>0.021596</th>\n",
       "    <th>0.978360</th>\n",
       "    <th>0.950016</th>\n",
       "    <th>08:50</th>\n",
       "  </tr>\n",
       "  <tr>\n",
       "    <th>1</th>\n",
       "    <th>0.377440</th>\n",
       "    <th>0.546723</th>\n",
       "    <th>0.037559</th>\n",
       "    <th>0.962613</th>\n",
       "    <th>0.914437</th>\n",
       "    <th>08:46</th>\n",
       "  </tr>\n",
       "  <tr>\n",
       "    <th>2</th>\n",
       "    <th>0.380507</th>\n",
       "    <th>0.420996</th>\n",
       "    <th>0.038498</th>\n",
       "    <th>0.961228</th>\n",
       "    <th>0.910574</th>\n",
       "    <th>08:47</th>\n",
       "  </tr>\n",
       "  <tr>\n",
       "    <th>3</th>\n",
       "    <th>0.366991</th>\n",
       "    <th>0.359719</th>\n",
       "    <th>0.026291</th>\n",
       "    <th>0.973579</th>\n",
       "    <th>0.939064</th>\n",
       "    <th>08:54</th>\n",
       "  </tr>\n",
       "  <tr>\n",
       "    <th>4</th>\n",
       "    <th>0.373037</th>\n",
       "    <th>0.355673</th>\n",
       "    <th>0.019718</th>\n",
       "    <th>0.980226</th>\n",
       "    <th>0.954349</th>\n",
       "    <th>08:55</th>\n",
       "  </tr>\n",
       "  <tr>\n",
       "    <th>5</th>\n",
       "    <th>0.366695</th>\n",
       "    <th>0.360215</th>\n",
       "    <th>0.023474</th>\n",
       "    <th>0.976379</th>\n",
       "    <th>0.945685</th>\n",
       "    <th>08:54</th>\n",
       "  </tr>\n",
       "  <tr>\n",
       "    <th>6</th>\n",
       "    <th>0.354941</th>\n",
       "    <th>0.362004</th>\n",
       "    <th>0.016901</th>\n",
       "    <th>0.983085</th>\n",
       "    <th>0.960940</th>\n",
       "    <th>08:55</th>\n",
       "  </tr>\n",
       "  <tr>\n",
       "    <th>7</th>\n",
       "    <th>0.358803</th>\n",
       "    <th>0.351313</th>\n",
       "    <th>0.015023</th>\n",
       "    <th>0.984928</th>\n",
       "    <th>0.965253</th>\n",
       "    <th>08:49</th>\n",
       "  </tr>\n",
       "  <tr>\n",
       "    <th>8</th>\n",
       "    <th>0.349555</th>\n",
       "    <th>0.400863</th>\n",
       "    <th>0.022535</th>\n",
       "    <th>0.977517</th>\n",
       "    <th>0.948316</th>\n",
       "    <th>08:47</th>\n",
       "  </tr>\n",
       "  <tr>\n",
       "    <th>9</th>\n",
       "    <th>0.351634</th>\n",
       "    <th>0.355371</th>\n",
       "    <th>0.016901</th>\n",
       "    <th>0.983071</th>\n",
       "    <th>0.960906</th>\n",
       "    <th>08:46</th>\n",
       "  </tr>\n",
       "</table>\n"
      ],
      "text/plain": [
       "<IPython.core.display.HTML object>"
      ]
     },
     "metadata": {},
     "output_type": "display_data"
    },
    {
     "name": "stdout",
     "output_type": "stream",
     "text": [
      "Better model found at epoch 0 with val_loss value: 0.37173616886138916.\n",
      "Better model found at epoch 3 with val_loss value: 0.3597185015678406.\n",
      "Better model found at epoch 4 with val_loss value: 0.3556731343269348.\n",
      "Better model found at epoch 7 with val_loss value: 0.351312518119812.\n"
     ]
    }
   ],
   "source": [
    "size = 450\n",
    "bs = 16\n",
    "learn.data = get_data(bs, size)\n",
    "\n",
    "learn.freeze()\n",
    "lr = 1e-2\n",
    "learn.fit_one_cycle(5, lr)\n",
    "\n",
    "learn.unfreeze()\n",
    "learn.fit_one_cycle(10, slice(1e-5,lr/5))"
   ]
  },
  {
   "cell_type": "code",
   "execution_count": 30,
   "metadata": {},
   "outputs": [
    {
     "data": {
      "text/html": [
       "Total time: 04:15 <p>"
      ],
      "text/plain": [
       "<IPython.core.display.HTML object>"
      ]
     },
     "metadata": {},
     "output_type": "display_data"
    },
    {
     "data": {
      "text/plain": [
       "0.8231369747935328"
      ]
     },
     "execution_count": 30,
     "metadata": {},
     "output_type": "execute_result"
    }
   ],
   "source": [
    "y_pred, y_test_tta = learn.TTA(ds_type=DatasetType.Test, scale=1.)#, beta=0.4, scale=1.3\n",
    "y_pred = to_np(y_pred)\n",
    "\n",
    "submission = [0 for i in range(y_pred.shape[0])]\n",
    "\n",
    "for fn, y in zip(learn.data.test_dl.items, np.argmax(y_pred[:, [1,0]], axis=1)):\n",
    "    index = int(fn.name.replace(\".bmp\", '')) - 1\n",
    "    submission[index] = y\n",
    "    \n",
    "f1_score(gt_labels, submission, average='weighted')"
   ]
  },
  {
   "cell_type": "code",
   "execution_count": null,
   "metadata": {},
   "outputs": [],
   "source": []
  }
 ],
 "metadata": {
  "kernelspec": {
   "display_name": "Python 3",
   "language": "python",
   "name": "python3"
  },
  "language_info": {
   "codemirror_mode": {
    "name": "ipython",
    "version": 3
   },
   "file_extension": ".py",
   "mimetype": "text/x-python",
   "name": "python",
   "nbconvert_exporter": "python",
   "pygments_lexer": "ipython3",
   "version": "3.6.7"
  }
 },
 "nbformat": 4,
 "nbformat_minor": 1
}
