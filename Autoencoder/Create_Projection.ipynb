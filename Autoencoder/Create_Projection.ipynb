{
 "cells": [
  {
   "cell_type": "code",
   "execution_count": 1,
   "metadata": {},
   "outputs": [],
   "source": [
    "%reload_ext autoreload\n",
    "%autoreload 2\n",
    "%matplotlib inline"
   ]
  },
  {
   "cell_type": "code",
   "execution_count": 3,
   "metadata": {},
   "outputs": [],
   "source": [
    "import os\n",
    "os.environ[\"CUDA_DEVICE_ORDER\"]=\"PCI_BUS_ID\"   # see issue #152\n",
    "os.environ[\"CUDA_VISIBLE_DEVICES\"]=\"0\""
   ]
  },
  {
   "cell_type": "code",
   "execution_count": 4,
   "metadata": {},
   "outputs": [
    {
     "name": "stderr",
     "output_type": "stream",
     "text": [
      "/home/c.marzahl@de.eu.local/anaconda3/envs/fastai/lib/python3.6/site-packages/h5py/__init__.py:36: FutureWarning: Conversion of the second argument of issubdtype from `float` to `np.floating` is deprecated. In future, it will be treated as `np.float64 == np.dtype(float).type`.\n",
      "  from ._conv import register_converters as _register_converters\n"
     ]
    }
   ],
   "source": [
    "import os\n",
    "import cv2\n",
    "import numpy as np\n",
    "import pickle\n",
    "from tqdm import tqdm\n",
    "\n",
    "import tensorflow as tf\n",
    "from tensorflow.contrib.tensorboard.plugins import projector"
   ]
  },
  {
   "cell_type": "code",
   "execution_count": 5,
   "metadata": {},
   "outputs": [],
   "source": [
    "properties = pickle.load(open( \"data_2f.pkl\", \"rb\" ))\n",
    "log_dir = '/data/Datasets/WhiteBloodCancer/projection/'\n",
    "experiment_name = \"2_features\"\n",
    "image_size = (128,128)\n",
    "metadata_file = open(os.path.join(log_dir, '{}.tsv'.format(experiment_name)), 'w')"
   ]
  },
  {
   "cell_type": "code",
   "execution_count": 6,
   "metadata": {},
   "outputs": [],
   "source": [
    "sprite_image_shape = 8192\n",
    "sprite_image = np.zeros(shape=(sprite_image_shape, sprite_image_shape, 3), dtype=np.int8)\n",
    "total_columns = int(np.floor(sprite_image_shape / image_size[0]))\n",
    "total_rows = int(np.floor(sprite_image_shape / image_size[1]))"
   ]
  },
  {
   "cell_type": "code",
   "execution_count": 7,
   "metadata": {},
   "outputs": [],
   "source": [
    "x, y, idx = 0, 0, 0\n",
    "features = {'shape_features': [],\n",
    "            'cnn_avg_features': [],\n",
    "            'cnn_max_features': [],\n",
    "            'intensity_features': [],\n",
    "            'cnn_flatt_features': []}"
   ]
  },
  {
   "cell_type": "code",
   "execution_count": 8,
   "metadata": {},
   "outputs": [
    {
     "name": "stderr",
     "output_type": "stream",
     "text": [
      "100%|██████████| 1066/1066 [00:01<00:00, 862.73it/s]\n"
     ]
    }
   ],
   "source": [
    "metadata_file.write('\\t'.join(['Class', 'ID', 'Patient']) + '\\n')\n",
    "for key in tqdm(list(properties)[:total_columns*total_rows]):\n",
    "    item = properties[key]\n",
    "    line = '\\t'.join(map(str, [item['Class'], key, item['Patient']])) + '\\n'\n",
    "    metadata_file.write(line)\n",
    "\n",
    "    img = cv2.cvtColor(cv2.resize(cv2.imread(str(item['Path'])), image_size), cv2.COLOR_BGR2RGB)\n",
    "\n",
    "    # extract width und height\n",
    "    rows = np.any(img, axis=1)\n",
    "    cols = np.any(img, axis=0)\n",
    "    rmin, rmax = np.where(rows)[0][[0, -1]]\n",
    "    cmin, cmax = np.where(cols)[0][[0, -1]]\n",
    "    features['shape_features'].append([cmax-cmin, rmax-rmin, len(np.nonzero(img[:, :, 0])[0])])\n",
    "\n",
    "    red = img[:, :, 0]\n",
    "    green = img[:, :, 1]\n",
    "    blue = img[:, :, 2]\n",
    "    features['intensity_features'].append([np.mean(red[red > 0]),\n",
    "                                           np.mean(green[green > 0]),\n",
    "                                           np.mean(blue[blue > 0]),\n",
    "                                           np.std(red[red > 0]),\n",
    "                                           np.std(green[green > 0]),\n",
    "                                           np.std(blue[blue > 0])])\n",
    "\n",
    "    features['cnn_flatt_features'].append(item['features'].flatten())\n",
    "    features['cnn_avg_features'].append(np.array([np.max(axis) for axis in item['features']]).flatten())\n",
    "    features['cnn_max_features'].append(np.array([np.mean(axis) for axis in item['features']]).flatten())\n",
    "\n",
    "\n",
    "    sprite_image[y * img.shape[0]:y * img.shape[0] + img.shape[0], x * img.shape[1]:x * img.shape[1] + img.shape[1]] = img\n",
    "    x = idx % total_rows\n",
    "    y = idx // total_columns\n",
    "    idx += 1"
   ]
  },
  {
   "cell_type": "code",
   "execution_count": 9,
   "metadata": {},
   "outputs": [],
   "source": [
    "features['cnn_max_features'] = np.array(features['cnn_max_features'])\n",
    "features['cnn_avg_features'] = np.array(features['cnn_avg_features'])\n",
    "features['cnn_flatt_features'] = np.array(features['cnn_flatt_features'])\n",
    "\n",
    "cv2.imwrite(os.path.join(log_dir, '{}.png'.format(experiment_name)), sprite_image)\n",
    "metadata_file.close()"
   ]
  },
  {
   "cell_type": "code",
   "execution_count": 10,
   "metadata": {},
   "outputs": [],
   "source": [
    "feature_vectors = [tf.Variable(features[item], name=item) for item in features]\n",
    "\n",
    "with tf.Session() as sess:\n",
    "    saver = tf.train.Saver(feature_vectors)\n",
    "\n",
    "    sess.run(tf.global_variables_initializer())\n",
    "    saver.save(sess, os.path.join(log_dir, '{}.ckpt'.format(experiment_name)))\n",
    "\n",
    "    config = projector.ProjectorConfig()\n",
    "\n",
    "    for features in feature_vectors:\n",
    "        # One can add multiple embeddings.\n",
    "        embedding = config.embeddings.add()\n",
    "        embedding.tensor_name = features.name\n",
    "        # Link this tensor to its metadata file (e.g. labels).\n",
    "        embedding.metadata_path = '{}.tsv'.format(experiment_name)\n",
    "        if sprite_image is not None:\n",
    "            embedding.sprite.image_path = '{}.png'.format(experiment_name)\n",
    "            embedding.sprite.single_image_dim.extend(image_size)\n",
    "\n",
    "    # Saves a config file that TensorBoard will read during startup.\n",
    "    projector.visualize_embeddings(tf.summary.FileWriter(log_dir), config)"
   ]
  },
  {
   "cell_type": "code",
   "execution_count": null,
   "metadata": {},
   "outputs": [],
   "source": []
  },
  {
   "cell_type": "code",
   "execution_count": null,
   "metadata": {},
   "outputs": [],
   "source": []
  }
 ],
 "metadata": {
  "kernelspec": {
   "display_name": "Python 3",
   "language": "python",
   "name": "python3"
  },
  "language_info": {
   "codemirror_mode": {
    "name": "ipython",
    "version": 3
   },
   "file_extension": ".py",
   "mimetype": "text/x-python",
   "name": "python",
   "nbconvert_exporter": "python",
   "pygments_lexer": "ipython3",
   "version": "3.6.7"
  }
 },
 "nbformat": 4,
 "nbformat_minor": 2
}
