{
 "cells": [
  {
   "cell_type": "code",
   "execution_count": 1,
   "metadata": {},
   "outputs": [],
   "source": [
    "%reload_ext autoreload\n",
    "%autoreload 2\n",
    "%matplotlib inline"
   ]
  },
  {
   "cell_type": "code",
   "execution_count": 2,
   "metadata": {},
   "outputs": [],
   "source": [
    "import os\n",
    "from pathlib import Path\n",
    "from tqdm import tqdm\n",
    "import matplotlib.pyplot as plt\n",
    "import random"
   ]
  },
  {
   "cell_type": "code",
   "execution_count": 3,
   "metadata": {},
   "outputs": [],
   "source": [
    "import cv2\n",
    "from fastai import *\n",
    "from fastai.vision import *\n",
    "from fastai.callbacks import *"
   ]
  },
  {
   "cell_type": "code",
   "execution_count": 4,
   "metadata": {},
   "outputs": [],
   "source": [
    "from dataset_spliter import SplitByPatient\n",
    "from metrics import *#F1Weighted, MCC\n",
    "from losses import *"
   ]
  },
  {
   "cell_type": "code",
   "execution_count": 5,
   "metadata": {},
   "outputs": [],
   "source": [
    "import pretrainedmodels"
   ]
  },
  {
   "cell_type": "code",
   "execution_count": 6,
   "metadata": {},
   "outputs": [],
   "source": [
    "path = Path('/data/Datasets/WhiteBloodCancer/train/')"
   ]
  },
  {
   "cell_type": "code",
   "execution_count": 7,
   "metadata": {},
   "outputs": [],
   "source": [
    "np.random.seed(42)"
   ]
  },
  {
   "cell_type": "code",
   "execution_count": 8,
   "metadata": {},
   "outputs": [
    {
     "data": {
      "text/plain": [
       "[PosixPath('/data/Datasets/WhiteBloodCancer/train/fold_1/hem/UID_H10_43_1_hem.bmp'),\n",
       " PosixPath('/data/Datasets/WhiteBloodCancer/train/fold_1/hem/UID_H22_31_15_hem.bmp'),\n",
       " PosixPath('/data/Datasets/WhiteBloodCancer/train/fold_1/hem/UID_H14_9_11_hem.bmp'),\n",
       " PosixPath('/data/Datasets/WhiteBloodCancer/train/fold_1/hem/UID_H14_28_6_hem.bmp'),\n",
       " PosixPath('/data/Datasets/WhiteBloodCancer/train/fold_1/hem/UID_H10_189_1_hem.bmp')]"
      ]
     },
     "execution_count": 8,
     "metadata": {},
     "output_type": "execute_result"
    }
   ],
   "source": [
    "fnames = get_image_files(path, recurse=True)\n",
    "fnames[:5]"
   ]
  },
  {
   "cell_type": "code",
   "execution_count": 9,
   "metadata": {},
   "outputs": [],
   "source": [
    "hem_regex = re.compile(r'UID_(H[0-9]+)_', re.IGNORECASE)\n",
    "all_regex = re.compile(r'UID_([0-9]+)_', re.IGNORECASE)"
   ]
  },
  {
   "cell_type": "code",
   "execution_count": 10,
   "metadata": {},
   "outputs": [
    {
     "name": "stdout",
     "output_type": "stream",
     "text": [
      "\n"
     ]
    }
   ],
   "source": [
    "hem_patient_ids = list(set([hem_regex.search(str(fn)).group(1)\n",
    "                            for fn in fnames if hem_regex.search(str(fn)) is not None]))\n",
    "all_patint_ids = list(set([all_regex.search(str(fn)).group(1)\n",
    "                           for fn in fnames if all_regex.search(str(fn)) is not None]))\n",
    "\n",
    "hem_patients = dict((k,[]) for k in hem_patient_ids)\n",
    "all_patints = dict((k,[]) for k in all_patint_ids)\n",
    "\n",
    "[all_patints[key].append(fn) for key in all_patints.keys() for fn in fnames if 'UID_{0}_'.format(key) in str(fn)]\n",
    "[hem_patients[key].append(fn) for key in hem_patients.keys() for fn in fnames if 'UID_{0}_'.format(key) in str(fn)]\n",
    "print()"
   ]
  },
  {
   "cell_type": "markdown",
   "metadata": {},
   "source": [
    "## Split data into train val "
   ]
  },
  {
   "cell_type": "code",
   "execution_count": 11,
   "metadata": {},
   "outputs": [],
   "source": [
    "split_handler = SplitByPatient(hem_patients, all_patints)"
   ]
  },
  {
   "cell_type": "markdown",
   "metadata": {},
   "source": [
    "### Split by regex"
   ]
  },
  {
   "cell_type": "code",
   "execution_count": 12,
   "metadata": {},
   "outputs": [],
   "source": [
    "train_regex = re.compile(r'(fold_0|fold_1|fold_2)')\n",
    "val_regex = re.compile(r'(fold_3)')\n",
    "\n",
    "hem_train, all_train, hem_val, all_val = split_handler.split_by_regex(train_regex, val_regex)"
   ]
  },
  {
   "cell_type": "code",
   "execution_count": 13,
   "metadata": {},
   "outputs": [
    {
     "name": "stdout",
     "output_type": "stream",
     "text": [
      "Train Total: 10661\n",
      "Val Total: 1867\n",
      "\n",
      "Hem train: 3389\n",
      "All train: 7272\n",
      "Hem val: 648\n",
      "All val: 1219\n"
     ]
    }
   ],
   "source": [
    "print('Train Total: {0}'.format(len(hem_train)+len(all_train)))\n",
    "print('Val Total: {0}'.format(len(hem_val)+len(all_val)))\n",
    "print(\"\")\n",
    "print('Hem train: {}'.format(len(hem_train)))\n",
    "print('All train: {}'.format(len(all_train)))\n",
    "print('Hem val: {}'.format(len(hem_val)))\n",
    "print('All val: {}'.format(len(all_val)))"
   ]
  },
  {
   "cell_type": "code",
   "execution_count": 14,
   "metadata": {},
   "outputs": [],
   "source": [
    "pat = re.compile(r'^.*(hem|all).bmp$')\n",
    "\n",
    "def get_label(fn):\n",
    "    return pat.search(str(fn)).group(1)"
   ]
  },
  {
   "cell_type": "markdown",
   "metadata": {},
   "source": [
    "### Use complete image"
   ]
  },
  {
   "cell_type": "code",
   "execution_count": 15,
   "metadata": {},
   "outputs": [],
   "source": [
    "train = ImageList(hem_train + all_train) #optinal scale up classes \n",
    "valid = ImageList(hem_val + all_val)"
   ]
  },
  {
   "cell_type": "code",
   "execution_count": 16,
   "metadata": {},
   "outputs": [],
   "source": [
    "item_list = ItemLists(path, train, valid)\n",
    "lls = item_list.label_from_func(get_label)"
   ]
  },
  {
   "cell_type": "markdown",
   "metadata": {},
   "source": [
    "#### Data augmentation"
   ]
  },
  {
   "cell_type": "code",
   "execution_count": 17,
   "metadata": {},
   "outputs": [],
   "source": [
    "xtra_tfms=[cutout(n_holes=5, length=0.2)]#squish(scale=0.66), \n",
    "tfms = get_transforms(do_flip=True, \n",
    "                      flip_vert=True, \n",
    "                      #max_rotate=90,  \n",
    "                      #max_lighting=0.15, \n",
    "                      #max_zoom=1.5, \n",
    "                      #max_warp=0.2,\n",
    "                      #p_affine=0.75,\n",
    "                      #p_lighting=0.75,  \n",
    "                      #xtra_tfms=xtra_tfms,\n",
    "                     )"
   ]
  },
  {
   "cell_type": "markdown",
   "metadata": {},
   "source": [
    "#### Create dataset "
   ]
  },
  {
   "cell_type": "code",
   "execution_count": 18,
   "metadata": {},
   "outputs": [],
   "source": [
    "def get_data(bs, size):\n",
    "    data  = ImageDataBunch.create_from_ll(lls, size=size, bs=bs, \n",
    "                                      ds_tfms=tfms, padding_mode='zeros',\n",
    "                                      resize_method=ResizeMethod.PAD)\n",
    "    data = data.normalize()\n",
    "    #data = data.normalize((channel_mean, channel_std))\n",
    "    return data\n",
    "    "
   ]
  },
  {
   "cell_type": "code",
   "execution_count": 19,
   "metadata": {},
   "outputs": [
    {
     "name": "stdout",
     "output_type": "stream",
     "text": [
      "['fbresnet152', 'bninception', 'resnext101_32x4d', 'resnext101_64x4d', 'inceptionv4', 'inceptionresnetv2', 'alexnet', 'densenet121', 'densenet169', 'densenet201', 'densenet161', 'resnet18', 'resnet34', 'resnet50', 'resnet101', 'resnet152', 'inceptionv3', 'squeezenet1_0', 'squeezenet1_1', 'vgg11', 'vgg11_bn', 'vgg13', 'vgg13_bn', 'vgg16', 'vgg16_bn', 'vgg19_bn', 'vgg19', 'nasnetamobile', 'nasnetalarge', 'dpn68', 'dpn68b', 'dpn92', 'dpn98', 'dpn131', 'dpn107', 'xception', 'senet154', 'se_resnet50', 'se_resnet101', 'se_resnet152', 'se_resnext50_32x4d', 'se_resnext101_32x4d', 'cafferesnet101', 'pnasnet5large', 'polynet']\n"
     ]
    }
   ],
   "source": [
    "print(pretrainedmodels.model_names)"
   ]
  },
  {
   "cell_type": "code",
   "execution_count": 20,
   "metadata": {},
   "outputs": [],
   "source": [
    "def get_cadene_model(pretrained=True, model_name='resnet50'):\n",
    "    if pretrained:\n",
    "        arch = pretrainedmodels.__dict__[model_name](num_classes=1000, pretrained='imagenet')\n",
    "    else:\n",
    "        arch = pretrainedmodels.__dict__[model_name](num_classes=1000)\n",
    "    return arch"
   ]
  },
  {
   "cell_type": "code",
   "execution_count": 21,
   "metadata": {},
   "outputs": [
    {
     "name": "stderr",
     "output_type": "stream",
     "text": [
      "/home/c.marzahl@de.eu.local/ProgProjekte/fastai_v1/fastai/fastai/vision/learner.py:93: UserWarning: `create_cnn` is deprecated and is now named `cnn_learner`.\n",
      "  warn(\"`create_cnn` is deprecated and is now named `cnn_learner`.\")\n"
     ]
    }
   ],
   "source": [
    "size = 256\n",
    "bs = 64\n",
    "data = get_data(bs, size)\n",
    "\n",
    "experiment_name = \"baseline_resnet50_normal_loss\"\n",
    "learn = create_cnn(data, models.resnet50, \n",
    "                    cut=-2,\n",
    "                       metrics=[error_rate, F1Weighted(), MCC()], #  \n",
    "                       #loss_func=FocalLoss(num_classes=1),\n",
    "                       #ps=0.75,\n",
    "                       #wd=0.1,\n",
    "                       #loss_func = LabelSmoothingCrossEntropy(),\n",
    "                       callback_fns=[partial(SaveModelCallback, name='stage1-{}-{}'.format(experiment_name, size))],\n",
    "\n",
    "                  )#"
   ]
  },
  {
   "cell_type": "code",
   "execution_count": 22,
   "metadata": {},
   "outputs": [
    {
     "data": {
      "text/html": [
       "Total time: 06:39 <p><table style='width:525px; margin-bottom:10px'>\n",
       "  <tr>\n",
       "    <th>epoch</th>\n",
       "    <th>train_loss</th>\n",
       "    <th>valid_loss</th>\n",
       "    <th>error_rate</th>\n",
       "    <th>f1_weighted</th>\n",
       "    <th>mcc</th>\n",
       "    <th>time</th>\n",
       "  </tr>\n",
       "  <tr>\n",
       "    <th>0</th>\n",
       "    <th>0.376431</th>\n",
       "    <th>1.059684</th>\n",
       "    <th>0.442421</th>\n",
       "    <th>0.549333</th>\n",
       "    <th>0.276889</th>\n",
       "    <th>01:20</th>\n",
       "  </tr>\n",
       "  <tr>\n",
       "    <th>1</th>\n",
       "    <th>0.289513</th>\n",
       "    <th>1.168413</th>\n",
       "    <th>0.321907</th>\n",
       "    <th>0.577547</th>\n",
       "    <th>0.205250</th>\n",
       "    <th>01:19</th>\n",
       "  </tr>\n",
       "  <tr>\n",
       "    <th>2</th>\n",
       "    <th>0.255528</th>\n",
       "    <th>0.765178</th>\n",
       "    <th>0.249598</th>\n",
       "    <th>0.710617</th>\n",
       "    <th>0.429791</th>\n",
       "    <th>01:19</th>\n",
       "  </tr>\n",
       "  <tr>\n",
       "    <th>3</th>\n",
       "    <th>0.210440</th>\n",
       "    <th>0.671337</th>\n",
       "    <th>0.257097</th>\n",
       "    <th>0.705947</th>\n",
       "    <th>0.401898</th>\n",
       "    <th>01:19</th>\n",
       "  </tr>\n",
       "  <tr>\n",
       "    <th>4</th>\n",
       "    <th>0.184544</th>\n",
       "    <th>0.604016</th>\n",
       "    <th>0.246920</th>\n",
       "    <th>0.730966</th>\n",
       "    <th>0.423654</th>\n",
       "    <th>01:19</th>\n",
       "  </tr>\n",
       "</table>\n"
      ],
      "text/plain": [
       "<IPython.core.display.HTML object>"
      ]
     },
     "metadata": {},
     "output_type": "display_data"
    },
    {
     "name": "stdout",
     "output_type": "stream",
     "text": [
      "Better model found at epoch 0 with val_loss value: 1.059683918952942.\n",
      "Better model found at epoch 2 with val_loss value: 0.7651776671409607.\n",
      "Better model found at epoch 3 with val_loss value: 0.6713372468948364.\n",
      "Better model found at epoch 4 with val_loss value: 0.6040158271789551.\n"
     ]
    },
    {
     "data": {
      "text/html": [
       "Total time: 17:05 <p><table style='width:525px; margin-bottom:10px'>\n",
       "  <tr>\n",
       "    <th>epoch</th>\n",
       "    <th>train_loss</th>\n",
       "    <th>valid_loss</th>\n",
       "    <th>error_rate</th>\n",
       "    <th>f1_weighted</th>\n",
       "    <th>mcc</th>\n",
       "    <th>time</th>\n",
       "  </tr>\n",
       "  <tr>\n",
       "    <th>0</th>\n",
       "    <th>0.178630</th>\n",
       "    <th>0.567301</th>\n",
       "    <th>0.237279</th>\n",
       "    <th>0.744068</th>\n",
       "    <th>0.448780</th>\n",
       "    <th>01:42</th>\n",
       "  </tr>\n",
       "  <tr>\n",
       "    <th>1</th>\n",
       "    <th>0.187946</th>\n",
       "    <th>0.670478</th>\n",
       "    <th>0.272094</th>\n",
       "    <th>0.711769</th>\n",
       "    <th>0.363012</th>\n",
       "    <th>01:41</th>\n",
       "  </tr>\n",
       "  <tr>\n",
       "    <th>2</th>\n",
       "    <th>0.192514</th>\n",
       "    <th>0.531172</th>\n",
       "    <th>0.235137</th>\n",
       "    <th>0.751187</th>\n",
       "    <th>0.455182</th>\n",
       "    <th>01:41</th>\n",
       "  </tr>\n",
       "  <tr>\n",
       "    <th>3</th>\n",
       "    <th>0.163430</th>\n",
       "    <th>0.545012</th>\n",
       "    <th>0.228174</th>\n",
       "    <th>0.775408</th>\n",
       "    <th>0.520377</th>\n",
       "    <th>01:41</th>\n",
       "  </tr>\n",
       "  <tr>\n",
       "    <th>4</th>\n",
       "    <th>0.169298</th>\n",
       "    <th>0.464664</th>\n",
       "    <th>0.206213</th>\n",
       "    <th>0.778116</th>\n",
       "    <th>0.528955</th>\n",
       "    <th>01:41</th>\n",
       "  </tr>\n",
       "  <tr>\n",
       "    <th>5</th>\n",
       "    <th>0.158911</th>\n",
       "    <th>0.594985</th>\n",
       "    <th>0.232994</th>\n",
       "    <th>0.755001</th>\n",
       "    <th>0.461351</th>\n",
       "    <th>01:41</th>\n",
       "  </tr>\n",
       "  <tr>\n",
       "    <th>6</th>\n",
       "    <th>0.148820</th>\n",
       "    <th>0.448740</th>\n",
       "    <th>0.182646</th>\n",
       "    <th>0.812268</th>\n",
       "    <th>0.585163</th>\n",
       "    <th>01:41</th>\n",
       "  </tr>\n",
       "  <tr>\n",
       "    <th>7</th>\n",
       "    <th>0.122408</th>\n",
       "    <th>0.423121</th>\n",
       "    <th>0.170327</th>\n",
       "    <th>0.826692</th>\n",
       "    <th>0.615795</th>\n",
       "    <th>01:41</th>\n",
       "  </tr>\n",
       "  <tr>\n",
       "    <th>8</th>\n",
       "    <th>0.107843</th>\n",
       "    <th>0.445159</th>\n",
       "    <th>0.161221</th>\n",
       "    <th>0.834380</th>\n",
       "    <th>0.635194</th>\n",
       "    <th>01:41</th>\n",
       "  </tr>\n",
       "  <tr>\n",
       "    <th>9</th>\n",
       "    <th>0.104811</th>\n",
       "    <th>0.456508</th>\n",
       "    <th>0.165506</th>\n",
       "    <th>0.831306</th>\n",
       "    <th>0.626404</th>\n",
       "    <th>01:41</th>\n",
       "  </tr>\n",
       "</table>\n"
      ],
      "text/plain": [
       "<IPython.core.display.HTML object>"
      ]
     },
     "metadata": {},
     "output_type": "display_data"
    },
    {
     "name": "stdout",
     "output_type": "stream",
     "text": [
      "Better model found at epoch 0 with val_loss value: 0.5673012733459473.\n",
      "Better model found at epoch 2 with val_loss value: 0.5311722755432129.\n",
      "Better model found at epoch 4 with val_loss value: 0.4646637439727783.\n",
      "Better model found at epoch 6 with val_loss value: 0.44873955845832825.\n",
      "Better model found at epoch 7 with val_loss value: 0.42312145233154297.\n"
     ]
    }
   ],
   "source": [
    "learn.freeze()\n",
    "lr = 1e-2\n",
    "learn.fit_one_cycle(5, lr)\n",
    "\n",
    "learn.unfreeze()\n",
    "learn.fit_one_cycle(10, slice(1e-5,lr/5))"
   ]
  },
  {
   "cell_type": "code",
   "execution_count": 23,
   "metadata": {},
   "outputs": [],
   "source": [
    "learn.export('Rn50Normal_256.pkl')  "
   ]
  },
  {
   "cell_type": "code",
   "execution_count": 35,
   "metadata": {},
   "outputs": [
    {
     "data": {
      "text/html": [
       "Total time: 15:29 <p><table style='width:525px; margin-bottom:10px'>\n",
       "  <tr>\n",
       "    <th>epoch</th>\n",
       "    <th>train_loss</th>\n",
       "    <th>valid_loss</th>\n",
       "    <th>error_rate</th>\n",
       "    <th>f1_weighted</th>\n",
       "    <th>mcc</th>\n",
       "    <th>time</th>\n",
       "  </tr>\n",
       "  <tr>\n",
       "    <th>0</th>\n",
       "    <th>0.178923</th>\n",
       "    <th>0.686964</th>\n",
       "    <th>0.279057</th>\n",
       "    <th>0.658265</th>\n",
       "    <th>0.356457</th>\n",
       "    <th>02:52</th>\n",
       "  </tr>\n",
       "  <tr>\n",
       "    <th>1</th>\n",
       "    <th>0.214986</th>\n",
       "    <th>0.330662</th>\n",
       "    <th>0.126406</th>\n",
       "    <th>0.871809</th>\n",
       "    <th>0.716509</th>\n",
       "    <th>02:54</th>\n",
       "  </tr>\n",
       "  <tr>\n",
       "    <th>2</th>\n",
       "    <th>0.159949</th>\n",
       "    <th>0.588598</th>\n",
       "    <th>0.214247</th>\n",
       "    <th>0.763281</th>\n",
       "    <th>0.514595</th>\n",
       "    <th>02:56</th>\n",
       "  </tr>\n",
       "  <tr>\n",
       "    <th>3</th>\n",
       "    <th>0.144969</th>\n",
       "    <th>0.518897</th>\n",
       "    <th>0.199786</th>\n",
       "    <th>0.785031</th>\n",
       "    <th>0.545546</th>\n",
       "    <th>03:50</th>\n",
       "  </tr>\n",
       "  <tr>\n",
       "    <th>4</th>\n",
       "    <th>0.122823</th>\n",
       "    <th>0.486274</th>\n",
       "    <th>0.175147</th>\n",
       "    <th>0.814798</th>\n",
       "    <th>0.604080</th>\n",
       "    <th>02:54</th>\n",
       "  </tr>\n",
       "</table>\n"
      ],
      "text/plain": [
       "<IPython.core.display.HTML object>"
      ]
     },
     "metadata": {},
     "output_type": "display_data"
    },
    {
     "name": "stdout",
     "output_type": "stream",
     "text": [
      "Better model found at epoch 0 with val_loss value: 0.6869637966156006.\n",
      "Better model found at epoch 1 with val_loss value: 0.33066174387931824.\n"
     ]
    },
    {
     "data": {
      "text/html": [
       "Total time: 45:38 <p><table style='width:525px; margin-bottom:10px'>\n",
       "  <tr>\n",
       "    <th>epoch</th>\n",
       "    <th>train_loss</th>\n",
       "    <th>valid_loss</th>\n",
       "    <th>error_rate</th>\n",
       "    <th>f1_weighted</th>\n",
       "    <th>mcc</th>\n",
       "    <th>time</th>\n",
       "  </tr>\n",
       "  <tr>\n",
       "    <th>0</th>\n",
       "    <th>0.152799</th>\n",
       "    <th>0.676796</th>\n",
       "    <th>0.271559</th>\n",
       "    <th>0.705385</th>\n",
       "    <th>0.358758</th>\n",
       "    <th>05:49</th>\n",
       "  </tr>\n",
       "  <tr>\n",
       "    <th>1</th>\n",
       "    <th>0.171696</th>\n",
       "    <th>0.499288</th>\n",
       "    <th>0.230852</th>\n",
       "    <th>0.753354</th>\n",
       "    <th>0.465288</th>\n",
       "    <th>04:01</th>\n",
       "  </tr>\n",
       "  <tr>\n",
       "    <th>2</th>\n",
       "    <th>0.169210</th>\n",
       "    <th>0.790563</th>\n",
       "    <th>0.329941</th>\n",
       "    <th>0.661517</th>\n",
       "    <th>0.243154</th>\n",
       "    <th>04:18</th>\n",
       "  </tr>\n",
       "  <tr>\n",
       "    <th>3</th>\n",
       "    <th>0.187626</th>\n",
       "    <th>0.502725</th>\n",
       "    <th>0.228174</th>\n",
       "    <th>0.741819</th>\n",
       "    <th>0.484266</th>\n",
       "    <th>04:35</th>\n",
       "  </tr>\n",
       "  <tr>\n",
       "    <th>4</th>\n",
       "    <th>0.149029</th>\n",
       "    <th>0.620102</th>\n",
       "    <th>0.235672</th>\n",
       "    <th>0.748492</th>\n",
       "    <th>0.453104</th>\n",
       "    <th>04:01</th>\n",
       "  </tr>\n",
       "  <tr>\n",
       "    <th>5</th>\n",
       "    <th>0.130585</th>\n",
       "    <th>0.589757</th>\n",
       "    <th>0.216390</th>\n",
       "    <th>0.759082</th>\n",
       "    <th>0.511441</th>\n",
       "    <th>04:01</th>\n",
       "  </tr>\n",
       "  <tr>\n",
       "    <th>6</th>\n",
       "    <th>0.110019</th>\n",
       "    <th>0.441438</th>\n",
       "    <th>0.179968</th>\n",
       "    <th>0.811950</th>\n",
       "    <th>0.590705</th>\n",
       "    <th>04:55</th>\n",
       "  </tr>\n",
       "  <tr>\n",
       "    <th>7</th>\n",
       "    <th>0.109049</th>\n",
       "    <th>0.381998</th>\n",
       "    <th>0.151044</th>\n",
       "    <th>0.845375</th>\n",
       "    <th>0.659078</th>\n",
       "    <th>04:54</th>\n",
       "  </tr>\n",
       "  <tr>\n",
       "    <th>8</th>\n",
       "    <th>0.108044</th>\n",
       "    <th>0.450808</th>\n",
       "    <th>0.173005</th>\n",
       "    <th>0.819859</th>\n",
       "    <th>0.607278</th>\n",
       "    <th>04:55</th>\n",
       "  </tr>\n",
       "  <tr>\n",
       "    <th>9</th>\n",
       "    <th>0.107514</th>\n",
       "    <th>0.430603</th>\n",
       "    <th>0.170862</th>\n",
       "    <th>0.822639</th>\n",
       "    <th>0.612278</th>\n",
       "    <th>04:01</th>\n",
       "  </tr>\n",
       "</table>\n"
      ],
      "text/plain": [
       "<IPython.core.display.HTML object>"
      ]
     },
     "metadata": {},
     "output_type": "display_data"
    },
    {
     "name": "stdout",
     "output_type": "stream",
     "text": [
      "Better model found at epoch 0 with val_loss value: 0.676796019077301.\n",
      "Better model found at epoch 1 with val_loss value: 0.4992881417274475.\n",
      "Better model found at epoch 6 with val_loss value: 0.4414377510547638.\n",
      "Better model found at epoch 7 with val_loss value: 0.3819984793663025.\n"
     ]
    }
   ],
   "source": [
    "size = 384\n",
    "bs = 32\n",
    "learn.data = get_data(bs, size)\n",
    "\n",
    "learn.freeze()\n",
    "lr = 1e-2\n",
    "learn.fit_one_cycle(5, lr)\n",
    "\n",
    "learn.unfreeze()\n",
    "learn.fit_one_cycle(10, slice(1e-5,lr/5))"
   ]
  },
  {
   "cell_type": "code",
   "execution_count": 36,
   "metadata": {},
   "outputs": [],
   "source": [
    "learn.export('Rn50Normal_368.pkl')  "
   ]
  },
  {
   "cell_type": "code",
   "execution_count": 37,
   "metadata": {},
   "outputs": [
    {
     "data": {
      "text/html": [
       "Total time: 22:02 <p><table style='width:525px; margin-bottom:10px'>\n",
       "  <tr>\n",
       "    <th>epoch</th>\n",
       "    <th>train_loss</th>\n",
       "    <th>valid_loss</th>\n",
       "    <th>error_rate</th>\n",
       "    <th>f1_weighted</th>\n",
       "    <th>mcc</th>\n",
       "    <th>time</th>\n",
       "  </tr>\n",
       "  <tr>\n",
       "    <th>0</th>\n",
       "    <th>0.253565</th>\n",
       "    <th>0.598977</th>\n",
       "    <th>0.265131</th>\n",
       "    <th>0.713792</th>\n",
       "    <th>0.376349</th>\n",
       "    <th>04:27</th>\n",
       "  </tr>\n",
       "  <tr>\n",
       "    <th>1</th>\n",
       "    <th>0.237381</th>\n",
       "    <th>1.142513</th>\n",
       "    <th>0.389395</th>\n",
       "    <th>0.565405</th>\n",
       "    <th>0.023470</th>\n",
       "    <th>04:23</th>\n",
       "  </tr>\n",
       "  <tr>\n",
       "    <th>2</th>\n",
       "    <th>0.212214</th>\n",
       "    <th>0.642428</th>\n",
       "    <th>0.290305</th>\n",
       "    <th>0.683282</th>\n",
       "    <th>0.307940</th>\n",
       "    <th>04:23</th>\n",
       "  </tr>\n",
       "  <tr>\n",
       "    <th>3</th>\n",
       "    <th>0.186891</th>\n",
       "    <th>0.524883</th>\n",
       "    <th>0.198715</th>\n",
       "    <th>0.786012</th>\n",
       "    <th>0.548500</th>\n",
       "    <th>04:22</th>\n",
       "  </tr>\n",
       "  <tr>\n",
       "    <th>4</th>\n",
       "    <th>0.139751</th>\n",
       "    <th>0.448224</th>\n",
       "    <th>0.179432</th>\n",
       "    <th>0.808438</th>\n",
       "    <th>0.595649</th>\n",
       "    <th>04:22</th>\n",
       "  </tr>\n",
       "</table>\n"
      ],
      "text/plain": [
       "<IPython.core.display.HTML object>"
      ]
     },
     "metadata": {},
     "output_type": "display_data"
    },
    {
     "name": "stdout",
     "output_type": "stream",
     "text": [
      "Better model found at epoch 0 with val_loss value: 0.598976731300354.\n",
      "Better model found at epoch 3 with val_loss value: 0.5248825550079346.\n",
      "Better model found at epoch 4 with val_loss value: 0.448224276304245.\n"
     ]
    },
    {
     "data": {
      "text/html": [
       "Total time: 1:02:11 <p><table style='width:525px; margin-bottom:10px'>\n",
       "  <tr>\n",
       "    <th>epoch</th>\n",
       "    <th>train_loss</th>\n",
       "    <th>valid_loss</th>\n",
       "    <th>error_rate</th>\n",
       "    <th>f1_weighted</th>\n",
       "    <th>mcc</th>\n",
       "    <th>time</th>\n",
       "  </tr>\n",
       "  <tr>\n",
       "    <th>0</th>\n",
       "    <th>0.123519</th>\n",
       "    <th>0.485007</th>\n",
       "    <th>0.158543</th>\n",
       "    <th>0.835477</th>\n",
       "    <th>0.641604</th>\n",
       "    <th>06:13</th>\n",
       "  </tr>\n",
       "  <tr>\n",
       "    <th>1</th>\n",
       "    <th>0.183330</th>\n",
       "    <th>0.762213</th>\n",
       "    <th>0.229780</th>\n",
       "    <th>0.768752</th>\n",
       "    <th>0.487277</th>\n",
       "    <th>06:12</th>\n",
       "  </tr>\n",
       "  <tr>\n",
       "    <th>2</th>\n",
       "    <th>0.210677</th>\n",
       "    <th>0.712831</th>\n",
       "    <th>0.301018</th>\n",
       "    <th>0.684640</th>\n",
       "    <th>0.296687</th>\n",
       "    <th>06:12</th>\n",
       "  </tr>\n",
       "  <tr>\n",
       "    <th>3</th>\n",
       "    <th>0.208672</th>\n",
       "    <th>8.009492</th>\n",
       "    <th>0.347081</th>\n",
       "    <th>0.578224</th>\n",
       "    <th>0.099685</th>\n",
       "    <th>06:12</th>\n",
       "  </tr>\n",
       "  <tr>\n",
       "    <th>4</th>\n",
       "    <th>0.160464</th>\n",
       "    <th>0.562110</th>\n",
       "    <th>0.230852</th>\n",
       "    <th>0.752974</th>\n",
       "    <th>0.465271</th>\n",
       "    <th>06:12</th>\n",
       "  </tr>\n",
       "  <tr>\n",
       "    <th>5</th>\n",
       "    <th>0.189061</th>\n",
       "    <th>0.494708</th>\n",
       "    <th>0.231923</th>\n",
       "    <th>0.750851</th>\n",
       "    <th>0.462553</th>\n",
       "    <th>06:12</th>\n",
       "  </tr>\n",
       "  <tr>\n",
       "    <th>6</th>\n",
       "    <th>0.132546</th>\n",
       "    <th>0.656076</th>\n",
       "    <th>0.216926</th>\n",
       "    <th>0.764457</th>\n",
       "    <th>0.502722</th>\n",
       "    <th>06:14</th>\n",
       "  </tr>\n",
       "  <tr>\n",
       "    <th>7</th>\n",
       "    <th>0.143084</th>\n",
       "    <th>0.528106</th>\n",
       "    <th>0.191216</th>\n",
       "    <th>0.798093</th>\n",
       "    <th>0.564063</th>\n",
       "    <th>06:12</th>\n",
       "  </tr>\n",
       "  <tr>\n",
       "    <th>8</th>\n",
       "    <th>0.113051</th>\n",
       "    <th>0.560659</th>\n",
       "    <th>0.169255</th>\n",
       "    <th>0.826641</th>\n",
       "    <th>0.616854</th>\n",
       "    <th>06:12</th>\n",
       "  </tr>\n",
       "  <tr>\n",
       "    <th>9</th>\n",
       "    <th>0.129766</th>\n",
       "    <th>0.426231</th>\n",
       "    <th>0.174612</th>\n",
       "    <th>0.817069</th>\n",
       "    <th>0.603907</th>\n",
       "    <th>06:13</th>\n",
       "  </tr>\n",
       "</table>\n"
      ],
      "text/plain": [
       "<IPython.core.display.HTML object>"
      ]
     },
     "metadata": {},
     "output_type": "display_data"
    },
    {
     "name": "stdout",
     "output_type": "stream",
     "text": [
      "Better model found at epoch 0 with val_loss value: 0.48500701785087585.\n",
      "Better model found at epoch 9 with val_loss value: 0.4262314736843109.\n"
     ]
    }
   ],
   "source": [
    "size = 450\n",
    "bs = 16\n",
    "learn.data = get_data(bs, size)\n",
    "\n",
    "learn.freeze()\n",
    "lr = 1e-2\n",
    "learn.fit_one_cycle(5, lr)\n",
    "\n",
    "learn.unfreeze()\n",
    "learn.fit_one_cycle(10, slice(1e-5,lr/5))"
   ]
  },
  {
   "cell_type": "code",
   "execution_count": 38,
   "metadata": {},
   "outputs": [],
   "source": [
    "learn.export('Rn50Normal_450.pkl')  "
   ]
  },
  {
   "cell_type": "code",
   "execution_count": 41,
   "metadata": {},
   "outputs": [
    {
     "data": {
      "text/html": [
       "Total time: 02:47 <p>"
      ],
      "text/plain": [
       "<IPython.core.display.HTML object>"
      ]
     },
     "metadata": {},
     "output_type": "display_data"
    }
   ],
   "source": [
    "y_pred, y_test_tta = learn.TTA(ds_type=DatasetType.Valid, scale=1.)#, beta=0.4, scale=1.3\n",
    "y_pred = to_np(y_pred)"
   ]
  },
  {
   "cell_type": "code",
   "execution_count": 40,
   "metadata": {},
   "outputs": [
    {
     "data": {
      "text/plain": [
       "0.8294195120287017"
      ]
     },
     "execution_count": 40,
     "metadata": {},
     "output_type": "execute_result"
    }
   ],
   "source": [
    "f1_score(y_test_tta, np.argmax(y_pred, axis=1),  average='weighted') # 1.1"
   ]
  },
  {
   "cell_type": "code",
   "execution_count": 42,
   "metadata": {},
   "outputs": [
    {
     "data": {
      "text/plain": [
       "0.8213079483573761"
      ]
     },
     "execution_count": 42,
     "metadata": {},
     "output_type": "execute_result"
    }
   ],
   "source": [
    "f1_score(y_test_tta, np.argmax(y_pred, axis=1),  average='weighted') # 1.0"
   ]
  }
 ],
 "metadata": {
  "kernelspec": {
   "display_name": "Python 3",
   "language": "python",
   "name": "python3"
  },
  "language_info": {
   "codemirror_mode": {
    "name": "ipython",
    "version": 3
   },
   "file_extension": ".py",
   "mimetype": "text/x-python",
   "name": "python",
   "nbconvert_exporter": "python",
   "pygments_lexer": "ipython3",
   "version": "3.6.7"
  }
 },
 "nbformat": 4,
 "nbformat_minor": 1
}
