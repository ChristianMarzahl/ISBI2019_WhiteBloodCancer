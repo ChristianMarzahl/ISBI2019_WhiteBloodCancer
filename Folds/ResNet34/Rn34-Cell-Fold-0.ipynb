{
 "cells": [
  {
   "cell_type": "code",
   "execution_count": 1,
   "metadata": {},
   "outputs": [],
   "source": [
    "%reload_ext autoreload\n",
    "%autoreload 2\n",
    "%matplotlib inline"
   ]
  },
  {
   "cell_type": "code",
   "execution_count": 2,
   "metadata": {},
   "outputs": [],
   "source": [
    "import os\n",
    "from pathlib import Path\n",
    "from tqdm import tqdm\n",
    "import matplotlib.pyplot as plt\n",
    "import random\n",
    "from sklearn.metrics import matthews_corrcoef"
   ]
  },
  {
   "cell_type": "code",
   "execution_count": 3,
   "metadata": {},
   "outputs": [],
   "source": [
    "import cv2\n",
    "from fastai import *\n",
    "from fastai.vision import *\n",
    "from fastai.callbacks import *"
   ]
  },
  {
   "cell_type": "code",
   "execution_count": 4,
   "metadata": {},
   "outputs": [],
   "source": [
    "from dataset_spliter import SplitByPatient\n",
    "from metrics import *#F1Weighted, MCC\n",
    "from losses import *\n",
    "from data_loader import ImageItemListCell\n",
    "from augmentation import cutout"
   ]
  },
  {
   "cell_type": "code",
   "execution_count": 5,
   "metadata": {},
   "outputs": [],
   "source": [
    "from fastai.callbacks.hooks import  params_size\n",
    "def extract_train_information(learner: Learner):\n",
    "    #_, params, trainables, _ = params_size(learner.model)\n",
    "\n",
    "    #total_params = sum(params)\n",
    "    #trainable_ratio = sum([param*train for param, train in zip(params, trainables)]) / total_params * 100\n",
    "\n",
    "    bs = learner.data.batch_size\n",
    "    image_size = learner.data.valid_ds[0][0].size\n",
    "    wd = learner.wd\n",
    "    lr = max(learner.recorder.lrs)\n",
    "\n",
    "    summary = \"\"\n",
    "    #summary = \"\\nTotal params: {:,}\".format(total_params)\n",
    "    #summary += f\"\\nTrainable: {round(trainable_ratio,2)}%\"\n",
    "    summary += f\"\\nBs: {bs}\"\n",
    "    summary += f\"\\nwd: {wd}\"\n",
    "    summary += f\"\\nlr: {lr}\"\n",
    "    summary += f\"\\nImage: {image_size}\\n\"\n",
    "\n",
    "    for tf in learner.data.train_dl.dl.dataset.tfms:\n",
    "        summary += f\"\\n {tf}\"\n",
    "    \n",
    "    return summary"
   ]
  },
  {
   "cell_type": "code",
   "execution_count": 6,
   "metadata": {},
   "outputs": [],
   "source": [
    "path = Path('/data/Datasets/WhiteBloodCancer/train/')"
   ]
  },
  {
   "cell_type": "code",
   "execution_count": 7,
   "metadata": {},
   "outputs": [],
   "source": [
    "np.random.seed(42)"
   ]
  },
  {
   "cell_type": "code",
   "execution_count": 8,
   "metadata": {},
   "outputs": [
    {
     "data": {
      "text/plain": [
       "[PosixPath('/data/Datasets/WhiteBloodCancer/train/fold_1/hem/UID_H10_43_1_hem.bmp'),\n",
       " PosixPath('/data/Datasets/WhiteBloodCancer/train/fold_1/hem/UID_H22_31_15_hem.bmp'),\n",
       " PosixPath('/data/Datasets/WhiteBloodCancer/train/fold_1/hem/UID_H14_9_11_hem.bmp'),\n",
       " PosixPath('/data/Datasets/WhiteBloodCancer/train/fold_1/hem/UID_H14_28_6_hem.bmp'),\n",
       " PosixPath('/data/Datasets/WhiteBloodCancer/train/fold_1/hem/UID_H10_189_1_hem.bmp')]"
      ]
     },
     "execution_count": 8,
     "metadata": {},
     "output_type": "execute_result"
    }
   ],
   "source": [
    "fnames = get_image_files(path, recurse=True)\n",
    "fnames[:5]"
   ]
  },
  {
   "cell_type": "code",
   "execution_count": 9,
   "metadata": {},
   "outputs": [],
   "source": [
    "hem_regex = re.compile(r'UID_(H[0-9]+)_')\n",
    "all_regex = re.compile(r'UID_([0-9]+)_')"
   ]
  },
  {
   "cell_type": "code",
   "execution_count": 10,
   "metadata": {},
   "outputs": [
    {
     "name": "stdout",
     "output_type": "stream",
     "text": [
      "\n"
     ]
    }
   ],
   "source": [
    "hem_patient_ids = list(set([hem_regex.search(str(fn)).group(1)\n",
    "                            for fn in fnames if hem_regex.search(str(fn)) is not None]))\n",
    "all_patint_ids = list(set([all_regex.search(str(fn)).group(1)\n",
    "                           for fn in fnames if all_regex.search(str(fn)) is not None]))\n",
    "\n",
    "hem_patients = dict((k,[]) for k in hem_patient_ids)\n",
    "all_patints = dict((k,[]) for k in all_patint_ids)\n",
    "\n",
    "[all_patints[key].append(fn) for key in all_patints.keys() for fn in fnames if 'UID_{0}_'.format(key) in str(fn)]\n",
    "[hem_patients[key].append(fn) for key in hem_patients.keys() for fn in fnames if 'UID_{0}_'.format(key) in str(fn)]\n",
    "print()"
   ]
  },
  {
   "cell_type": "markdown",
   "metadata": {},
   "source": [
    "## Split data into train val "
   ]
  },
  {
   "cell_type": "code",
   "execution_count": 11,
   "metadata": {},
   "outputs": [],
   "source": [
    "split_handler = SplitByPatient(hem_patients, all_patints)"
   ]
  },
  {
   "cell_type": "markdown",
   "metadata": {},
   "source": [
    "### Split by Fold"
   ]
  },
  {
   "cell_type": "code",
   "execution_count": 12,
   "metadata": {},
   "outputs": [],
   "source": [
    "fold = 0"
   ]
  },
  {
   "cell_type": "code",
   "execution_count": 13,
   "metadata": {},
   "outputs": [],
   "source": [
    "folds = split_handler.split_by_folds(5)\n",
    "\n",
    "train_files = folds[1] + folds[2] + folds[3] + folds[4]\n",
    "valid_files = folds[0]"
   ]
  },
  {
   "cell_type": "code",
   "execution_count": 14,
   "metadata": {},
   "outputs": [
    {
     "name": "stdout",
     "output_type": "stream",
     "text": [
      "Train Total: 8789\n",
      "Val Total: 1836\n"
     ]
    }
   ],
   "source": [
    "print('Train Total: {0}'.format(len(train_files)))\n",
    "print('Val Total: {0}'.format(len(valid_files)))"
   ]
  },
  {
   "cell_type": "code",
   "execution_count": 15,
   "metadata": {},
   "outputs": [],
   "source": [
    "pat = re.compile(r'^.*(hem|all).bmp$')\n",
    "\n",
    "def get_label(fn):\n",
    "    return pat.search(str(fn)).group(1)"
   ]
  },
  {
   "cell_type": "markdown",
   "metadata": {},
   "source": [
    "### Use just the cell"
   ]
  },
  {
   "cell_type": "code",
   "execution_count": 16,
   "metadata": {},
   "outputs": [],
   "source": [
    "valid = ImageItemListCell(valid_files)\n",
    "train = ImageItemListCell(train_files)"
   ]
  },
  {
   "cell_type": "code",
   "execution_count": 17,
   "metadata": {},
   "outputs": [],
   "source": [
    "item_list = ItemLists(path, train, valid)\n",
    "lls = item_list.label_from_func(get_label)"
   ]
  },
  {
   "cell_type": "markdown",
   "metadata": {},
   "source": [
    "#### Data augmentation"
   ]
  },
  {
   "cell_type": "code",
   "execution_count": 18,
   "metadata": {},
   "outputs": [],
   "source": [
    "cutout_fn = TfmLighting(cutout)\n",
    "xtra_tfms=[squish(scale=0.66), cutout_fn(n_holes=5, length=0.2)]\n",
    "tfms = get_transforms(do_flip=True, \n",
    "                      flip_vert=True, \n",
    "                      max_rotate=90,  \n",
    "                      max_lighting=0.15, \n",
    "                      max_zoom=1.5, \n",
    "                      max_warp=0.2,\n",
    "                      p_affine=0.75,\n",
    "                      p_lighting=0.75,  \n",
    "                      xtra_tfms=xtra_tfms,\n",
    "                     )"
   ]
  },
  {
   "cell_type": "markdown",
   "metadata": {},
   "source": [
    "#### Create dataset "
   ]
  },
  {
   "cell_type": "code",
   "execution_count": 19,
   "metadata": {},
   "outputs": [],
   "source": [
    "test_path = Path('/data/Datasets/WhiteBloodCancer/test/')\n",
    "\n",
    "def get_data(bs, size):\n",
    "    data  = ImageDataBunch.create_from_ll(lls, size=size, bs=bs, \n",
    "                                      ds_tfms=tfms, padding_mode='zeros',\n",
    "                                      resize_method=ResizeMethod.PAD, test=test_path)\n",
    "    data = data.normalize()\n",
    "    #data = data.normalize((channel_mean, channel_std))\n",
    "    return data\n",
    "    "
   ]
  },
  {
   "cell_type": "markdown",
   "metadata": {},
   "source": [
    "### Start training 256"
   ]
  },
  {
   "cell_type": "code",
   "execution_count": 20,
   "metadata": {},
   "outputs": [],
   "source": [
    "experiment_name = 'rn34-cell-{}'.format(fold)"
   ]
  },
  {
   "cell_type": "code",
   "execution_count": 21,
   "metadata": {},
   "outputs": [],
   "source": [
    "size = 450\n",
    "bs = 128 "
   ]
  },
  {
   "cell_type": "code",
   "execution_count": 22,
   "metadata": {},
   "outputs": [],
   "source": [
    "#gc.collect();"
   ]
  },
  {
   "cell_type": "code",
   "execution_count": 23,
   "metadata": {},
   "outputs": [],
   "source": [
    "learn = create_cnn(get_data(bs, size), models.resnet34, \n",
    "                   metrics=[error_rate, F1Weighted(), MCC()],  \n",
    "                   #loss_func=FocalLoss(num_classes=1, alpha=0.4, gamma=0.5),\n",
    "                   #ps=0.75,\n",
    "                   wd=0.001,\n",
    "                   callback_fns=[ShowGraph, partial(SaveModelCallback, monitor=\"mcc\", mode='max', name='stage1-{}-{}'.format(experiment_name, size))],\n",
    "                  ).to_fp16().mixup()                "
   ]
  },
  {
   "cell_type": "code",
   "execution_count": 24,
   "metadata": {},
   "outputs": [
    {
     "data": {
      "text/plain": [
       "[fastai.basic_train.Recorder,\n",
       " fastai.train.ShowGraph,\n",
       " functools.partial(<class 'fastai.callbacks.tracker.SaveModelCallback'>, monitor='mcc', mode='max', name='stage1-rn34-cell-0-450'),\n",
       " functools.partial(<class 'fastai.callbacks.mixup.MixUpCallback'>, alpha=0.4, stack_x=False, stack_y=True)]"
      ]
     },
     "execution_count": 24,
     "metadata": {},
     "output_type": "execute_result"
    }
   ],
   "source": [
    "learn.callback_fns"
   ]
  },
  {
   "cell_type": "code",
   "execution_count": 25,
   "metadata": {},
   "outputs": [],
   "source": [
    "#learn.lr_find()\n",
    "#learn.recorder.plot()"
   ]
  },
  {
   "cell_type": "code",
   "execution_count": 26,
   "metadata": {},
   "outputs": [],
   "source": [
    "lr = 1e-2"
   ]
  },
  {
   "cell_type": "code",
   "execution_count": 27,
   "metadata": {
    "scrolled": false
   },
   "outputs": [
    {
     "data": {
      "text/html": [
       "Total time: 26:52 <p><table style='width:450px; margin-bottom:10px'>\n",
       "  <tr>\n",
       "    <th>epoch</th>\n",
       "    <th>train_loss</th>\n",
       "    <th>valid_loss</th>\n",
       "    <th>error_rate</th>\n",
       "    <th>f1_weighted</th>\n",
       "    <th>mcc</th>\n",
       "  </tr>\n",
       "  <tr>\n",
       "    <th>1</th>\n",
       "    <th>0.638197</th>\n",
       "    <th>0.462794</th>\n",
       "    <th>0.211329</th>\n",
       "    <th>0.788586</th>\n",
       "    <th>0.526431</th>\n",
       "  </tr>\n",
       "  <tr>\n",
       "    <th>2</th>\n",
       "    <th>0.509123</th>\n",
       "    <th>0.341955</th>\n",
       "    <th>0.095316</th>\n",
       "    <th>0.905269</th>\n",
       "    <th>0.789969</th>\n",
       "  </tr>\n",
       "  <tr>\n",
       "    <th>3</th>\n",
       "    <th>0.465553</th>\n",
       "    <th>0.710940</th>\n",
       "    <th>0.392702</th>\n",
       "    <th>0.605019</th>\n",
       "    <th>0.377108</th>\n",
       "  </tr>\n",
       "  <tr>\n",
       "    <th>4</th>\n",
       "    <th>0.447769</th>\n",
       "    <th>0.359818</th>\n",
       "    <th>0.162309</th>\n",
       "    <th>0.841770</th>\n",
       "    <th>0.682198</th>\n",
       "  </tr>\n",
       "  <tr>\n",
       "    <th>5</th>\n",
       "    <th>0.426614</th>\n",
       "    <th>0.292835</th>\n",
       "    <th>0.138889</th>\n",
       "    <th>0.864679</th>\n",
       "    <th>0.735322</th>\n",
       "  </tr>\n",
       "  <tr>\n",
       "    <th>6</th>\n",
       "    <th>0.413636</th>\n",
       "    <th>0.242594</th>\n",
       "    <th>0.054466</th>\n",
       "    <th>0.945012</th>\n",
       "    <th>0.877175</th>\n",
       "  </tr>\n",
       "  <tr>\n",
       "    <th>7</th>\n",
       "    <th>0.401554</th>\n",
       "    <th>0.179595</th>\n",
       "    <th>0.043028</th>\n",
       "    <th>0.956402</th>\n",
       "    <th>0.903791</th>\n",
       "  </tr>\n",
       "  <tr>\n",
       "    <th>8</th>\n",
       "    <th>0.391714</th>\n",
       "    <th>0.178241</th>\n",
       "    <th>0.038671</th>\n",
       "    <th>0.961022</th>\n",
       "    <th>0.913073</th>\n",
       "  </tr>\n",
       "  <tr>\n",
       "    <th>9</th>\n",
       "    <th>0.385076</th>\n",
       "    <th>0.171000</th>\n",
       "    <th>0.040850</th>\n",
       "    <th>0.959007</th>\n",
       "    <th>0.908106</th>\n",
       "  </tr>\n",
       "  <tr>\n",
       "    <th>10</th>\n",
       "    <th>0.376036</th>\n",
       "    <th>0.190631</th>\n",
       "    <th>0.046296</th>\n",
       "    <th>0.953731</th>\n",
       "    <th>0.896466</th>\n",
       "  </tr>\n",
       "</table>\n"
      ],
      "text/plain": [
       "<IPython.core.display.HTML object>"
      ]
     },
     "metadata": {},
     "output_type": "display_data"
    },
    {
     "data": {
      "image/png": "[encoded data removed]",
      "text/plain": [
       "<Figure size 432x288 with 1 Axes>"
      ]
     },
     "metadata": {},
     "output_type": "display_data"
    },
    {
     "name": "stdout",
     "output_type": "stream",
     "text": [
      "\n",
      "Bs: 128\n",
      "wd: 0.001\n",
      "lr: 0.01\n",
      "Image: torch.Size([450, 450])\n",
      "\n",
      " RandTransform(tfm=TfmCrop (crop_pad), kwargs={'row_pct': (0, 1), 'col_pct': (0, 1)}, p=1.0, resolved={'row_pct': 0.6321687886477131, 'col_pct': 0.06690749034570387, 'padding_mode': 'reflection'}, do_run=True, is_random=True)\n",
      " RandTransform(tfm=TfmAffine (dihedral_affine), kwargs={}, p=1.0, resolved={'k': 1}, do_run=True, is_random=True)\n",
      " RandTransform(tfm=TfmCoord (symmetric_warp), kwargs={'magnitude': (-0.2, 0.2)}, p=0.75, resolved={'magnitude': tensor([0.0234, 0.0150, 0.1352, 0.0602]), 'invert': False}, do_run=False, is_random=True)\n",
      " RandTransform(tfm=TfmAffine (rotate), kwargs={'degrees': (-90, 90)}, p=0.75, resolved={'degrees': 12.902008741305735}, do_run=True, is_random=True)\n",
      " RandTransform(tfm=TfmAffine (zoom), kwargs={'row_pct': (0, 1), 'col_pct': (0, 1), 'scale': (1.0, 1.5)}, p=0.75, resolved={'row_pct': 0.5168440104836526, 'col_pct': 0.8756597393503989, 'scale': 1.4910829685773885}, do_run=True, is_random=True)\n",
      " RandTransform(tfm=TfmLighting (brightness), kwargs={'change': (0.425, 0.575)}, p=0.75, resolved={'change': 0.559441257276108}, do_run=True, is_random=True)\n",
      " RandTransform(tfm=TfmLighting (contrast), kwargs={'scale': (0.85, 1.1764705882352942)}, p=0.75, resolved={'scale': 1.0111293486032473}, do_run=True, is_random=True)\n",
      " RandTransform(tfm=TfmAffine (squish), kwargs={'scale': 0.66}, p=1.0, resolved={'scale': 0.66, 'row_pct': 0.5, 'col_pct': 0.5}, do_run=True, is_random=True)\n",
      " RandTransform(tfm=TfmLighting (utout), kwargs={'n_holes': 5, 'length': 0.2}, p=1.0, resolved={'n_holes': 5, 'length': 0.2}, do_run=True, is_random=True)\n"
     ]
    }
   ],
   "source": [
    "learn.fit_one_cycle(10, lr) #, pct_start=0.8\n",
    "print(extract_train_information(learn))"
   ]
  },
  {
   "cell_type": "markdown",
   "metadata": {},
   "source": [
    "##### And fine-tune the whole model"
   ]
  },
  {
   "cell_type": "code",
   "execution_count": 28,
   "metadata": {},
   "outputs": [],
   "source": [
    "learn.unfreeze()"
   ]
  },
  {
   "cell_type": "code",
   "execution_count": 29,
   "metadata": {},
   "outputs": [
    {
     "data": {
      "image/png": "[encoded data removed]",
      "text/plain": [
       "<Figure size 432x288 with 1 Axes>"
      ]
     },
     "metadata": {
      "needs_background": "light"
     },
     "output_type": "display_data"
    }
   ],
   "source": [
    "#learn.lr_find()\n",
    "learn.recorder.plot()"
   ]
  },
  {
   "cell_type": "code",
   "execution_count": 30,
   "metadata": {},
   "outputs": [],
   "source": [
    "learn.callback_fns[2] = partial(SaveModelCallback, \n",
    "                              monitor=\"mcc\", \n",
    "                              mode='max', \n",
    "                              name='stage2-{}-{}'.format(experiment_name, size))"
   ]
  },
  {
   "cell_type": "code",
   "execution_count": 31,
   "metadata": {},
   "outputs": [
    {
     "data": {
      "text/html": [
       "Total time: 30:59 <p><table style='width:450px; margin-bottom:10px'>\n",
       "  <tr>\n",
       "    <th>epoch</th>\n",
       "    <th>train_loss</th>\n",
       "    <th>valid_loss</th>\n",
       "    <th>error_rate</th>\n",
       "    <th>f1_weighted</th>\n",
       "    <th>mcc</th>\n",
       "  </tr>\n",
       "  <tr>\n",
       "    <th>1</th>\n",
       "    <th>0.379156</th>\n",
       "    <th>0.229036</th>\n",
       "    <th>0.062092</th>\n",
       "    <th>0.938077</th>\n",
       "    <th>0.861865</th>\n",
       "  </tr>\n",
       "  <tr>\n",
       "    <th>2</th>\n",
       "    <th>0.383270</th>\n",
       "    <th>0.180095</th>\n",
       "    <th>0.037037</th>\n",
       "    <th>0.962888</th>\n",
       "    <th>0.916806</th>\n",
       "  </tr>\n",
       "  <tr>\n",
       "    <th>3</th>\n",
       "    <th>0.385594</th>\n",
       "    <th>0.174679</th>\n",
       "    <th>0.048475</th>\n",
       "    <th>0.950657</th>\n",
       "    <th>0.892219</th>\n",
       "  </tr>\n",
       "  <tr>\n",
       "    <th>4</th>\n",
       "    <th>0.383838</th>\n",
       "    <th>0.216459</th>\n",
       "    <th>0.065904</th>\n",
       "    <th>0.932120</th>\n",
       "    <th>0.855067</th>\n",
       "  </tr>\n",
       "  <tr>\n",
       "    <th>5</th>\n",
       "    <th>0.373109</th>\n",
       "    <th>0.239674</th>\n",
       "    <th>0.085512</th>\n",
       "    <th>0.915910</th>\n",
       "    <th>0.822454</th>\n",
       "  </tr>\n",
       "  <tr>\n",
       "    <th>6</th>\n",
       "    <th>0.371516</th>\n",
       "    <th>0.206746</th>\n",
       "    <th>0.042484</th>\n",
       "    <th>0.957599</th>\n",
       "    <th>0.905318</th>\n",
       "  </tr>\n",
       "  <tr>\n",
       "    <th>7</th>\n",
       "    <th>0.360531</th>\n",
       "    <th>0.165947</th>\n",
       "    <th>0.042484</th>\n",
       "    <th>0.957430</th>\n",
       "    <th>0.904561</th>\n",
       "  </tr>\n",
       "  <tr>\n",
       "    <th>8</th>\n",
       "    <th>0.357107</th>\n",
       "    <th>0.158356</th>\n",
       "    <th>0.036492</th>\n",
       "    <th>0.963411</th>\n",
       "    <th>0.917980</th>\n",
       "  </tr>\n",
       "  <tr>\n",
       "    <th>9</th>\n",
       "    <th>0.348405</th>\n",
       "    <th>0.175798</th>\n",
       "    <th>0.045207</th>\n",
       "    <th>0.954890</th>\n",
       "    <th>0.899298</th>\n",
       "  </tr>\n",
       "  <tr>\n",
       "    <th>10</th>\n",
       "    <th>0.343782</th>\n",
       "    <th>0.178756</th>\n",
       "    <th>0.042484</th>\n",
       "    <th>0.957631</th>\n",
       "    <th>0.905532</th>\n",
       "  </tr>\n",
       "</table>\n"
      ],
      "text/plain": [
       "<IPython.core.display.HTML object>"
      ]
     },
     "metadata": {},
     "output_type": "display_data"
    },
    {
     "data": {
      "image/png": "[encoded data removed]",
      "text/plain": [
       "<Figure size 432x288 with 1 Axes>"
      ]
     },
     "metadata": {},
     "output_type": "display_data"
    },
    {
     "name": "stdout",
     "output_type": "stream",
     "text": [
      "\n",
      "Bs: 128\n",
      "wd: 0.001\n",
      "lr: 0.0020000000000000005\n",
      "Image: torch.Size([450, 450])\n",
      "\n",
      " RandTransform(tfm=TfmCrop (crop_pad), kwargs={'row_pct': (0, 1), 'col_pct': (0, 1)}, p=1.0, resolved={'row_pct': 0.6321687886477131, 'col_pct': 0.06690749034570387, 'padding_mode': 'reflection'}, do_run=True, is_random=True)\n",
      " RandTransform(tfm=TfmAffine (dihedral_affine), kwargs={}, p=1.0, resolved={'k': 1}, do_run=True, is_random=True)\n",
      " RandTransform(tfm=TfmCoord (symmetric_warp), kwargs={'magnitude': (-0.2, 0.2)}, p=0.75, resolved={'magnitude': tensor([0.0234, 0.0150, 0.1352, 0.0602]), 'invert': False}, do_run=False, is_random=True)\n",
      " RandTransform(tfm=TfmAffine (rotate), kwargs={'degrees': (-90, 90)}, p=0.75, resolved={'degrees': 12.902008741305735}, do_run=True, is_random=True)\n",
      " RandTransform(tfm=TfmAffine (zoom), kwargs={'row_pct': (0, 1), 'col_pct': (0, 1), 'scale': (1.0, 1.5)}, p=0.75, resolved={'row_pct': 0.5168440104836526, 'col_pct': 0.8756597393503989, 'scale': 1.4910829685773885}, do_run=True, is_random=True)\n",
      " RandTransform(tfm=TfmLighting (brightness), kwargs={'change': (0.425, 0.575)}, p=0.75, resolved={'change': 0.559441257276108}, do_run=True, is_random=True)\n",
      " RandTransform(tfm=TfmLighting (contrast), kwargs={'scale': (0.85, 1.1764705882352942)}, p=0.75, resolved={'scale': 1.0111293486032473}, do_run=True, is_random=True)\n",
      " RandTransform(tfm=TfmAffine (squish), kwargs={'scale': 0.66}, p=1.0, resolved={'scale': 0.66, 'row_pct': 0.5, 'col_pct': 0.5}, do_run=True, is_random=True)\n",
      " RandTransform(tfm=TfmLighting (utout), kwargs={'n_holes': 5, 'length': 0.2}, p=1.0, resolved={'n_holes': 5, 'length': 0.2}, do_run=True, is_random=True)\n"
     ]
    }
   ],
   "source": [
    "learn.fit_one_cycle(10, slice(1e-5,lr/5))\n",
    "print(extract_train_information(learn))"
   ]
  },
  {
   "cell_type": "code",
   "execution_count": 32,
   "metadata": {},
   "outputs": [],
   "source": [
    "preds_test, y_test=learn.get_preds(ds_type=DatasetType.Valid)# \n",
    "preds_test = np.argmax(torch.sigmoid(preds_test), axis=1)"
   ]
  },
  {
   "cell_type": "code",
   "execution_count": 33,
   "metadata": {},
   "outputs": [],
   "source": [
    "score = int(matthews_corrcoef(y_test, preds_test) * 100)"
   ]
  },
  {
   "cell_type": "code",
   "execution_count": 34,
   "metadata": {},
   "outputs": [],
   "source": [
    "learn.export('{}-{}-{}.pkl'.format(experiment_name, size, score))"
   ]
  },
  {
   "cell_type": "code",
   "execution_count": null,
   "metadata": {},
   "outputs": [],
   "source": []
  }
 ],
 "metadata": {
  "kernelspec": {
   "display_name": "Python 3",
   "language": "python",
   "name": "python3"
  },
  "language_info": {
   "codemirror_mode": {
    "name": "ipython",
    "version": 3
   },
   "file_extension": ".py",
   "mimetype": "text/x-python",
   "name": "python",
   "nbconvert_exporter": "python",
   "pygments_lexer": "ipython3",
   "version": "3.6.7"
  }
 },
 "nbformat": 4,
 "nbformat_minor": 1
}
