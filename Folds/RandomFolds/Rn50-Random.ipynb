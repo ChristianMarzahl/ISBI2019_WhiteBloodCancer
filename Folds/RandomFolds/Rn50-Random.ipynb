{
 "cells": [
  {
   "cell_type": "code",
   "execution_count": 1,
   "metadata": {},
   "outputs": [],
   "source": [
    "%reload_ext autoreload\n",
    "%autoreload 2\n",
    "%matplotlib inline"
   ]
  },
  {
   "cell_type": "code",
   "execution_count": 2,
   "metadata": {},
   "outputs": [],
   "source": [
    "import csv\n",
    "import os\n",
    "from pathlib import Path\n",
    "from tqdm import tqdm\n",
    "import matplotlib.pyplot as plt\n",
    "import random\n",
    "from sklearn.metrics import matthews_corrcoef\n",
    "from sklearn.model_selection import KFold"
   ]
  },
  {
   "cell_type": "code",
   "execution_count": 3,
   "metadata": {},
   "outputs": [],
   "source": [
    "import cv2\n",
    "from fastai import *\n",
    "from fastai.vision import *\n",
    "from fastai.callbacks import *"
   ]
  },
  {
   "cell_type": "code",
   "execution_count": 4,
   "metadata": {},
   "outputs": [],
   "source": [
    "from dataset_spliter import SplitByPatient\n",
    "from metrics import *#F1Weighted, MCC\n",
    "from losses import *\n",
    "from data_loader import ImageItemListCell\n",
    "from augmentation import cutout"
   ]
  },
  {
   "cell_type": "code",
   "execution_count": 5,
   "metadata": {},
   "outputs": [
    {
     "data": {
      "text/plain": [
       "[PosixPath('/data/Datasets/WhiteBloodCancer/train/fold_1/hem/UID_H10_43_1_hem.bmp'),\n",
       " PosixPath('/data/Datasets/WhiteBloodCancer/train/fold_1/hem/UID_H22_31_15_hem.bmp'),\n",
       " PosixPath('/data/Datasets/WhiteBloodCancer/train/fold_1/hem/UID_H14_9_11_hem.bmp'),\n",
       " PosixPath('/data/Datasets/WhiteBloodCancer/train/fold_1/hem/UID_H14_28_6_hem.bmp'),\n",
       " PosixPath('/data/Datasets/WhiteBloodCancer/train/fold_1/hem/UID_H10_189_1_hem.bmp')]"
      ]
     },
     "execution_count": 5,
     "metadata": {},
     "output_type": "execute_result"
    }
   ],
   "source": [
    "path = Path('/data/Datasets/WhiteBloodCancer/train/')\n",
    "\n",
    "fnames = get_image_files(path, recurse=True)\n",
    "fnames[:5]"
   ]
  },
  {
   "cell_type": "code",
   "execution_count": 6,
   "metadata": {},
   "outputs": [
    {
     "name": "stdout",
     "output_type": "stream",
     "text": [
      "\n"
     ]
    }
   ],
   "source": [
    "hem_regex = re.compile(r'UID_(H[0-9]+)_', re.IGNORECASE)\n",
    "all_regex = re.compile(r'UID_([0-9]+)_', re.IGNORECASE)\n",
    "\n",
    "hem_patient_ids = list(set([hem_regex.search(str(fn)).group(1)\n",
    "                            for fn in fnames if hem_regex.search(str(fn)) is not None]))\n",
    "all_patint_ids = list(set([all_regex.search(str(fn)).group(1)\n",
    "                           for fn in fnames if all_regex.search(str(fn)) is not None]))\n",
    "\n",
    "hem_patients = dict((k,[]) for k in hem_patient_ids)\n",
    "all_patints = dict((k,[]) for k in all_patint_ids)\n",
    "\n",
    "[all_patints[key].append(fn) for key in all_patints.keys() for fn in fnames if 'UID_{0}_'.format(key) in str(fn)]\n",
    "[hem_patients[key].append(fn) for key in hem_patients.keys() for fn in fnames if 'UID_{0}_'.format(key) in str(fn)]\n",
    "print()"
   ]
  },
  {
   "cell_type": "code",
   "execution_count": 7,
   "metadata": {},
   "outputs": [],
   "source": [
    "cutout_fn = TfmLighting(cutout)\n",
    "xtra_tfms=[cutout_fn(n_holes=5, length=0.1)] #squish(scale=0.66),\n",
    "tfms = get_transforms(do_flip=True, \n",
    "                      flip_vert=True, \n",
    "                      max_rotate=90,  \n",
    "                      #max_lighting=0.15, \n",
    "                      max_zoom=1, \n",
    "                      #max_warp=0.2,\n",
    "                      #p_affine=0.75,\n",
    "                      #p_lighting=0.75,  \n",
    "                      #xtra_tfms=xtra_tfms,\n",
    "                     )"
   ]
  },
  {
   "cell_type": "code",
   "execution_count": 8,
   "metadata": {},
   "outputs": [],
   "source": [
    "test_path = Path('/data/Datasets/WhiteBloodCancer/test/')\n",
    "\n",
    "pat = re.compile(r'^.*(hem|all).bmp$')\n",
    "def get_label(fn):\n",
    "    return pat.search(str(fn)).group(1)\n",
    "\n",
    "def get_data(bs, size, train_index, test_index):\n",
    "\n",
    "    lls = ImageItemList(fnames, path=path)\\\n",
    "        .split_by_idxs(train_index, test_index)\\\n",
    "        .label_from_func(get_label).add_test_folder('../test')\n",
    "    data = ImageDataBunch.create_from_ll(lls, size=size, bs=bs, ds_tfms=tfms).normalize()\n",
    "    \n",
    "    return data"
   ]
  },
  {
   "cell_type": "code",
   "execution_count": 9,
   "metadata": {},
   "outputs": [],
   "source": [
    "def create_save_point(learn: Learner):\n",
    "    \n",
    "    preds_test, y_test=learn.get_preds(ds_type=DatasetType.Valid)# \n",
    "    preds_test = np.argmax(torch.sigmoid(preds_test), axis=1)\n",
    "    score = int(matthews_corrcoef(y_test, preds_test) * 10000)\n",
    "    \n",
    "    learn.export('{}-{}-{}.pkl'.format(score, size, experiment_name))  \n",
    "    \n",
    "    export_csv(learn, score)"
   ]
  },
  {
   "cell_type": "code",
   "execution_count": 10,
   "metadata": {},
   "outputs": [],
   "source": [
    "def export_csv(learn: Learner, score):\n",
    "    \n",
    "    y_pred, y_test_tta = learn.TTA(ds_type=DatasetType.Test, beta=0.4, scale=1.3)\n",
    "    y_pred = to_np(y_pred)\n",
    "    \n",
    "    filename = '{}-{}-{}'.format(score, size, experiment_name)\n",
    "    with open(str(path)+\"/\"+ filename+\".csv\", mode='w') as submission:\n",
    "        submission_writer = csv.writer(submission, delimiter=',', quotechar='\"', quoting=csv.QUOTE_MINIMAL)\n",
    "\n",
    "        for fn, y in zip(learn.data.test_dl.items, y_pred):\n",
    "            submission_writer.writerow([fn.name, y[0], y[1]])\n",
    "            \n",
    "    submission = [0 for i in range(y_pred.shape[0])]\n",
    "            \n",
    "    threshold = 0.5 \n",
    "    for fn, y in zip(learn.data.test_dl.items, y_pred[:,0]):\n",
    "        index = int(fn.name.replace(\".bmp\",'')) - 1\n",
    "        y = 1 if y > threshold else 0\n",
    "        submission[index] = y\n",
    "\n",
    "    with open(str(path)+\"/\"+ filename+'.predict', 'w') as f:\n",
    "        for item in submission:\n",
    "            f.write(\"{}\\n\".format(item))"
   ]
  },
  {
   "cell_type": "code",
   "execution_count": 11,
   "metadata": {},
   "outputs": [],
   "source": [
    "split_handler = SplitByPatient(hem_patients, all_patints)"
   ]
  },
  {
   "cell_type": "code",
   "execution_count": null,
   "metadata": {
    "scrolled": false
   },
   "outputs": [
    {
     "data": {
      "text/html": [
       "Total time: 02:10 <p>"
      ],
      "text/plain": [
       "<IPython.core.display.HTML object>"
      ]
     },
     "metadata": {},
     "output_type": "display_data"
    },
    {
     "data": {
      "text/html": [
       "Total time: 18:50 <p><table style='width:450px; margin-bottom:10px'>\n",
       "  <tr>\n",
       "    <th>epoch</th>\n",
       "    <th>train_loss</th>\n",
       "    <th>valid_loss</th>\n",
       "    <th>error_rate</th>\n",
       "    <th>f1_weighted</th>\n",
       "    <th>mcc</th>\n",
       "  </tr>\n",
       "  <tr>\n",
       "    <th>1</th>\n",
       "    <th>0.182753</th>\n",
       "    <th>1.047090</th>\n",
       "    <th>0.301310</th>\n",
       "    <th>0.621583</th>\n",
       "    <th>0.295408</th>\n",
       "  </tr>\n",
       "  <tr>\n",
       "    <th>2</th>\n",
       "    <th>0.190541</th>\n",
       "    <th>0.877331</th>\n",
       "    <th>0.299439</th>\n",
       "    <th>0.623600</th>\n",
       "    <th>0.304035</th>\n",
       "  </tr>\n",
       "  <tr>\n",
       "    <th>3</th>\n",
       "    <th>0.218810</th>\n",
       "    <th>0.825590</th>\n",
       "    <th>0.290705</th>\n",
       "    <th>0.637137</th>\n",
       "    <th>0.335966</th>\n",
       "  </tr>\n",
       "  <tr>\n",
       "    <th>4</th>\n",
       "    <th>0.166478</th>\n",
       "    <th>0.966094</th>\n",
       "    <th>0.299439</th>\n",
       "    <th>0.620888</th>\n",
       "    <th>0.309348</th>\n",
       "  </tr>\n",
       "  <tr>\n",
       "    <th>5</th>\n",
       "    <th>0.177972</th>\n",
       "    <th>0.936379</th>\n",
       "    <th>0.299439</th>\n",
       "    <th>0.622254</th>\n",
       "    <th>0.306566</th>\n",
       "  </tr>\n",
       "</table>\n"
      ],
      "text/plain": [
       "<IPython.core.display.HTML object>"
      ]
     },
     "metadata": {},
     "output_type": "display_data"
    },
    {
     "data": {
      "image/png": "[encoded data removed]",
      "text/plain": [
       "<Figure size 432x288 with 1 Axes>"
      ]
     },
     "metadata": {},
     "output_type": "display_data"
    },
    {
     "data": {
      "text/html": [
       "\n",
       "    <div>\n",
       "        <style>\n",
       "            /* Turns off some styling */\n",
       "            progress {\n",
       "                /* gets rid of default border in Firefox and Opera. */\n",
       "                border: none;\n",
       "                /* Needs to be in here for Safari polyfill so background images work as expected. */\n",
       "                background-size: auto;\n",
       "            }\n",
       "            .progress-bar-interrupted, .progress-bar-interrupted::-webkit-progress-bar {\n",
       "                background: #F44336;\n",
       "            }\n",
       "        </style>\n",
       "      <progress value='5' class='' max='10', style='width:300px; height:20px; vertical-align: middle;'></progress>\n",
       "      50.00% [5/10 26:32<26:32]\n",
       "    </div>\n",
       "    \n",
       "<table style='width:450px; margin-bottom:10px'>\n",
       "  <tr>\n",
       "    <th>epoch</th>\n",
       "    <th>train_loss</th>\n",
       "    <th>valid_loss</th>\n",
       "    <th>error_rate</th>\n",
       "    <th>f1_weighted</th>\n",
       "    <th>mcc</th>\n",
       "  </tr>\n",
       "  <tr>\n",
       "    <th>1</th>\n",
       "    <th>0.201487</th>\n",
       "    <th>0.656652</th>\n",
       "    <th>0.273238</th>\n",
       "    <th>0.669485</th>\n",
       "    <th>0.382048</th>\n",
       "  </tr>\n",
       "  <tr>\n",
       "    <th>2</th>\n",
       "    <th>0.216380</th>\n",
       "    <th>0.469813</th>\n",
       "    <th>0.202745</th>\n",
       "    <th>0.781836</th>\n",
       "    <th>0.542360</th>\n",
       "  </tr>\n",
       "  <tr>\n",
       "    <th>3</th>\n",
       "    <th>0.237523</th>\n",
       "    <th>0.509865</th>\n",
       "    <th>0.226450</th>\n",
       "    <th>0.740313</th>\n",
       "    <th>0.503314</th>\n",
       "  </tr>\n",
       "  <tr>\n",
       "    <th>4</th>\n",
       "    <th>0.201224</th>\n",
       "    <th>0.760054</th>\n",
       "    <th>0.273861</th>\n",
       "    <th>0.666352</th>\n",
       "    <th>0.384527</th>\n",
       "  </tr>\n",
       "  <tr>\n",
       "    <th>5</th>\n",
       "    <th>0.179925</th>\n",
       "    <th>0.541576</th>\n",
       "    <th>0.228322</th>\n",
       "    <th>0.739000</th>\n",
       "    <th>0.495809</th>\n",
       "  </tr>\n",
       "</table>\n",
       "\n",
       "\n",
       "    <div>\n",
       "        <style>\n",
       "            /* Turns off some styling */\n",
       "            progress {\n",
       "                /* gets rid of default border in Firefox and Opera. */\n",
       "                border: none;\n",
       "                /* Needs to be in here for Safari polyfill so background images work as expected. */\n",
       "                background-size: auto;\n",
       "            }\n",
       "            .progress-bar-interrupted, .progress-bar-interrupted::-webkit-progress-bar {\n",
       "                background: #F44336;\n",
       "            }\n",
       "        </style>\n",
       "      <progress value='422' class='' max='566', style='width:300px; height:20px; vertical-align: middle;'></progress>\n",
       "      74.56% [422/566 03:44<01:16 0.1850]\n",
       "    </div>\n",
       "    "
      ],
      "text/plain": [
       "<IPython.core.display.HTML object>"
      ]
     },
     "metadata": {},
     "output_type": "display_data"
    },
    {
     "data": {
      "image/png": "[encoded data removed]",
      "text/plain": [
       "<Figure size 432x288 with 1 Axes>"
      ]
     },
     "metadata": {},
     "output_type": "display_data"
    }
   ],
   "source": [
    "id = 0\n",
    "while True:\n",
    "    train, val, keys = split_handler.split_by_num_patients(fnames)\n",
    "    \n",
    "    fold = 0\n",
    "    for train_index, test_index in zip(train, val):\n",
    "        size = 256\n",
    "        bs = 96\n",
    "\n",
    "        data = get_data(bs, size, train_index, test_index)\n",
    "\n",
    "        gc.collect()\n",
    "        experiment_name = 'rn50-Custom-{}-{}'.format(fold, id)\n",
    "        \n",
    "        with open(str(path)+\"/\"+experiment_name+'.txt', 'w') as the_file:\n",
    "            the_file.write(\" \".join(keys))\n",
    "\n",
    "        learn = create_cnn(data, models.resnet50, \n",
    "                       metrics=[error_rate, F1Weighted(), MCC()],  \n",
    "                       #loss_func=FocalLoss(num_classes=1),\n",
    "                       #ps=0.75,\n",
    "                       #wd=0.1,\n",
    "                       callback_fns=[ShowGraph, partial(SaveModelCallback, name='stage1-{}-{}'.format(experiment_name, size))],\n",
    "                      )#.to_fp16()\n",
    "\n",
    "        lr = 1e-2\n",
    "        learn.fit_one_cycle(5, lr)\n",
    "\n",
    "        learn.unfreeze()\n",
    "        learn.callback_fns[2] = partial(SaveModelCallback, \n",
    "                                  monitor=\"mcc\", \n",
    "                                  mode='max', \n",
    "                                  name='stage2-{}-{}'.format(experiment_name, size))\n",
    "        learn.fit_one_cycle(10, slice(1e-5,lr/5))\n",
    "\n",
    "        ####################################### 384\n",
    "\n",
    "        size = 384\n",
    "        bs = 32\n",
    "        learn.freeze()\n",
    "\n",
    "        learn.data = get_data(bs, size, train_index, test_index)\n",
    "        learn.callback_fns[2] = partial(SaveModelCallback, \n",
    "                                  monitor=\"mcc\", \n",
    "                                  mode='max', \n",
    "                                  name='stage1-{}-{}'.format(experiment_name, size))\n",
    "        learn.fit_one_cycle(5, slice(1e-5,lr/5))\n",
    "\n",
    "        learn.unfreeze()\n",
    "        learn.callback_fns[2] = partial(SaveModelCallback, \n",
    "                                  monitor=\"mcc\", \n",
    "                                  mode='max', \n",
    "                                  name='stage2-{}-{}'.format(experiment_name, size))\n",
    "        learn.fit_one_cycle(10, slice(1e-5,lr/5))\n",
    "\n",
    "        create_save_point(learn)\n",
    "        ####################################### 450\n",
    "\n",
    "\n",
    "        size = 450\n",
    "        bs = 16\n",
    "        learn.freeze()\n",
    "\n",
    "        learn.data = get_data(bs, size, train_index, test_index)\n",
    "        learn.callback_fns[2] = partial(SaveModelCallback, \n",
    "                                  monitor=\"mcc\", \n",
    "                                  mode='max', \n",
    "                                  name='stage1-{}-{}'.format(experiment_name, size))\n",
    "        learn.fit_one_cycle(5, slice(1e-5,lr/5))\n",
    "\n",
    "        learn.unfreeze()\n",
    "        learn.callback_fns[2] = partial(SaveModelCallback, \n",
    "                                  monitor=\"mcc\", \n",
    "                                  mode='max', \n",
    "                                  name='stage2-{}-{}'.format(experiment_name, size))\n",
    "        learn.fit_one_cycle(10, slice(1e-5,lr/5))\n",
    "\n",
    "        create_save_point(learn)\n",
    "\n",
    "        fold += 1    \n",
    "        id += 1\n",
    "    "
   ]
  },
  {
   "cell_type": "code",
   "execution_count": null,
   "metadata": {},
   "outputs": [],
   "source": []
  }
 ],
 "metadata": {
  "kernelspec": {
   "display_name": "Python 3",
   "language": "python",
   "name": "python3"
  },
  "language_info": {
   "codemirror_mode": {
    "name": "ipython",
    "version": 3
   },
   "file_extension": ".py",
   "mimetype": "text/x-python",
   "name": "python",
   "nbconvert_exporter": "python",
   "pygments_lexer": "ipython3",
   "version": "3.6.7"
  }
 },
 "nbformat": 4,
 "nbformat_minor": 2
}
