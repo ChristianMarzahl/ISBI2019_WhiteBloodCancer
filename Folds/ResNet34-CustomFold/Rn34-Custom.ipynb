{
 "cells": [
  {
   "cell_type": "code",
   "execution_count": 1,
   "metadata": {},
   "outputs": [],
   "source": [
    "%reload_ext autoreload\n",
    "%autoreload 2\n",
    "%matplotlib inline"
   ]
  },
  {
   "cell_type": "code",
   "execution_count": 2,
   "metadata": {},
   "outputs": [],
   "source": [
    "import os\n",
    "from pathlib import Path\n",
    "from tqdm import tqdm\n",
    "import matplotlib.pyplot as plt\n",
    "import random\n",
    "from sklearn.metrics import matthews_corrcoef\n",
    "from sklearn.model_selection import KFold"
   ]
  },
  {
   "cell_type": "code",
   "execution_count": 3,
   "metadata": {},
   "outputs": [],
   "source": [
    "import cv2\n",
    "from fastai import *\n",
    "from fastai.vision import *\n",
    "from fastai.callbacks import *"
   ]
  },
  {
   "cell_type": "code",
   "execution_count": 4,
   "metadata": {},
   "outputs": [],
   "source": [
    "from dataset_spliter import SplitByPatient\n",
    "from metrics import *#F1Weighted, MCC\n",
    "from losses import *\n",
    "from data_loader import ImageItemListCell\n",
    "from augmentation import cutout"
   ]
  },
  {
   "cell_type": "code",
   "execution_count": 5,
   "metadata": {},
   "outputs": [],
   "source": [
    "path = Path('/data/Datasets/WhiteBloodCancer/train/')"
   ]
  },
  {
   "cell_type": "code",
   "execution_count": 6,
   "metadata": {},
   "outputs": [
    {
     "data": {
      "text/plain": [
       "[PosixPath('/data/Datasets/WhiteBloodCancer/train/fold_1/hem/UID_H10_43_1_hem.bmp'),\n",
       " PosixPath('/data/Datasets/WhiteBloodCancer/train/fold_1/hem/UID_H22_31_15_hem.bmp'),\n",
       " PosixPath('/data/Datasets/WhiteBloodCancer/train/fold_1/hem/UID_H14_9_11_hem.bmp'),\n",
       " PosixPath('/data/Datasets/WhiteBloodCancer/train/fold_1/hem/UID_H14_28_6_hem.bmp'),\n",
       " PosixPath('/data/Datasets/WhiteBloodCancer/train/fold_1/hem/UID_H10_189_1_hem.bmp')]"
      ]
     },
     "execution_count": 6,
     "metadata": {},
     "output_type": "execute_result"
    }
   ],
   "source": [
    "fnames = get_image_files(path, recurse=True)\n",
    "fnames[:5]"
   ]
  },
  {
   "cell_type": "code",
   "execution_count": 7,
   "metadata": {},
   "outputs": [
    {
     "data": {
      "text/plain": [
       "10661"
      ]
     },
     "execution_count": 7,
     "metadata": {},
     "output_type": "execute_result"
    }
   ],
   "source": [
    "len(fnames)"
   ]
  },
  {
   "cell_type": "markdown",
   "metadata": {},
   "source": [
    "#### Data augmentation"
   ]
  },
  {
   "cell_type": "code",
   "execution_count": 8,
   "metadata": {},
   "outputs": [],
   "source": [
    "cutout_fn = TfmLighting(cutout)\n",
    "xtra_tfms=[cutout_fn(n_holes=5, length=0.1)] #squish(scale=0.66),\n",
    "tfms = get_transforms(do_flip=True, \n",
    "                      flip_vert=True, \n",
    "                      #max_rotate=90,  \n",
    "                      #max_lighting=0.15, \n",
    "                      #max_zoom=1.5, \n",
    "                      #max_warp=0.2,\n",
    "                      #p_affine=0.75,\n",
    "                      #p_lighting=0.75,  \n",
    "                      #xtra_tfms=xtra_tfms,\n",
    "                     )"
   ]
  },
  {
   "cell_type": "markdown",
   "metadata": {},
   "source": [
    "#### Create dataset "
   ]
  },
  {
   "cell_type": "code",
   "execution_count": 9,
   "metadata": {},
   "outputs": [],
   "source": [
    "test_path = Path('/data/Datasets/WhiteBloodCancer/test/')\n",
    "\n",
    "pat = re.compile(r'^.*(hem|all).bmp$')\n",
    "def get_label(fn):\n",
    "    return pat.search(str(fn)).group(1)\n",
    "\n",
    "def get_data(bs, size, train_index, test_index):\n",
    "\n",
    "    lls = ImageItemList(fnames, path=path)\\\n",
    "        .split_by_idxs(train_index, test_index)\\\n",
    "        .label_from_func(get_label)\n",
    "    data = ImageDataBunch.create_from_ll(lls, size=size, bs=bs, ds_tfms=tfms).normalize()\n",
    "\n",
    "    return data"
   ]
  },
  {
   "cell_type": "code",
   "execution_count": 10,
   "metadata": {},
   "outputs": [],
   "source": [
    "def create_save_point(learn: Learner):\n",
    "    \n",
    "    preds_test, y_test=learn.get_preds(ds_type=DatasetType.Valid)# \n",
    "    preds_test = np.argmax(torch.sigmoid(preds_test), axis=1)\n",
    "    score = int(matthews_corrcoef(y_test, preds_test) * 10000)\n",
    "    \n",
    "    learn.export('{}-{}-{}.pkl'.format(score, size, experiment_name))  "
   ]
  },
  {
   "cell_type": "code",
   "execution_count": 11,
   "metadata": {},
   "outputs": [],
   "source": [
    "val_ids_fold_0 = []\n",
    "train_ids_fold_0 = []\n",
    "\n",
    "for id, fn in enumerate(fnames):\n",
    "\n",
    "    found = False\n",
    "    for pt in ['3', '19', '74', '16', '36', 'H4', 'H6', 'H46']:\n",
    "        if 'UID_{}_'.format(pt) in str(fn):\n",
    "            val_ids_fold_0.append(id)\n",
    "            found = True\n",
    "            break\n",
    "    if found: continue\n",
    "    train_ids_fold_0.append(id)\n",
    "            \n",
    "val_ids_fold_1 = []\n",
    "train_ids_fold_1 = []\n",
    "\n",
    "\n",
    "for id, fn in enumerate(fnames):\n",
    "\n",
    "    found = False\n",
    "    for pt in ['15', '72', '1', '3','17', 'H7', 'H18', 'H1']:\n",
    "        if 'UID_{}_'.format(pt) in str(fn):\n",
    "            val_ids_fold_1.append(id)\n",
    "            found = True\n",
    "            break\n",
    "    if found: continue\n",
    "    train_ids_fold_1.append(id)\n",
    "        \n",
    "\n",
    "train = [train_ids_fold_0, train_ids_fold_1]\n",
    "val = [val_ids_fold_0, val_ids_fold_1]\n",
    "\n",
    "if len(val_ids_fold_0) + len(train_ids_fold_0) != len(fnames):\n",
    "    raise Exception"
   ]
  },
  {
   "cell_type": "code",
   "execution_count": 20,
   "metadata": {
    "scrolled": false
   },
   "outputs": [],
   "source": [
    "fold = 0\n",
    "for train_index, test_index in zip(train, val):\n",
    "    size = 256\n",
    "    bs = 96\n",
    "\n",
    "    data = get_data(bs, size, train_index, test_index)\n",
    "    \n",
    "    gc.collect()\n",
    "    experiment_name = 'rn50-Custom-{}'.format(fold)\n",
    "    \n",
    "    learn = create_cnn(data, models.resnet50, \n",
    "                   metrics=[error_rate, F1Weighted(), MCC()],  \n",
    "                   #loss_func=FocalLoss(num_classes=1, alpha=0.5, gamma=2),\n",
    "                   #ps=0.75,\n",
    "                   #wd=0.1,\n",
    "                   callback_fns=[ShowGraph, partial(SaveModelCallback, name='stage1-{}-{}'.format(experiment_name, size))],\n",
    "                  ).to_fp16()\n",
    "    \n",
    "    lr = 1e-2\n",
    "    learn.fit_one_cycle(10, lr)\n",
    "    \n",
    "    learn.unfreeze()\n",
    "    learn.callback_fns[2] = partial(SaveModelCallback, \n",
    "                              monitor=\"mcc\", \n",
    "                              mode='max', \n",
    "                              name='stage2-{}-{}'.format(experiment_name, size))\n",
    "    learn.fit_one_cycle(10, slice(1e-5,lr/5))\n",
    "    \n",
    "    ####################################### 384\n",
    "    \n",
    "    size = 384\n",
    "    bs = 64\n",
    "    learn.freeze()\n",
    "    \n",
    "    learn.data = get_data(bs, size, train_index, test_index)\n",
    "    learn.callback_fns[2] = partial(SaveModelCallback, \n",
    "                              monitor=\"mcc\", \n",
    "                              mode='max', \n",
    "                              name='stage1-{}-{}'.format(experiment_name, size))\n",
    "    learn.fit_one_cycle(10, slice(1e-5,lr/5))\n",
    "    \n",
    "    learn.unfreeze()\n",
    "    learn.callback_fns[2] = partial(SaveModelCallback, \n",
    "                              monitor=\"mcc\", \n",
    "                              mode='max', \n",
    "                              name='stage2-{}-{}'.format(experiment_name, size))\n",
    "    learn.fit_one_cycle(10, slice(1e-5,lr/5))\n",
    "    \n",
    "    create_save_point(learn)\n",
    "    ####################################### 450\n",
    "    \n",
    "\n",
    "    size = 450\n",
    "    bs = 32\n",
    "    learn.freeze()\n",
    "    \n",
    "    learn.data = get_data(bs, size, train_index, test_index)\n",
    "    learn.callback_fns[2] = partial(SaveModelCallback, \n",
    "                              monitor=\"mcc\", \n",
    "                              mode='max', \n",
    "                              name='stage1-{}-{}'.format(experiment_name, size))\n",
    "    learn.fit_one_cycle(10, slice(1e-5,lr/5))\n",
    "    \n",
    "    learn.unfreeze()\n",
    "    learn.callback_fns[2] = partial(SaveModelCallback, \n",
    "                              monitor=\"mcc\", \n",
    "                              mode='max', \n",
    "                              name='stage2-{}-{}'.format(experiment_name, size))\n",
    "    learn.fit_one_cycle(10, slice(1e-5,lr/5))\n",
    "    \n",
    "    create_save_point(learn)\n",
    "\n",
    "    fold += 1"
   ]
  },
  {
   "cell_type": "code",
   "execution_count": null,
   "metadata": {},
   "outputs": [],
   "source": []
  }
 ],
 "metadata": {
  "kernelspec": {
   "display_name": "Python 3",
   "language": "python",
   "name": "python3"
  },
  "language_info": {
   "codemirror_mode": {
    "name": "ipython",
    "version": 3
   },
   "file_extension": ".py",
   "mimetype": "text/x-python",
   "name": "python",
   "nbconvert_exporter": "python",
   "pygments_lexer": "ipython3",
   "version": "3.6.7"
  }
 },
 "nbformat": 4,
 "nbformat_minor": 1
}
