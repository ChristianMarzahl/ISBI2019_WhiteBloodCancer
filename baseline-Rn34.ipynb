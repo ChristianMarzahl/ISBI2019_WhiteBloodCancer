{
 "cells": [
  {
   "cell_type": "code",
   "execution_count": 1,
   "metadata": {},
   "outputs": [],
   "source": [
    "%reload_ext autoreload\n",
    "%autoreload 2\n",
    "%matplotlib inline"
   ]
  },
  {
   "cell_type": "code",
   "execution_count": 2,
   "metadata": {},
   "outputs": [],
   "source": [
    "import os\n",
    "from pathlib import Path\n",
    "from tqdm import tqdm\n",
    "import matplotlib.pyplot as plt\n",
    "import random"
   ]
  },
  {
   "cell_type": "code",
   "execution_count": 3,
   "metadata": {},
   "outputs": [],
   "source": [
    "import cv2\n",
    "from fastai import *\n",
    "from fastai.vision import *\n",
    "from fastai.callbacks import *"
   ]
  },
  {
   "cell_type": "code",
   "execution_count": 4,
   "metadata": {},
   "outputs": [],
   "source": [
    "from dataset_spliter import SplitByPatient\n",
    "from metrics import *#F1Weighted, MCC\n",
    "from losses import *"
   ]
  },
  {
   "cell_type": "code",
   "execution_count": 5,
   "metadata": {},
   "outputs": [],
   "source": [
    "from fastai.callbacks.hooks import  params_size\n",
    "def extract_train_information(learner: Learner):\n",
    "    _, params, trainables, _ = params_size(learner.model)\n",
    "\n",
    "    total_params = sum(params)\n",
    "    trainable_ratio = sum([param*train for param, train in zip(params, trainables)]) / total_params * 100\n",
    "\n",
    "    bs = learner.data.batch_size\n",
    "    image_size = learner.data.valid_ds[0][0].size\n",
    "    wd = learner.wd\n",
    "    lr = max(learner.recorder.lrs)\n",
    "\n",
    "    summary = \"\\nTotal params: {:,}\".format(total_params)\n",
    "    summary += f\"\\nTrainable: {round(trainable_ratio,2)}%\"\n",
    "    summary += f\"\\nBs: {bs}\"\n",
    "    summary += f\"\\nwd: {wd}\"\n",
    "    summary += f\"\\nlr: {lr}\"\n",
    "    summary += f\"\\nImage: {image_size}\\n\"\n",
    "\n",
    "    for tf in learner.data.train_dl.dl.dataset.tfms:\n",
    "        summary += f\"\\n {tf}\"\n",
    "    \n",
    "    return summary"
   ]
  },
  {
   "cell_type": "code",
   "execution_count": 6,
   "metadata": {},
   "outputs": [],
   "source": [
    "path = Path('/data/Datasets/WhiteBloodCancer/train/')"
   ]
  },
  {
   "cell_type": "code",
   "execution_count": 7,
   "metadata": {},
   "outputs": [],
   "source": [
    "np.random.seed(42)"
   ]
  },
  {
   "cell_type": "code",
   "execution_count": 8,
   "metadata": {},
   "outputs": [
    {
     "data": {
      "text/plain": [
       "[PosixPath('/data/Datasets/WhiteBloodCancer/train/fold_1/hem/UID_H10_43_1_hem.bmp'),\n",
       " PosixPath('/data/Datasets/WhiteBloodCancer/train/fold_1/hem/UID_H22_31_15_hem.bmp'),\n",
       " PosixPath('/data/Datasets/WhiteBloodCancer/train/fold_1/hem/UID_H14_9_11_hem.bmp'),\n",
       " PosixPath('/data/Datasets/WhiteBloodCancer/train/fold_1/hem/UID_H14_28_6_hem.bmp'),\n",
       " PosixPath('/data/Datasets/WhiteBloodCancer/train/fold_1/hem/UID_H10_189_1_hem.bmp')]"
      ]
     },
     "execution_count": 8,
     "metadata": {},
     "output_type": "execute_result"
    }
   ],
   "source": [
    "fnames = get_image_files(path, recurse=True)\n",
    "fnames[:5]"
   ]
  },
  {
   "cell_type": "code",
   "execution_count": 9,
   "metadata": {},
   "outputs": [],
   "source": [
    "hem_regex = re.compile(r'UID_(H[0-9]+)_')\n",
    "all_regex = re.compile(r'UID_([0-9]+)_')"
   ]
  },
  {
   "cell_type": "code",
   "execution_count": 10,
   "metadata": {},
   "outputs": [
    {
     "name": "stdout",
     "output_type": "stream",
     "text": [
      "\n"
     ]
    }
   ],
   "source": [
    "hem_patient_ids = list(set([hem_regex.search(str(fn)).group(1)\n",
    "                            for fn in fnames if hem_regex.search(str(fn)) is not None]))\n",
    "all_patint_ids = list(set([all_regex.search(str(fn)).group(1)\n",
    "                           for fn in fnames if all_regex.search(str(fn)) is not None]))\n",
    "\n",
    "hem_patients = dict((k,[]) for k in hem_patient_ids)\n",
    "all_patints = dict((k,[]) for k in all_patint_ids)\n",
    "\n",
    "[all_patints[key].append(fn) for key in all_patints.keys() for fn in fnames if 'UID_{0}_'.format(key) in str(fn)]\n",
    "[hem_patients[key].append(fn) for key in hem_patients.keys() for fn in fnames if 'UID_{0}_'.format(key) in str(fn)]\n",
    "print()"
   ]
  },
  {
   "cell_type": "markdown",
   "metadata": {},
   "source": [
    "## Split data into train val "
   ]
  },
  {
   "cell_type": "code",
   "execution_count": 11,
   "metadata": {},
   "outputs": [],
   "source": [
    "split_handler = SplitByPatient(hem_patients, all_patints)"
   ]
  },
  {
   "cell_type": "markdown",
   "metadata": {},
   "source": [
    "### Split by regex"
   ]
  },
  {
   "cell_type": "code",
   "execution_count": 12,
   "metadata": {},
   "outputs": [],
   "source": [
    "train_regex = re.compile(r'(fold_0|fold_1)')\n",
    "val_regex = re.compile(r'(fold_2)')\n",
    "\n",
    "hem_train, all_train, hem_val, all_val = split_handler.split_by_regex(train_regex, val_regex)"
   ]
  },
  {
   "cell_type": "code",
   "execution_count": 13,
   "metadata": {},
   "outputs": [
    {
     "name": "stdout",
     "output_type": "stream",
     "text": [
      "Train Total: 7108\n",
      "Val Total: 3517\n",
      "\n",
      "Hem train: 2293\n",
      "All train: 4815\n",
      "Hem val: 1060\n",
      "All val: 2457\n"
     ]
    }
   ],
   "source": [
    "print('Train Total: {0}'.format(len(hem_train)+len(all_train)))\n",
    "print('Val Total: {0}'.format(len(hem_val)+len(all_val)))\n",
    "print(\"\")\n",
    "print('Hem train: {}'.format(len(hem_train)))\n",
    "print('All train: {}'.format(len(all_train)))\n",
    "print('Hem val: {}'.format(len(hem_val)))\n",
    "print('All val: {}'.format(len(all_val)))"
   ]
  },
  {
   "cell_type": "code",
   "execution_count": 14,
   "metadata": {},
   "outputs": [],
   "source": [
    "pat = re.compile(r'^.*(hem|all).bmp$')\n",
    "\n",
    "def get_label(fn):\n",
    "    return pat.search(str(fn)).group(1)"
   ]
  },
  {
   "cell_type": "markdown",
   "metadata": {},
   "source": [
    "### Use complete image"
   ]
  },
  {
   "cell_type": "code",
   "execution_count": 15,
   "metadata": {},
   "outputs": [],
   "source": [
    "train = ImageItemList(hem_train + all_train) #optinal scale up classes \n",
    "valid = ImageItemList(hem_val + all_val)"
   ]
  },
  {
   "cell_type": "code",
   "execution_count": 16,
   "metadata": {},
   "outputs": [],
   "source": [
    "item_list = ItemLists(path, train, valid)\n",
    "lls = item_list.label_from_func(get_label)"
   ]
  },
  {
   "cell_type": "markdown",
   "metadata": {},
   "source": [
    "#### Data augmentation"
   ]
  },
  {
   "cell_type": "code",
   "execution_count": 17,
   "metadata": {},
   "outputs": [],
   "source": [
    "def _cutout(img, n_holes:int = 5, length:float = 0.05)->Tensor:\n",
    "    \"\"\"Randomly mask out one or more patches from an image.\n",
    "    Args:\n",
    "        n_holes (int): Number of patches to cut out of each image.\n",
    "        length (float): The length (in percent of the image size) of each square patch.\n",
    "    \"\"\"\n",
    "    h = img.size(1)\n",
    "    w = img.size(2)\n",
    "    patch_width = int(w * length)\n",
    "    path_height = int(h * length)\n",
    "\n",
    "    mask = np.ones((h, w), np.float32)\n",
    "\n",
    "    for n in range(n_holes):\n",
    "        y = np.random.randint(h)\n",
    "        x = np.random.randint(w)\n",
    "\n",
    "        y1 = np.clip(y - path_height // 2, 0, h)\n",
    "        y2 = np.clip(y + path_height // 2, 0, h)\n",
    "        x1 = np.clip(x - patch_width // 2, 0, w)\n",
    "        x2 = np.clip(x + patch_width // 2, 0, w)\n",
    "\n",
    "        mask[y1: y2, x1: x2] = 0.\n",
    "\n",
    "    mask = torch.from_numpy(mask)\n",
    "    mask = mask.expand_as(img)\n",
    "    return img * mask\n",
    "cutout = TfmLighting(_cutout)"
   ]
  },
  {
   "cell_type": "code",
   "execution_count": 18,
   "metadata": {},
   "outputs": [],
   "source": [
    "xtra_tfms=[squish(scale=0.66), cutout(n_holes=5, length=0.2)]\n",
    "tfms = get_transforms(do_flip=True, \n",
    "                      flip_vert=True, \n",
    "                      max_rotate=90,  \n",
    "                      max_lighting=0.15, \n",
    "                      max_zoom=1.5, \n",
    "                      max_warp=0.2,\n",
    "                      p_affine=0.75,\n",
    "                      p_lighting=0.75,  \n",
    "                      xtra_tfms=xtra_tfms,\n",
    "                     )"
   ]
  },
  {
   "cell_type": "markdown",
   "metadata": {},
   "source": [
    "#### Create dataset "
   ]
  },
  {
   "cell_type": "code",
   "execution_count": 19,
   "metadata": {},
   "outputs": [],
   "source": [
    "def get_data(bs, size):\n",
    "    data  = ImageDataBunch.create_from_ll(lls, size=size, bs=bs, \n",
    "                                      ds_tfms=tfms, padding_mode='zeros',\n",
    "                                      resize_method=ResizeMethod.PAD)\n",
    "    data = data.normalize()\n",
    "    #data = data.normalize((channel_mean, channel_std))\n",
    "    return data\n",
    "    "
   ]
  },
  {
   "cell_type": "markdown",
   "metadata": {},
   "source": [
    "### Start training 256"
   ]
  },
  {
   "cell_type": "code",
   "execution_count": 20,
   "metadata": {},
   "outputs": [],
   "source": [
    "experiment_name = 'rn34'"
   ]
  },
  {
   "cell_type": "code",
   "execution_count": 21,
   "metadata": {},
   "outputs": [],
   "source": [
    "size = 450\n",
    "bs = 128 "
   ]
  },
  {
   "cell_type": "code",
   "execution_count": 22,
   "metadata": {},
   "outputs": [],
   "source": [
    "gc.collect();"
   ]
  },
  {
   "cell_type": "code",
   "execution_count": 23,
   "metadata": {},
   "outputs": [],
   "source": [
    "learn = create_cnn(get_data(bs, size), models.resnet34, \n",
    "                   metrics=[error_rate, F1Weighted(), MCC()],  \n",
    "                   #loss_func=FocalLoss(num_classes=1, alpha=0.4, gamma=0.5),\n",
    "                   #ps=0.75,\n",
    "                   wd=0.01,\n",
    "                   callback_fns=[ShowGraph, partial(SaveModelCallback, monitor=\"mcc\", mode='max', name='stage1-{}-{}'.format(experiment_name, size))],\n",
    "                  ).to_fp16().mixup()                "
   ]
  },
  {
   "cell_type": "code",
   "execution_count": 24,
   "metadata": {},
   "outputs": [
    {
     "data": {
      "text/plain": [
       "[fastai.basic_train.Recorder,\n",
       " fastai.train.ShowGraph,\n",
       " functools.partial(<class 'fastai.callbacks.tracker.SaveModelCallback'>, monitor='mcc', mode='max', name='stage1-rn34-450'),\n",
       " functools.partial(<class 'fastai.callbacks.mixup.MixUpCallback'>, alpha=0.4, stack_x=False, stack_y=True)]"
      ]
     },
     "execution_count": 24,
     "metadata": {},
     "output_type": "execute_result"
    }
   ],
   "source": [
    "learn.callback_fns"
   ]
  },
  {
   "cell_type": "code",
   "execution_count": 25,
   "metadata": {},
   "outputs": [],
   "source": [
    "#learn.lr_find()\n",
    "#learn.recorder.plot()"
   ]
  },
  {
   "cell_type": "code",
   "execution_count": 26,
   "metadata": {},
   "outputs": [],
   "source": [
    "lr = 1e-2"
   ]
  },
  {
   "cell_type": "code",
   "execution_count": 27,
   "metadata": {
    "scrolled": false
   },
   "outputs": [
    {
     "data": {
      "text/html": [
       "Total time: 24:18 <p><table style='width:450px; margin-bottom:10px'>\n",
       "  <tr>\n",
       "    <th>epoch</th>\n",
       "    <th>train_loss</th>\n",
       "    <th>valid_loss</th>\n",
       "    <th>error_rate</th>\n",
       "    <th>f1_weighted</th>\n",
       "    <th>mcc</th>\n",
       "  </tr>\n",
       "  <tr>\n",
       "    <th>1</th>\n",
       "    <th>0.679341</th>\n",
       "    <th>0.614892</th>\n",
       "    <th>0.335798</th>\n",
       "    <th>0.677898</th>\n",
       "    <th>0.334835</th>\n",
       "  </tr>\n",
       "  <tr>\n",
       "    <th>2</th>\n",
       "    <th>0.515371</th>\n",
       "    <th>0.433813</th>\n",
       "    <th>0.174296</th>\n",
       "    <th>0.805197</th>\n",
       "    <th>0.569335</th>\n",
       "  </tr>\n",
       "  <tr>\n",
       "    <th>3</th>\n",
       "    <th>0.445931</th>\n",
       "    <th>0.685071</th>\n",
       "    <th>0.250498</th>\n",
       "    <th>0.679485</th>\n",
       "    <th>0.352560</th>\n",
       "  </tr>\n",
       "  <tr>\n",
       "    <th>4</th>\n",
       "    <th>0.425362</th>\n",
       "    <th>0.567127</th>\n",
       "    <th>0.212397</th>\n",
       "    <th>0.744657</th>\n",
       "    <th>0.473895</th>\n",
       "  </tr>\n",
       "  <tr>\n",
       "    <th>5</th>\n",
       "    <th>0.405775</th>\n",
       "    <th>0.388287</th>\n",
       "    <th>0.143020</th>\n",
       "    <th>0.846080</th>\n",
       "    <th>0.649478</th>\n",
       "  </tr>\n",
       "  <tr>\n",
       "    <th>6</th>\n",
       "    <th>0.389431</th>\n",
       "    <th>0.555386</th>\n",
       "    <th>0.205573</th>\n",
       "    <th>0.754796</th>\n",
       "    <th>0.494681</th>\n",
       "  </tr>\n",
       "  <tr>\n",
       "    <th>7</th>\n",
       "    <th>0.379323</th>\n",
       "    <th>0.382499</th>\n",
       "    <th>0.144441</th>\n",
       "    <th>0.850349</th>\n",
       "    <th>0.643613</th>\n",
       "  </tr>\n",
       "  <tr>\n",
       "    <th>8</th>\n",
       "    <th>0.370931</th>\n",
       "    <th>0.421007</th>\n",
       "    <th>0.154109</th>\n",
       "    <th>0.828120</th>\n",
       "    <th>0.629788</th>\n",
       "  </tr>\n",
       "  <tr>\n",
       "    <th>9</th>\n",
       "    <th>0.363661</th>\n",
       "    <th>0.377294</th>\n",
       "    <th>0.132784</th>\n",
       "    <th>0.857931</th>\n",
       "    <th>0.676304</th>\n",
       "  </tr>\n",
       "  <tr>\n",
       "    <th>10</th>\n",
       "    <th>0.361835</th>\n",
       "    <th>0.378747</th>\n",
       "    <th>0.132499</th>\n",
       "    <th>0.858201</th>\n",
       "    <th>0.677143</th>\n",
       "  </tr>\n",
       "</table>\n"
      ],
      "text/plain": [
       "<IPython.core.display.HTML object>"
      ]
     },
     "metadata": {},
     "output_type": "display_data"
    },
    {
     "data": {
      "image/png": "[encoded data removed]",
      "text/plain": [
       "<Figure size 432x288 with 1 Axes>"
      ]
     },
     "metadata": {},
     "output_type": "display_data"
    },
    {
     "name": "stdout",
     "output_type": "stream",
     "text": [
      "\n",
      "Total params: 21,813,570\n",
      "Trainable: 2.5%\n",
      "Bs: 128\n",
      "wd: 0.01\n",
      "lr: 0.01\n",
      "Image: torch.Size([450, 450])\n",
      "\n",
      " RandTransform(tfm=TfmCrop (crop_pad), kwargs={'row_pct': (0, 1), 'col_pct': (0, 1)}, p=1.0, resolved={'row_pct': 0.8904986906891131, 'col_pct': 0.9350887952035192, 'padding_mode': 'reflection'}, do_run=True, is_random=True)\n",
      " RandTransform(tfm=TfmAffine (dihedral_affine), kwargs={}, p=1.0, resolved={'k': 5}, do_run=True, is_random=True)\n",
      " RandTransform(tfm=TfmCoord (symmetric_warp), kwargs={'magnitude': (-0.2, 0.2)}, p=0.75, resolved={'magnitude': tensor([-0.1934, -0.0883, -0.0760,  0.1080]), 'invert': False}, do_run=False, is_random=True)\n",
      " RandTransform(tfm=TfmAffine (rotate), kwargs={'degrees': (-90, 90)}, p=0.75, resolved={'degrees': -52.58548929996106}, do_run=False, is_random=True)\n",
      " RandTransform(tfm=TfmAffine (zoom), kwargs={'row_pct': (0, 1), 'col_pct': (0, 1), 'scale': (1.0, 1.5)}, p=0.75, resolved={'row_pct': 0.08868346369899904, 'col_pct': 0.21667997174461806, 'scale': 1.1482086800467521}, do_run=True, is_random=True)\n",
      " RandTransform(tfm=TfmLighting (brightness), kwargs={'change': (0.425, 0.575)}, p=0.75, resolved={'change': 0.46701176835250474}, do_run=False, is_random=True)\n",
      " RandTransform(tfm=TfmLighting (contrast), kwargs={'scale': (0.85, 1.1764705882352942)}, p=0.75, resolved={'scale': 0.8729864360420971}, do_run=True, is_random=True)\n",
      " RandTransform(tfm=TfmAffine (squish), kwargs={'scale': 0.66}, p=1.0, resolved={'scale': 0.66, 'row_pct': 0.5, 'col_pct': 0.5}, do_run=True, is_random=True)\n",
      " RandTransform(tfm=TfmLighting (cutout), kwargs={'n_holes': 5, 'length': 0.2}, p=1.0, resolved={'n_holes': 5, 'length': 0.2}, do_run=True, is_random=True)\n"
     ]
    }
   ],
   "source": [
    "learn.fit_one_cycle(10, lr) #, pct_start=0.8\n",
    "print(extract_train_information(learn))"
   ]
  },
  {
   "cell_type": "markdown",
   "metadata": {},
   "source": [
    "##### And fine-tune the whole model"
   ]
  },
  {
   "cell_type": "code",
   "execution_count": 28,
   "metadata": {},
   "outputs": [],
   "source": [
    "learn.unfreeze()"
   ]
  },
  {
   "cell_type": "code",
   "execution_count": 29,
   "metadata": {},
   "outputs": [
    {
     "data": {
      "image/png": "[encoded data removed]",
      "text/plain": [
       "<Figure size 432x288 with 1 Axes>"
      ]
     },
     "metadata": {
      "needs_background": "light"
     },
     "output_type": "display_data"
    }
   ],
   "source": [
    "#learn.lr_find()\n",
    "learn.recorder.plot()"
   ]
  },
  {
   "cell_type": "code",
   "execution_count": 30,
   "metadata": {},
   "outputs": [],
   "source": [
    "learn.callback_fns[2] = partial(SaveModelCallback, \n",
    "                              monitor=\"mcc\", \n",
    "                              mode='max', \n",
    "                              name='stage2-{}-{}'.format(experiment_name, size))"
   ]
  },
  {
   "cell_type": "code",
   "execution_count": 31,
   "metadata": {
    "scrolled": false
   },
   "outputs": [
    {
     "data": {
      "text/html": [
       "Total time: 27:53 <p><table style='width:450px; margin-bottom:10px'>\n",
       "  <tr>\n",
       "    <th>epoch</th>\n",
       "    <th>train_loss</th>\n",
       "    <th>valid_loss</th>\n",
       "    <th>error_rate</th>\n",
       "    <th>f1_weighted</th>\n",
       "    <th>mcc</th>\n",
       "  </tr>\n",
       "  <tr>\n",
       "    <th>1</th>\n",
       "    <th>0.357588</th>\n",
       "    <th>0.399847</th>\n",
       "    <th>0.146432</th>\n",
       "    <th>0.848548</th>\n",
       "    <th>0.638803</th>\n",
       "  </tr>\n",
       "  <tr>\n",
       "    <th>2</th>\n",
       "    <th>0.360707</th>\n",
       "    <th>0.398606</th>\n",
       "    <th>0.146147</th>\n",
       "    <th>0.839058</th>\n",
       "    <th>0.647951</th>\n",
       "  </tr>\n",
       "  <tr>\n",
       "    <th>3</th>\n",
       "    <th>0.360065</th>\n",
       "    <th>0.404913</th>\n",
       "    <th>0.171737</th>\n",
       "    <th>0.827648</th>\n",
       "    <th>0.589409</th>\n",
       "  </tr>\n",
       "  <tr>\n",
       "    <th>4</th>\n",
       "    <th>0.357909</th>\n",
       "    <th>0.436627</th>\n",
       "    <th>0.167188</th>\n",
       "    <th>0.815262</th>\n",
       "    <th>0.587179</th>\n",
       "  </tr>\n",
       "  <tr>\n",
       "    <th>5</th>\n",
       "    <th>0.355308</th>\n",
       "    <th>0.393785</th>\n",
       "    <th>0.148706</th>\n",
       "    <th>0.846939</th>\n",
       "    <th>0.634020</th>\n",
       "  </tr>\n",
       "  <tr>\n",
       "    <th>6</th>\n",
       "    <th>0.355244</th>\n",
       "    <th>0.377274</th>\n",
       "    <th>0.143588</th>\n",
       "    <th>0.847379</th>\n",
       "    <th>0.645726</th>\n",
       "  </tr>\n",
       "  <tr>\n",
       "    <th>7</th>\n",
       "    <th>0.348266</th>\n",
       "    <th>0.383716</th>\n",
       "    <th>0.138186</th>\n",
       "    <th>0.850947</th>\n",
       "    <th>0.663513</th>\n",
       "  </tr>\n",
       "  <tr>\n",
       "    <th>8</th>\n",
       "    <th>0.342824</th>\n",
       "    <th>0.415727</th>\n",
       "    <th>0.158658</th>\n",
       "    <th>0.831478</th>\n",
       "    <th>0.605034</th>\n",
       "  </tr>\n",
       "  <tr>\n",
       "    <th>9</th>\n",
       "    <th>0.335017</th>\n",
       "    <th>0.374322</th>\n",
       "    <th>0.138755</th>\n",
       "    <th>0.855387</th>\n",
       "    <th>0.657694</th>\n",
       "  </tr>\n",
       "  <tr>\n",
       "    <th>10</th>\n",
       "    <th>0.332667</th>\n",
       "    <th>0.389710</th>\n",
       "    <th>0.144441</th>\n",
       "    <th>0.848843</th>\n",
       "    <th>0.642771</th>\n",
       "  </tr>\n",
       "</table>\n"
      ],
      "text/plain": [
       "<IPython.core.display.HTML object>"
      ]
     },
     "metadata": {},
     "output_type": "display_data"
    },
    {
     "data": {
      "image/png": "[encoded data removed]",
      "text/plain": [
       "<Figure size 432x288 with 1 Axes>"
      ]
     },
     "metadata": {},
     "output_type": "display_data"
    },
    {
     "name": "stdout",
     "output_type": "stream",
     "text": [
      "\n",
      "Total params: 21,813,570\n",
      "Trainable: 100.0%\n",
      "Bs: 128\n",
      "wd: 0.01\n",
      "lr: 0.0020000000000000005\n",
      "Image: torch.Size([450, 450])\n",
      "\n",
      " RandTransform(tfm=TfmCrop (crop_pad), kwargs={'row_pct': (0, 1), 'col_pct': (0, 1)}, p=1.0, resolved={'row_pct': 0.8904986906891131, 'col_pct': 0.9350887952035192, 'padding_mode': 'reflection'}, do_run=True, is_random=True)\n",
      " RandTransform(tfm=TfmAffine (dihedral_affine), kwargs={}, p=1.0, resolved={'k': 5}, do_run=True, is_random=True)\n",
      " RandTransform(tfm=TfmCoord (symmetric_warp), kwargs={'magnitude': (-0.2, 0.2)}, p=0.75, resolved={'magnitude': tensor([-0.1934, -0.0883, -0.0760,  0.1080]), 'invert': False}, do_run=False, is_random=True)\n",
      " RandTransform(tfm=TfmAffine (rotate), kwargs={'degrees': (-90, 90)}, p=0.75, resolved={'degrees': -52.58548929996106}, do_run=False, is_random=True)\n",
      " RandTransform(tfm=TfmAffine (zoom), kwargs={'row_pct': (0, 1), 'col_pct': (0, 1), 'scale': (1.0, 1.5)}, p=0.75, resolved={'row_pct': 0.08868346369899904, 'col_pct': 0.21667997174461806, 'scale': 1.1482086800467521}, do_run=True, is_random=True)\n",
      " RandTransform(tfm=TfmLighting (brightness), kwargs={'change': (0.425, 0.575)}, p=0.75, resolved={'change': 0.46701176835250474}, do_run=False, is_random=True)\n",
      " RandTransform(tfm=TfmLighting (contrast), kwargs={'scale': (0.85, 1.1764705882352942)}, p=0.75, resolved={'scale': 0.8729864360420971}, do_run=True, is_random=True)\n",
      " RandTransform(tfm=TfmAffine (squish), kwargs={'scale': 0.66}, p=1.0, resolved={'scale': 0.66, 'row_pct': 0.5, 'col_pct': 0.5}, do_run=True, is_random=True)\n",
      " RandTransform(tfm=TfmLighting (cutout), kwargs={'n_holes': 5, 'length': 0.2}, p=1.0, resolved={'n_holes': 5, 'length': 0.2}, do_run=True, is_random=True)\n"
     ]
    }
   ],
   "source": [
    "learn.fit_one_cycle(10, slice(1e-5,lr/5))\n",
    "print(extract_train_information(learn))"
   ]
  }
 ],
 "metadata": {
  "kernelspec": {
   "display_name": "Python 3",
   "language": "python",
   "name": "python3"
  },
  "language_info": {
   "codemirror_mode": {
    "name": "ipython",
    "version": 3
   },
   "file_extension": ".py",
   "mimetype": "text/x-python",
   "name": "python",
   "nbconvert_exporter": "python",
   "pygments_lexer": "ipython3",
   "version": "3.6.7"
  }
 },
 "nbformat": 4,
 "nbformat_minor": 1
}
