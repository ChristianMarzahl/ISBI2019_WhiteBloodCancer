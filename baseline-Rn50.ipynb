{
 "cells": [
  {
   "cell_type": "code",
   "execution_count": 1,
   "metadata": {},
   "outputs": [],
   "source": [
    "%reload_ext autoreload\n",
    "%autoreload 2\n",
    "%matplotlib inline"
   ]
  },
  {
   "cell_type": "code",
   "execution_count": 2,
   "metadata": {},
   "outputs": [],
   "source": [
    "import os\n",
    "from pathlib import Path\n",
    "from tqdm import tqdm\n",
    "import matplotlib.pyplot as plt\n",
    "import random"
   ]
  },
  {
   "cell_type": "code",
   "execution_count": 3,
   "metadata": {},
   "outputs": [],
   "source": [
    "import cv2\n",
    "from fastai import *\n",
    "from fastai.vision import *\n",
    "from fastai.callbacks import *"
   ]
  },
  {
   "cell_type": "code",
   "execution_count": 4,
   "metadata": {},
   "outputs": [],
   "source": [
    "from dataset_spliter import SplitByPatient\n",
    "from metrics import *#F1Weighted, MCC\n",
    "from losses import *"
   ]
  },
  {
   "cell_type": "code",
   "execution_count": 5,
   "metadata": {},
   "outputs": [],
   "source": [
    "path = Path('/data/Datasets/WhiteBloodCancer/train/')"
   ]
  },
  {
   "cell_type": "code",
   "execution_count": 6,
   "metadata": {},
   "outputs": [],
   "source": [
    "np.random.seed(42)"
   ]
  },
  {
   "cell_type": "code",
   "execution_count": 7,
   "metadata": {},
   "outputs": [
    {
     "data": {
      "text/plain": [
       "[PosixPath('/data/Datasets/WhiteBloodCancer/train/fold_1/hem/UID_H10_43_1_hem.bmp'),\n",
       " PosixPath('/data/Datasets/WhiteBloodCancer/train/fold_1/hem/UID_H22_31_15_hem.bmp'),\n",
       " PosixPath('/data/Datasets/WhiteBloodCancer/train/fold_1/hem/UID_H14_9_11_hem.bmp'),\n",
       " PosixPath('/data/Datasets/WhiteBloodCancer/train/fold_1/hem/UID_H14_28_6_hem.bmp'),\n",
       " PosixPath('/data/Datasets/WhiteBloodCancer/train/fold_1/hem/UID_H10_189_1_hem.bmp')]"
      ]
     },
     "execution_count": 7,
     "metadata": {},
     "output_type": "execute_result"
    }
   ],
   "source": [
    "fnames = get_image_files(path, recurse=True)\n",
    "fnames[:5]"
   ]
  },
  {
   "cell_type": "code",
   "execution_count": 8,
   "metadata": {},
   "outputs": [],
   "source": [
    "hem_regex = re.compile(r'UID_(H[0-9]+)_', re.IGNORECASE)\n",
    "all_regex = re.compile(r'UID_([0-9]+)_', re.IGNORECASE)"
   ]
  },
  {
   "cell_type": "code",
   "execution_count": 9,
   "metadata": {},
   "outputs": [
    {
     "name": "stdout",
     "output_type": "stream",
     "text": [
      "\n"
     ]
    }
   ],
   "source": [
    "hem_patient_ids = list(set([hem_regex.search(str(fn)).group(1)\n",
    "                            for fn in fnames if hem_regex.search(str(fn)) is not None]))\n",
    "all_patint_ids = list(set([all_regex.search(str(fn)).group(1)\n",
    "                           for fn in fnames if all_regex.search(str(fn)) is not None]))\n",
    "\n",
    "hem_patients = dict((k,[]) for k in hem_patient_ids)\n",
    "all_patints = dict((k,[]) for k in all_patint_ids)\n",
    "\n",
    "[all_patints[key].append(fn) for key in all_patints.keys() for fn in fnames if 'UID_{0}_'.format(key) in str(fn)]\n",
    "[hem_patients[key].append(fn) for key in hem_patients.keys() for fn in fnames if 'UID_{0}_'.format(key) in str(fn)]\n",
    "print()"
   ]
  },
  {
   "cell_type": "markdown",
   "metadata": {},
   "source": [
    "## Split data into train val "
   ]
  },
  {
   "cell_type": "code",
   "execution_count": 10,
   "metadata": {},
   "outputs": [],
   "source": [
    "split_handler = SplitByPatient(hem_patients, all_patints)"
   ]
  },
  {
   "cell_type": "markdown",
   "metadata": {},
   "source": [
    "### Split by regex"
   ]
  },
  {
   "cell_type": "code",
   "execution_count": 11,
   "metadata": {},
   "outputs": [],
   "source": [
    "train_regex = re.compile(r'(fold_0|fold_1|fold_2)')\n",
    "val_regex = re.compile(r'(fold_3)')\n",
    "\n",
    "hem_train, all_train, hem_val, all_val = split_handler.split_by_regex(train_regex, val_regex)"
   ]
  },
  {
   "cell_type": "code",
   "execution_count": 12,
   "metadata": {},
   "outputs": [
    {
     "name": "stdout",
     "output_type": "stream",
     "text": [
      "Train Total: 10661\n",
      "Val Total: 1867\n",
      "\n",
      "Hem train: 3389\n",
      "All train: 7272\n",
      "Hem val: 648\n",
      "All val: 1219\n"
     ]
    }
   ],
   "source": [
    "print('Train Total: {0}'.format(len(hem_train)+len(all_train)))\n",
    "print('Val Total: {0}'.format(len(hem_val)+len(all_val)))\n",
    "print(\"\")\n",
    "print('Hem train: {}'.format(len(hem_train)))\n",
    "print('All train: {}'.format(len(all_train)))\n",
    "print('Hem val: {}'.format(len(hem_val)))\n",
    "print('All val: {}'.format(len(all_val)))"
   ]
  },
  {
   "cell_type": "code",
   "execution_count": 13,
   "metadata": {},
   "outputs": [],
   "source": [
    "pat = re.compile(r'^.*(hem|all).bmp$')\n",
    "\n",
    "def get_label(fn):\n",
    "    return pat.search(str(fn)).group(1)"
   ]
  },
  {
   "cell_type": "markdown",
   "metadata": {},
   "source": [
    "### Use complete image"
   ]
  },
  {
   "cell_type": "code",
   "execution_count": 14,
   "metadata": {},
   "outputs": [],
   "source": [
    "train = ImageList(hem_train + all_train) #optinal scale up classes \n",
    "valid = ImageList(hem_val + all_val)"
   ]
  },
  {
   "cell_type": "code",
   "execution_count": 15,
   "metadata": {},
   "outputs": [],
   "source": [
    "item_list = ItemLists(path, train, valid)\n",
    "lls = item_list.label_from_func(get_label)"
   ]
  },
  {
   "cell_type": "markdown",
   "metadata": {},
   "source": [
    "#### Data augmentation"
   ]
  },
  {
   "cell_type": "code",
   "execution_count": 16,
   "metadata": {},
   "outputs": [],
   "source": [
    "xtra_tfms=[cutout(n_holes=5, length=0.2)]#squish(scale=0.66), \n",
    "tfms = get_transforms(do_flip=True, \n",
    "                      flip_vert=True, \n",
    "                      #max_rotate=90,  \n",
    "                      #max_lighting=0.15, \n",
    "                      #max_zoom=1.5, \n",
    "                      #max_warp=0.2,\n",
    "                      #p_affine=0.75,\n",
    "                      #p_lighting=0.75,  \n",
    "                      #xtra_tfms=xtra_tfms,\n",
    "                     )"
   ]
  },
  {
   "cell_type": "markdown",
   "metadata": {},
   "source": [
    "#### Create dataset "
   ]
  },
  {
   "cell_type": "code",
   "execution_count": 17,
   "metadata": {},
   "outputs": [],
   "source": [
    "def get_data(bs, size):\n",
    "    data  = ImageDataBunch.create_from_ll(lls, size=size, bs=bs, \n",
    "                                      ds_tfms=tfms, padding_mode='zeros',\n",
    "                                      resize_method=ResizeMethod.PAD)\n",
    "    data = data.normalize()\n",
    "    #data = data.normalize((channel_mean, channel_std))\n",
    "    return data\n",
    "    "
   ]
  },
  {
   "cell_type": "code",
   "execution_count": 19,
   "metadata": {},
   "outputs": [
    {
     "name": "stderr",
     "output_type": "stream",
     "text": [
      "/home/c.marzahl@de.eu.local/ProgProjekte/fastai_v1/fastai/fastai/vision/learner.py:93: UserWarning: `create_cnn` is deprecated and is now named `cnn_learner`.\n",
      "  warn(\"`create_cnn` is deprecated and is now named `cnn_learner`.\")\n"
     ]
    }
   ],
   "source": [
    "size = 256\n",
    "bs = 96\n",
    "data = get_data(bs, size)\n",
    "\n",
    "experiment_name = \"baseline_rn50\"\n",
    "learn = create_cnn(data, models.resnet50, \n",
    "                       metrics=[error_rate, F1Weighted(), MCC()], #  \n",
    "                       #loss_func=FocalLoss(num_classes=1),\n",
    "                       #ps=0.75,\n",
    "                       #wd=0.1,\n",
    "                       loss_func = LabelSmoothingCrossEntropy(),\n",
    "                       callback_fns=[partial(SaveModelCallback, name='stage1-{}-{}'.format(experiment_name, size), monitor='f1_weighted', mode=\"max\")],\n",
    "\n",
    "                  )#"
   ]
  },
  {
   "cell_type": "code",
   "execution_count": 20,
   "metadata": {},
   "outputs": [
    {
     "data": {
      "text/html": [
       "Total time: 07:03 <p><table style='width:525px; margin-bottom:10px'>\n",
       "  <tr>\n",
       "    <th>epoch</th>\n",
       "    <th>train_loss</th>\n",
       "    <th>valid_loss</th>\n",
       "    <th>error_rate</th>\n",
       "    <th>f1_weighted</th>\n",
       "    <th>mcc</th>\n",
       "    <th>time</th>\n",
       "  </tr>\n",
       "  <tr>\n",
       "    <th>0</th>\n",
       "    <th>0.562665</th>\n",
       "    <th>0.590148</th>\n",
       "    <th>0.230316</th>\n",
       "    <th>0.746469</th>\n",
       "    <th>0.469540</th>\n",
       "    <th>01:26</th>\n",
       "  </tr>\n",
       "  <tr>\n",
       "    <th>1</th>\n",
       "    <th>0.485522</th>\n",
       "    <th>0.748089</th>\n",
       "    <th>0.341189</th>\n",
       "    <th>0.530178</th>\n",
       "    <th>0.101319</th>\n",
       "    <th>01:23</th>\n",
       "  </tr>\n",
       "  <tr>\n",
       "    <th>2</th>\n",
       "    <th>0.446896</th>\n",
       "    <th>0.645597</th>\n",
       "    <th>0.259775</th>\n",
       "    <th>0.717448</th>\n",
       "    <th>0.389577</th>\n",
       "    <th>01:24</th>\n",
       "  </tr>\n",
       "  <tr>\n",
       "    <th>3</th>\n",
       "    <th>0.425882</th>\n",
       "    <th>0.763776</th>\n",
       "    <th>0.312266</th>\n",
       "    <th>0.602321</th>\n",
       "    <th>0.238474</th>\n",
       "    <th>01:24</th>\n",
       "  </tr>\n",
       "  <tr>\n",
       "    <th>4</th>\n",
       "    <th>0.409865</th>\n",
       "    <th>0.626442</th>\n",
       "    <th>0.250670</th>\n",
       "    <th>0.716957</th>\n",
       "    <th>0.417783</th>\n",
       "    <th>01:24</th>\n",
       "  </tr>\n",
       "</table>\n"
      ],
      "text/plain": [
       "<IPython.core.display.HTML object>"
      ]
     },
     "metadata": {},
     "output_type": "display_data"
    },
    {
     "name": "stdout",
     "output_type": "stream",
     "text": [
      "Better model found at epoch 0 with f1_weighted value: 0.7464690166185467.\n"
     ]
    },
    {
     "data": {
      "text/html": [
       "Total time: 18:01 <p><table style='width:525px; margin-bottom:10px'>\n",
       "  <tr>\n",
       "    <th>epoch</th>\n",
       "    <th>train_loss</th>\n",
       "    <th>valid_loss</th>\n",
       "    <th>error_rate</th>\n",
       "    <th>f1_weighted</th>\n",
       "    <th>mcc</th>\n",
       "    <th>time</th>\n",
       "  </tr>\n",
       "  <tr>\n",
       "    <th>0</th>\n",
       "    <th>0.451728</th>\n",
       "    <th>0.632009</th>\n",
       "    <th>0.250134</th>\n",
       "    <th>0.730422</th>\n",
       "    <th>0.415462</th>\n",
       "    <th>01:48</th>\n",
       "  </tr>\n",
       "  <tr>\n",
       "    <th>1</th>\n",
       "    <th>0.444263</th>\n",
       "    <th>0.622380</th>\n",
       "    <th>0.236743</th>\n",
       "    <th>0.738913</th>\n",
       "    <th>0.452317</th>\n",
       "    <th>01:47</th>\n",
       "  </tr>\n",
       "  <tr>\n",
       "    <th>2</th>\n",
       "    <th>0.434279</th>\n",
       "    <th>0.624569</th>\n",
       "    <th>0.258704</th>\n",
       "    <th>0.711550</th>\n",
       "    <th>0.392741</th>\n",
       "    <th>01:46</th>\n",
       "  </tr>\n",
       "  <tr>\n",
       "    <th>3</th>\n",
       "    <th>0.427578</th>\n",
       "    <th>0.690088</th>\n",
       "    <th>0.318157</th>\n",
       "    <th>0.624861</th>\n",
       "    <th>0.210507</th>\n",
       "    <th>01:47</th>\n",
       "  </tr>\n",
       "  <tr>\n",
       "    <th>4</th>\n",
       "    <th>0.416923</th>\n",
       "    <th>0.661400</th>\n",
       "    <th>0.243171</th>\n",
       "    <th>0.733767</th>\n",
       "    <th>0.433938</th>\n",
       "    <th>01:46</th>\n",
       "  </tr>\n",
       "  <tr>\n",
       "    <th>5</th>\n",
       "    <th>0.409840</th>\n",
       "    <th>0.643303</th>\n",
       "    <th>0.249063</th>\n",
       "    <th>0.731138</th>\n",
       "    <th>0.418145</th>\n",
       "    <th>01:46</th>\n",
       "  </tr>\n",
       "  <tr>\n",
       "    <th>6</th>\n",
       "    <th>0.396985</th>\n",
       "    <th>0.613425</th>\n",
       "    <th>0.237279</th>\n",
       "    <th>0.741694</th>\n",
       "    <th>0.449222</th>\n",
       "    <th>01:47</th>\n",
       "  </tr>\n",
       "  <tr>\n",
       "    <th>7</th>\n",
       "    <th>0.387417</th>\n",
       "    <th>0.595043</th>\n",
       "    <th>0.236208</th>\n",
       "    <th>0.741734</th>\n",
       "    <th>0.452513</th>\n",
       "    <th>01:47</th>\n",
       "  </tr>\n",
       "  <tr>\n",
       "    <th>8</th>\n",
       "    <th>0.381273</th>\n",
       "    <th>0.549554</th>\n",
       "    <th>0.199250</th>\n",
       "    <th>0.785174</th>\n",
       "    <th>0.547405</th>\n",
       "    <th>01:47</th>\n",
       "  </tr>\n",
       "  <tr>\n",
       "    <th>9</th>\n",
       "    <th>0.378129</th>\n",
       "    <th>0.557154</th>\n",
       "    <th>0.200857</th>\n",
       "    <th>0.786052</th>\n",
       "    <th>0.541020</th>\n",
       "    <th>01:47</th>\n",
       "  </tr>\n",
       "</table>\n"
      ],
      "text/plain": [
       "<IPython.core.display.HTML object>"
      ]
     },
     "metadata": {},
     "output_type": "display_data"
    },
    {
     "name": "stdout",
     "output_type": "stream",
     "text": [
      "Better model found at epoch 0 with f1_weighted value: 0.7304217573352734.\n",
      "Better model found at epoch 1 with f1_weighted value: 0.7389126166273247.\n",
      "Better model found at epoch 6 with f1_weighted value: 0.7416938496648277.\n",
      "Better model found at epoch 7 with f1_weighted value: 0.7417344675435839.\n",
      "Better model found at epoch 8 with f1_weighted value: 0.7851736984887221.\n",
      "Better model found at epoch 9 with f1_weighted value: 0.7860519410423052.\n"
     ]
    }
   ],
   "source": [
    "learn.freeze()\n",
    "lr = 1e-2\n",
    "learn.fit_one_cycle(5, lr)\n",
    "\n",
    "learn.unfreeze()\n",
    "learn.fit_one_cycle(10, slice(1e-5,lr/5))"
   ]
  },
  {
   "cell_type": "code",
   "execution_count": 21,
   "metadata": {},
   "outputs": [],
   "source": [
    "learn.export('baseline_rn50-1.pkl') "
   ]
  },
  {
   "cell_type": "code",
   "execution_count": 22,
   "metadata": {},
   "outputs": [
    {
     "data": {
      "text/html": [
       "Total time: 15:50 <p><table style='width:525px; margin-bottom:10px'>\n",
       "  <tr>\n",
       "    <th>epoch</th>\n",
       "    <th>train_loss</th>\n",
       "    <th>valid_loss</th>\n",
       "    <th>error_rate</th>\n",
       "    <th>f1_weighted</th>\n",
       "    <th>mcc</th>\n",
       "    <th>time</th>\n",
       "  </tr>\n",
       "  <tr>\n",
       "    <th>0</th>\n",
       "    <th>0.463027</th>\n",
       "    <th>0.806196</th>\n",
       "    <th>0.302625</th>\n",
       "    <th>0.620575</th>\n",
       "    <th>0.274230</th>\n",
       "    <th>03:14</th>\n",
       "  </tr>\n",
       "  <tr>\n",
       "    <th>1</th>\n",
       "    <th>0.448465</th>\n",
       "    <th>0.850198</th>\n",
       "    <th>0.322978</th>\n",
       "    <th>0.570864</th>\n",
       "    <th>0.209141</th>\n",
       "    <th>03:08</th>\n",
       "  </tr>\n",
       "  <tr>\n",
       "    <th>2</th>\n",
       "    <th>0.432478</th>\n",
       "    <th>0.723320</th>\n",
       "    <th>0.353508</th>\n",
       "    <th>0.619779</th>\n",
       "    <th>0.149026</th>\n",
       "    <th>03:08</th>\n",
       "  </tr>\n",
       "  <tr>\n",
       "    <th>3</th>\n",
       "    <th>0.400484</th>\n",
       "    <th>0.606664</th>\n",
       "    <th>0.239957</th>\n",
       "    <th>0.745069</th>\n",
       "    <th>0.442686</th>\n",
       "    <th>03:08</th>\n",
       "  </tr>\n",
       "  <tr>\n",
       "    <th>4</th>\n",
       "    <th>0.387887</th>\n",
       "    <th>0.582767</th>\n",
       "    <th>0.217997</th>\n",
       "    <th>0.762480</th>\n",
       "    <th>0.500576</th>\n",
       "    <th>03:08</th>\n",
       "  </tr>\n",
       "</table>\n"
      ],
      "text/plain": [
       "<IPython.core.display.HTML object>"
      ]
     },
     "metadata": {},
     "output_type": "display_data"
    },
    {
     "name": "stdout",
     "output_type": "stream",
     "text": [
      "Better model found at epoch 0 with f1_weighted value: 0.6205746149445779.\n",
      "Better model found at epoch 3 with f1_weighted value: 0.7450685675285298.\n",
      "Better model found at epoch 4 with f1_weighted value: 0.762479537209054.\n"
     ]
    },
    {
     "data": {
      "text/html": [
       "Total time: 43:00 <p><table style='width:525px; margin-bottom:10px'>\n",
       "  <tr>\n",
       "    <th>epoch</th>\n",
       "    <th>train_loss</th>\n",
       "    <th>valid_loss</th>\n",
       "    <th>error_rate</th>\n",
       "    <th>f1_weighted</th>\n",
       "    <th>mcc</th>\n",
       "    <th>time</th>\n",
       "  </tr>\n",
       "  <tr>\n",
       "    <th>0</th>\n",
       "    <th>0.391698</th>\n",
       "    <th>0.609168</th>\n",
       "    <th>0.226567</th>\n",
       "    <th>0.755622</th>\n",
       "    <th>0.476590</th>\n",
       "    <th>04:18</th>\n",
       "  </tr>\n",
       "  <tr>\n",
       "    <th>1</th>\n",
       "    <th>0.413995</th>\n",
       "    <th>0.574032</th>\n",
       "    <th>0.226567</th>\n",
       "    <th>0.752056</th>\n",
       "    <th>0.478538</th>\n",
       "    <th>04:17</th>\n",
       "  </tr>\n",
       "  <tr>\n",
       "    <th>2</th>\n",
       "    <th>0.409144</th>\n",
       "    <th>0.513617</th>\n",
       "    <th>0.162292</th>\n",
       "    <th>0.831535</th>\n",
       "    <th>0.632697</th>\n",
       "    <th>04:17</th>\n",
       "  </tr>\n",
       "  <tr>\n",
       "    <th>3</th>\n",
       "    <th>0.406943</th>\n",
       "    <th>0.545734</th>\n",
       "    <th>0.188538</th>\n",
       "    <th>0.803747</th>\n",
       "    <th>0.570032</th>\n",
       "    <th>04:17</th>\n",
       "  </tr>\n",
       "  <tr>\n",
       "    <th>4</th>\n",
       "    <th>0.401000</th>\n",
       "    <th>0.573326</th>\n",
       "    <th>0.198715</th>\n",
       "    <th>0.803617</th>\n",
       "    <th>0.575693</th>\n",
       "    <th>04:17</th>\n",
       "  </tr>\n",
       "  <tr>\n",
       "    <th>5</th>\n",
       "    <th>0.388690</th>\n",
       "    <th>0.581789</th>\n",
       "    <th>0.223889</th>\n",
       "    <th>0.755527</th>\n",
       "    <th>0.485302</th>\n",
       "    <th>04:17</th>\n",
       "  </tr>\n",
       "  <tr>\n",
       "    <th>6</th>\n",
       "    <th>0.382284</th>\n",
       "    <th>0.557856</th>\n",
       "    <th>0.192287</th>\n",
       "    <th>0.802028</th>\n",
       "    <th>0.562332</th>\n",
       "    <th>04:17</th>\n",
       "  </tr>\n",
       "  <tr>\n",
       "    <th>7</th>\n",
       "    <th>0.376960</th>\n",
       "    <th>0.531124</th>\n",
       "    <th>0.171934</th>\n",
       "    <th>0.820287</th>\n",
       "    <th>0.610153</th>\n",
       "    <th>04:17</th>\n",
       "  </tr>\n",
       "  <tr>\n",
       "    <th>8</th>\n",
       "    <th>0.373936</th>\n",
       "    <th>0.525750</th>\n",
       "    <th>0.167113</th>\n",
       "    <th>0.826689</th>\n",
       "    <th>0.621176</th>\n",
       "    <th>04:18</th>\n",
       "  </tr>\n",
       "  <tr>\n",
       "    <th>9</th>\n",
       "    <th>0.370027</th>\n",
       "    <th>0.541172</th>\n",
       "    <th>0.175683</th>\n",
       "    <th>0.815453</th>\n",
       "    <th>0.601629</th>\n",
       "    <th>04:17</th>\n",
       "  </tr>\n",
       "</table>\n"
      ],
      "text/plain": [
       "<IPython.core.display.HTML object>"
      ]
     },
     "metadata": {},
     "output_type": "display_data"
    },
    {
     "name": "stdout",
     "output_type": "stream",
     "text": [
      "Better model found at epoch 0 with f1_weighted value: 0.7556221252185121.\n",
      "Better model found at epoch 2 with f1_weighted value: 0.8315348053483981.\n"
     ]
    }
   ],
   "source": [
    "size = 384\n",
    "bs = 32\n",
    "learn.data = get_data(bs, size)\n",
    "\n",
    "learn.freeze()\n",
    "lr = 1e-2\n",
    "learn.fit_one_cycle(5, lr)\n",
    "\n",
    "learn.unfreeze()\n",
    "learn.fit_one_cycle(10, slice(1e-5,lr/5))"
   ]
  },
  {
   "cell_type": "code",
   "execution_count": 23,
   "metadata": {},
   "outputs": [],
   "source": [
    "learn.export('baseline_rn50-384-2.pkl') "
   ]
  },
  {
   "cell_type": "code",
   "execution_count": 24,
   "metadata": {},
   "outputs": [
    {
     "data": {
      "text/html": [
       "Total time: 23:58 <p><table style='width:525px; margin-bottom:10px'>\n",
       "  <tr>\n",
       "    <th>epoch</th>\n",
       "    <th>train_loss</th>\n",
       "    <th>valid_loss</th>\n",
       "    <th>error_rate</th>\n",
       "    <th>f1_weighted</th>\n",
       "    <th>mcc</th>\n",
       "    <th>time</th>\n",
       "  </tr>\n",
       "  <tr>\n",
       "    <th>0</th>\n",
       "    <th>0.442555</th>\n",
       "    <th>0.549940</th>\n",
       "    <th>0.217997</th>\n",
       "    <th>0.760793</th>\n",
       "    <th>0.502261</th>\n",
       "    <th>04:51</th>\n",
       "  </tr>\n",
       "  <tr>\n",
       "    <th>1</th>\n",
       "    <th>0.482216</th>\n",
       "    <th>0.647299</th>\n",
       "    <th>0.218532</th>\n",
       "    <th>0.757863</th>\n",
       "    <th>0.503717</th>\n",
       "    <th>04:46</th>\n",
       "  </tr>\n",
       "  <tr>\n",
       "    <th>2</th>\n",
       "    <th>0.444281</th>\n",
       "    <th>0.842783</th>\n",
       "    <th>0.321907</th>\n",
       "    <th>0.576069</th>\n",
       "    <th>0.207767</th>\n",
       "    <th>04:46</th>\n",
       "  </tr>\n",
       "  <tr>\n",
       "    <th>3</th>\n",
       "    <th>0.401358</th>\n",
       "    <th>0.597151</th>\n",
       "    <th>0.215854</th>\n",
       "    <th>0.758130</th>\n",
       "    <th>0.515644</th>\n",
       "    <th>04:46</th>\n",
       "  </tr>\n",
       "  <tr>\n",
       "    <th>4</th>\n",
       "    <th>0.401263</th>\n",
       "    <th>0.542020</th>\n",
       "    <th>0.182646</th>\n",
       "    <th>0.802672</th>\n",
       "    <th>0.591196</th>\n",
       "    <th>04:46</th>\n",
       "  </tr>\n",
       "</table>\n"
      ],
      "text/plain": [
       "<IPython.core.display.HTML object>"
      ]
     },
     "metadata": {},
     "output_type": "display_data"
    },
    {
     "name": "stdout",
     "output_type": "stream",
     "text": [
      "Better model found at epoch 0 with f1_weighted value: 0.7607929597603703.\n",
      "Better model found at epoch 4 with f1_weighted value: 0.8026721292111105.\n"
     ]
    },
    {
     "data": {
      "text/html": [
       "Total time: 1:06:41 <p><table style='width:525px; margin-bottom:10px'>\n",
       "  <tr>\n",
       "    <th>epoch</th>\n",
       "    <th>train_loss</th>\n",
       "    <th>valid_loss</th>\n",
       "    <th>error_rate</th>\n",
       "    <th>f1_weighted</th>\n",
       "    <th>mcc</th>\n",
       "    <th>time</th>\n",
       "  </tr>\n",
       "  <tr>\n",
       "    <th>0</th>\n",
       "    <th>0.392612</th>\n",
       "    <th>0.568485</th>\n",
       "    <th>0.206749</th>\n",
       "    <th>0.771992</th>\n",
       "    <th>0.534516</th>\n",
       "    <th>06:40</th>\n",
       "  </tr>\n",
       "  <tr>\n",
       "    <th>1</th>\n",
       "    <th>0.420840</th>\n",
       "    <th>0.633482</th>\n",
       "    <th>0.251741</th>\n",
       "    <th>0.700536</th>\n",
       "    <th>0.436701</th>\n",
       "    <th>06:39</th>\n",
       "  </tr>\n",
       "  <tr>\n",
       "    <th>2</th>\n",
       "    <th>0.421374</th>\n",
       "    <th>0.607907</th>\n",
       "    <th>0.261382</th>\n",
       "    <th>0.702347</th>\n",
       "    <th>0.388007</th>\n",
       "    <th>06:39</th>\n",
       "  </tr>\n",
       "  <tr>\n",
       "    <th>3</th>\n",
       "    <th>0.418462</th>\n",
       "    <th>0.602157</th>\n",
       "    <th>0.244778</th>\n",
       "    <th>0.727344</th>\n",
       "    <th>0.431814</th>\n",
       "    <th>06:38</th>\n",
       "  </tr>\n",
       "  <tr>\n",
       "    <th>4</th>\n",
       "    <th>0.421682</th>\n",
       "    <th>0.591437</th>\n",
       "    <th>0.246385</th>\n",
       "    <th>0.711268</th>\n",
       "    <th>0.445442</th>\n",
       "    <th>06:39</th>\n",
       "  </tr>\n",
       "  <tr>\n",
       "    <th>5</th>\n",
       "    <th>0.407994</th>\n",
       "    <th>0.549831</th>\n",
       "    <th>0.210498</th>\n",
       "    <th>0.777576</th>\n",
       "    <th>0.516383</th>\n",
       "    <th>06:39</th>\n",
       "  </tr>\n",
       "  <tr>\n",
       "    <th>6</th>\n",
       "    <th>0.397126</th>\n",
       "    <th>0.533037</th>\n",
       "    <th>0.194430</th>\n",
       "    <th>0.789768</th>\n",
       "    <th>0.560730</th>\n",
       "    <th>06:39</th>\n",
       "  </tr>\n",
       "  <tr>\n",
       "    <th>7</th>\n",
       "    <th>0.385295</th>\n",
       "    <th>0.577722</th>\n",
       "    <th>0.214783</th>\n",
       "    <th>0.763459</th>\n",
       "    <th>0.512054</th>\n",
       "    <th>06:39</th>\n",
       "  </tr>\n",
       "  <tr>\n",
       "    <th>8</th>\n",
       "    <th>0.376932</th>\n",
       "    <th>0.543563</th>\n",
       "    <th>0.189073</th>\n",
       "    <th>0.799786</th>\n",
       "    <th>0.569730</th>\n",
       "    <th>06:38</th>\n",
       "  </tr>\n",
       "  <tr>\n",
       "    <th>9</th>\n",
       "    <th>0.382509</th>\n",
       "    <th>0.551124</th>\n",
       "    <th>0.185324</th>\n",
       "    <th>0.804245</th>\n",
       "    <th>0.578681</th>\n",
       "    <th>06:39</th>\n",
       "  </tr>\n",
       "</table>\n"
      ],
      "text/plain": [
       "<IPython.core.display.HTML object>"
      ]
     },
     "metadata": {},
     "output_type": "display_data"
    },
    {
     "name": "stdout",
     "output_type": "stream",
     "text": [
      "Better model found at epoch 0 with f1_weighted value: 0.77199156112703.\n",
      "Better model found at epoch 5 with f1_weighted value: 0.7775755772401021.\n",
      "Better model found at epoch 6 with f1_weighted value: 0.7897675927309015.\n",
      "Better model found at epoch 8 with f1_weighted value: 0.7997855105729891.\n",
      "Better model found at epoch 9 with f1_weighted value: 0.804245241511471.\n"
     ]
    }
   ],
   "source": [
    "size = 450\n",
    "bs = 16\n",
    "learn.data = get_data(bs, size)\n",
    "\n",
    "learn.freeze()\n",
    "lr = 1e-2\n",
    "learn.fit_one_cycle(5, lr)\n",
    "\n",
    "learn.unfreeze()\n",
    "learn.fit_one_cycle(10, slice(1e-5,lr/5))"
   ]
  },
  {
   "cell_type": "code",
   "execution_count": 25,
   "metadata": {},
   "outputs": [],
   "source": [
    "learn.export('baseline_rn50-450-2.pkl') "
   ]
  },
  {
   "cell_type": "code",
   "execution_count": null,
   "metadata": {},
   "outputs": [],
   "source": []
  },
  {
   "cell_type": "code",
   "execution_count": null,
   "metadata": {},
   "outputs": [],
   "source": []
  }
 ],
 "metadata": {
  "kernelspec": {
   "display_name": "Python 3",
   "language": "python",
   "name": "python3"
  },
  "language_info": {
   "codemirror_mode": {
    "name": "ipython",
    "version": 3
   },
   "file_extension": ".py",
   "mimetype": "text/x-python",
   "name": "python",
   "nbconvert_exporter": "python",
   "pygments_lexer": "ipython3",
   "version": "3.6.7"
  }
 },
 "nbformat": 4,
 "nbformat_minor": 1
}
